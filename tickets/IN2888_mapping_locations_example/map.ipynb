{
 "cells": [
  {
   "cell_type": "code",
   "execution_count": 1,
   "id": "75a84571-a779-486f-8280-6f867c87bc67",
   "metadata": {
    "tags": []
   },
   "outputs": [],
   "source": [
    "import os\n",
    "\n",
    "import pandas as pd\n",
    "import geopandas as gpd\n",
    "import ipyleaflet as ipl\n",
    "\n",
    "from mapping import _convert_site_to_marker_with_popup, IPLBaseMap, get_ipl_map"
   ]
  },
  {
   "cell_type": "markdown",
   "id": "6beaab83-33dd-420b-9650-911bbf41424b",
   "metadata": {},
   "source": [
    "## convert results to geodataframe"
   ]
  },
  {
   "cell_type": "code",
   "execution_count": 2,
   "id": "c8b18915-32b7-4564-b28c-cfb3ec35d0c5",
   "metadata": {
    "tags": []
   },
   "outputs": [],
   "source": [
    "sites_metadata = pd.read_csv(\"sites_metadata.csv\", index_col=0)"
   ]
  },
  {
   "cell_type": "code",
   "execution_count": 3,
   "id": "6d839fd1-40b8-475b-8a17-4fb07bf13cf6",
   "metadata": {
    "tags": []
   },
   "outputs": [],
   "source": [
    "sites_metadata_gdf = gpd.GeoDataFrame(sites_metadata, geometry=gpd.points_from_xy(sites_metadata.longitude, sites_metadata.latitude))"
   ]
  },
  {
   "cell_type": "markdown",
   "id": "4c6ae458-696d-44ef-a61e-1fe3d2ca9caf",
   "metadata": {
    "tags": []
   },
   "source": [
    "## map"
   ]
  },
  {
   "cell_type": "code",
   "execution_count": 4,
   "id": "12ff3492-c168-44e4-ad87-e7af946ab1d6",
   "metadata": {},
   "outputs": [],
   "source": [
    "markers=[\n",
    "    _convert_site_to_marker_with_popup(gdf=sites_metadata_gdf, station=station) for station in sites_metadata_gdf.index\n",
    "]"
   ]
  },
  {
   "cell_type": "code",
   "execution_count": 5,
   "id": "f525553b-d56b-4984-ae58-2435d18d367b",
   "metadata": {},
   "outputs": [],
   "source": [
    "map = IPLBaseMap()"
   ]
  },
  {
   "cell_type": "code",
   "execution_count": 6,
   "id": "789edd35-bcd3-436c-b66b-34bb9ea16002",
   "metadata": {},
   "outputs": [],
   "source": [
    "markers = ipl.MarkerCluster(markers=markers,\n",
    "                  disable_clustering_at_zoom=3,\n",
    "                  max_cluster_radius=100,\n",
    "                           name=\"validation sites\")"
   ]
  },
  {
   "cell_type": "code",
   "execution_count": 7,
   "id": "1729185a-952e-4edc-ba7b-e1b7ee4642d0",
   "metadata": {
    "tags": []
   },
   "outputs": [
    {
     "data": {
      "application/vnd.jupyter.widget-view+json": {
       "model_id": "88a0b9158566426a9235122d89e59fa6",
       "version_major": 2,
       "version_minor": 0
      },
      "text/plain": [
       "IPLBaseMap(center=[0.0, 0.0], controls=(ZoomControl(options=['position', 'zoom_in_text', 'zoom_in_title', 'zoo…"
      ]
     },
     "execution_count": 7,
     "metadata": {},
     "output_type": "execute_result"
    }
   ],
   "source": [
    "map.add_layer(markers)\n",
    "map"
   ]
  }
 ],
 "metadata": {
  "kernelspec": {
   "display_name": "lhn_internship",
   "language": "python",
   "name": "lhn_internship"
  },
  "language_info": {
   "codemirror_mode": {
    "name": "ipython",
    "version": 3
   },
   "file_extension": ".py",
   "mimetype": "text/x-python",
   "name": "python",
   "nbconvert_exporter": "python",
   "pygments_lexer": "ipython3",
   "version": "3.10.12"
  }
 },
 "nbformat": 4,
 "nbformat_minor": 5
}
