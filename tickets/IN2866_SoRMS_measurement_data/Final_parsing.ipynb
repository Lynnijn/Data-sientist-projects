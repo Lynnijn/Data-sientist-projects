{
 "cells": [
  {
   "cell_type": "code",
   "execution_count": 1,
   "id": "04afe045-0ff2-4358-8788-d284e2c6f36c",
   "metadata": {
    "tags": []
   },
   "outputs": [],
   "source": [
    "import pandas as pd\n",
    "import os\n",
    "import glob\n",
    "\n",
    "import warnings\n",
    "warnings.filterwarnings(\"ignore\")\n",
    "\n",
    "import sys\n",
    "from pathlib import Path\n",
    "sys.path.insert(0,str(Path(os.path.abspath('.')).parent.parent))\n",
    "import library.validation.parsing as parsing\n",
    "import library.validation.SoRMS.final_parsing as f_parsing"
   ]
  },
  {
   "cell_type": "code",
   "execution_count": 2,
   "id": "2a0fce42-0b4e-40e7-9b5b-7167f9c5624c",
   "metadata": {
    "tags": []
   },
   "outputs": [],
   "source": [
    "ticket_path_rms = \"/home/lhn3e/OneDrive-3E/Research/Solar/tickets/2023/IN2866_SoRMS_measurement_data\"\n",
    "intermediate_path_rms =  os.path.join(ticket_path_rms, 'intermediate_data')\n",
    "meta_path_rms =  os.path.join(ticket_path_rms, 'metadata')\n",
    "final_path_rms =  os.path.join(ticket_path_rms, 'final_data')"
   ]
  },
  {
   "cell_type": "code",
   "execution_count": 3,
   "id": "5e1e969b-ac3e-4b99-b2d6-1ad43b746eaa",
   "metadata": {
    "tags": []
   },
   "outputs": [],
   "source": [
    "files = glob.glob(os.path.join(intermediate_path_rms, '*.csv'))\n",
    "data = pd.read_csv(os.path.join(meta_path_rms, 'data.csv'))"
   ]
  },
  {
   "cell_type": "code",
   "execution_count": 5,
   "id": "e0372861-86e7-47f3-8d69-e6c3165e5e0d",
   "metadata": {
    "tags": []
   },
   "outputs": [
    {
     "name": "stdout",
     "output_type": "stream",
     "text": [
      "bluefield_state_college start\n",
      "cal_poly_humboldt_sorms start\n",
      "elizabeth_city_state_university start\n",
      "lowry_range_solar_station_rsr start\n",
      "natural_energy_laboratory_of_hawaii_authority_nelha start\n",
      "nevada_power_clark_station start\n",
      "nrel_energy_systems_integration_facility start\n",
      "nrel_flatirons_campus_m2 start\n",
      "nrel_solar_radiation_research_laboratory start\n",
      "oak_ridge_national_laboratory_rsr start\n",
      "Saved oak_ridge_national_laboratory_rsr\n",
      "sacramento_municipal_utility_district_anatolia start\n",
      "Saved sacramento_municipal_utility_district_anatolia\n",
      "solar_technology_acceleration_center_solartac start\n",
      "Saved solar_technology_acceleration_center_solartac\n",
      "solrmap_kalaeloa_oahu_rsr start\n",
      "Saved solrmap_kalaeloa_oahu_rsr\n",
      "solrmap_la_ola_lanai_rsr start\n",
      "Saved solrmap_la_ola_lanai_rsr\n",
      "solrmap_loyola_marymount_university_rsr start\n",
      "Saved solrmap_loyola_marymount_university_rsr\n",
      "solrmap_southwest_solar_research_park start\n",
      "Saved solrmap_southwest_solar_research_park\n",
      "solrmap_sun_spot_two_swink_rsr start\n",
      "Saved solrmap_sun_spot_two_swink_rsr\n",
      "solrmap_university_of_arizona_oasis start\n",
      "Saved solrmap_university_of_arizona_oasis\n",
      "solrmap_utah_geological_survey_state_energy_program_cedar_city start\n",
      "Saved solrmap_utah_geological_survey_state_energy_program_cedar_city\n",
      "solrmap_utah_geological_survey_state_energy_program_milford start\n",
      "Saved solrmap_utah_geological_survey_state_energy_program_milford\n",
      "south_park_mountain_data start\n",
      "Saved south_park_mountain_data\n",
      "sun_spot_one_san_luis_valley_rsr start\n",
      "Saved sun_spot_one_san_luis_valley_rsr\n",
      "university_of_florida start\n",
      "Saved university_of_florida\n",
      "university_of_louisiana_at_lafayette start\n",
      "Saved university_of_louisiana_at_lafayette\n",
      "university_of_nevada_las_vegas start\n",
      "Saved university_of_nevada_las_vegas\n",
      "university_of_texas_rio_grande_valley_solar_radiation_lab start\n",
      "Saved university_of_texas_rio_grande_valley_solar_radiation_lab\n",
      "us_virgin_islands_bovoni_2 start\n",
      "Saved us_virgin_islands_bovoni_2\n",
      "us_virgin_islands_longford start\n",
      "Saved us_virgin_islands_longford\n"
     ]
    }
   ],
   "source": [
    "for file in files:\n",
    "    name = os.path.splitext(os.path.basename(file))[0]\n",
    "    normalized_name = parsing.normalize_station_name(name)\n",
    "    print(f'{normalized_name} start')\n",
    "    if normalized_name not in ['bluefield_state_college', 'cal_poly_humboldt_sorms', 'elizabeth_city_state_university', 'lowry_range_solar_station_rsr', 'natural_energy_laboratory_of_hawaii_authority_nelha', 'nrel_flatirons_campus_m2', 'nrel_energy_systems_integration_facility','nevada_power_clark_station', 'nrel_solar_radiation_research_laboratory']:\n",
    "        df = pd.read_csv(file, index_col = 0)\n",
    "    \n",
    "        df_p = f_parsing.final_parse(df, data, name)\n",
    "    \n",
    "        df_p.to_csv(os.path.join(final_path_rms, f'{normalized_name}.csv'), index_label = 'datetime')\n",
    "        print(f'Saved {normalized_name}')"
   ]
  }
 ],
 "metadata": {
  "kernelspec": {
   "display_name": "lhn_internship",
   "language": "python",
   "name": "lhn_internship"
  },
  "language_info": {
   "codemirror_mode": {
    "name": "ipython",
    "version": 3
   },
   "file_extension": ".py",
   "mimetype": "text/x-python",
   "name": "python",
   "nbconvert_exporter": "python",
   "pygments_lexer": "ipython3",
   "version": "3.10.13"
  }
 },
 "nbformat": 4,
 "nbformat_minor": 5
}
