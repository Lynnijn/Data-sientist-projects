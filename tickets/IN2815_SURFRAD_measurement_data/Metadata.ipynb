{
 "cells": [
  {
   "cell_type": "code",
   "execution_count": 1,
   "id": "2bee3f5c-0da2-4fa5-808b-35a5e7800ee8",
   "metadata": {
    "tags": []
   },
   "outputs": [],
   "source": [
    "import pandas as pd\n",
    "import json\n",
    "import os\n",
    "import glob\n",
    "\n",
    "import sys\n",
    "from pathlib import Path\n",
    "sys.path.insert(0,str(Path(os.path.abspath('.')).parent.parent))\n",
    "import library.validation.SURFRAD.reading as reading"
   ]
  },
  {
   "cell_type": "markdown",
   "id": "6aa37a28-40eb-4c47-9f91-efca7b4c20b3",
   "metadata": {},
   "source": [
    "# Retrieve"
   ]
  },
  {
   "cell_type": "code",
   "execution_count": 2,
   "id": "2918586d-9500-46ae-b37e-d416faa10abd",
   "metadata": {
    "tags": []
   },
   "outputs": [],
   "source": [
    "metadata = []\n",
    "\n",
    "def extract_metadata(file_path, station_name):\n",
    "    with open(file_path, 'r') as file:\n",
    "        line = file.readlines()[1]\n",
    "        values = line.split()\n",
    "        if len(values) >= 3:\n",
    "            latitude = \"%.3f\" % float(values[0])\n",
    "            longitude = \"%.3f\" % float(values[1])\n",
    "            elevation = values[2]\n",
    "            return {'station name': station_name, 'latitude': latitude, 'longitude': longitude, 'elevation (m)': elevation}\n",
    "    return None\n"
   ]
  },
  {
   "cell_type": "code",
   "execution_count": 3,
   "id": "a5e839f4-7b97-4e23-952e-cf03ed991939",
   "metadata": {
    "tags": []
   },
   "outputs": [
    {
     "data": {
      "text/plain": [
       "['Bondville_Illinois',\n",
       " 'Desert_Rock_Nevada',\n",
       " 'Fort_Peck_Montana',\n",
       " 'Goodwin_Creek_Mississippi',\n",
       " 'Penn_State_Pennsylvania',\n",
       " 'Sioux_Falls_South_Dakota']"
      ]
     },
     "execution_count": 3,
     "metadata": {},
     "output_type": "execute_result"
    }
   ],
   "source": [
    "ticket_path_sur = \"/home/lhn3e/OneDrive-3E/Research/Solar/tickets/2023/IN2815_SURFRAD_measurement_data\"\n",
    "raw_path_sur =  os.path.join(ticket_path_sur, 'raw_data')\n",
    "\n",
    "station_names_list_sur = reading.get_station_names(raw_path_sur)\n",
    "station_names_list_sur"
   ]
  },
  {
   "cell_type": "code",
   "execution_count": 4,
   "id": "24eae0e3-8680-42eb-9c86-7b0109c96c40",
   "metadata": {
    "tags": []
   },
   "outputs": [],
   "source": [
    "for station_name in station_names_list_sur:   \n",
    "    folder_path = os.path.join(raw_path_sur, f'{station_name}', '2005/*.dat')\n",
    "    dat_file = glob.glob(folder_path)\n",
    "    file = dat_file[0]\n",
    "    metarow = extract_metadata(file, f'{station_name}')\n",
    "    if metarow:\n",
    "        metadata.append(metarow)\n",
    "        "
   ]
  },
  {
   "cell_type": "markdown",
   "id": "1abf22dc-82e8-4359-8401-6fa72b0ab97d",
   "metadata": {},
   "source": [
    "# Save"
   ]
  },
  {
   "cell_type": "code",
   "execution_count": 5,
   "id": "ad0ee4e1-9665-4a6b-b0d7-a5c4a4715d06",
   "metadata": {
    "tags": []
   },
   "outputs": [],
   "source": [
    "with open(os.path.join(ticket_path_sur, 'metadata/data.txt'), 'w') as f:\n",
    "  json.dump(metadata, f, ensure_ascii=False)"
   ]
  },
  {
   "cell_type": "code",
   "execution_count": 5,
   "id": "29ac5660-6567-45ff-bf05-baa3d35427ad",
   "metadata": {
    "tags": []
   },
   "outputs": [],
   "source": [
    "with open(os.path.join(ticket_path_sur, 'metadata/data.json'), 'w') as f:\n",
    "  json.dump(metadata, f, ensure_ascii=False)"
   ]
  },
  {
   "cell_type": "code",
   "execution_count": 6,
   "id": "580205c0-9ed2-4766-8f81-8c8241ff692b",
   "metadata": {
    "tags": []
   },
   "outputs": [],
   "source": [
    "metadata_df = pd.DataFrame(metadata)\n"
   ]
  },
  {
   "cell_type": "code",
   "execution_count": 7,
   "id": "972fe5a4-5ba0-42e3-989e-e9122a3acc18",
   "metadata": {
    "tags": []
   },
   "outputs": [],
   "source": [
    "metadata_df.to_csv(os.path.join(ticket_path_sur, 'metadata/data.csv'), index=False)"
   ]
  }
 ],
 "metadata": {
  "kernelspec": {
   "display_name": "lhn_internship",
   "language": "python",
   "name": "lhn_internship"
  },
  "language_info": {
   "codemirror_mode": {
    "name": "ipython",
    "version": 3
   },
   "file_extension": ".py",
   "mimetype": "text/x-python",
   "name": "python",
   "nbconvert_exporter": "python",
   "pygments_lexer": "ipython3",
   "version": "3.10.13"
  }
 },
 "nbformat": 4,
 "nbformat_minor": 5
}
