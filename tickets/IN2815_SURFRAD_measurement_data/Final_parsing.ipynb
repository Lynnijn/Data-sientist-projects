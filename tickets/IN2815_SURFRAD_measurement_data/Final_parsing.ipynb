{
 "cells": [
  {
   "cell_type": "code",
   "execution_count": 1,
   "id": "6d449ecf-f2ec-4648-bec5-11514a704d43",
   "metadata": {
    "tags": []
   },
   "outputs": [],
   "source": [
    "import pandas as pd\n",
    "import json\n",
    "import os\n",
    "import glob\n",
    "\n",
    "import sys\n",
    "from pathlib import Path\n",
    "sys.path.insert(0,str(Path(os.path.abspath('.')).parent.parent))\n",
    "import library.validation.parsing as parsing\n",
    "import library.validation.SURFRAD.final_parsing as f_parsing"
   ]
  },
  {
   "cell_type": "code",
   "execution_count": 2,
   "id": "ca51985c-c38e-456e-aab8-52ffc0a16d8a",
   "metadata": {
    "tags": []
   },
   "outputs": [],
   "source": [
    "ticket_path_sur = \"/home/lhn3e/OneDrive-3E/Research/Solar/tickets/2023/IN2815_SURFRAD_measurement_data\"\n",
    "intermediate_path_sur =  os.path.join(ticket_path_sur, 'intermediate_data')\n",
    "final_path_sur =  os.path.join(ticket_path_sur, 'final_data')"
   ]
  },
  {
   "cell_type": "code",
   "execution_count": 3,
   "id": "aa0c9af6-31fa-41ee-8c67-5f70432b9b14",
   "metadata": {
    "tags": []
   },
   "outputs": [
    {
     "name": "stdout",
     "output_type": "stream",
     "text": [
      "Saved bondville_illinois\n",
      "Saved desert_rock_nevada\n",
      "Saved fort_peck_montana\n",
      "Saved goodwin_creek_mississippi\n",
      "Saved penn_state_pennsylvania\n",
      "Saved sioux_falls_south_dakota\n"
     ]
    }
   ],
   "source": [
    "files = glob.glob(os.path.join(intermediate_path_sur, '*.csv'))\n",
    "\n",
    "for file in files:\n",
    "    name = os.path.splitext(os.path.basename(file))[0]\n",
    "    normalized_name = parsing.normalize_station_name(name)\n",
    "    \n",
    "    df = pd.read_csv(file, index_col = 0)\n",
    "    \n",
    "    df_p = f_parsing.final_parse(df)\n",
    "    \n",
    "    df_p.to_csv(os.path.join(final_path_sur, f'{normalized_name}.csv'), index_label = 'datetime')\n",
    "    print(f'Saved {normalized_name}')"
   ]
  }
 ],
 "metadata": {
  "kernelspec": {
   "display_name": "lhn_internship",
   "language": "python",
   "name": "lhn_internship"
  },
  "language_info": {
   "codemirror_mode": {
    "name": "ipython",
    "version": 3
   },
   "file_extension": ".py",
   "mimetype": "text/x-python",
   "name": "python",
   "nbconvert_exporter": "python",
   "pygments_lexer": "ipython3",
   "version": "3.10.13"
  }
 },
 "nbformat": 4,
 "nbformat_minor": 5
}
