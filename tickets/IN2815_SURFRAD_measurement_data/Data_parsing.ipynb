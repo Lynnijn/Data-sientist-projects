{
 "cells": [
  {
   "cell_type": "code",
   "execution_count": 1,
   "id": "a1d674ee-3981-4819-adce-8c0d0e0b05c7",
   "metadata": {
    "tags": []
   },
   "outputs": [],
   "source": [
    "import os\n",
    "import json\n",
    "\n",
    "import sys\n",
    "from pathlib import Path\n",
    "sys.path.insert(0,str(Path(os.path.abspath('.')).parent.parent))\n",
    "import library.validation.SURFRAD.reading as reading\n",
    "import library.validation.SURFRAD.parsing as parsing"
   ]
  },
  {
   "cell_type": "code",
   "execution_count": 2,
   "id": "057e2d3e-9993-49ff-8309-e151c768cb76",
   "metadata": {
    "tags": []
   },
   "outputs": [],
   "source": [
    "ticket_path_sur = \"/home/lhn3e/OneDrive-3E/Research/Solar/tickets/2023/IN2815_SURFRAD_measurement_data\"\n",
    "raw_path_sur =  os.path.join(ticket_path_sur, 'raw_data')\n",
    "intermediate_path_sur =  os.path.join(ticket_path_sur, 'intermediate_data')"
   ]
  },
  {
   "cell_type": "code",
   "execution_count": 3,
   "id": "0ae96677-83fa-49c1-836b-14db51388060",
   "metadata": {
    "tags": []
   },
   "outputs": [],
   "source": [
    "with open(os.path.join(ticket_path_sur,'metadata/data.json'), 'r') as file:\n",
    "    stations_metadata_json = file.read()\n",
    "\n",
    "stations_metadata = json.loads(stations_metadata_json)\n"
   ]
  },
  {
   "cell_type": "code",
   "execution_count": 4,
   "id": "e1daf933-4831-4e39-9f76-020516c763e8",
   "metadata": {
    "tags": []
   },
   "outputs": [
    {
     "name": "stdout",
     "output_type": "stream",
     "text": [
      "Saved Penn_State_Pennsylvania.csv\n"
     ]
    },
    {
     "name": "stderr",
     "output_type": "stream",
     "text": [
      "/home/lhn3e/Repositories/lhn_internship/library/validation/SURFRAD/parsing.py:20: FutureWarning: Value based partial slicing on non-monotonic DatetimeIndexes with non-existing keys is deprecated and will raise a KeyError in a future Version.\n",
      "  df_1m = df.loc['2009-01-01 00:00:00':'2023-11-08 23:59:00']\n"
     ]
    },
    {
     "name": "stdout",
     "output_type": "stream",
     "text": [
      "Saved Sioux_Falls_South_Dakota.csv\n"
     ]
    }
   ],
   "source": [
    "for station in stations_metadata:\n",
    "    station_name = f\"{station['station name']}\"\n",
    "\n",
    "    if station_name == 'Penn_State_Pennsylvania' or station_name == 'Sioux_Falls_South_Dakota':\n",
    "\n",
    "        station_data = reading.read_data_for_station(raw_path_sur, station_name)\n",
    "\n",
    "\n",
    "        if station_data is not None:\n",
    "            df_3m = parsing.parse(station_data)\n",
    "\n",
    "\n",
    "            file_name_3m = f\"{station_name}.csv\"\n",
    "            file_path_3m = os.path.join(intermediate_path_sur, file_name_3m)\n",
    "            df_3m.to_csv(file_path_3m, index_label='DateTime')\n",
    "            print(f\"Saved {file_name_3m}\")\n",
    "\n"
   ]
  },
  {
   "cell_type": "code",
   "execution_count": 5,
   "id": "04cd93ee-6160-492b-82b0-a1c617f7d3fc",
   "metadata": {
    "tags": []
   },
   "outputs": [
    {
     "name": "stdout",
     "output_type": "stream",
     "text": [
      "Bondville_Illinois\n",
      "Desert_Rock_Nevada\n",
      "Fort_Peck_Montana\n",
      "Goodwin_Creek_Mississippi\n",
      "Penn_State_Pennsylvania\n",
      "Sioux_Falls_South_Dakota\n"
     ]
    }
   ],
   "source": [
    "for station in stations_metadata:\n",
    "    station_name = f\"{station['station name']}\"\n",
    "\n",
    "    print(station_name)"
   ]
  }
 ],
 "metadata": {
  "kernelspec": {
   "display_name": "lhn_internship",
   "language": "python",
   "name": "lhn_internship"
  },
  "language_info": {
   "codemirror_mode": {
    "name": "ipython",
    "version": 3
   },
   "file_extension": ".py",
   "mimetype": "text/x-python",
   "name": "python",
   "nbconvert_exporter": "python",
   "pygments_lexer": "ipython3",
   "version": "3.10.13"
  }
 },
 "nbformat": 4,
 "nbformat_minor": 5
}
