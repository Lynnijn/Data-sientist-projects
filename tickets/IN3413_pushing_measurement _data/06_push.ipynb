{
 "cells": [
  {
   "cell_type": "code",
   "execution_count": 1,
   "id": "e4722535-477c-4d08-bc33-3c023caf047a",
   "metadata": {
    "tags": []
   },
   "outputs": [],
   "source": [
    "from pathlib import Path\n",
    "import pandas as pd\n",
    "import os\n",
    "import numpy as np\n",
    "\n",
    "from eee.resource.validation.database import ValidationDatabase\n",
    "from eee.resource.validation.models.site import Site, SitesInventory\n",
    "from eee.ontology.variables import Variable\n",
    "from eee.resource.validation import REGISTRY\n",
    "from eee.resource.validation.models.timeseries import TimeseriesVariable,TimeseriesDataset, TimeseriesVariableStandardizer"
   ]
  },
  {
   "cell_type": "code",
   "execution_count": 2,
   "id": "fc17af9c-b7a6-4904-9246-ec43fa8c1ae3",
   "metadata": {
    "tags": []
   },
   "outputs": [],
   "source": [
    "TICKET_DIR = Path.home()/\"OneDrive-3E/Research/Solar/tickets/2023/IN2833_centralize_measurement_data_collection/IN2835_BSRN\""
   ]
  },
  {
   "cell_type": "code",
   "execution_count": 3,
   "id": "e5416a12-b5cf-4e9b-9fac-27cc13b285d8",
   "metadata": {
    "tags": []
   },
   "outputs": [],
   "source": [
    "raw_data_dir = os.path.join(TICKET_DIR, \"raw_data\")\n",
    "intermediate_data_dir = os.path.join(TICKET_DIR, \"intermediate_data\")\n",
    "parsed_data_dir = os.path.join(TICKET_DIR, \"parsed_data\")"
   ]
  },
  {
   "cell_type": "code",
   "execution_count": 4,
   "id": "d99f5fb1-a1a5-48ad-86a7-4a4128584b9c",
   "metadata": {
    "tags": []
   },
   "outputs": [],
   "source": [
    "validation_database_path = Path.home()/\"OneDrive-3E/Research/Solar/validation/validation_database_lhn\""
   ]
  },
  {
   "cell_type": "code",
   "execution_count": 5,
   "id": "2d2527dd-4beb-44e3-9db7-7abbf211eb8e",
   "metadata": {
    "tags": []
   },
   "outputs": [],
   "source": [
    "variables_match = {\n",
    "    \"ghi\": \"ghi\",\n",
    "    \"dhi\": \"dhi\",\n",
    "    \"dni\": \"dni\",\n",
    "}"
   ]
  },
  {
   "cell_type": "markdown",
   "id": "797bd25a-6b40-404b-b1db-293633523239",
   "metadata": {},
   "source": [
    "## get list of stations already pushed"
   ]
  },
  {
   "cell_type": "code",
   "execution_count": 6,
   "id": "278383e8-11d2-4d07-a43b-cd9777879af7",
   "metadata": {
    "tags": []
   },
   "outputs": [],
   "source": [
    "## instantiate validation database\n",
    "db = ValidationDatabase(validation_database_path)"
   ]
  },
  {
   "cell_type": "code",
   "execution_count": 7,
   "id": "d5de6230-3d4f-41a1-aa36-5a59a447fd56",
   "metadata": {},
   "outputs": [],
   "source": [
    "db_stations = db.get_sites()"
   ]
  },
  {
   "cell_type": "code",
   "execution_count": 8,
   "id": "8105f552-bec2-4200-9591-44592fb6796b",
   "metadata": {
    "tags": []
   },
   "outputs": [
    {
     "data": {
      "text/plain": [
       "array([], dtype=object)"
      ]
     },
     "execution_count": 8,
     "metadata": {},
     "output_type": "execute_result"
    }
   ],
   "source": [
    "db_stations_name = db_stations.df.name.unique()\n",
    "db_stations_name"
   ]
  },
  {
   "cell_type": "code",
   "execution_count": 9,
   "id": "9d9f927e-aea4-4cae-b4e9-21a604f53de7",
   "metadata": {
    "tags": []
   },
   "outputs": [],
   "source": [
    "# site_name = \"kwajalein\"\n",
    "# site_id = db.get_sites(names=site_name).site_ids[0]\n",
    "# site = db_stations.get_site(site_id)\n",
    "# site"
   ]
  },
  {
   "cell_type": "code",
   "execution_count": 10,
   "id": "6ea3e716-b85a-43b1-b28b-1c5a40a20b5a",
   "metadata": {
    "tags": []
   },
   "outputs": [],
   "source": [
    "# db_stations.remove_site(site)"
   ]
  },
  {
   "cell_type": "markdown",
   "id": "201be5de-607b-48de-b38e-ac96864109eb",
   "metadata": {},
   "source": [
    "## read inventory and remove already pushed sites"
   ]
  },
  {
   "cell_type": "code",
   "execution_count": 11,
   "id": "f37b2da0-c41c-4398-a98b-8d1db2e2174a",
   "metadata": {
    "tags": []
   },
   "outputs": [
    {
     "data": {
      "text/plain": [
       "150"
      ]
     },
     "execution_count": 11,
     "metadata": {},
     "output_type": "execute_result"
    }
   ],
   "source": [
    "## read inventory\n",
    "inventory = pd.read_csv(os.path.join(parsed_data_dir, \"inventory.csv\"))\n",
    "len(inventory)"
   ]
  },
  {
   "cell_type": "code",
   "execution_count": 12,
   "id": "5321fcf5-742c-4c72-8880-549df9593604",
   "metadata": {
    "tags": []
   },
   "outputs": [
    {
     "data": {
      "text/plain": [
       "150"
      ]
     },
     "execution_count": 12,
     "metadata": {},
     "output_type": "execute_result"
    }
   ],
   "source": [
    "inventory = inventory[~inventory[\"name\"].isin(db_stations_name)]\n",
    "len(inventory)"
   ]
  },
  {
   "cell_type": "markdown",
   "id": "0d07cb6a-6029-4d15-90fc-7f84f3220480",
   "metadata": {},
   "source": [
    "## push"
   ]
  },
  {
   "cell_type": "code",
   "execution_count": 13,
   "id": "e55a7410-6d4e-475c-9bdd-b8aa9ee37885",
   "metadata": {
    "tags": []
   },
   "outputs": [
    {
     "data": {
      "text/plain": [
       "Index(['name', 'domain', 'latitude', 'longitude', 'source', 'classification',\n",
       "       'device_type', 'pyrnanometer_type', 'variable_name',\n",
       "       'variable_physical_parameter_id', 'variable_units',\n",
       "       'variable_time_granularity', 'variable_start', 'variable_end',\n",
       "       'variable_temporal_aggregation_method',\n",
       "       'variable_temporal_aggregation_period',\n",
       "       'variable_temporal_aggregation_convention',\n",
       "       'variable_data_availability_percent', 'timeseries_path', 'institution',\n",
       "       'description', 'references'],\n",
       "      dtype='object')"
      ]
     },
     "execution_count": 13,
     "metadata": {},
     "output_type": "execute_result"
    }
   ],
   "source": [
    "inventory.columns"
   ]
  },
  {
   "cell_type": "code",
   "execution_count": 14,
   "id": "18af3c6f-1c5f-4fb0-8a64-707af151abcc",
   "metadata": {
    "tags": []
   },
   "outputs": [],
   "source": [
    "old_path_prefix = '/home/pmalcorps/OneDrive-3E/RD_ResourceData/Research/Solar/tickets/2023/IN2833_centralize_measurement_data_collection/IN2835_BSRN/parsed_data/'\n",
    "new_path_prefix = '/home/lhn3e/OneDrive-3E/Research/Solar/tickets/2023/IN2833_centralize_measurement_data_collection/IN2835_BSRN/parsed_data/'\n",
    "\n",
    "inventory[\"timeseries_path\"] = inventory[\"timeseries_path\"].apply(lambda x: x.replace(old_path_prefix, new_path_prefix))\n"
   ]
  },
  {
   "cell_type": "code",
   "execution_count": 15,
   "id": "41270f90-4bcf-4977-8047-3deb05e84d6c",
   "metadata": {
    "tags": []
   },
   "outputs": [
    {
     "data": {
      "text/plain": [
       "50"
      ]
     },
     "execution_count": 15,
     "metadata": {},
     "output_type": "execute_result"
    }
   ],
   "source": [
    "list_files = inventory[\"timeseries_path\"].unique()\n",
    "len(list_files)"
   ]
  },
  {
   "cell_type": "code",
   "execution_count": 16,
   "id": "88451731-672d-4c5a-bc04-1fc4e1e7cac2",
   "metadata": {
    "tags": []
   },
   "outputs": [],
   "source": [
    "# list_files = list_files[:3]\n",
    "# len(list_files)"
   ]
  },
  {
   "cell_type": "code",
   "execution_count": 17,
   "id": "1268fd1f-e7e6-4296-aec6-ed49a1058274",
   "metadata": {
    "tags": []
   },
   "outputs": [
    {
     "name": "stdout",
     "output_type": "stream",
     "text": [
      "abashiri push start\n",
      "abashiri push completed\n",
      "alert push start\n",
      "alert push completed\n",
      "alice_springs push start\n",
      "alice_springs push completed\n",
      "barrow push start\n",
      "barrow push completed\n",
      "bermuda push start\n",
      "bermuda push completed\n",
      "billings push start\n",
      "billings push completed\n",
      "bondville push start\n",
      "bondville push completed\n",
      "boulder1 push start\n",
      "boulder1 push completed\n",
      "boulder push start\n",
      "boulder push completed\n",
      "budapest_lorinc push start\n",
      "budapest_lorinc push completed\n",
      "cabauw push start\n",
      "cabauw push completed\n",
      "camborne push start\n",
      "camborne push completed\n",
      "carpentras push start\n",
      "carpentras push completed\n",
      "chesapeake_light push start\n",
      "chesapeake_light push completed\n",
      "concordia_station_dome_c push start\n",
      "concordia_station_dome_c push completed\n",
      "darwin push start\n",
      "darwin push completed\n",
      "desert_rock push start\n",
      "desert_rock push completed\n",
      "de_aar push start\n",
      "de_aar push completed\n",
      "eastern_north_atlantic push start\n",
      "eastern_north_atlantic push completed\n",
      "fort_peck push start\n",
      "fort_peck push completed\n",
      "fukuoka push start\n",
      "fukuoka push completed\n",
      "georg_von_neumayer push start\n",
      "georg_von_neumayer push completed\n",
      "gobabeb push start\n",
      "gobabeb push completed\n",
      "goodwin_creek push start\n",
      "goodwin_creek push completed\n",
      "granite_island push start\n",
      "granite_island push completed\n",
      "ishigakijima push start\n",
      "ishigakijima push completed\n",
      "izaña push start\n",
      "izaña push completed\n",
      "kwajalein push start\n",
      "kwajalein push completed\n",
      "lindenberg push start\n",
      "lindenberg push completed\n",
      "magurele_mars push start\n",
      "magurele_mars push completed\n",
      "minamitorishima push start\n",
      "minamitorishima push completed\n",
      "momote push start\n",
      "momote push completed\n",
      "nauru_island push start\n",
      "nauru_island push completed\n",
      "ny_ålesund push start\n",
      "ny_ålesund push completed\n",
      "observatory_of_huancayo push start\n",
      "observatory_of_huancayo push completed\n",
      "paramaribo push start\n",
      "paramaribo push completed\n",
      "payerne push start\n",
      "payerne push completed\n",
      "rock_springs push start\n",
      "rock_springs push completed\n",
      "sapporo push start\n",
      "sapporo push completed\n",
      "sede_boqer push start\n",
      "sede_boqer push completed\n",
      "selegua_mexico_solarimetric_station push start\n",
      "selegua_mexico_solarimetric_station push completed\n",
      "sioux_falls push start\n",
      "sioux_falls push completed\n",
      "sonnblick push start\n",
      "sonnblick push completed\n",
      "southern_great_plains push start\n",
      "southern_great_plains push completed\n",
      "south_pole push start\n",
      "south_pole push completed\n",
      "syowa push start\n",
      "syowa push completed\n",
      "tamanrasset push start\n",
      "tamanrasset push completed\n",
      "tateno push start\n",
      "tateno push completed\n",
      "tiksi push start\n",
      "tiksi push completed\n",
      "toravere push start\n",
      "toravere push completed\n"
     ]
    }
   ],
   "source": [
    "for file in list_files:\n",
    "    inventory_station = inventory[inventory[\"timeseries_path\"]==file]\n",
    "    station = inventory_station.iloc[0][\"name\"]\n",
    "    print(f\"{station} push start\")\n",
    "    \n",
    "    df_timeseries = pd.read_csv(file, index_col=0)\n",
    "    df_timeseries.index = pd.DatetimeIndex(df_timeseries.index)\n",
    "    \n",
    "    list_of_variables = []\n",
    "    list_of_standardized_ts_variable = []\n",
    "    \n",
    "    for index, row in inventory_station.iterrows():\n",
    "        variable = Variable(name = row.variable_name, \n",
    "                            physical_parameter_id=row.variable_physical_parameter_id,\n",
    "                            units = row.variable_units,\n",
    "                            time_granularity = row.variable_time_granularity,\n",
    "                            start = row.variable_start,\n",
    "                            end = row.variable_end,\n",
    "                            temporal_aggregation_method = row.variable_temporal_aggregation_method,\n",
    "                            temporal_aggregation_period = row.variable_time_granularity,\n",
    "                            temporal_aggregation_timestamp_convention=row.variable_temporal_aggregation_convention,\n",
    "                            data_availability_percent = row.variable_data_availability_percent)\n",
    "\n",
    "        var_timeseries = df_timeseries.loc[:,row.variable_name]\n",
    "        ts_variable = TimeseriesVariable(variable=variable,data=var_timeseries)\n",
    "\n",
    "        list_of_variables.append(variable)\n",
    "        list_of_standardized_ts_variable.append(ts_variable)\n",
    "    \n",
    "    site = Site(name = inventory_station.iloc[0][\"name\"],\n",
    "                domain = inventory_station.iloc[0][\"domain\"], \n",
    "                latitude = inventory_station.iloc[0][\"latitude\"],\n",
    "                longitude = inventory_station.iloc[0][\"longitude\"],\n",
    "                variables = list_of_variables,\n",
    "                source = REGISTRY.datasources(id=inventory_station.iloc[0][\"source\"]),\n",
    "                classification = inventory_station.iloc[0][\"classification\"],\n",
    "                device_type = inventory_station.iloc[0][\"device_type\"],\n",
    "           )\n",
    "    ts_dataset = TimeseriesDataset(timeseries_variables=list_of_standardized_ts_variable)\n",
    "    \n",
    "    db.add_site(site)\n",
    "    db.add_measurement_timeseries(site, ts_dataset)\n",
    "    print(f\"{station} push completed\")"
   ]
  }
 ],
 "metadata": {
  "kernelspec": {
   "display_name": "lhn_internship",
   "language": "python",
   "name": "lhn_internship"
  },
  "language_info": {
   "codemirror_mode": {
    "name": "ipython",
    "version": 3
   },
   "file_extension": ".py",
   "mimetype": "text/x-python",
   "name": "python",
   "nbconvert_exporter": "python",
   "pygments_lexer": "ipython3",
   "version": "3.10.13"
  }
 },
 "nbformat": 4,
 "nbformat_minor": 5
}
