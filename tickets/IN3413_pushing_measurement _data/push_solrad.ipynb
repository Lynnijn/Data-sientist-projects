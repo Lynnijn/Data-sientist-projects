{
 "cells": [
  {
   "cell_type": "code",
   "execution_count": 1,
   "id": "e4722535-477c-4d08-bc33-3c023caf047a",
   "metadata": {
    "tags": []
   },
   "outputs": [],
   "source": [
    "from pathlib import Path\n",
    "import pandas as pd\n",
    "import os\n",
    "import numpy as np\n",
    "\n",
    "from eee.resource.validation.database import ValidationDatabase\n",
    "from eee.resource.validation.models.site import Site, SitesInventory\n",
    "from eee.ontology.variables import Variable\n",
    "from eee.resource.validation import REGISTRY\n",
    "from eee.resource.validation.models.timeseries import TimeseriesVariable,TimeseriesDataset, TimeseriesVariableStandardizer"
   ]
  },
  {
   "cell_type": "code",
   "execution_count": 2,
   "id": "fc17af9c-b7a6-4904-9246-ec43fa8c1ae3",
   "metadata": {
    "tags": []
   },
   "outputs": [],
   "source": [
    "TICKET_DIR = Path.home()/\"OneDrive-3E/Research/Solar/tickets/2023/IN2817_SOLRAD_measurement_data\""
   ]
  },
  {
   "cell_type": "code",
   "execution_count": 3,
   "id": "e5416a12-b5cf-4e9b-9fac-27cc13b285d8",
   "metadata": {
    "tags": []
   },
   "outputs": [],
   "source": [
    "raw_data_dir = os.path.join(TICKET_DIR, \"raw_data\")\n",
    "intermediate_data_dir = os.path.join(TICKET_DIR, \"intermediate_data\")\n",
    "parsed_data_dir = os.path.join(TICKET_DIR, \"final_data\")"
   ]
  },
  {
   "cell_type": "code",
   "execution_count": 4,
   "id": "d99f5fb1-a1a5-48ad-86a7-4a4128584b9c",
   "metadata": {
    "tags": []
   },
   "outputs": [],
   "source": [
    "validation_database_path = Path.home()/\"OneDrive-3E/Research/Solar/validation/validation_database\""
   ]
  },
  {
   "cell_type": "code",
   "execution_count": 5,
   "id": "2d2527dd-4beb-44e3-9db7-7abbf211eb8e",
   "metadata": {
    "tags": []
   },
   "outputs": [],
   "source": [
    "variables_match = {\n",
    "    \"ghi\": \"ghi\",\n",
    "    \"dhi\": \"dhi\",\n",
    "    \"dni\": \"dni\",\n",
    "}"
   ]
  },
  {
   "cell_type": "markdown",
   "id": "797bd25a-6b40-404b-b1db-293633523239",
   "metadata": {},
   "source": [
    "## get list of stations already pushed"
   ]
  },
  {
   "cell_type": "code",
   "execution_count": 6,
   "id": "278383e8-11d2-4d07-a43b-cd9777879af7",
   "metadata": {
    "tags": []
   },
   "outputs": [],
   "source": [
    "## instantiate validation database\n",
    "db = ValidationDatabase(validation_database_path)"
   ]
  },
  {
   "cell_type": "code",
   "execution_count": 7,
   "id": "d5de6230-3d4f-41a1-aa36-5a59a447fd56",
   "metadata": {},
   "outputs": [],
   "source": [
    "db_stations = db.get_sites()"
   ]
  },
  {
   "cell_type": "code",
   "execution_count": 8,
   "id": "8105f552-bec2-4200-9591-44592fb6796b",
   "metadata": {
    "tags": []
   },
   "outputs": [
    {
     "data": {
      "text/plain": [
       "array(['abashiri', 'alert', 'alice_springs', 'barrow', 'bermuda',\n",
       "       'billings', 'bondville', 'boulder1', 'boulder', 'budapest_lorinc',\n",
       "       'cabauw', 'camborne', 'carpentras', 'chesapeake_light',\n",
       "       'concordia_station_dome_c', 'darwin', 'desert_rock', 'de_aar',\n",
       "       'eastern_north_atlantic', 'fort_peck', 'fukuoka',\n",
       "       'georg_von_neumayer', 'gobabeb', 'goodwin_creek', 'granite_island',\n",
       "       'ishigakijima', 'izaña', 'kwajalein', 'lindenberg',\n",
       "       'magurele_mars', 'minamitorishima', 'momote', 'nauru_island',\n",
       "       'ny_ålesund', 'observatory_of_huancayo', 'paramaribo', 'payerne',\n",
       "       'rock_springs', 'sapporo', 'sede_boqer',\n",
       "       'selegua_mexico_solarimetric_station', 'sioux_falls', 'sonnblick',\n",
       "       'southern_great_plains', 'south_pole', 'syowa', 'tamanrasset',\n",
       "       'tateno', 'tiksi', 'toravere', 'bdfe2_feni',\n",
       "       'ceb_substation_dapaong_togo', 'ceb_substation_davie_togo',\n",
       "       'ceb_substation_malanville_benin', 'ceb_substation_parakou_benin',\n",
       "       'ci_energies_substation_korhogo_côte_d_ivoire',\n",
       "       'ci_energies_substation_sérébou_côte_d_ivoire',\n",
       "       'edg_substation_kankan_guinea',\n",
       "       'edm_sa_substation_in_bougouni_mali',\n",
       "       'edm_sa_substation_in_fana_mali', 'edm_sa_substation_sikasso_mali',\n",
       "       'gridco_substation_navrongo_ghana', 'hrazdan',\n",
       "       'lbama_lari_tal_amara', 'lbras_ras_baalbak', 'masrik',\n",
       "       'meteorological_institut_bissau_guinea_bissau',\n",
       "       'meteorological_institut_gabu_guinea_bissau',\n",
       "       'mount_coffee_hydro_power_plant_liberia', 'mv_solar_gan_gan',\n",
       "       'mv_solar_hanimaadhoo_haq', 'mv_solar_kadhdhoo_kdo',\n",
       "       'mv_solar_male_mle', 'mw_solar_chileka_dccms',\n",
       "       'mw_solar_kasungu_dccms', 'mw_solar_mzuzu_umz',\n",
       "       'nawec_power_station_farafenni_the_gambia',\n",
       "       'nigelec_substation_lossa_niger',\n",
       "       'nigelec_substation_maradi_niger', 'np_solar_dharan_ioe',\n",
       "       'np_solar_jumla_hotelkanjirowa', 'np_solar_kathmandu_ioe',\n",
       "       'np_solar_lumle_dhm', 'np_solar_nepalgunj_narc',\n",
       "       'open_field_zabori_niger', 'pk_solar_hyderabad_muet',\n",
       "       'pk_solar_islamabad_nust', 'pk_solar_karachi_neduet',\n",
       "       'pk_solar_khuzdar_buet', 'pk_solar_lahore_uet',\n",
       "       'pk_solar_multan_msnuet', 'pk_solar_peshawar_uet',\n",
       "       'pk_solar_quetta_buitems', 'sanankoroba_mali',\n",
       "       'senelec_substation_ourossogui_senegal',\n",
       "       'senelec_substation_tambacounda_senegal', 'sn_solar_fatick_ifc',\n",
       "       'sn_solar_kahone_ifc', 'sn_solar_touba_ifc',\n",
       "       'sogem_substation_manatali_mali', 'mene_unnamed_station_1',\n",
       "       'mene_unnamed_station_10', 'mene_unnamed_station_11',\n",
       "       'mene_unnamed_station_12', 'mene_unnamed_station_13',\n",
       "       'mene_unnamed_station_14', 'mene_unnamed_station_15',\n",
       "       'mene_unnamed_station_2', 'mene_unnamed_station_3',\n",
       "       'mene_unnamed_station_4', 'mene_unnamed_station_5',\n",
       "       'mene_unnamed_station_6', 'mene_unnamed_station_7',\n",
       "       'arm_amf3_oliktok', 'arm_nsa_barrow', 'atqasuk',\n",
       "       'barrow_bes_biocomplexityexperiment_south_tower',\n",
       "       'barrow_environmentalobservatory_beo_tower', 'bibai_bog',\n",
       "       'bonanza_creek_black_spruce', 'bonanza_creek_rich_fen',\n",
       "       'bonanza_creek_thermokarst_bog', 'borgo_cioffi',\n",
       "       'bouldin_island_alfalfa', 'bouldin_island_corn', 'castellaro',\n",
       "       'chamau', 'cheorwon_rice_paddy', 'cherski', 'chersky_reference',\n",
       "       'chokurdakh', 'curtice_walter−bergercropland', 'dagowsee', 'davos',\n",
       "       'degero', 'disney_wilderness_preserve_wetland',\n",
       "       'east_pond_wetland', 'eden_landing_ecologicalreserve',\n",
       "       'eight_mile_lake_permafrostthaw_gradient_healy_alaska',\n",
       "       'fyodorovskoye_dry_spruce', 'guma', 'hongyuan', 'horstermeer',\n",
       "       'howland_forest_main_tower', 'huetelmoor',\n",
       "       'humnoke_farm_rice_field_–_field_c',\n",
       "       'humnoke_farm_rice_field–_field_a', 'hyytiala',\n",
       "       'imnavait_creek_watershed_wet_sedge_tundra', 'ivotuk', 'kopuatai',\n",
       "       'la_guette', 'lompolojankka', 'lost_creek',\n",
       "       'macarthur_agro_ecology', 'mai_po_mangrove',\n",
       "       'maludam_national_park', 'central_university_of_technology',\n",
       "       'crses_mintek', 'csir_energy_centre', 'eskom_sutherland'],\n",
       "      dtype=object)"
      ]
     },
     "execution_count": 8,
     "metadata": {},
     "output_type": "execute_result"
    }
   ],
   "source": [
    "db_stations_name = db_stations.df.name.unique()\n",
    "db_stations_name"
   ]
  },
  {
   "cell_type": "code",
   "execution_count": 9,
   "id": "9d9f927e-aea4-4cae-b4e9-21a604f53de7",
   "metadata": {
    "tags": []
   },
   "outputs": [],
   "source": [
    "# site_name = \"kwajalein\"\n",
    "# site_id = db.get_sites(names=site_name).site_ids[0]\n",
    "# site = db_stations.get_site(site_id)\n",
    "# site"
   ]
  },
  {
   "cell_type": "code",
   "execution_count": 10,
   "id": "6ea3e716-b85a-43b1-b28b-1c5a40a20b5a",
   "metadata": {
    "tags": []
   },
   "outputs": [],
   "source": [
    "# db_stations.remove_site(site)"
   ]
  },
  {
   "cell_type": "markdown",
   "id": "201be5de-607b-48de-b38e-ac96864109eb",
   "metadata": {},
   "source": [
    "## read inventory and remove already pushed sites"
   ]
  },
  {
   "cell_type": "code",
   "execution_count": 11,
   "id": "f37b2da0-c41c-4398-a98b-8d1db2e2174a",
   "metadata": {
    "tags": []
   },
   "outputs": [
    {
     "data": {
      "text/plain": [
       "48"
      ]
     },
     "execution_count": 11,
     "metadata": {},
     "output_type": "execute_result"
    }
   ],
   "source": [
    "## read inventory\n",
    "inventory = pd.read_csv(os.path.join(TICKET_DIR, \"inventory.csv\"))\n",
    "len(inventory)"
   ]
  },
  {
   "cell_type": "code",
   "execution_count": 12,
   "id": "5321fcf5-742c-4c72-8880-549df9593604",
   "metadata": {
    "tags": []
   },
   "outputs": [
    {
     "data": {
      "text/plain": [
       "48"
      ]
     },
     "execution_count": 12,
     "metadata": {},
     "output_type": "execute_result"
    }
   ],
   "source": [
    "inventory = inventory[~inventory[\"name\"].isin(db_stations_name)]\n",
    "len(inventory)"
   ]
  },
  {
   "cell_type": "code",
   "execution_count": 13,
   "id": "1ef0a4ac-2e2b-4aa3-a6f3-656227359af9",
   "metadata": {
    "tags": []
   },
   "outputs": [],
   "source": [
    "# inventory = inventory.iloc[:17,]"
   ]
  },
  {
   "cell_type": "markdown",
   "id": "0d07cb6a-6029-4d15-90fc-7f84f3220480",
   "metadata": {},
   "source": [
    "## push"
   ]
  },
  {
   "cell_type": "code",
   "execution_count": 14,
   "id": "e55a7410-6d4e-475c-9bdd-b8aa9ee37885",
   "metadata": {
    "tags": []
   },
   "outputs": [
    {
     "data": {
      "text/plain": [
       "Index(['name', 'domain', 'latitude', 'longitude', 'source', 'classification',\n",
       "       'device_type', 'pyranometer_type', 'variable_name',\n",
       "       'variable_physical_parameter_id', 'variable_units',\n",
       "       'variable_time_granularity', 'variable_start', 'variable_end',\n",
       "       'variable_temporal_aggregation_method',\n",
       "       'variable_temporal_aggregation_period',\n",
       "       'variable_temporal_aggregation_convention',\n",
       "       'variable_data_availability_percent', 'timeseries_path'],\n",
       "      dtype='object')"
      ]
     },
     "execution_count": 14,
     "metadata": {},
     "output_type": "execute_result"
    }
   ],
   "source": [
    "inventory.columns"
   ]
  },
  {
   "cell_type": "code",
   "execution_count": 15,
   "id": "41270f90-4bcf-4977-8047-3deb05e84d6c",
   "metadata": {
    "tags": []
   },
   "outputs": [
    {
     "data": {
      "text/plain": [
       "8"
      ]
     },
     "execution_count": 15,
     "metadata": {},
     "output_type": "execute_result"
    }
   ],
   "source": [
    "list_files = inventory[\"timeseries_path\"].unique()\n",
    "len(list_files)"
   ]
  },
  {
   "cell_type": "code",
   "execution_count": 16,
   "id": "88451731-672d-4c5a-bc04-1fc4e1e7cac2",
   "metadata": {
    "tags": []
   },
   "outputs": [],
   "source": [
    "# list_files = list_files[:3]\n",
    "# len(list_files)"
   ]
  },
  {
   "cell_type": "code",
   "execution_count": 17,
   "id": "24062700-860b-469b-8262-a585d1f995a7",
   "metadata": {
    "tags": []
   },
   "outputs": [
    {
     "name": "stdout",
     "output_type": "stream",
     "text": [
      "albuquerque_new_mexico push start\n",
      "albuquerque_new_mexico push completed\n",
      "bismarck_north_dakota push start\n",
      "bismarck_north_dakota push completed\n",
      "hanford_california push start\n",
      "hanford_california push completed\n",
      "madison_wisconsin push start\n",
      "madison_wisconsin push completed\n",
      "oak_ridge_tennessee push start\n",
      "oak_ridge_tennessee push completed\n",
      "salt_lake_city_utah push start\n",
      "salt_lake_city_utah push completed\n",
      "seattle_washington push start\n",
      "seattle_washington push completed\n",
      "sterling_virginia push start\n",
      "sterling_virginia push completed\n"
     ]
    }
   ],
   "source": [
    "for file in list_files:\n",
    "    inventory_station = inventory[inventory[\"timeseries_path\"] == file]\n",
    "    station = inventory_station.iloc[0][\"name\"]\n",
    "    print(f\"{station} push start\")\n",
    "    \n",
    "    df_timeseries = pd.read_csv(file, index_col=0)\n",
    "    df_timeseries.index = pd.DatetimeIndex(df_timeseries.index)\n",
    "    \n",
    "    qflag_columns = [col for col in df_timeseries.columns if col.endswith(\"_qflag\")]\n",
    "    for col in qflag_columns:\n",
    "        df_timeseries.loc[df_timeseries[col] == 1, col] = np.nan\n",
    "\n",
    "    qflag_rows = inventory_station['variable_name'].str.endswith('_qflag')\n",
    "    inventory_station = inventory_station[~qflag_rows]\n",
    "    \n",
    "    list_of_variables = []\n",
    "    list_of_standardized_ts_variable = []\n",
    "    \n",
    "    for index, row in inventory_station.iterrows():\n",
    "        variable = Variable(name = row.variable_name, \n",
    "                            physical_parameter_id=row.variable_physical_parameter_id,\n",
    "                            units = row.variable_units,\n",
    "                            time_granularity = row.variable_time_granularity,\n",
    "                            start = row.variable_start,\n",
    "                            end = row.variable_end,\n",
    "                            temporal_aggregation_method = row.variable_temporal_aggregation_method,\n",
    "                            temporal_aggregation_period = row.variable_time_granularity,\n",
    "                            temporal_aggregation_timestamp_convention=row.variable_temporal_aggregation_convention,\n",
    "                            data_availability_percent = row.variable_data_availability_percent)\n",
    "\n",
    "        var_timeseries = df_timeseries.loc[:,row.variable_name]\n",
    "        ts_variable = TimeseriesVariable(variable=variable,data=var_timeseries)\n",
    "\n",
    "        list_of_variables.append(variable)\n",
    "        list_of_standardized_ts_variable.append(ts_variable)\n",
    "    \n",
    "    site = Site(name = inventory_station.iloc[0][\"name\"],\n",
    "                domain = inventory_station.iloc[0][\"domain\"], \n",
    "                latitude = inventory_station.iloc[0][\"latitude\"],\n",
    "                longitude = inventory_station.iloc[0][\"longitude\"],\n",
    "                variables = list_of_variables,\n",
    "                source = REGISTRY.datasources(id=inventory_station.iloc[0][\"source\"]),\n",
    "                classification = inventory_station.iloc[0][\"classification\"],\n",
    "                device_type = inventory_station.iloc[0][\"device_type\"],\n",
    "           )\n",
    "    ts_dataset = TimeseriesDataset(timeseries_variables=list_of_standardized_ts_variable)\n",
    "    \n",
    "    db.add_site(site)\n",
    "    db.add_measurement_timeseries(site, ts_dataset)\n",
    "    print(f\"{station} push completed\")"
   ]
  }
 ],
 "metadata": {
  "kernelspec": {
   "display_name": "lhn_internship",
   "language": "python",
   "name": "lhn_internship"
  },
  "language_info": {
   "codemirror_mode": {
    "name": "ipython",
    "version": 3
   },
   "file_extension": ".py",
   "mimetype": "text/x-python",
   "name": "python",
   "nbconvert_exporter": "python",
   "pygments_lexer": "ipython3",
   "version": "3.10.13"
  }
 },
 "nbformat": 4,
 "nbformat_minor": 5
}
