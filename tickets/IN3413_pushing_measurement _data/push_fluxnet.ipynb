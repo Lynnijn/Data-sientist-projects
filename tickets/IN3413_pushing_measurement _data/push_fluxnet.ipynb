{
 "cells": [
  {
   "cell_type": "code",
   "execution_count": 1,
   "id": "e4722535-477c-4d08-bc33-3c023caf047a",
   "metadata": {
    "tags": []
   },
   "outputs": [],
   "source": [
    "from pathlib import Path\n",
    "import pandas as pd\n",
    "import os\n",
    "import numpy as np\n",
    "\n",
    "from eee.resource.validation.database import ValidationDatabase\n",
    "from eee.resource.validation.models.site import Site, SitesInventory\n",
    "from eee.ontology.variables import Variable\n",
    "from eee.resource.validation import REGISTRY\n",
    "from eee.resource.validation.models.timeseries import TimeseriesVariable,TimeseriesDataset, TimeseriesVariableStandardizer"
   ]
  },
  {
   "cell_type": "code",
   "execution_count": 2,
   "id": "fc17af9c-b7a6-4904-9246-ec43fa8c1ae3",
   "metadata": {
    "tags": []
   },
   "outputs": [],
   "source": [
    "TICKET_DIR = Path.home()/\"OneDrive-3E/Research/Solar/tickets/2023/IN2818_FLUXNET_measurement_data\""
   ]
  },
  {
   "cell_type": "code",
   "execution_count": 3,
   "id": "e5416a12-b5cf-4e9b-9fac-27cc13b285d8",
   "metadata": {
    "tags": []
   },
   "outputs": [],
   "source": [
    "raw_data_dir = os.path.join(TICKET_DIR, \"raw_data\")\n",
    "intermediate_data_dir = os.path.join(TICKET_DIR, \"intermediate_data\")\n",
    "parsed_data_dir = os.path.join(TICKET_DIR, \"final_data\")"
   ]
  },
  {
   "cell_type": "code",
   "execution_count": 4,
   "id": "d99f5fb1-a1a5-48ad-86a7-4a4128584b9c",
   "metadata": {
    "tags": []
   },
   "outputs": [],
   "source": [
    "validation_database_path = Path.home()/\"OneDrive-3E/Research/Solar/validation/validation_database\""
   ]
  },
  {
   "cell_type": "code",
   "execution_count": 5,
   "id": "2d2527dd-4beb-44e3-9db7-7abbf211eb8e",
   "metadata": {
    "tags": []
   },
   "outputs": [],
   "source": [
    "variables_match = {\n",
    "    \"ghi\": \"ghi\",\n",
    "    \"dhi\": \"dhi\",\n",
    "    \"dni\": \"dni\",\n",
    "}"
   ]
  },
  {
   "cell_type": "markdown",
   "id": "797bd25a-6b40-404b-b1db-293633523239",
   "metadata": {},
   "source": [
    "## get list of stations already pushed"
   ]
  },
  {
   "cell_type": "code",
   "execution_count": 6,
   "id": "278383e8-11d2-4d07-a43b-cd9777879af7",
   "metadata": {
    "tags": []
   },
   "outputs": [],
   "source": [
    "## instantiate validation database\n",
    "db = ValidationDatabase(validation_database_path)"
   ]
  },
  {
   "cell_type": "code",
   "execution_count": 7,
   "id": "d5de6230-3d4f-41a1-aa36-5a59a447fd56",
   "metadata": {},
   "outputs": [],
   "source": [
    "db_stations = db.get_sites()"
   ]
  },
  {
   "cell_type": "code",
   "execution_count": 8,
   "id": "8105f552-bec2-4200-9591-44592fb6796b",
   "metadata": {
    "tags": []
   },
   "outputs": [
    {
     "data": {
      "text/plain": [
       "array(['abashiri', 'alert', 'alice_springs', 'barrow', 'bermuda',\n",
       "       'billings', 'bondville', 'boulder1', 'boulder', 'budapest_lorinc',\n",
       "       'cabauw', 'camborne', 'carpentras', 'chesapeake_light',\n",
       "       'concordia_station_dome_c', 'darwin', 'desert_rock', 'de_aar',\n",
       "       'eastern_north_atlantic', 'fort_peck', 'fukuoka',\n",
       "       'georg_von_neumayer', 'gobabeb', 'goodwin_creek', 'granite_island',\n",
       "       'ishigakijima', 'izaña', 'kwajalein', 'lindenberg',\n",
       "       'magurele_mars', 'minamitorishima', 'momote', 'nauru_island',\n",
       "       'ny_ålesund', 'observatory_of_huancayo', 'paramaribo', 'payerne',\n",
       "       'rock_springs', 'sapporo', 'sede_boqer',\n",
       "       'selegua_mexico_solarimetric_station', 'sioux_falls', 'sonnblick',\n",
       "       'southern_great_plains', 'south_pole', 'syowa', 'tamanrasset',\n",
       "       'tateno', 'tiksi', 'toravere', 'bdfe2_feni',\n",
       "       'ceb_substation_dapaong_togo', 'ceb_substation_davie_togo',\n",
       "       'ceb_substation_malanville_benin', 'ceb_substation_parakou_benin',\n",
       "       'ci_energies_substation_korhogo_côte_d_ivoire',\n",
       "       'ci_energies_substation_sérébou_côte_d_ivoire',\n",
       "       'edg_substation_kankan_guinea',\n",
       "       'edm_sa_substation_in_bougouni_mali',\n",
       "       'edm_sa_substation_in_fana_mali', 'edm_sa_substation_sikasso_mali',\n",
       "       'gridco_substation_navrongo_ghana', 'hrazdan',\n",
       "       'lbama_lari_tal_amara', 'lbras_ras_baalbak', 'masrik',\n",
       "       'meteorological_institut_bissau_guinea_bissau',\n",
       "       'meteorological_institut_gabu_guinea_bissau',\n",
       "       'mount_coffee_hydro_power_plant_liberia', 'mv_solar_gan_gan',\n",
       "       'mv_solar_hanimaadhoo_haq', 'mv_solar_kadhdhoo_kdo',\n",
       "       'mv_solar_male_mle', 'mw_solar_chileka_dccms',\n",
       "       'mw_solar_kasungu_dccms', 'mw_solar_mzuzu_umz',\n",
       "       'nawec_power_station_farafenni_the_gambia',\n",
       "       'nigelec_substation_lossa_niger',\n",
       "       'nigelec_substation_maradi_niger', 'np_solar_dharan_ioe',\n",
       "       'np_solar_jumla_hotelkanjirowa', 'np_solar_kathmandu_ioe',\n",
       "       'np_solar_lumle_dhm', 'np_solar_nepalgunj_narc',\n",
       "       'open_field_zabori_niger', 'pk_solar_hyderabad_muet',\n",
       "       'pk_solar_islamabad_nust', 'pk_solar_karachi_neduet',\n",
       "       'pk_solar_khuzdar_buet', 'pk_solar_lahore_uet',\n",
       "       'pk_solar_multan_msnuet', 'pk_solar_peshawar_uet',\n",
       "       'pk_solar_quetta_buitems', 'sanankoroba_mali',\n",
       "       'senelec_substation_ourossogui_senegal',\n",
       "       'senelec_substation_tambacounda_senegal', 'sn_solar_fatick_ifc',\n",
       "       'sn_solar_kahone_ifc', 'sn_solar_touba_ifc',\n",
       "       'sogem_substation_manatali_mali', 'solar_dar_es_salaam_world_bank',\n",
       "       'solar_dodoma_world_bank', 'solar_homa_bay_world_bank',\n",
       "       'solar_laisamis_world_bank', 'solar_makunduchi_world_bank',\n",
       "       'solar_narok_world_bank', 'solar_shinyanga_world_bank',\n",
       "       'solar_soroti_world_bank', 'solar_wadelai_world_bank',\n",
       "       'sonabel_substation_dori_burkina_faso',\n",
       "       'sonabel_substation_dédougou_burkina_faso',\n",
       "       'sonabel_substation_kaya_burkina_faso',\n",
       "       'sonabel_substation_koupéla_burkina_faso', 'talin',\n",
       "       'tarambaly_guinea', 'tcn_substation_bauchi_nigeria',\n",
       "       'tcn_substation_kano_nigeria',\n",
       "       'transco_clsg_substation_buchanan_liberia',\n",
       "       'transco_clsg_substation_bumbuna_sierra_leone',\n",
       "       'transco_clsg_substation_kenema_sierra_leone',\n",
       "       'transco_clsg_substation_yekepa_liberia',\n",
       "       'university_of_fiapre_sunyani_ghana', 'vnceh_central_highlands',\n",
       "       'vndan_da_nang', 'vnhan_hanoi', 'vnsob_song_binh', 'vntra_tri_an',\n",
       "       'yerevanagro', 'zm_solar_chilanga_zari', 'zm_solar_choma_zari',\n",
       "       'zm_solar_fig_tree_ifc', 'zm_solar_kaoma_zari',\n",
       "       'zm_solar_kasama_zari', 'zm_solar_lusaka_unza',\n",
       "       'zm_solar_mumbwa_ifc', 'zm_solar_mutanda_zari',\n",
       "       'zm_solar_ndeke_ifc', 'mene_unnamed_station_1',\n",
       "       'mene_unnamed_station_10', 'mene_unnamed_station_11',\n",
       "       'mene_unnamed_station_12', 'mene_unnamed_station_13',\n",
       "       'mene_unnamed_station_14', 'mene_unnamed_station_15',\n",
       "       'mene_unnamed_station_2', 'mene_unnamed_station_3',\n",
       "       'mene_unnamed_station_4', 'mene_unnamed_station_5',\n",
       "       'mene_unnamed_station_6', 'mene_unnamed_station_7',\n",
       "       'mene_unnamed_station_8', 'mene_unnamed_station_9',\n",
       "       'arm_amf3_oliktok', 'arm_nsa_barrow', 'atqasuk',\n",
       "       'barrow_bes_biocomplexityexperiment_south_tower',\n",
       "       'barrow_environmentalobservatory_beo_tower', 'bibai_bog',\n",
       "       'bonanza_creek_black_spruce', 'bonanza_creek_rich_fen',\n",
       "       'bonanza_creek_thermokarst_bog', 'borgo_cioffi',\n",
       "       'bouldin_island_alfalfa', 'bouldin_island_corn', 'castellaro',\n",
       "       'chamau', 'cheorwon_rice_paddy', 'cherski', 'chersky_reference',\n",
       "       'chokurdakh', 'curtice_walter−bergercropland', 'dagowsee', 'davos',\n",
       "       'degero', 'disney_wilderness_preserve_wetland',\n",
       "       'east_pond_wetland', 'eden_landing_ecologicalreserve',\n",
       "       'eight_mile_lake_permafrostthaw_gradient_healy_alaska',\n",
       "       'fyodorovskoye_dry_spruce', 'guma', 'hongyuan', 'horstermeer',\n",
       "       'howland_forest_main_tower', 'huetelmoor',\n",
       "       'humnoke_farm_rice_field_–_field_c',\n",
       "       'humnoke_farm_rice_field–_field_a', 'hyytiala',\n",
       "       'imnavait_creek_watershed_wet_sedge_tundra', 'ivotuk', 'kopuatai',\n",
       "       'la_guette', 'lompolojankka', 'lost_creek',\n",
       "       'macarthur_agro_ecology', 'mai_po_mangrove',\n",
       "       'maludam_national_park', 'central_university_of_technology',\n",
       "       'crses_mintek', 'csir_energy_centre', 'eskom_sutherland',\n",
       "       'giz_graaff_reinet', 'giz_murraysburg', 'giz_richtersveld',\n",
       "       'giz_university_of_free_state', 'giz_university_of_pretoria',\n",
       "       'giz_vanrhynsdorp', 'ilanga_csp_plant',\n",
       "       'mangosuthu_university_of_technology', 'nelson_mandela_university',\n",
       "       'stellenbosch_university',\n",
       "       'university_of_kwazulu_natal_howard_college',\n",
       "       'university_of_kwazulu_natal_pietermaritzburg',\n",
       "       'university_of_kwazulu_natal_westville', 'university_of_zululand',\n",
       "       'usaid_gaborone',\n",
       "       'usaid_namibian_university_of_science_and_technology',\n",
       "       'usaid_university_of_fort_hare', 'usaid_venda',\n",
       "       'albuquerque_new_mexico', 'bismarck_north_dakota',\n",
       "       'hanford_california', 'madison_wisconsin', 'oak_ridge_tennessee',\n",
       "       'salt_lake_city_utah', 'seattle_washington', 'sterling_virginia',\n",
       "       'bluefield_state_college', 'cal_poly_humboldt_sorms',\n",
       "       'elizabeth_city_state_university', 'lowry_range_solar_station_rsr',\n",
       "       'natural_energy_laboratory_of_hawaii_authority_nelha',\n",
       "       'nevada_power_clark_station',\n",
       "       'nrel_energy_systems_integration_facility',\n",
       "       'nrel_flatirons_campus_m2',\n",
       "       'nrel_solar_radiation_research_laboratory',\n",
       "       'oak_ridge_national_laboratory_rsr',\n",
       "       'sacramento_municipal_utility_district_anatolia',\n",
       "       'solar_technology_acceleration_center_solartac',\n",
       "       'solrmap_kalaeloa_oahu_rsr', 'solrmap_la_ola_lanai_rsr',\n",
       "       'solrmap_loyola_marymount_university_rsr',\n",
       "       'solrmap_southwest_solar_research_park',\n",
       "       'solrmap_sun_spot_two_swink_rsr',\n",
       "       'solrmap_university_of_arizona_oasis',\n",
       "       'solrmap_utah_geological_survey_state_energy_program_cedar_city',\n",
       "       'solrmap_utah_geological_survey_state_energy_program_milford',\n",
       "       'south_park_mountain_data', 'sun_spot_one_san_luis_valley_rsr',\n",
       "       'university_of_florida', 'university_of_louisiana_at_lafayette',\n",
       "       'university_of_nevada_las_vegas',\n",
       "       'university_of_texas_rio_grande_valley_solar_radiation_lab',\n",
       "       'us_virgin_islands_bovoni_2', 'us_virgin_islands_longford',\n",
       "       'bondville_illinois', 'desert_rock_nevada', 'fort_peck_montana',\n",
       "       'goodwin_creek_mississippi', 'penn_state_pennsylvania',\n",
       "       'sioux_falls_south_dakota'], dtype=object)"
      ]
     },
     "execution_count": 8,
     "metadata": {},
     "output_type": "execute_result"
    }
   ],
   "source": [
    "db_stations_name = db_stations.df.name.unique()\n",
    "db_stations_name"
   ]
  },
  {
   "cell_type": "code",
   "execution_count": 9,
   "id": "9d9f927e-aea4-4cae-b4e9-21a604f53de7",
   "metadata": {
    "tags": []
   },
   "outputs": [],
   "source": [
    "# site_name = \"kwajalein\"\n",
    "# site_id = db.get_sites(names=site_name).site_ids[0]\n",
    "# site = db_stations.get_site(site_id)\n",
    "# site"
   ]
  },
  {
   "cell_type": "code",
   "execution_count": 10,
   "id": "6ea3e716-b85a-43b1-b28b-1c5a40a20b5a",
   "metadata": {
    "tags": []
   },
   "outputs": [],
   "source": [
    "# db_stations.remove_site(site)"
   ]
  },
  {
   "cell_type": "markdown",
   "id": "201be5de-607b-48de-b38e-ac96864109eb",
   "metadata": {},
   "source": [
    "## read inventory and remove already pushed sites"
   ]
  },
  {
   "cell_type": "code",
   "execution_count": 11,
   "id": "f37b2da0-c41c-4398-a98b-8d1db2e2174a",
   "metadata": {
    "tags": []
   },
   "outputs": [
    {
     "data": {
      "text/plain": [
       "75"
      ]
     },
     "execution_count": 11,
     "metadata": {},
     "output_type": "execute_result"
    }
   ],
   "source": [
    "## read inventory\n",
    "inventory = pd.read_csv(os.path.join(TICKET_DIR, \"inventory.csv\"))\n",
    "len(inventory)"
   ]
  },
  {
   "cell_type": "code",
   "execution_count": 12,
   "id": "5321fcf5-742c-4c72-8880-549df9593604",
   "metadata": {
    "tags": []
   },
   "outputs": [
    {
     "data": {
      "text/plain": [
       "31"
      ]
     },
     "execution_count": 12,
     "metadata": {},
     "output_type": "execute_result"
    }
   ],
   "source": [
    "inventory = inventory[~inventory[\"name\"].isin(db_stations_name)]\n",
    "len(inventory)"
   ]
  },
  {
   "cell_type": "code",
   "execution_count": 13,
   "id": "1ef0a4ac-2e2b-4aa3-a6f3-656227359af9",
   "metadata": {
    "tags": []
   },
   "outputs": [],
   "source": [
    "# inventory = inventory.iloc[4:6,]"
   ]
  },
  {
   "cell_type": "markdown",
   "id": "0d07cb6a-6029-4d15-90fc-7f84f3220480",
   "metadata": {},
   "source": [
    "## push"
   ]
  },
  {
   "cell_type": "code",
   "execution_count": 14,
   "id": "e55a7410-6d4e-475c-9bdd-b8aa9ee37885",
   "metadata": {
    "tags": []
   },
   "outputs": [
    {
     "data": {
      "text/plain": [
       "Index(['name', 'domain', 'latitude', 'longitude', 'source', 'classification',\n",
       "       'device_type', 'pyrnanometer_type', 'variable_name',\n",
       "       'variable_physical_parameter_id', 'variable_units',\n",
       "       'variable_time_granularity', 'variable_start', 'variable_end',\n",
       "       'variable_temporal_aggregation_method',\n",
       "       'variable_temporal_aggregation_period',\n",
       "       'variable_temporal_aggregation_convention',\n",
       "       'variable_data_availability_percent', 'timeseries_path'],\n",
       "      dtype='object')"
      ]
     },
     "execution_count": 14,
     "metadata": {},
     "output_type": "execute_result"
    }
   ],
   "source": [
    "inventory.columns"
   ]
  },
  {
   "cell_type": "code",
   "execution_count": 15,
   "id": "41270f90-4bcf-4977-8047-3deb05e84d6c",
   "metadata": {
    "tags": []
   },
   "outputs": [
    {
     "data": {
      "text/plain": [
       "31"
      ]
     },
     "execution_count": 15,
     "metadata": {},
     "output_type": "execute_result"
    }
   ],
   "source": [
    "list_files = inventory[\"timeseries_path\"].unique()\n",
    "len(list_files)"
   ]
  },
  {
   "cell_type": "code",
   "execution_count": 16,
   "id": "88451731-672d-4c5a-bc04-1fc4e1e7cac2",
   "metadata": {
    "tags": []
   },
   "outputs": [],
   "source": [
    "# list_files = list_files[:3]\n",
    "# len(list_files)"
   ]
  },
  {
   "cell_type": "code",
   "execution_count": 17,
   "id": "24062700-860b-469b-8262-a585d1f995a7",
   "metadata": {
    "tags": []
   },
   "outputs": [
    {
     "name": "stdout",
     "output_type": "stream",
     "text": [
      "mase_rice_paddy_field push start\n",
      "mase_rice_paddy_field push completed\n",
      "mayberry_wetland push start\n",
      "mayberry_wetland push completed\n",
      "nc_alligatorriver push start\n",
      "nc_alligatorriver push completed\n",
      "neustift push start\n",
      "neustift push completed\n",
      "ngee_arctic_barrow push start\n",
      "ngee_arctic_barrow push completed\n",
      "ngee_arctic_council push start\n",
      "ngee_arctic_council push completed\n",
      "northern_pantanal_wetland push start\n",
      "northern_pantanal_wetland push completed\n",
      "nxaraga push start\n",
      "nxaraga push completed\n",
      "oensingen_crop push start\n",
      "oensingen_crop push completed\n",
      "old_woman_creek push start\n",
      "old_woman_creek push completed\n",
      "olentangy_river_wetland_research_park push start\n",
      "olentangy_river_wetland_research_park push completed\n",
      "palangkaraya_undrained_forest push start\n",
      "palangkaraya_undrained_forest push completed\n",
      "park_falls_wlef push start\n",
      "park_falls_wlef push completed\n",
      "philippines_rice_instituteflooded push start\n",
      "philippines_rice_instituteflooded push completed\n",
      "pointe_aux_chenes_brackishmarsh push start\n",
      "pointe_aux_chenes_brackishmarsh push completed\n",
      "salvador_wma_freshwatermarsh push start\n",
      "salvador_wma_freshwatermarsh push completed\n",
      "schechenfilz_nord push start\n",
      "schechenfilz_nord push completed\n",
      "scotty_creek_bog push start\n",
      "scotty_creek_bog push completed\n",
      "scotty_creek_landscape push start\n",
      "scotty_creek_landscape push completed\n",
      "sherman_island push start\n",
      "sherman_island push completed\n",
      "siikaneva push start\n",
      "siikaneva push completed\n",
      "st_jones_reserve push start\n",
      "st_jones_reserve push completed\n",
      "suisun_marsh_−_rush_ranch push start\n",
      "suisun_marsh_−_rush_ranch push completed\n",
      "suwa_lake push start\n",
      "suwa_lake push completed\n",
      "twitchell_alfalfa push start\n",
      "twitchell_alfalfa push completed\n",
      "twitchell_east_end_wetland push start\n",
      "twitchell_east_end_wetland push completed\n",
      "twitchell_island push start\n",
      "twitchell_island push completed\n",
      "twitchell_wetland_west_pond push start\n",
      "twitchell_wetland_west_pond push completed\n",
      "university_of_alaska_fairbanks push start\n",
      "university_of_alaska_fairbanks push completed\n",
      "winous_point_north_marsh push start\n",
      "winous_point_north_marsh push completed\n",
      "zarnekow push start\n",
      "zarnekow push completed\n"
     ]
    }
   ],
   "source": [
    "for file in list_files:\n",
    "    inventory_station = inventory[inventory[\"timeseries_path\"] == file]\n",
    "    station = inventory_station.iloc[0][\"name\"]\n",
    "    print(f\"{station} push start\")\n",
    "    \n",
    "    df_timeseries = pd.read_csv(file, index_col=0)\n",
    "    df_timeseries.index = pd.DatetimeIndex(df_timeseries.index)\n",
    "        \n",
    "    list_of_variables = []\n",
    "    list_of_standardized_ts_variable = []\n",
    "    \n",
    "    for index, row in inventory_station.iterrows():\n",
    "        variable = Variable(name = row.variable_name, \n",
    "                            physical_parameter_id=row.variable_physical_parameter_id,\n",
    "                            units = row.variable_units,\n",
    "                            time_granularity = row.variable_time_granularity,\n",
    "                            start = row.variable_start,\n",
    "                            end = row.variable_end,\n",
    "                            temporal_aggregation_method = row.variable_temporal_aggregation_method,\n",
    "                            temporal_aggregation_period = row.variable_time_granularity,\n",
    "                            temporal_aggregation_timestamp_convention=row.variable_temporal_aggregation_convention,\n",
    "                            data_availability_percent = row.variable_data_availability_percent)\n",
    "\n",
    "        var_timeseries = df_timeseries.loc[:,row.variable_name]\n",
    "        ts_variable = TimeseriesVariable(variable=variable,data=var_timeseries)\n",
    "\n",
    "        list_of_variables.append(variable)\n",
    "        list_of_standardized_ts_variable.append(ts_variable)\n",
    "    \n",
    "    site = Site(name = inventory_station.iloc[0][\"name\"],\n",
    "                domain = inventory_station.iloc[0][\"domain\"], \n",
    "                latitude = inventory_station.iloc[0][\"latitude\"],\n",
    "                longitude = inventory_station.iloc[0][\"longitude\"],\n",
    "                variables = list_of_variables,\n",
    "                source = REGISTRY.datasources(id=inventory_station.iloc[0][\"source\"]),\n",
    "                classification = inventory_station.iloc[0][\"classification\"],\n",
    "                device_type = inventory_station.iloc[0][\"device_type\"],\n",
    "           )\n",
    "    ts_dataset = TimeseriesDataset(timeseries_variables=list_of_standardized_ts_variable)\n",
    "    \n",
    "    db.add_site(site)\n",
    "    db.add_measurement_timeseries(site, ts_dataset)\n",
    "    print(f\"{station} push completed\")"
   ]
  }
 ],
 "metadata": {
  "kernelspec": {
   "display_name": "lhn_internship",
   "language": "python",
   "name": "lhn_internship"
  },
  "language_info": {
   "codemirror_mode": {
    "name": "ipython",
    "version": 3
   },
   "file_extension": ".py",
   "mimetype": "text/x-python",
   "name": "python",
   "nbconvert_exporter": "python",
   "pygments_lexer": "ipython3",
   "version": "3.10.13"
  }
 },
 "nbformat": 4,
 "nbformat_minor": 5
}
