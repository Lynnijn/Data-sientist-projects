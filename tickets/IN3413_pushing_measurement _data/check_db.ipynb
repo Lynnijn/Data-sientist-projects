{
 "cells": [
  {
   "cell_type": "code",
   "execution_count": 1,
   "id": "69afb530-d4aa-40e2-aa14-5af11b3ac517",
   "metadata": {
    "tags": []
   },
   "outputs": [],
   "source": [
    "from pathlib import Path\n",
    "import pandas as pd\n",
    "import os\n",
    "\n",
    "from eee.resource.validation.database import ValidationDatabase"
   ]
  },
  {
   "cell_type": "code",
   "execution_count": 2,
   "id": "50c7a154-ca91-44d0-801a-c32a809dc7ae",
   "metadata": {
    "tags": []
   },
   "outputs": [],
   "source": [
    "validation_database_path = Path.home()/\"OneDrive-3E/Research/Solar/validation/validation_database\""
   ]
  },
  {
   "cell_type": "code",
   "execution_count": 3,
   "id": "b13f9b42-1aa4-4453-bf97-cf67e5db40f3",
   "metadata": {
    "tags": []
   },
   "outputs": [],
   "source": [
    "## instantiate validation database\n",
    "db = ValidationDatabase(validation_database_path)"
   ]
  },
  {
   "cell_type": "code",
   "execution_count": 4,
   "id": "c83c268f-849b-442f-9b8f-7ab6a2dde104",
   "metadata": {
    "tags": []
   },
   "outputs": [
    {
     "data": {
      "text/plain": [
       "SitesInventory(n=291)"
      ]
     },
     "execution_count": 4,
     "metadata": {},
     "output_type": "execute_result"
    }
   ],
   "source": [
    "sites_inv = db.get_sites()\n",
    "sites_inv"
   ]
  },
  {
   "cell_type": "code",
   "execution_count": 5,
   "id": "126b3995-b80b-4681-85f3-6c888d77c2a9",
   "metadata": {
    "tags": []
   },
   "outputs": [
    {
     "data": {
      "text/plain": [
       "array(['abashiri', 'alert', 'alice_springs', 'barrow', 'bermuda',\n",
       "       'billings', 'bondville', 'boulder1', 'boulder', 'budapest_lorinc',\n",
       "       'cabauw', 'camborne', 'carpentras', 'chesapeake_light',\n",
       "       'concordia_station_dome_c', 'darwin', 'desert_rock', 'de_aar',\n",
       "       'eastern_north_atlantic', 'fort_peck', 'fukuoka',\n",
       "       'georg_von_neumayer', 'gobabeb', 'goodwin_creek', 'granite_island',\n",
       "       'ishigakijima', 'izaña', 'kwajalein', 'lindenberg',\n",
       "       'magurele_mars', 'minamitorishima', 'momote', 'nauru_island',\n",
       "       'ny_ålesund', 'observatory_of_huancayo', 'paramaribo', 'payerne',\n",
       "       'rock_springs', 'sapporo', 'sede_boqer',\n",
       "       'selegua_mexico_solarimetric_station', 'sioux_falls', 'sonnblick',\n",
       "       'southern_great_plains', 'south_pole', 'syowa', 'tamanrasset',\n",
       "       'tateno', 'tiksi', 'toravere', 'bdfe2_feni',\n",
       "       'ceb_substation_dapaong_togo', 'ceb_substation_davie_togo',\n",
       "       'ceb_substation_malanville_benin', 'ceb_substation_parakou_benin',\n",
       "       'ci_energies_substation_korhogo_côte_d_ivoire',\n",
       "       'ci_energies_substation_sérébou_côte_d_ivoire',\n",
       "       'edg_substation_kankan_guinea',\n",
       "       'edm_sa_substation_in_bougouni_mali',\n",
       "       'edm_sa_substation_in_fana_mali', 'edm_sa_substation_sikasso_mali',\n",
       "       'gridco_substation_navrongo_ghana', 'hrazdan',\n",
       "       'lbama_lari_tal_amara', 'lbras_ras_baalbak', 'masrik',\n",
       "       'meteorological_institut_bissau_guinea_bissau',\n",
       "       'meteorological_institut_gabu_guinea_bissau',\n",
       "       'mount_coffee_hydro_power_plant_liberia', 'mv_solar_gan_gan',\n",
       "       'mv_solar_hanimaadhoo_haq', 'mv_solar_kadhdhoo_kdo',\n",
       "       'mv_solar_male_mle', 'mw_solar_chileka_dccms',\n",
       "       'mw_solar_kasungu_dccms', 'mw_solar_mzuzu_umz',\n",
       "       'nawec_power_station_farafenni_the_gambia',\n",
       "       'nigelec_substation_lossa_niger',\n",
       "       'nigelec_substation_maradi_niger', 'np_solar_dharan_ioe',\n",
       "       'np_solar_jumla_hotelkanjirowa', 'np_solar_kathmandu_ioe',\n",
       "       'np_solar_lumle_dhm', 'np_solar_nepalgunj_narc',\n",
       "       'open_field_zabori_niger', 'pk_solar_hyderabad_muet',\n",
       "       'pk_solar_islamabad_nust', 'pk_solar_karachi_neduet',\n",
       "       'pk_solar_khuzdar_buet', 'pk_solar_lahore_uet',\n",
       "       'pk_solar_multan_msnuet', 'pk_solar_peshawar_uet',\n",
       "       'pk_solar_quetta_buitems', 'sanankoroba_mali',\n",
       "       'senelec_substation_ourossogui_senegal',\n",
       "       'senelec_substation_tambacounda_senegal', 'sn_solar_fatick_ifc',\n",
       "       'sn_solar_kahone_ifc', 'sn_solar_touba_ifc',\n",
       "       'sogem_substation_manatali_mali', 'solar_dar_es_salaam_world_bank',\n",
       "       'solar_dodoma_world_bank', 'solar_homa_bay_world_bank',\n",
       "       'solar_laisamis_world_bank', 'solar_makunduchi_world_bank',\n",
       "       'solar_narok_world_bank', 'solar_shinyanga_world_bank',\n",
       "       'solar_soroti_world_bank', 'solar_wadelai_world_bank',\n",
       "       'sonabel_substation_dori_burkina_faso',\n",
       "       'sonabel_substation_dédougou_burkina_faso',\n",
       "       'sonabel_substation_kaya_burkina_faso',\n",
       "       'sonabel_substation_koupéla_burkina_faso', 'talin',\n",
       "       'tarambaly_guinea', 'tcn_substation_bauchi_nigeria',\n",
       "       'tcn_substation_kano_nigeria',\n",
       "       'transco_clsg_substation_buchanan_liberia',\n",
       "       'transco_clsg_substation_bumbuna_sierra_leone',\n",
       "       'transco_clsg_substation_kenema_sierra_leone',\n",
       "       'transco_clsg_substation_yekepa_liberia',\n",
       "       'university_of_fiapre_sunyani_ghana', 'vnceh_central_highlands',\n",
       "       'vndan_da_nang', 'vnhan_hanoi', 'vnsob_song_binh', 'vntra_tri_an',\n",
       "       'yerevanagro', 'zm_solar_chilanga_zari', 'zm_solar_choma_zari',\n",
       "       'zm_solar_fig_tree_ifc', 'zm_solar_kaoma_zari',\n",
       "       'zm_solar_kasama_zari', 'zm_solar_lusaka_unza',\n",
       "       'zm_solar_mumbwa_ifc', 'zm_solar_mutanda_zari',\n",
       "       'zm_solar_ndeke_ifc', 'mene_unnamed_station_1',\n",
       "       'mene_unnamed_station_10', 'mene_unnamed_station_11',\n",
       "       'mene_unnamed_station_12', 'mene_unnamed_station_13',\n",
       "       'mene_unnamed_station_14', 'mene_unnamed_station_15',\n",
       "       'mene_unnamed_station_2', 'mene_unnamed_station_3',\n",
       "       'mene_unnamed_station_4', 'mene_unnamed_station_5',\n",
       "       'mene_unnamed_station_6', 'mene_unnamed_station_7',\n",
       "       'mene_unnamed_station_8', 'mene_unnamed_station_9',\n",
       "       'arm_amf3_oliktok', 'arm_nsa_barrow', 'atqasuk',\n",
       "       'barrow_bes_biocomplexityexperiment_south_tower',\n",
       "       'barrow_environmentalobservatory_beo_tower', 'bibai_bog',\n",
       "       'bonanza_creek_black_spruce', 'bonanza_creek_rich_fen',\n",
       "       'bonanza_creek_thermokarst_bog', 'borgo_cioffi',\n",
       "       'bouldin_island_alfalfa', 'bouldin_island_corn', 'castellaro',\n",
       "       'chamau', 'cheorwon_rice_paddy', 'cherski', 'chersky_reference',\n",
       "       'chokurdakh', 'curtice_walter−bergercropland', 'dagowsee', 'davos',\n",
       "       'degero', 'disney_wilderness_preserve_wetland',\n",
       "       'east_pond_wetland', 'eden_landing_ecologicalreserve',\n",
       "       'eight_mile_lake_permafrostthaw_gradient_healy_alaska',\n",
       "       'fyodorovskoye_dry_spruce', 'guma', 'hongyuan', 'horstermeer',\n",
       "       'howland_forest_main_tower', 'huetelmoor',\n",
       "       'humnoke_farm_rice_field_–_field_c',\n",
       "       'humnoke_farm_rice_field–_field_a', 'hyytiala',\n",
       "       'imnavait_creek_watershed_wet_sedge_tundra', 'ivotuk', 'kopuatai',\n",
       "       'la_guette', 'lompolojankka', 'lost_creek',\n",
       "       'macarthur_agro_ecology', 'mai_po_mangrove',\n",
       "       'maludam_national_park', 'mase_rice_paddy_field',\n",
       "       'mayberry_wetland', 'nc_alligatorriver', 'neustift',\n",
       "       'ngee_arctic_barrow', 'ngee_arctic_council',\n",
       "       'northern_pantanal_wetland', 'nxaraga', 'oensingen_crop',\n",
       "       'old_woman_creek', 'olentangy_river_wetland_research_park',\n",
       "       'palangkaraya_undrained_forest', 'park_falls_wlef',\n",
       "       'philippines_rice_instituteflooded',\n",
       "       'pointe_aux_chenes_brackishmarsh', 'salvador_wma_freshwatermarsh',\n",
       "       'schechenfilz_nord', 'scotty_creek_bog', 'scotty_creek_landscape',\n",
       "       'sherman_island', 'siikaneva', 'st_jones_reserve',\n",
       "       'suisun_marsh_−_rush_ranch', 'suwa_lake', 'twitchell_alfalfa',\n",
       "       'twitchell_east_end_wetland', 'twitchell_island',\n",
       "       'twitchell_wetland_west_pond', 'university_of_alaska_fairbanks',\n",
       "       'winous_point_north_marsh', 'zarnekow',\n",
       "       'central_university_of_technology', 'crses_mintek',\n",
       "       'csir_energy_centre', 'eskom_sutherland', 'giz_graaff_reinet',\n",
       "       'giz_murraysburg', 'giz_richtersveld',\n",
       "       'giz_university_of_free_state', 'giz_university_of_pretoria',\n",
       "       'giz_vanrhynsdorp', 'ilanga_csp_plant',\n",
       "       'mangosuthu_university_of_technology', 'nelson_mandela_university',\n",
       "       'stellenbosch_university',\n",
       "       'university_of_kwazulu_natal_howard_college',\n",
       "       'university_of_kwazulu_natal_pietermaritzburg',\n",
       "       'university_of_kwazulu_natal_westville', 'university_of_zululand',\n",
       "       'usaid_gaborone',\n",
       "       'usaid_namibian_university_of_science_and_technology',\n",
       "       'usaid_university_of_fort_hare', 'usaid_venda',\n",
       "       'albuquerque_new_mexico', 'bismarck_north_dakota',\n",
       "       'hanford_california', 'madison_wisconsin', 'oak_ridge_tennessee',\n",
       "       'salt_lake_city_utah', 'seattle_washington', 'sterling_virginia',\n",
       "       'bluefield_state_college', 'cal_poly_humboldt_sorms',\n",
       "       'elizabeth_city_state_university', 'lowry_range_solar_station_rsr',\n",
       "       'natural_energy_laboratory_of_hawaii_authority_nelha',\n",
       "       'nevada_power_clark_station',\n",
       "       'nrel_energy_systems_integration_facility',\n",
       "       'nrel_flatirons_campus_m2',\n",
       "       'nrel_solar_radiation_research_laboratory',\n",
       "       'oak_ridge_national_laboratory_rsr',\n",
       "       'sacramento_municipal_utility_district_anatolia',\n",
       "       'solar_technology_acceleration_center_solartac',\n",
       "       'solrmap_kalaeloa_oahu_rsr', 'solrmap_la_ola_lanai_rsr',\n",
       "       'solrmap_loyola_marymount_university_rsr',\n",
       "       'solrmap_southwest_solar_research_park',\n",
       "       'solrmap_sun_spot_two_swink_rsr',\n",
       "       'solrmap_university_of_arizona_oasis',\n",
       "       'solrmap_utah_geological_survey_state_energy_program_cedar_city',\n",
       "       'solrmap_utah_geological_survey_state_energy_program_milford',\n",
       "       'south_park_mountain_data', 'sun_spot_one_san_luis_valley_rsr',\n",
       "       'university_of_florida', 'university_of_louisiana_at_lafayette',\n",
       "       'university_of_nevada_las_vegas',\n",
       "       'university_of_texas_rio_grande_valley_solar_radiation_lab',\n",
       "       'us_virgin_islands_bovoni_2', 'us_virgin_islands_longford',\n",
       "       'bondville_illinois', 'desert_rock_nevada', 'fort_peck_montana',\n",
       "       'goodwin_creek_mississippi', 'penn_state_pennsylvania',\n",
       "       'sioux_falls_south_dakota'], dtype=object)"
      ]
     },
     "execution_count": 5,
     "metadata": {},
     "output_type": "execute_result"
    }
   ],
   "source": [
    "sites_inv.df.name.unique()"
   ]
  },
  {
   "cell_type": "code",
   "execution_count": 6,
   "id": "d4cf49c0-932e-442e-be60-c217cef3a242",
   "metadata": {
    "tags": []
   },
   "outputs": [],
   "source": [
    "site_name = [\"bdfe2_feni\"]"
   ]
  },
  {
   "cell_type": "code",
   "execution_count": 7,
   "id": "312f4e4c-1809-4903-b3a0-d7898381afa3",
   "metadata": {
    "tags": []
   },
   "outputs": [
    {
     "data": {
      "text/plain": [
       "'energydata_1'"
      ]
     },
     "execution_count": 7,
     "metadata": {},
     "output_type": "execute_result"
    }
   ],
   "source": [
    "site_id = db.get_sites(names=site_name).site_ids[0]\n",
    "site_id"
   ]
  },
  {
   "cell_type": "code",
   "execution_count": 8,
   "id": "c1fbbe5f-f137-443c-b39e-a0ee850d0b83",
   "metadata": {
    "tags": []
   },
   "outputs": [
    {
     "data": {
      "text/plain": [
       "Site(name='bdfe2_feni')"
      ]
     },
     "execution_count": 8,
     "metadata": {},
     "output_type": "execute_result"
    }
   ],
   "source": [
    "site = sites_inv.get_site(site_id)\n",
    "site"
   ]
  },
  {
   "cell_type": "markdown",
   "id": "142b6671-fabf-4123-a2ad-cc5e630dcccf",
   "metadata": {},
   "source": [
    "## measurement data"
   ]
  },
  {
   "cell_type": "code",
   "execution_count": 9,
   "id": "ae98d7d7-07a4-4df1-8016-cd450abcd8be",
   "metadata": {
    "tags": []
   },
   "outputs": [],
   "source": [
    "ts = db.get_measurement_timeseries(\n",
    "    site=site,\n",
    "    validation_variables=[\"ghi\"],\n",
    ")"
   ]
  },
  {
   "cell_type": "code",
   "execution_count": 10,
   "id": "40a069a6-80da-4ac4-a598-e4ab4df6c897",
   "metadata": {
    "tags": []
   },
   "outputs": [
    {
     "data": {
      "text/plain": [
       "{'timeseries_variables': [{'variable': {'name': 'ghi',\n",
       "    'physical_parameter_id': 'ghi',\n",
       "    'units': <Unit('watt / meter ** 2')>,\n",
       "    'height': None,\n",
       "    'time_granularity': Timedelta('0 days 00:01:00'),\n",
       "    'start': Timestamp('2017-06-08 00:01:00'),\n",
       "    'end': Timestamp('2019-09-30 23:59:00'),\n",
       "    'temporal_aggregation_method': <TemporalAggregationMethod.MEAN: 'mean'>,\n",
       "    'temporal_aggregation_period': Timedelta('0 days 00:01:00'),\n",
       "    'temporal_aggregation_timestamp_convention': <TemporalAggregationTimestampConvention.UNDEFINED: 'undefined'>,\n",
       "    'data_availability_percent': None},\n",
       "   'data': time\n",
       "   2017-06-08 00:01:00+00:00    69.84400\n",
       "   2017-06-08 00:02:00+00:00    70.85630\n",
       "   2017-06-08 00:03:00+00:00    72.73920\n",
       "   2017-06-08 00:04:00+00:00    74.79130\n",
       "   2017-06-08 00:05:00+00:00    77.35400\n",
       "                                  ...   \n",
       "   2019-09-30 23:55:00+00:00     1.36950\n",
       "   2019-09-30 23:56:00+00:00     1.78500\n",
       "   2019-09-30 23:57:00+00:00     1.98333\n",
       "   2019-09-30 23:58:00+00:00     2.27900\n",
       "   2019-09-30 23:59:00+00:00     2.35600\n",
       "   Length: 1216799, dtype: float64}]}"
      ]
     },
     "execution_count": 10,
     "metadata": {},
     "output_type": "execute_result"
    }
   ],
   "source": [
    "ts.dict()"
   ]
  },
  {
   "cell_type": "code",
   "execution_count": 11,
   "id": "65a04da3-2ea4-4692-919f-74d1db10ad28",
   "metadata": {
    "tags": []
   },
   "outputs": [
    {
     "data": {
      "text/html": [
       "<div>\n",
       "<style scoped>\n",
       "    .dataframe tbody tr th:only-of-type {\n",
       "        vertical-align: middle;\n",
       "    }\n",
       "\n",
       "    .dataframe tbody tr th {\n",
       "        vertical-align: top;\n",
       "    }\n",
       "\n",
       "    .dataframe thead th {\n",
       "        text-align: right;\n",
       "    }\n",
       "</style>\n",
       "<table border=\"1\" class=\"dataframe\">\n",
       "  <thead>\n",
       "    <tr style=\"text-align: right;\">\n",
       "      <th></th>\n",
       "      <th>ghi_mean_1min_undefined</th>\n",
       "    </tr>\n",
       "    <tr>\n",
       "      <th>time</th>\n",
       "      <th></th>\n",
       "    </tr>\n",
       "  </thead>\n",
       "  <tbody>\n",
       "    <tr>\n",
       "      <th>2017-06-08 00:01:00+00:00</th>\n",
       "      <td>69.84400</td>\n",
       "    </tr>\n",
       "    <tr>\n",
       "      <th>2017-06-08 00:02:00+00:00</th>\n",
       "      <td>70.85630</td>\n",
       "    </tr>\n",
       "    <tr>\n",
       "      <th>2017-06-08 00:03:00+00:00</th>\n",
       "      <td>72.73920</td>\n",
       "    </tr>\n",
       "    <tr>\n",
       "      <th>2017-06-08 00:04:00+00:00</th>\n",
       "      <td>74.79130</td>\n",
       "    </tr>\n",
       "    <tr>\n",
       "      <th>2017-06-08 00:05:00+00:00</th>\n",
       "      <td>77.35400</td>\n",
       "    </tr>\n",
       "    <tr>\n",
       "      <th>...</th>\n",
       "      <td>...</td>\n",
       "    </tr>\n",
       "    <tr>\n",
       "      <th>2019-09-30 23:55:00+00:00</th>\n",
       "      <td>1.36950</td>\n",
       "    </tr>\n",
       "    <tr>\n",
       "      <th>2019-09-30 23:56:00+00:00</th>\n",
       "      <td>1.78500</td>\n",
       "    </tr>\n",
       "    <tr>\n",
       "      <th>2019-09-30 23:57:00+00:00</th>\n",
       "      <td>1.98333</td>\n",
       "    </tr>\n",
       "    <tr>\n",
       "      <th>2019-09-30 23:58:00+00:00</th>\n",
       "      <td>2.27900</td>\n",
       "    </tr>\n",
       "    <tr>\n",
       "      <th>2019-09-30 23:59:00+00:00</th>\n",
       "      <td>2.35600</td>\n",
       "    </tr>\n",
       "  </tbody>\n",
       "</table>\n",
       "<p>1216799 rows × 1 columns</p>\n",
       "</div>"
      ],
      "text/plain": [
       "                           ghi_mean_1min_undefined\n",
       "time                                              \n",
       "2017-06-08 00:01:00+00:00                 69.84400\n",
       "2017-06-08 00:02:00+00:00                 70.85630\n",
       "2017-06-08 00:03:00+00:00                 72.73920\n",
       "2017-06-08 00:04:00+00:00                 74.79130\n",
       "2017-06-08 00:05:00+00:00                 77.35400\n",
       "...                                            ...\n",
       "2019-09-30 23:55:00+00:00                  1.36950\n",
       "2019-09-30 23:56:00+00:00                  1.78500\n",
       "2019-09-30 23:57:00+00:00                  1.98333\n",
       "2019-09-30 23:58:00+00:00                  2.27900\n",
       "2019-09-30 23:59:00+00:00                  2.35600\n",
       "\n",
       "[1216799 rows x 1 columns]"
      ]
     },
     "execution_count": 11,
     "metadata": {},
     "output_type": "execute_result"
    }
   ],
   "source": [
    "ts.to_dataframe()"
   ]
  },
  {
   "cell_type": "markdown",
   "id": "d146485e-e93a-4da6-9a8a-3df55d0c28f3",
   "metadata": {},
   "source": [
    "## simulation data"
   ]
  },
  {
   "cell_type": "code",
   "execution_count": 12,
   "id": "47ba4bbb-3a73-4af9-a1d3-188a260f2e72",
   "metadata": {
    "tags": []
   },
   "outputs": [],
   "source": [
    "ts_sim = db.get_simulation_timeseries(\n",
    "    site=site,\n",
    "    validation_variables=[\"ghirrn\"],\n",
    "    model=\"solar-resource-api-1.6.12\",\n",
    ")"
   ]
  },
  {
   "cell_type": "code",
   "execution_count": 13,
   "id": "0396c4f7-96e8-4b79-925a-fe9075f1c7f7",
   "metadata": {
    "tags": []
   },
   "outputs": [
    {
     "data": {
      "text/plain": [
       "TimeseriesDataset(variables=[Variable(name=ghirrn)])"
      ]
     },
     "execution_count": 13,
     "metadata": {},
     "output_type": "execute_result"
    }
   ],
   "source": [
    "ts_sim"
   ]
  },
  {
   "cell_type": "code",
   "execution_count": 14,
   "id": "9081339f-357d-41e4-bbfb-23c291baccf4",
   "metadata": {
    "tags": []
   },
   "outputs": [
    {
     "data": {
      "text/plain": [
       "Timestamp('2019-09-01 00:15:00')"
      ]
     },
     "execution_count": 14,
     "metadata": {},
     "output_type": "execute_result"
    }
   ],
   "source": [
    "ts_sim.timeseries_variables[0].variable.start"
   ]
  },
  {
   "cell_type": "code",
   "execution_count": 15,
   "id": "36d75df0-ef4c-43d0-99f0-aeec53663d41",
   "metadata": {
    "tags": []
   },
   "outputs": [
    {
     "data": {
      "text/html": [
       "<div>\n",
       "<style scoped>\n",
       "    .dataframe tbody tr th:only-of-type {\n",
       "        vertical-align: middle;\n",
       "    }\n",
       "\n",
       "    .dataframe tbody tr th {\n",
       "        vertical-align: top;\n",
       "    }\n",
       "\n",
       "    .dataframe thead th {\n",
       "        text-align: right;\n",
       "    }\n",
       "</style>\n",
       "<table border=\"1\" class=\"dataframe\">\n",
       "  <thead>\n",
       "    <tr style=\"text-align: right;\">\n",
       "      <th></th>\n",
       "      <th>ghirrn_accumulated_15min_forward</th>\n",
       "    </tr>\n",
       "    <tr>\n",
       "      <th>time</th>\n",
       "      <th></th>\n",
       "    </tr>\n",
       "  </thead>\n",
       "  <tbody>\n",
       "    <tr>\n",
       "      <th>2019-09-01 00:15:00+00:00</th>\n",
       "      <td>3.52</td>\n",
       "    </tr>\n",
       "    <tr>\n",
       "      <th>2019-09-01 00:30:00+00:00</th>\n",
       "      <td>5.01</td>\n",
       "    </tr>\n",
       "    <tr>\n",
       "      <th>2019-09-01 00:45:00+00:00</th>\n",
       "      <td>7.04</td>\n",
       "    </tr>\n",
       "    <tr>\n",
       "      <th>2019-09-01 01:00:00+00:00</th>\n",
       "      <td>27.15</td>\n",
       "    </tr>\n",
       "    <tr>\n",
       "      <th>2019-09-01 01:15:00+00:00</th>\n",
       "      <td>42.05</td>\n",
       "    </tr>\n",
       "    <tr>\n",
       "      <th>...</th>\n",
       "      <td>...</td>\n",
       "    </tr>\n",
       "    <tr>\n",
       "      <th>2024-04-11 07:15:00+00:00</th>\n",
       "      <td>207.42</td>\n",
       "    </tr>\n",
       "    <tr>\n",
       "      <th>2024-04-11 07:30:00+00:00</th>\n",
       "      <td>196.28</td>\n",
       "    </tr>\n",
       "    <tr>\n",
       "      <th>2024-04-11 07:45:00+00:00</th>\n",
       "      <td>185.69</td>\n",
       "    </tr>\n",
       "    <tr>\n",
       "      <th>2024-04-11 08:00:00+00:00</th>\n",
       "      <td>175.94</td>\n",
       "    </tr>\n",
       "    <tr>\n",
       "      <th>2024-04-11 08:15:00+00:00</th>\n",
       "      <td>169.80</td>\n",
       "    </tr>\n",
       "  </tbody>\n",
       "</table>\n",
       "<p>161697 rows × 1 columns</p>\n",
       "</div>"
      ],
      "text/plain": [
       "                           ghirrn_accumulated_15min_forward\n",
       "time                                                       \n",
       "2019-09-01 00:15:00+00:00                              3.52\n",
       "2019-09-01 00:30:00+00:00                              5.01\n",
       "2019-09-01 00:45:00+00:00                              7.04\n",
       "2019-09-01 01:00:00+00:00                             27.15\n",
       "2019-09-01 01:15:00+00:00                             42.05\n",
       "...                                                     ...\n",
       "2024-04-11 07:15:00+00:00                            207.42\n",
       "2024-04-11 07:30:00+00:00                            196.28\n",
       "2024-04-11 07:45:00+00:00                            185.69\n",
       "2024-04-11 08:00:00+00:00                            175.94\n",
       "2024-04-11 08:15:00+00:00                            169.80\n",
       "\n",
       "[161697 rows x 1 columns]"
      ]
     },
     "execution_count": 15,
     "metadata": {},
     "output_type": "execute_result"
    }
   ],
   "source": [
    "ts_sim.to_dataframe()"
   ]
  },
  {
   "cell_type": "code",
   "execution_count": 16,
   "id": "47aa0fa3-0f1c-4ff1-bb78-e0796aef3777",
   "metadata": {
    "tags": []
   },
   "outputs": [
    {
     "data": {
      "text/plain": [
       "Variable(name=ghirrn)"
      ]
     },
     "execution_count": 16,
     "metadata": {},
     "output_type": "execute_result"
    }
   ],
   "source": [
    "ts_sim.variables[0]"
   ]
  },
  {
   "cell_type": "code",
   "execution_count": 17,
   "id": "f2928fe5-bdd2-43f0-b81a-dd6d78097f45",
   "metadata": {
    "tags": []
   },
   "outputs": [
    {
     "data": {
      "text/plain": [
       "{'name': 'ghirrn',\n",
       " 'physical_parameter_id': 'ghirrn',\n",
       " 'units': 'Wh/m²',\n",
       " 'height': None,\n",
       " 'time_granularity': '15min',\n",
       " 'start': '2019-09-01 00:15:00',\n",
       " 'end': '2024-04-11 08:15:00',\n",
       " 'temporal_aggregation_method': 'accumulated',\n",
       " 'temporal_aggregation_period': '15min',\n",
       " 'temporal_aggregation_timestamp_convention': 'forward',\n",
       " 'data_availability_percent': None}"
      ]
     },
     "execution_count": 17,
     "metadata": {},
     "output_type": "execute_result"
    }
   ],
   "source": [
    "ts_sim.variables[0].as_dict"
   ]
  },
  {
   "cell_type": "code",
   "execution_count": 18,
   "id": "24a0025e-676a-48b9-92ad-55b847ec96e8",
   "metadata": {
    "tags": []
   },
   "outputs": [],
   "source": [
    "site_name = [\"ceb_substation_davie_togo\"]"
   ]
  },
  {
   "cell_type": "code",
   "execution_count": 19,
   "id": "23e5a467-197c-4fba-af79-8f6906ef8bc8",
   "metadata": {
    "tags": []
   },
   "outputs": [
    {
     "data": {
      "text/plain": [
       "'energydata_3'"
      ]
     },
     "execution_count": 19,
     "metadata": {},
     "output_type": "execute_result"
    }
   ],
   "source": [
    "site_id = db.get_sites(names=site_name).site_ids[0]\n",
    "site_id"
   ]
  },
  {
   "cell_type": "code",
   "execution_count": 20,
   "id": "86c447fe-f4a7-45c8-8343-d44ea3ad2077",
   "metadata": {
    "tags": []
   },
   "outputs": [
    {
     "data": {
      "text/plain": [
       "Site(name='ceb_substation_davie_togo')"
      ]
     },
     "execution_count": 20,
     "metadata": {},
     "output_type": "execute_result"
    }
   ],
   "source": [
    "site = sites_inv.get_site(site_id)\n",
    "site"
   ]
  },
  {
   "cell_type": "markdown",
   "id": "5bc7465f-fb9d-41e9-9f78-633fad37f7ba",
   "metadata": {},
   "source": [
    "## measurement data"
   ]
  },
  {
   "cell_type": "code",
   "execution_count": 21,
   "id": "bd00eb10-c3c9-46c8-9688-1981ba399e59",
   "metadata": {
    "tags": []
   },
   "outputs": [],
   "source": [
    "ts = db.get_measurement_timeseries(\n",
    "    site=site,\n",
    "    validation_variables=[\"ghi\"],\n",
    ")"
   ]
  },
  {
   "cell_type": "code",
   "execution_count": 22,
   "id": "7c34d45e-4a60-4ece-9b9c-51ec9beb02bb",
   "metadata": {
    "tags": []
   },
   "outputs": [
    {
     "data": {
      "text/plain": [
       "{'timeseries_variables': [{'variable': {'name': 'ghi',\n",
       "    'physical_parameter_id': 'ghi',\n",
       "    'units': <Unit('watt / meter ** 2')>,\n",
       "    'height': None,\n",
       "    'time_granularity': Timedelta('0 days 00:01:00'),\n",
       "    'start': Timestamp('2021-11-03 05:37:00'),\n",
       "    'end': Timestamp('2022-11-02 21:42:00'),\n",
       "    'temporal_aggregation_method': <TemporalAggregationMethod.MEAN: 'mean'>,\n",
       "    'temporal_aggregation_period': Timedelta('0 days 00:01:00'),\n",
       "    'temporal_aggregation_timestamp_convention': <TemporalAggregationTimestampConvention.UNDEFINED: 'undefined'>,\n",
       "    'data_availability_percent': None},\n",
       "   'data': time\n",
       "   2021-11-03 05:37:00+00:00    0.1\n",
       "   2021-11-03 05:38:00+00:00    0.5\n",
       "   2021-11-03 05:39:00+00:00    0.9\n",
       "   2021-11-03 05:40:00+00:00    1.3\n",
       "   2021-11-03 05:41:00+00:00    1.7\n",
       "                               ... \n",
       "   2022-11-02 21:38:00+00:00    NaN\n",
       "   2022-11-02 21:39:00+00:00    NaN\n",
       "   2022-11-02 21:40:00+00:00    NaN\n",
       "   2022-11-02 21:41:00+00:00    NaN\n",
       "   2022-11-02 21:42:00+00:00    NaN\n",
       "   Length: 525126, dtype: float64}]}"
      ]
     },
     "execution_count": 22,
     "metadata": {},
     "output_type": "execute_result"
    }
   ],
   "source": [
    "ts.dict()"
   ]
  },
  {
   "cell_type": "code",
   "execution_count": 23,
   "id": "ae5e12b3-2747-435c-af42-e53f2ad4f5d2",
   "metadata": {
    "tags": []
   },
   "outputs": [
    {
     "data": {
      "text/html": [
       "<div>\n",
       "<style scoped>\n",
       "    .dataframe tbody tr th:only-of-type {\n",
       "        vertical-align: middle;\n",
       "    }\n",
       "\n",
       "    .dataframe tbody tr th {\n",
       "        vertical-align: top;\n",
       "    }\n",
       "\n",
       "    .dataframe thead th {\n",
       "        text-align: right;\n",
       "    }\n",
       "</style>\n",
       "<table border=\"1\" class=\"dataframe\">\n",
       "  <thead>\n",
       "    <tr style=\"text-align: right;\">\n",
       "      <th></th>\n",
       "      <th>ghi_mean_1min_undefined</th>\n",
       "    </tr>\n",
       "    <tr>\n",
       "      <th>time</th>\n",
       "      <th></th>\n",
       "    </tr>\n",
       "  </thead>\n",
       "  <tbody>\n",
       "    <tr>\n",
       "      <th>2021-11-03 05:37:00+00:00</th>\n",
       "      <td>0.1</td>\n",
       "    </tr>\n",
       "    <tr>\n",
       "      <th>2021-11-03 05:38:00+00:00</th>\n",
       "      <td>0.5</td>\n",
       "    </tr>\n",
       "    <tr>\n",
       "      <th>2021-11-03 05:39:00+00:00</th>\n",
       "      <td>0.9</td>\n",
       "    </tr>\n",
       "    <tr>\n",
       "      <th>2021-11-03 05:40:00+00:00</th>\n",
       "      <td>1.3</td>\n",
       "    </tr>\n",
       "    <tr>\n",
       "      <th>2021-11-03 05:41:00+00:00</th>\n",
       "      <td>1.7</td>\n",
       "    </tr>\n",
       "    <tr>\n",
       "      <th>...</th>\n",
       "      <td>...</td>\n",
       "    </tr>\n",
       "    <tr>\n",
       "      <th>2022-11-02 21:38:00+00:00</th>\n",
       "      <td>NaN</td>\n",
       "    </tr>\n",
       "    <tr>\n",
       "      <th>2022-11-02 21:39:00+00:00</th>\n",
       "      <td>NaN</td>\n",
       "    </tr>\n",
       "    <tr>\n",
       "      <th>2022-11-02 21:40:00+00:00</th>\n",
       "      <td>NaN</td>\n",
       "    </tr>\n",
       "    <tr>\n",
       "      <th>2022-11-02 21:41:00+00:00</th>\n",
       "      <td>NaN</td>\n",
       "    </tr>\n",
       "    <tr>\n",
       "      <th>2022-11-02 21:42:00+00:00</th>\n",
       "      <td>NaN</td>\n",
       "    </tr>\n",
       "  </tbody>\n",
       "</table>\n",
       "<p>525126 rows × 1 columns</p>\n",
       "</div>"
      ],
      "text/plain": [
       "                           ghi_mean_1min_undefined\n",
       "time                                              \n",
       "2021-11-03 05:37:00+00:00                      0.1\n",
       "2021-11-03 05:38:00+00:00                      0.5\n",
       "2021-11-03 05:39:00+00:00                      0.9\n",
       "2021-11-03 05:40:00+00:00                      1.3\n",
       "2021-11-03 05:41:00+00:00                      1.7\n",
       "...                                            ...\n",
       "2022-11-02 21:38:00+00:00                      NaN\n",
       "2022-11-02 21:39:00+00:00                      NaN\n",
       "2022-11-02 21:40:00+00:00                      NaN\n",
       "2022-11-02 21:41:00+00:00                      NaN\n",
       "2022-11-02 21:42:00+00:00                      NaN\n",
       "\n",
       "[525126 rows x 1 columns]"
      ]
     },
     "execution_count": 23,
     "metadata": {},
     "output_type": "execute_result"
    }
   ],
   "source": [
    "ts.to_dataframe()"
   ]
  },
  {
   "cell_type": "markdown",
   "id": "d5859435-bb66-4874-9642-d069c60da5b1",
   "metadata": {},
   "source": [
    "## simulation data"
   ]
  },
  {
   "cell_type": "code",
   "execution_count": 24,
   "id": "92499c7e-b424-4733-8462-b86296e1a49d",
   "metadata": {
    "tags": []
   },
   "outputs": [],
   "source": [
    "ts_sim = db.get_simulation_timeseries(\n",
    "    site=site,\n",
    "    validation_variables=[\"ghirrn\"],\n",
    "    model=\"solar-resource-api-1.6.12\",\n",
    ")"
   ]
  },
  {
   "cell_type": "code",
   "execution_count": 25,
   "id": "2d7a545d-5272-42d5-a602-ead61de6fe94",
   "metadata": {
    "tags": []
   },
   "outputs": [
    {
     "data": {
      "text/plain": [
       "TimeseriesDataset(variables=[Variable(name=ghirrn)])"
      ]
     },
     "execution_count": 25,
     "metadata": {},
     "output_type": "execute_result"
    }
   ],
   "source": [
    "ts_sim"
   ]
  },
  {
   "cell_type": "code",
   "execution_count": 26,
   "id": "ae7643b3-91ba-4bcd-bcd7-13da15d33ff6",
   "metadata": {
    "tags": []
   },
   "outputs": [
    {
     "data": {
      "text/plain": [
       "Timestamp('2004-02-01 00:15:00')"
      ]
     },
     "execution_count": 26,
     "metadata": {},
     "output_type": "execute_result"
    }
   ],
   "source": [
    "ts_sim.timeseries_variables[0].variable.start"
   ]
  },
  {
   "cell_type": "code",
   "execution_count": 27,
   "id": "ed7cd8ef-5d90-447a-9a18-1ff20b3b18d0",
   "metadata": {
    "tags": []
   },
   "outputs": [
    {
     "data": {
      "text/html": [
       "<div>\n",
       "<style scoped>\n",
       "    .dataframe tbody tr th:only-of-type {\n",
       "        vertical-align: middle;\n",
       "    }\n",
       "\n",
       "    .dataframe tbody tr th {\n",
       "        vertical-align: top;\n",
       "    }\n",
       "\n",
       "    .dataframe thead th {\n",
       "        text-align: right;\n",
       "    }\n",
       "</style>\n",
       "<table border=\"1\" class=\"dataframe\">\n",
       "  <thead>\n",
       "    <tr style=\"text-align: right;\">\n",
       "      <th></th>\n",
       "      <th>ghirrn_accumulated_15min_forward</th>\n",
       "    </tr>\n",
       "    <tr>\n",
       "      <th>time</th>\n",
       "      <th></th>\n",
       "    </tr>\n",
       "  </thead>\n",
       "  <tbody>\n",
       "    <tr>\n",
       "      <th>2004-02-01 00:15:00+00:00</th>\n",
       "      <td>0.00</td>\n",
       "    </tr>\n",
       "    <tr>\n",
       "      <th>2004-02-01 00:30:00+00:00</th>\n",
       "      <td>0.00</td>\n",
       "    </tr>\n",
       "    <tr>\n",
       "      <th>2004-02-01 00:45:00+00:00</th>\n",
       "      <td>0.00</td>\n",
       "    </tr>\n",
       "    <tr>\n",
       "      <th>2004-02-01 01:00:00+00:00</th>\n",
       "      <td>0.00</td>\n",
       "    </tr>\n",
       "    <tr>\n",
       "      <th>2004-02-01 01:15:00+00:00</th>\n",
       "      <td>0.00</td>\n",
       "    </tr>\n",
       "    <tr>\n",
       "      <th>...</th>\n",
       "      <td>...</td>\n",
       "    </tr>\n",
       "    <tr>\n",
       "      <th>2024-04-11 07:15:00+00:00</th>\n",
       "      <td>35.96</td>\n",
       "    </tr>\n",
       "    <tr>\n",
       "      <th>2024-04-11 07:30:00+00:00</th>\n",
       "      <td>49.43</td>\n",
       "    </tr>\n",
       "    <tr>\n",
       "      <th>2024-04-11 07:45:00+00:00</th>\n",
       "      <td>50.47</td>\n",
       "    </tr>\n",
       "    <tr>\n",
       "      <th>2024-04-11 08:00:00+00:00</th>\n",
       "      <td>49.24</td>\n",
       "    </tr>\n",
       "    <tr>\n",
       "      <th>2024-04-11 08:15:00+00:00</th>\n",
       "      <td>52.83</td>\n",
       "    </tr>\n",
       "  </tbody>\n",
       "</table>\n",
       "<p>708033 rows × 1 columns</p>\n",
       "</div>"
      ],
      "text/plain": [
       "                           ghirrn_accumulated_15min_forward\n",
       "time                                                       \n",
       "2004-02-01 00:15:00+00:00                              0.00\n",
       "2004-02-01 00:30:00+00:00                              0.00\n",
       "2004-02-01 00:45:00+00:00                              0.00\n",
       "2004-02-01 01:00:00+00:00                              0.00\n",
       "2004-02-01 01:15:00+00:00                              0.00\n",
       "...                                                     ...\n",
       "2024-04-11 07:15:00+00:00                             35.96\n",
       "2024-04-11 07:30:00+00:00                             49.43\n",
       "2024-04-11 07:45:00+00:00                             50.47\n",
       "2024-04-11 08:00:00+00:00                             49.24\n",
       "2024-04-11 08:15:00+00:00                             52.83\n",
       "\n",
       "[708033 rows x 1 columns]"
      ]
     },
     "execution_count": 27,
     "metadata": {},
     "output_type": "execute_result"
    }
   ],
   "source": [
    "ts_sim.to_dataframe()"
   ]
  },
  {
   "cell_type": "code",
   "execution_count": 28,
   "id": "8d8e9885-05f3-4238-9a38-13e661dd6047",
   "metadata": {
    "tags": []
   },
   "outputs": [
    {
     "data": {
      "text/plain": [
       "Variable(name=ghirrn)"
      ]
     },
     "execution_count": 28,
     "metadata": {},
     "output_type": "execute_result"
    }
   ],
   "source": [
    "ts_sim.variables[0]"
   ]
  },
  {
   "cell_type": "code",
   "execution_count": 29,
   "id": "8b4c96b3-20fd-4cef-b6af-f754d167f476",
   "metadata": {
    "tags": []
   },
   "outputs": [
    {
     "data": {
      "text/plain": [
       "{'name': 'ghirrn',\n",
       " 'physical_parameter_id': 'ghirrn',\n",
       " 'units': 'Wh/m²',\n",
       " 'height': None,\n",
       " 'time_granularity': '15min',\n",
       " 'start': '2004-02-01 00:15:00',\n",
       " 'end': '2024-04-11 08:15:00',\n",
       " 'temporal_aggregation_method': 'accumulated',\n",
       " 'temporal_aggregation_period': '15min',\n",
       " 'temporal_aggregation_timestamp_convention': 'forward',\n",
       " 'data_availability_percent': None}"
      ]
     },
     "execution_count": 29,
     "metadata": {},
     "output_type": "execute_result"
    }
   ],
   "source": [
    "ts_sim.variables[0].as_dict"
   ]
  },
  {
   "cell_type": "code",
   "execution_count": 30,
   "id": "11d66757-9d55-4d38-b74c-8a8f0a324c24",
   "metadata": {
    "tags": []
   },
   "outputs": [],
   "source": [
    "site_name = [\"hrazdan\"]"
   ]
  },
  {
   "cell_type": "code",
   "execution_count": 31,
   "id": "90328170-e069-4df7-bc5c-48c6a7ddb5e7",
   "metadata": {
    "tags": []
   },
   "outputs": [
    {
     "data": {
      "text/plain": [
       "'energydata_13'"
      ]
     },
     "execution_count": 31,
     "metadata": {},
     "output_type": "execute_result"
    }
   ],
   "source": [
    "site_id = db.get_sites(names=site_name).site_ids[0]\n",
    "site_id"
   ]
  },
  {
   "cell_type": "code",
   "execution_count": 32,
   "id": "50455bbe-d516-4a1c-825b-ba2c4a4d66de",
   "metadata": {
    "tags": []
   },
   "outputs": [
    {
     "data": {
      "text/plain": [
       "Site(name='hrazdan')"
      ]
     },
     "execution_count": 32,
     "metadata": {},
     "output_type": "execute_result"
    }
   ],
   "source": [
    "site = sites_inv.get_site(site_id)\n",
    "site"
   ]
  },
  {
   "cell_type": "markdown",
   "id": "6ababeb9-f563-42d6-a426-5cee0ce0dfea",
   "metadata": {},
   "source": [
    "## measurement data"
   ]
  },
  {
   "cell_type": "code",
   "execution_count": 33,
   "id": "56b0fe98-852a-4ca4-909e-0b9188e2afff",
   "metadata": {
    "tags": []
   },
   "outputs": [],
   "source": [
    "ts = db.get_measurement_timeseries(\n",
    "    site=site,\n",
    "    validation_variables=[\"ghi\"],\n",
    ")"
   ]
  },
  {
   "cell_type": "code",
   "execution_count": 34,
   "id": "4a204364-d46c-4a88-8cd0-b50f3174a04c",
   "metadata": {
    "tags": []
   },
   "outputs": [
    {
     "data": {
      "text/plain": [
       "{'timeseries_variables': [{'variable': {'name': 'ghi',\n",
       "    'physical_parameter_id': 'ghi',\n",
       "    'units': <Unit('watt / meter ** 2')>,\n",
       "    'height': None,\n",
       "    'time_granularity': Timedelta('0 days 00:10:00'),\n",
       "    'start': Timestamp('2016-05-19 21:05:00'),\n",
       "    'end': Timestamp('2017-06-04 16:15:00'),\n",
       "    'temporal_aggregation_method': <TemporalAggregationMethod.MEAN: 'mean'>,\n",
       "    'temporal_aggregation_period': Timedelta('0 days 00:10:00'),\n",
       "    'temporal_aggregation_timestamp_convention': <TemporalAggregationTimestampConvention.UNDEFINED: 'undefined'>,\n",
       "    'data_availability_percent': None},\n",
       "   'data': time\n",
       "   2016-05-19 21:05:00+00:00      0.00\n",
       "   2016-05-19 21:15:00+00:00       NaN\n",
       "   2016-05-19 21:25:00+00:00       NaN\n",
       "   2016-05-19 21:35:00+00:00       NaN\n",
       "   2016-05-19 21:45:00+00:00       NaN\n",
       "                                 ...  \n",
       "   2017-06-04 15:35:00+00:00    109.07\n",
       "   2017-06-04 15:45:00+00:00     77.40\n",
       "   2017-06-04 15:55:00+00:00     53.48\n",
       "   2017-06-04 16:05:00+00:00     36.79\n",
       "   2017-06-04 16:15:00+00:00     20.34\n",
       "   Length: 54836, dtype: float64}]}"
      ]
     },
     "execution_count": 34,
     "metadata": {},
     "output_type": "execute_result"
    }
   ],
   "source": [
    "ts.dict()"
   ]
  },
  {
   "cell_type": "code",
   "execution_count": 35,
   "id": "09bb85ae-06b9-46a2-8d04-8037a86da1e7",
   "metadata": {
    "tags": []
   },
   "outputs": [
    {
     "data": {
      "text/html": [
       "<div>\n",
       "<style scoped>\n",
       "    .dataframe tbody tr th:only-of-type {\n",
       "        vertical-align: middle;\n",
       "    }\n",
       "\n",
       "    .dataframe tbody tr th {\n",
       "        vertical-align: top;\n",
       "    }\n",
       "\n",
       "    .dataframe thead th {\n",
       "        text-align: right;\n",
       "    }\n",
       "</style>\n",
       "<table border=\"1\" class=\"dataframe\">\n",
       "  <thead>\n",
       "    <tr style=\"text-align: right;\">\n",
       "      <th></th>\n",
       "      <th>ghi_mean_10min_undefined</th>\n",
       "    </tr>\n",
       "    <tr>\n",
       "      <th>time</th>\n",
       "      <th></th>\n",
       "    </tr>\n",
       "  </thead>\n",
       "  <tbody>\n",
       "    <tr>\n",
       "      <th>2016-05-19 21:05:00+00:00</th>\n",
       "      <td>0.00</td>\n",
       "    </tr>\n",
       "    <tr>\n",
       "      <th>2016-05-19 21:15:00+00:00</th>\n",
       "      <td>NaN</td>\n",
       "    </tr>\n",
       "    <tr>\n",
       "      <th>2016-05-19 21:25:00+00:00</th>\n",
       "      <td>NaN</td>\n",
       "    </tr>\n",
       "    <tr>\n",
       "      <th>2016-05-19 21:35:00+00:00</th>\n",
       "      <td>NaN</td>\n",
       "    </tr>\n",
       "    <tr>\n",
       "      <th>2016-05-19 21:45:00+00:00</th>\n",
       "      <td>NaN</td>\n",
       "    </tr>\n",
       "    <tr>\n",
       "      <th>...</th>\n",
       "      <td>...</td>\n",
       "    </tr>\n",
       "    <tr>\n",
       "      <th>2017-06-04 15:35:00+00:00</th>\n",
       "      <td>109.07</td>\n",
       "    </tr>\n",
       "    <tr>\n",
       "      <th>2017-06-04 15:45:00+00:00</th>\n",
       "      <td>77.40</td>\n",
       "    </tr>\n",
       "    <tr>\n",
       "      <th>2017-06-04 15:55:00+00:00</th>\n",
       "      <td>53.48</td>\n",
       "    </tr>\n",
       "    <tr>\n",
       "      <th>2017-06-04 16:05:00+00:00</th>\n",
       "      <td>36.79</td>\n",
       "    </tr>\n",
       "    <tr>\n",
       "      <th>2017-06-04 16:15:00+00:00</th>\n",
       "      <td>20.34</td>\n",
       "    </tr>\n",
       "  </tbody>\n",
       "</table>\n",
       "<p>54836 rows × 1 columns</p>\n",
       "</div>"
      ],
      "text/plain": [
       "                           ghi_mean_10min_undefined\n",
       "time                                               \n",
       "2016-05-19 21:05:00+00:00                      0.00\n",
       "2016-05-19 21:15:00+00:00                       NaN\n",
       "2016-05-19 21:25:00+00:00                       NaN\n",
       "2016-05-19 21:35:00+00:00                       NaN\n",
       "2016-05-19 21:45:00+00:00                       NaN\n",
       "...                                             ...\n",
       "2017-06-04 15:35:00+00:00                    109.07\n",
       "2017-06-04 15:45:00+00:00                     77.40\n",
       "2017-06-04 15:55:00+00:00                     53.48\n",
       "2017-06-04 16:05:00+00:00                     36.79\n",
       "2017-06-04 16:15:00+00:00                     20.34\n",
       "\n",
       "[54836 rows x 1 columns]"
      ]
     },
     "execution_count": 35,
     "metadata": {},
     "output_type": "execute_result"
    }
   ],
   "source": [
    "ts.to_dataframe()"
   ]
  },
  {
   "cell_type": "markdown",
   "id": "62f9330d-4267-406a-bd9a-70766e5ef22b",
   "metadata": {},
   "source": [
    "## simulation data"
   ]
  },
  {
   "cell_type": "code",
   "execution_count": 36,
   "id": "664d212a-8867-4bc6-b03b-f8606c2ac029",
   "metadata": {
    "tags": []
   },
   "outputs": [],
   "source": [
    "ts_sim = db.get_simulation_timeseries(\n",
    "    site=site,\n",
    "    validation_variables=[\"ghirrn\"],\n",
    "    model=\"solar-resource-api-1.6.12\",\n",
    ")"
   ]
  },
  {
   "cell_type": "code",
   "execution_count": 37,
   "id": "d305a99b-a090-40e7-8122-6ffe8736bf4e",
   "metadata": {
    "tags": []
   },
   "outputs": [
    {
     "data": {
      "text/plain": [
       "TimeseriesDataset(variables=[Variable(name=ghirrn)])"
      ]
     },
     "execution_count": 37,
     "metadata": {},
     "output_type": "execute_result"
    }
   ],
   "source": [
    "ts_sim"
   ]
  },
  {
   "cell_type": "code",
   "execution_count": 38,
   "id": "8a097a53-584d-4db5-8320-badd57676a7c",
   "metadata": {
    "tags": []
   },
   "outputs": [
    {
     "data": {
      "text/plain": [
       "Timestamp('2004-02-01 00:15:00')"
      ]
     },
     "execution_count": 38,
     "metadata": {},
     "output_type": "execute_result"
    }
   ],
   "source": [
    "ts_sim.timeseries_variables[0].variable.start"
   ]
  },
  {
   "cell_type": "code",
   "execution_count": 39,
   "id": "3c4ac8a0-bdf3-4236-b158-46c22d21f081",
   "metadata": {
    "tags": []
   },
   "outputs": [
    {
     "data": {
      "text/html": [
       "<div>\n",
       "<style scoped>\n",
       "    .dataframe tbody tr th:only-of-type {\n",
       "        vertical-align: middle;\n",
       "    }\n",
       "\n",
       "    .dataframe tbody tr th {\n",
       "        vertical-align: top;\n",
       "    }\n",
       "\n",
       "    .dataframe thead th {\n",
       "        text-align: right;\n",
       "    }\n",
       "</style>\n",
       "<table border=\"1\" class=\"dataframe\">\n",
       "  <thead>\n",
       "    <tr style=\"text-align: right;\">\n",
       "      <th></th>\n",
       "      <th>ghirrn_accumulated_15min_forward</th>\n",
       "    </tr>\n",
       "    <tr>\n",
       "      <th>time</th>\n",
       "      <th></th>\n",
       "    </tr>\n",
       "  </thead>\n",
       "  <tbody>\n",
       "    <tr>\n",
       "      <th>2004-02-01 00:15:00+00:00</th>\n",
       "      <td>0.00</td>\n",
       "    </tr>\n",
       "    <tr>\n",
       "      <th>2004-02-01 00:30:00+00:00</th>\n",
       "      <td>0.00</td>\n",
       "    </tr>\n",
       "    <tr>\n",
       "      <th>2004-02-01 00:45:00+00:00</th>\n",
       "      <td>0.00</td>\n",
       "    </tr>\n",
       "    <tr>\n",
       "      <th>2004-02-01 01:00:00+00:00</th>\n",
       "      <td>0.00</td>\n",
       "    </tr>\n",
       "    <tr>\n",
       "      <th>2004-02-01 01:15:00+00:00</th>\n",
       "      <td>0.00</td>\n",
       "    </tr>\n",
       "    <tr>\n",
       "      <th>...</th>\n",
       "      <td>...</td>\n",
       "    </tr>\n",
       "    <tr>\n",
       "      <th>2024-04-11 07:30:00+00:00</th>\n",
       "      <td>100.56</td>\n",
       "    </tr>\n",
       "    <tr>\n",
       "      <th>2024-04-11 07:45:00+00:00</th>\n",
       "      <td>95.60</td>\n",
       "    </tr>\n",
       "    <tr>\n",
       "      <th>2024-04-11 08:00:00+00:00</th>\n",
       "      <td>66.32</td>\n",
       "    </tr>\n",
       "    <tr>\n",
       "      <th>2024-04-11 08:15:00+00:00</th>\n",
       "      <td>49.30</td>\n",
       "    </tr>\n",
       "    <tr>\n",
       "      <th>2024-04-11 08:30:00+00:00</th>\n",
       "      <td>48.27</td>\n",
       "    </tr>\n",
       "  </tbody>\n",
       "</table>\n",
       "<p>708034 rows × 1 columns</p>\n",
       "</div>"
      ],
      "text/plain": [
       "                           ghirrn_accumulated_15min_forward\n",
       "time                                                       \n",
       "2004-02-01 00:15:00+00:00                              0.00\n",
       "2004-02-01 00:30:00+00:00                              0.00\n",
       "2004-02-01 00:45:00+00:00                              0.00\n",
       "2004-02-01 01:00:00+00:00                              0.00\n",
       "2004-02-01 01:15:00+00:00                              0.00\n",
       "...                                                     ...\n",
       "2024-04-11 07:30:00+00:00                            100.56\n",
       "2024-04-11 07:45:00+00:00                             95.60\n",
       "2024-04-11 08:00:00+00:00                             66.32\n",
       "2024-04-11 08:15:00+00:00                             49.30\n",
       "2024-04-11 08:30:00+00:00                             48.27\n",
       "\n",
       "[708034 rows x 1 columns]"
      ]
     },
     "execution_count": 39,
     "metadata": {},
     "output_type": "execute_result"
    }
   ],
   "source": [
    "ts_sim.to_dataframe()"
   ]
  },
  {
   "cell_type": "code",
   "execution_count": 40,
   "id": "b6c9975b-ac05-4a27-bc26-c918779b5ced",
   "metadata": {
    "tags": []
   },
   "outputs": [
    {
     "data": {
      "text/plain": [
       "Variable(name=ghirrn)"
      ]
     },
     "execution_count": 40,
     "metadata": {},
     "output_type": "execute_result"
    }
   ],
   "source": [
    "ts_sim.variables[0]"
   ]
  },
  {
   "cell_type": "code",
   "execution_count": 41,
   "id": "f0467e67-81bc-4a19-8967-a12068da7cec",
   "metadata": {
    "tags": []
   },
   "outputs": [
    {
     "data": {
      "text/plain": [
       "{'name': 'ghirrn',\n",
       " 'physical_parameter_id': 'ghirrn',\n",
       " 'units': 'Wh/m²',\n",
       " 'height': None,\n",
       " 'time_granularity': '15min',\n",
       " 'start': '2004-02-01 00:15:00',\n",
       " 'end': '2024-04-11 08:30:00',\n",
       " 'temporal_aggregation_method': 'accumulated',\n",
       " 'temporal_aggregation_period': '15min',\n",
       " 'temporal_aggregation_timestamp_convention': 'forward',\n",
       " 'data_availability_percent': None}"
      ]
     },
     "execution_count": 41,
     "metadata": {},
     "output_type": "execute_result"
    }
   ],
   "source": [
    "ts_sim.variables[0].as_dict"
   ]
  }
 ],
 "metadata": {
  "kernelspec": {
   "display_name": "lhn_internship",
   "language": "python",
   "name": "lhn_internship"
  },
  "language_info": {
   "codemirror_mode": {
    "name": "ipython",
    "version": 3
   },
   "file_extension": ".py",
   "mimetype": "text/x-python",
   "name": "python",
   "nbconvert_exporter": "python",
   "pygments_lexer": "ipython3",
   "version": "3.10.13"
  }
 },
 "nbformat": 4,
 "nbformat_minor": 5
}
