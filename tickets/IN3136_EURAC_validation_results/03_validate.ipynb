{
 "cells": [
  {
   "cell_type": "code",
   "execution_count": 1,
   "id": "0c87bee2-12fb-4139-88d9-dcd56b6795c6",
   "metadata": {
    "tags": []
   },
   "outputs": [],
   "source": [
    "import os\n",
    "from pathlib import Path\n",
    "import numpy as np\n",
    "import pandas as pd\n",
    "\n",
    "from validation import mbe, nmbe, rmse, nrmse, get_summary_from_validation_metrics"
   ]
  },
  {
   "cell_type": "code",
   "execution_count": 2,
   "id": "4a4607f9-f332-4f17-990d-19b4467e4d92",
   "metadata": {
    "tags": []
   },
   "outputs": [],
   "source": [
    "data_path = Path.home()/\"OneDrive-3E/RD_ResourceData/Research/Solar/tickets/2024/IN3043_accuracy_factors_analysis/IN3136_EURAC_shared_folder/data_sites\"\n",
    "results_path = Path.home()/\"OneDrive-3E/RD_ResourceData/Research/Solar/tickets/2024/IN3043_accuracy_factors_analysis/IN3136_EURAC_shared_folder/validation\""
   ]
  },
  {
   "cell_type": "markdown",
   "id": "463a6ded-a732-46ed-94f0-70cd9751565a",
   "metadata": {
    "tags": []
   },
   "source": [
    "## read sites metadata"
   ]
  },
  {
   "cell_type": "code",
   "execution_count": 3,
   "id": "8c9ced3d-200c-49cc-a124-dc419cab87e9",
   "metadata": {
    "tags": []
   },
   "outputs": [
    {
     "data": {
      "text/html": [
       "<div>\n",
       "<style scoped>\n",
       "    .dataframe tbody tr th:only-of-type {\n",
       "        vertical-align: middle;\n",
       "    }\n",
       "\n",
       "    .dataframe tbody tr th {\n",
       "        vertical-align: top;\n",
       "    }\n",
       "\n",
       "    .dataframe thead th {\n",
       "        text-align: right;\n",
       "    }\n",
       "</style>\n",
       "<table border=\"1\" class=\"dataframe\">\n",
       "  <thead>\n",
       "    <tr style=\"text-align: right;\">\n",
       "      <th></th>\n",
       "      <th>country</th>\n",
       "      <th>latitude</th>\n",
       "      <th>longitude</th>\n",
       "      <th>altitude</th>\n",
       "      <th>provider</th>\n",
       "    </tr>\n",
       "    <tr>\n",
       "      <th>station_name</th>\n",
       "      <th></th>\n",
       "      <th></th>\n",
       "      <th></th>\n",
       "      <th></th>\n",
       "      <th></th>\n",
       "    </tr>\n",
       "  </thead>\n",
       "  <tbody>\n",
       "    <tr>\n",
       "      <th>camborne</th>\n",
       "      <td>United Kingdom</td>\n",
       "      <td>50.22</td>\n",
       "      <td>-5.32</td>\n",
       "      <td>88.0</td>\n",
       "      <td>bsrn</td>\n",
       "    </tr>\n",
       "    <tr>\n",
       "      <th>carpentras</th>\n",
       "      <td>France</td>\n",
       "      <td>44.08</td>\n",
       "      <td>5.06</td>\n",
       "      <td>100.0</td>\n",
       "      <td>bsrn</td>\n",
       "    </tr>\n",
       "    <tr>\n",
       "      <th>budapest_lorinc</th>\n",
       "      <td>Hungary</td>\n",
       "      <td>47.43</td>\n",
       "      <td>19.18</td>\n",
       "      <td>139.0</td>\n",
       "      <td>bsrn</td>\n",
       "    </tr>\n",
       "    <tr>\n",
       "      <th>magurele_mars</th>\n",
       "      <td>Romania</td>\n",
       "      <td>44.34</td>\n",
       "      <td>26.01</td>\n",
       "      <td>110.0</td>\n",
       "      <td>bsrn</td>\n",
       "    </tr>\n",
       "    <tr>\n",
       "      <th>cabauw</th>\n",
       "      <td>Netherlands</td>\n",
       "      <td>51.97</td>\n",
       "      <td>4.93</td>\n",
       "      <td>0.0</td>\n",
       "      <td>bsrn</td>\n",
       "    </tr>\n",
       "    <tr>\n",
       "      <th>...</th>\n",
       "      <td>...</td>\n",
       "      <td>...</td>\n",
       "      <td>...</td>\n",
       "      <td>...</td>\n",
       "      <td>...</td>\n",
       "    </tr>\n",
       "    <tr>\n",
       "      <th>dublin_arpt</th>\n",
       "      <td>Ireland</td>\n",
       "      <td>53.43</td>\n",
       "      <td>-6.23</td>\n",
       "      <td>82.0</td>\n",
       "      <td>wrdc</td>\n",
       "    </tr>\n",
       "    <tr>\n",
       "      <th>grossenzersdorf</th>\n",
       "      <td>Austria</td>\n",
       "      <td>48.20</td>\n",
       "      <td>16.57</td>\n",
       "      <td>157.0</td>\n",
       "      <td>wrdc</td>\n",
       "    </tr>\n",
       "    <tr>\n",
       "      <th>gonzaga</th>\n",
       "      <td>Italy</td>\n",
       "      <td>44.96</td>\n",
       "      <td>10.77</td>\n",
       "      <td>16.0</td>\n",
       "      <td>lombardy</td>\n",
       "    </tr>\n",
       "    <tr>\n",
       "      <th>landriano</th>\n",
       "      <td>Italy</td>\n",
       "      <td>45.32</td>\n",
       "      <td>9.27</td>\n",
       "      <td>88.0</td>\n",
       "      <td>lombardy</td>\n",
       "    </tr>\n",
       "    <tr>\n",
       "      <th>cornale</th>\n",
       "      <td>Italy</td>\n",
       "      <td>45.04</td>\n",
       "      <td>8.91</td>\n",
       "      <td>74.0</td>\n",
       "      <td>lombardy</td>\n",
       "    </tr>\n",
       "  </tbody>\n",
       "</table>\n",
       "<p>80 rows × 5 columns</p>\n",
       "</div>"
      ],
      "text/plain": [
       "                        country  latitude  longitude  altitude  provider\n",
       "station_name                                                            \n",
       "camborne         United Kingdom     50.22      -5.32      88.0      bsrn\n",
       "carpentras               France     44.08       5.06     100.0      bsrn\n",
       "budapest_lorinc         Hungary     47.43      19.18     139.0      bsrn\n",
       "magurele_mars           Romania     44.34      26.01     110.0      bsrn\n",
       "cabauw              Netherlands     51.97       4.93       0.0      bsrn\n",
       "...                         ...       ...        ...       ...       ...\n",
       "dublin_arpt             Ireland     53.43      -6.23      82.0      wrdc\n",
       "grossenzersdorf         Austria     48.20      16.57     157.0      wrdc\n",
       "gonzaga                   Italy     44.96      10.77      16.0  lombardy\n",
       "landriano                 Italy     45.32       9.27      88.0  lombardy\n",
       "cornale                   Italy     45.04       8.91      74.0  lombardy\n",
       "\n",
       "[80 rows x 5 columns]"
      ]
     },
     "execution_count": 3,
     "metadata": {},
     "output_type": "execute_result"
    }
   ],
   "source": [
    "sites_metadata = pd.read_csv(os.path.join(data_path, \"sites_metadata.csv\"), index_col=0)\n",
    "sites_metadata"
   ]
  },
  {
   "cell_type": "markdown",
   "id": "d80d80d9-0f54-451d-9587-9ce555bf8ab7",
   "metadata": {},
   "source": [
    "## based on daily data"
   ]
  },
  {
   "cell_type": "markdown",
   "id": "ebe7ab6f-b974-4c2a-a917-8d0ed51ec9ea",
   "metadata": {},
   "source": [
    "### read data"
   ]
  },
  {
   "cell_type": "code",
   "execution_count": 4,
   "id": "64d29ea9-5588-47b7-bab9-f0ec3fe330cc",
   "metadata": {},
   "outputs": [],
   "source": [
    "reference_data_daily = pd.read_csv(os.path.join(data_path, \"parsed\", \"parsed_reference_data_daily.csv\"), index_col=0)\n",
    "model_data_daily = pd.read_csv(os.path.join(data_path, \"parsed\", \"parsed_model_data_daily.csv\"), index_col=0)"
   ]
  },
  {
   "cell_type": "code",
   "execution_count": 5,
   "id": "079709cc-ad8a-4167-95fd-32a6c8bcf111",
   "metadata": {},
   "outputs": [],
   "source": [
    "# convert index in pd.DateTimeIndex\n",
    "reference_data_daily.index = pd.DatetimeIndex(reference_data_daily.index)\n",
    "model_data_daily.index = pd.DatetimeIndex(model_data_daily.index)"
   ]
  },
  {
   "cell_type": "markdown",
   "id": "954cbc41-6f4e-45c3-888d-2b6a2bc1c440",
   "metadata": {},
   "source": [
    "### parse"
   ]
  },
  {
   "cell_type": "code",
   "execution_count": 6,
   "id": "21c889c1-ffbf-4b28-a810-50bce98e0246",
   "metadata": {},
   "outputs": [],
   "source": [
    "# convert to nan where the other dataset is nan\n",
    "reference_data_daily = reference_data_daily.where(model_data_daily.notna())\n",
    "model_data_daily = model_data_daily.where(reference_data_daily.notna())"
   ]
  },
  {
   "cell_type": "code",
   "execution_count": 7,
   "id": "5574e87b-118d-484e-9a15-7badf2012117",
   "metadata": {},
   "outputs": [],
   "source": [
    "# aggregate\n",
    "reference_data_monthly = reference_data_daily.resample('MS').sum(min_count=1)\n",
    "model_data_monthly = model_data_daily.resample('MS').sum(min_count=1)\n",
    "reference_data_yearly = reference_data_daily.resample('AS').sum(min_count=1)\n",
    "model_data_yearly = model_data_daily.resample('AS').sum(min_count=1)"
   ]
  },
  {
   "cell_type": "markdown",
   "id": "d8af3aad-90b9-4265-befd-4c306619c490",
   "metadata": {},
   "source": [
    "### calculate sites validation metrics"
   ]
  },
  {
   "cell_type": "code",
   "execution_count": 8,
   "id": "2344c42b-7c3a-4ebc-8f9c-4e2237b35f05",
   "metadata": {},
   "outputs": [],
   "source": [
    "valid_data_pairs_daily = reference_data_daily.count()"
   ]
  },
  {
   "cell_type": "code",
   "execution_count": 9,
   "id": "306e7e6b-3e4e-4db7-b24a-c18188d75629",
   "metadata": {},
   "outputs": [],
   "source": [
    "validation_metrics = 100 * pd.DataFrame({site: {\n",
    "    \"nmbe\": nmbe(model_data_daily[site], reference_data_daily[site]),\n",
    "    \"nrmse_yearly\": nrmse(model_data_yearly[site], reference_data_yearly[site]),\n",
    "    \"nrmse_monthly\": nrmse(model_data_monthly[site], reference_data_monthly[site]),\n",
    "    \"nrmse_daily\": nrmse(model_data_daily[site], reference_data_daily[site]),\n",
    "} for site in reference_data_daily.columns}).T    "
   ]
  },
  {
   "cell_type": "code",
   "execution_count": 10,
   "id": "cad58ee0-1ea1-4d22-a7ae-05c4f9f97b46",
   "metadata": {},
   "outputs": [],
   "source": [
    "validation_metrics[\"valid_data_pairs_daily\"] = valid_data_pairs_daily"
   ]
  },
  {
   "cell_type": "markdown",
   "id": "bbb7c0fa-1d80-45db-b921-8696f14211d9",
   "metadata": {},
   "source": [
    "## based on hourly data"
   ]
  },
  {
   "cell_type": "markdown",
   "id": "686cf30f-6ae7-4d84-aac3-2bac6d11c756",
   "metadata": {},
   "source": [
    "### read data"
   ]
  },
  {
   "cell_type": "code",
   "execution_count": 11,
   "id": "1ed6dec8-718e-4f93-b741-01ba2ad5ac5c",
   "metadata": {},
   "outputs": [],
   "source": [
    "reference_data_hourly = pd.read_csv(os.path.join(data_path, \"parsed\", \"parsed_reference_data_hourly.csv\"), index_col=0)\n",
    "model_data_hourly = pd.read_csv(os.path.join(data_path, \"parsed\", \"parsed_model_data_hourly.csv\"), index_col=0)"
   ]
  },
  {
   "cell_type": "code",
   "execution_count": 12,
   "id": "72c206da-d246-4076-bbfc-37cca5cabe0e",
   "metadata": {},
   "outputs": [],
   "source": [
    "# convert index in pd.DateTimeIndex\n",
    "reference_data_hourly.index = pd.DatetimeIndex(reference_data_hourly.index)\n",
    "model_data_hourly.index = pd.DatetimeIndex(model_data_hourly.index)"
   ]
  },
  {
   "cell_type": "markdown",
   "id": "91651078-3e3f-478b-a6ed-0840f56f07b2",
   "metadata": {},
   "source": [
    "### parse"
   ]
  },
  {
   "cell_type": "code",
   "execution_count": 13,
   "id": "122ad992-bfd3-4f4d-872c-b22a058447b5",
   "metadata": {},
   "outputs": [],
   "source": [
    "# convert to nan where the other dataset is nan\n",
    "reference_data_hourly = reference_data_hourly.where(model_data_hourly.notna())\n",
    "model_data_hourly = model_data_hourly.where(reference_data_hourly.notna())"
   ]
  },
  {
   "cell_type": "code",
   "execution_count": 14,
   "id": "21673282-2e06-42fe-93ba-b6cb9750b4e7",
   "metadata": {},
   "outputs": [],
   "source": [
    "# aggregate\n",
    "reference_data_daily = reference_data_hourly.resample('D').sum(min_count=1)\n",
    "model_data_daily = model_data_hourly.resample('D').sum(min_count=1)\n",
    "reference_data_monthly = reference_data_hourly.resample('MS').sum(min_count=1)\n",
    "model_data_monthly = model_data_hourly.resample('MS').sum(min_count=1)\n",
    "reference_data_yearly = reference_data_hourly.resample('AS').sum(min_count=1)\n",
    "model_data_yearly = model_data_hourly.resample('AS').sum(min_count=1)"
   ]
  },
  {
   "cell_type": "markdown",
   "id": "f60b4630-c87d-4fed-97d3-f0d2be3b404f",
   "metadata": {},
   "source": [
    "### calculate sites validation metrics"
   ]
  },
  {
   "cell_type": "code",
   "execution_count": 15,
   "id": "99d967c5-9d99-4324-8d1e-28e1b925e584",
   "metadata": {},
   "outputs": [],
   "source": [
    "valid_data_pairs_hourly = reference_data_hourly.count()"
   ]
  },
  {
   "cell_type": "code",
   "execution_count": 16,
   "id": "6d06664e-11fd-496f-aedf-9329592b200c",
   "metadata": {},
   "outputs": [],
   "source": [
    "validation_metrics_hourly = 100 * pd.DataFrame({site: {\n",
    "    \"nmbe\": nmbe(model_data_hourly[site], reference_data_hourly[site]),\n",
    "    \"nrmse_yearly\": nrmse(model_data_yearly[site], reference_data_yearly[site]),\n",
    "    \"nrmse_monthly\": nrmse(model_data_monthly[site], reference_data_monthly[site]),\n",
    "    \"nrmse_daily\": nrmse(model_data_daily[site], reference_data_daily[site]),\n",
    "    \"nrmse_hourly\": nrmse(model_data_hourly[site], reference_data_hourly[site]),\n",
    "} for site in reference_data_hourly.columns}).T"
   ]
  },
  {
   "cell_type": "code",
   "execution_count": 17,
   "id": "b0a6ee44-676d-4a32-a3dd-5746c9ff7747",
   "metadata": {},
   "outputs": [],
   "source": [
    "validation_metrics_hourly[\"valid_data_pairs_hourly\"] = valid_data_pairs_hourly"
   ]
  },
  {
   "cell_type": "markdown",
   "id": "65851c24-c07a-463e-b50f-39e68a0b1be8",
   "metadata": {},
   "source": [
    "## concat"
   ]
  },
  {
   "cell_type": "code",
   "execution_count": 18,
   "id": "90f88d1f-640c-4d44-b3b5-e0f14b8fbdcc",
   "metadata": {},
   "outputs": [],
   "source": [
    "validation_metrics = pd.concat([validation_metrics, validation_metrics_hourly], axis=0)"
   ]
  },
  {
   "cell_type": "code",
   "execution_count": 19,
   "id": "e42ab489-464b-4051-9953-30bf516a7ec5",
   "metadata": {},
   "outputs": [],
   "source": [
    "columns_round_2 = [\"nmbe\", \"nrmse_yearly\", \"nrmse_monthly\", \"nrmse_daily\", \"nrmse_hourly\"]"
   ]
  },
  {
   "cell_type": "code",
   "execution_count": 20,
   "id": "0b478a3b-560f-4231-8152-e1af8f07ec7d",
   "metadata": {},
   "outputs": [],
   "source": [
    "columns_int = [\"valid_data_pairs_daily\", \"valid_data_pairs_hourly\"]"
   ]
  },
  {
   "cell_type": "code",
   "execution_count": 21,
   "id": "bb807a93-af25-4937-93c2-20f015e310ca",
   "metadata": {},
   "outputs": [],
   "source": [
    "for column in list(validation_metrics.columns):\n",
    "    \n",
    "    if column in columns_round_2:\n",
    "        \n",
    "        validation_metrics[column] = round(validation_metrics[column], 2)\n",
    "    \n",
    "    elif column in columns_int:\n",
    "        \n",
    "        validation_metrics[column] = validation_metrics[column].astype('Int64')"
   ]
  },
  {
   "cell_type": "code",
   "execution_count": 22,
   "id": "4827018f-8f66-4372-bdd9-553e4bf68bff",
   "metadata": {},
   "outputs": [],
   "source": [
    "validation_metrics = validation_metrics[[\"nmbe\", \"nrmse_yearly\", \"nrmse_monthly\", \"nrmse_daily\", \"nrmse_hourly\",\"valid_data_pairs_daily\", \"valid_data_pairs_hourly\"]]"
   ]
  },
  {
   "cell_type": "code",
   "execution_count": 23,
   "id": "6b97d3a3-4ac3-48bd-a28b-5ce305a4082d",
   "metadata": {},
   "outputs": [],
   "source": [
    "validation_metrics.to_csv(os.path.join(results_path, \"validation_results_sites.csv\"))"
   ]
  },
  {
   "cell_type": "code",
   "execution_count": 24,
   "id": "de4160d7-e233-4390-b93d-bcb383ddeeab",
   "metadata": {},
   "outputs": [
    {
     "data": {
      "text/html": [
       "<div>\n",
       "<style scoped>\n",
       "    .dataframe tbody tr th:only-of-type {\n",
       "        vertical-align: middle;\n",
       "    }\n",
       "\n",
       "    .dataframe tbody tr th {\n",
       "        vertical-align: top;\n",
       "    }\n",
       "\n",
       "    .dataframe thead th {\n",
       "        text-align: right;\n",
       "    }\n",
       "</style>\n",
       "<table border=\"1\" class=\"dataframe\">\n",
       "  <thead>\n",
       "    <tr style=\"text-align: right;\">\n",
       "      <th></th>\n",
       "      <th>nmbe</th>\n",
       "      <th>nrmse_yearly</th>\n",
       "      <th>nrmse_monthly</th>\n",
       "      <th>nrmse_daily</th>\n",
       "      <th>nrmse_hourly</th>\n",
       "      <th>valid_data_pairs_daily</th>\n",
       "      <th>valid_data_pairs_hourly</th>\n",
       "    </tr>\n",
       "  </thead>\n",
       "  <tbody>\n",
       "    <tr>\n",
       "      <th>aberporth</th>\n",
       "      <td>-5.52</td>\n",
       "      <td>5.53</td>\n",
       "      <td>6.57</td>\n",
       "      <td>11.95</td>\n",
       "      <td>NaN</td>\n",
       "      <td>720</td>\n",
       "      <td>&lt;NA&gt;</td>\n",
       "    </tr>\n",
       "    <tr>\n",
       "      <th>dunstaffnage</th>\n",
       "      <td>-4.73</td>\n",
       "      <td>4.77</td>\n",
       "      <td>5.99</td>\n",
       "      <td>16.45</td>\n",
       "      <td>NaN</td>\n",
       "      <td>646</td>\n",
       "      <td>&lt;NA&gt;</td>\n",
       "    </tr>\n",
       "    <tr>\n",
       "      <th>belfast_aldergrove_arpt</th>\n",
       "      <td>-1.47</td>\n",
       "      <td>1.57</td>\n",
       "      <td>2.94</td>\n",
       "      <td>8.37</td>\n",
       "      <td>NaN</td>\n",
       "      <td>721</td>\n",
       "      <td>&lt;NA&gt;</td>\n",
       "    </tr>\n",
       "    <tr>\n",
       "      <th>edinburgh</th>\n",
       "      <td>-1.43</td>\n",
       "      <td>1.54</td>\n",
       "      <td>2.91</td>\n",
       "      <td>9.98</td>\n",
       "      <td>NaN</td>\n",
       "      <td>647</td>\n",
       "      <td>&lt;NA&gt;</td>\n",
       "    </tr>\n",
       "    <tr>\n",
       "      <th>wattisham</th>\n",
       "      <td>-1.05</td>\n",
       "      <td>1.07</td>\n",
       "      <td>1.73</td>\n",
       "      <td>7.52</td>\n",
       "      <td>NaN</td>\n",
       "      <td>727</td>\n",
       "      <td>&lt;NA&gt;</td>\n",
       "    </tr>\n",
       "    <tr>\n",
       "      <th>...</th>\n",
       "      <td>...</td>\n",
       "      <td>...</td>\n",
       "      <td>...</td>\n",
       "      <td>...</td>\n",
       "      <td>...</td>\n",
       "      <td>...</td>\n",
       "      <td>...</td>\n",
       "    </tr>\n",
       "    <tr>\n",
       "      <th>weihenstephan_dürnast</th>\n",
       "      <td>2.68</td>\n",
       "      <td>2.85</td>\n",
       "      <td>4.55</td>\n",
       "      <td>9.48</td>\n",
       "      <td>17.04</td>\n",
       "      <td>&lt;NA&gt;</td>\n",
       "      <td>29941</td>\n",
       "    </tr>\n",
       "    <tr>\n",
       "      <th>saarbrücken_ensheim</th>\n",
       "      <td>0.79</td>\n",
       "      <td>1.28</td>\n",
       "      <td>2.54</td>\n",
       "      <td>7.94</td>\n",
       "      <td>15.87</td>\n",
       "      <td>&lt;NA&gt;</td>\n",
       "      <td>30742</td>\n",
       "    </tr>\n",
       "    <tr>\n",
       "      <th>gonzaga</th>\n",
       "      <td>-6.96</td>\n",
       "      <td>7.01</td>\n",
       "      <td>8.24</td>\n",
       "      <td>11.52</td>\n",
       "      <td>16.06</td>\n",
       "      <td>&lt;NA&gt;</td>\n",
       "      <td>28018</td>\n",
       "    </tr>\n",
       "    <tr>\n",
       "      <th>landriano</th>\n",
       "      <td>-0.32</td>\n",
       "      <td>1.42</td>\n",
       "      <td>3.18</td>\n",
       "      <td>7.71</td>\n",
       "      <td>12.99</td>\n",
       "      <td>&lt;NA&gt;</td>\n",
       "      <td>27945</td>\n",
       "    </tr>\n",
       "    <tr>\n",
       "      <th>cornale</th>\n",
       "      <td>11.29</td>\n",
       "      <td>14.12</td>\n",
       "      <td>16.57</td>\n",
       "      <td>18.79</td>\n",
       "      <td>30.73</td>\n",
       "      <td>&lt;NA&gt;</td>\n",
       "      <td>29315</td>\n",
       "    </tr>\n",
       "  </tbody>\n",
       "</table>\n",
       "<p>80 rows × 7 columns</p>\n",
       "</div>"
      ],
      "text/plain": [
       "                          nmbe  nrmse_yearly  nrmse_monthly  nrmse_daily  \\\n",
       "aberporth                -5.52          5.53           6.57        11.95   \n",
       "dunstaffnage             -4.73          4.77           5.99        16.45   \n",
       "belfast_aldergrove_arpt  -1.47          1.57           2.94         8.37   \n",
       "edinburgh                -1.43          1.54           2.91         9.98   \n",
       "wattisham                -1.05          1.07           1.73         7.52   \n",
       "...                        ...           ...            ...          ...   \n",
       "weihenstephan_dürnast     2.68          2.85           4.55         9.48   \n",
       "saarbrücken_ensheim       0.79          1.28           2.54         7.94   \n",
       "gonzaga                  -6.96          7.01           8.24        11.52   \n",
       "landriano                -0.32          1.42           3.18         7.71   \n",
       "cornale                  11.29         14.12          16.57        18.79   \n",
       "\n",
       "                         nrmse_hourly  valid_data_pairs_daily  \\\n",
       "aberporth                         NaN                     720   \n",
       "dunstaffnage                      NaN                     646   \n",
       "belfast_aldergrove_arpt           NaN                     721   \n",
       "edinburgh                         NaN                     647   \n",
       "wattisham                         NaN                     727   \n",
       "...                               ...                     ...   \n",
       "weihenstephan_dürnast           17.04                    <NA>   \n",
       "saarbrücken_ensheim             15.87                    <NA>   \n",
       "gonzaga                         16.06                    <NA>   \n",
       "landriano                       12.99                    <NA>   \n",
       "cornale                         30.73                    <NA>   \n",
       "\n",
       "                         valid_data_pairs_hourly  \n",
       "aberporth                                   <NA>  \n",
       "dunstaffnage                                <NA>  \n",
       "belfast_aldergrove_arpt                     <NA>  \n",
       "edinburgh                                   <NA>  \n",
       "wattisham                                   <NA>  \n",
       "...                                          ...  \n",
       "weihenstephan_dürnast                      29941  \n",
       "saarbrücken_ensheim                        30742  \n",
       "gonzaga                                    28018  \n",
       "landriano                                  27945  \n",
       "cornale                                    29315  \n",
       "\n",
       "[80 rows x 7 columns]"
      ]
     },
     "execution_count": 24,
     "metadata": {},
     "output_type": "execute_result"
    }
   ],
   "source": [
    "validation_metrics"
   ]
  },
  {
   "cell_type": "markdown",
   "id": "29b48cc0-4ba5-4bce-93e5-93c790717940",
   "metadata": {},
   "source": [
    "## get summary values"
   ]
  },
  {
   "cell_type": "code",
   "execution_count": 25,
   "id": "f077ac2b-bd11-475e-8346-2f25130617c8",
   "metadata": {},
   "outputs": [],
   "source": [
    "validation_metrics_summary = get_summary_from_validation_metrics(validation_metrics)"
   ]
  },
  {
   "cell_type": "code",
   "execution_count": 26,
   "id": "e947d199-5566-475e-a27b-0862253f9734",
   "metadata": {},
   "outputs": [],
   "source": [
    "validation_metrics_summary.to_csv(os.path.join(results_path, \"validation_results_summary.csv\"))"
   ]
  },
  {
   "cell_type": "code",
   "execution_count": 27,
   "id": "f4b1545c-0ef4-448f-8422-b56fc7fa1078",
   "metadata": {
    "tags": []
   },
   "outputs": [
    {
     "data": {
      "text/html": [
       "<div>\n",
       "<style scoped>\n",
       "    .dataframe tbody tr th:only-of-type {\n",
       "        vertical-align: middle;\n",
       "    }\n",
       "\n",
       "    .dataframe tbody tr th {\n",
       "        vertical-align: top;\n",
       "    }\n",
       "\n",
       "    .dataframe thead th {\n",
       "        text-align: right;\n",
       "    }\n",
       "</style>\n",
       "<table border=\"1\" class=\"dataframe\">\n",
       "  <thead>\n",
       "    <tr style=\"text-align: right;\">\n",
       "      <th></th>\n",
       "      <th>nbr_of_sites</th>\n",
       "      <th>nbr_of_sites_hourly</th>\n",
       "      <th>nmbe_avg</th>\n",
       "      <th>nmbe_std</th>\n",
       "      <th>nrmse_yearly</th>\n",
       "      <th>nrmse_monthly</th>\n",
       "      <th>nrmse_daily</th>\n",
       "      <th>nrmse_hourly</th>\n",
       "    </tr>\n",
       "  </thead>\n",
       "  <tbody>\n",
       "    <tr>\n",
       "      <th>summary</th>\n",
       "      <td>80</td>\n",
       "      <td>30</td>\n",
       "      <td>0.71</td>\n",
       "      <td>2.61</td>\n",
       "      <td>2.34</td>\n",
       "      <td>4.03</td>\n",
       "      <td>8.9</td>\n",
       "      <td>17.64</td>\n",
       "    </tr>\n",
       "  </tbody>\n",
       "</table>\n",
       "</div>"
      ],
      "text/plain": [
       "         nbr_of_sites  nbr_of_sites_hourly  nmbe_avg  nmbe_std  nrmse_yearly  \\\n",
       "summary            80                   30      0.71      2.61          2.34   \n",
       "\n",
       "         nrmse_monthly  nrmse_daily  nrmse_hourly  \n",
       "summary           4.03          8.9         17.64  "
      ]
     },
     "execution_count": 27,
     "metadata": {},
     "output_type": "execute_result"
    }
   ],
   "source": [
    "validation_metrics_summary"
   ]
  }
 ],
 "metadata": {
  "kernelspec": {
   "display_name": "Python 3 (ipykernel)",
   "language": "python",
   "name": "python3"
  },
  "language_info": {
   "codemirror_mode": {
    "name": "ipython",
    "version": 3
   },
   "file_extension": ".py",
   "mimetype": "text/x-python",
   "name": "python",
   "nbconvert_exporter": "python",
   "pygments_lexer": "ipython3",
   "version": "3.10.12"
  }
 },
 "nbformat": 4,
 "nbformat_minor": 5
}
