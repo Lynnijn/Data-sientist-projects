{
 "cells": [
  {
   "cell_type": "code",
   "execution_count": 1,
   "id": "e045e15c-7848-43e2-9aa9-322e66ea7599",
   "metadata": {},
   "outputs": [],
   "source": [
    "import os\n",
    "from pathlib import Path\n",
    "import matplotlib.pyplot as plt\n",
    "import numpy as np\n",
    "import pandas as pd\n",
    "\n",
    "from parsing import remove_flatlines, get_daily_shifts"
   ]
  },
  {
   "cell_type": "code",
   "execution_count": 2,
   "id": "6b7271de-f7ec-49b9-8ed0-63e1eebd5792",
   "metadata": {},
   "outputs": [],
   "source": [
    "base_path = Path.home()/\"OneDrive-3E/RD_ResourceData/Research/Solar/tickets/2024/IN3043_accuracy_factors_analysis/IN3136_EURAC_shared_folder/data_sites\""
   ]
  },
  {
   "cell_type": "markdown",
   "id": "8b51226e-deba-4647-b4fd-b04a9bc84cdc",
   "metadata": {
    "tags": []
   },
   "source": [
    "## read sites metadata"
   ]
  },
  {
   "cell_type": "code",
   "execution_count": 3,
   "id": "1c7141bd-0164-4813-b207-c39a4365b7d5",
   "metadata": {},
   "outputs": [
    {
     "data": {
      "text/html": [
       "<div>\n",
       "<style scoped>\n",
       "    .dataframe tbody tr th:only-of-type {\n",
       "        vertical-align: middle;\n",
       "    }\n",
       "\n",
       "    .dataframe tbody tr th {\n",
       "        vertical-align: top;\n",
       "    }\n",
       "\n",
       "    .dataframe thead th {\n",
       "        text-align: right;\n",
       "    }\n",
       "</style>\n",
       "<table border=\"1\" class=\"dataframe\">\n",
       "  <thead>\n",
       "    <tr style=\"text-align: right;\">\n",
       "      <th></th>\n",
       "      <th>country</th>\n",
       "      <th>latitude</th>\n",
       "      <th>longitude</th>\n",
       "      <th>altitude</th>\n",
       "      <th>provider</th>\n",
       "    </tr>\n",
       "    <tr>\n",
       "      <th>station_name</th>\n",
       "      <th></th>\n",
       "      <th></th>\n",
       "      <th></th>\n",
       "      <th></th>\n",
       "      <th></th>\n",
       "    </tr>\n",
       "  </thead>\n",
       "  <tbody>\n",
       "    <tr>\n",
       "      <th>camborne</th>\n",
       "      <td>United Kingdom</td>\n",
       "      <td>50.22</td>\n",
       "      <td>-5.32</td>\n",
       "      <td>88.0</td>\n",
       "      <td>bsrn</td>\n",
       "    </tr>\n",
       "    <tr>\n",
       "      <th>carpentras</th>\n",
       "      <td>France</td>\n",
       "      <td>44.08</td>\n",
       "      <td>5.06</td>\n",
       "      <td>100.0</td>\n",
       "      <td>bsrn</td>\n",
       "    </tr>\n",
       "    <tr>\n",
       "      <th>budapest_lorinc</th>\n",
       "      <td>Hungary</td>\n",
       "      <td>47.43</td>\n",
       "      <td>19.18</td>\n",
       "      <td>139.0</td>\n",
       "      <td>bsrn</td>\n",
       "    </tr>\n",
       "    <tr>\n",
       "      <th>magurele_mars</th>\n",
       "      <td>Romania</td>\n",
       "      <td>44.34</td>\n",
       "      <td>26.01</td>\n",
       "      <td>110.0</td>\n",
       "      <td>bsrn</td>\n",
       "    </tr>\n",
       "    <tr>\n",
       "      <th>cabauw</th>\n",
       "      <td>Netherlands</td>\n",
       "      <td>51.97</td>\n",
       "      <td>4.93</td>\n",
       "      <td>0.0</td>\n",
       "      <td>bsrn</td>\n",
       "    </tr>\n",
       "    <tr>\n",
       "      <th>...</th>\n",
       "      <td>...</td>\n",
       "      <td>...</td>\n",
       "      <td>...</td>\n",
       "      <td>...</td>\n",
       "      <td>...</td>\n",
       "    </tr>\n",
       "    <tr>\n",
       "      <th>dublin_arpt</th>\n",
       "      <td>Ireland</td>\n",
       "      <td>53.43</td>\n",
       "      <td>-6.23</td>\n",
       "      <td>82.0</td>\n",
       "      <td>wrdc</td>\n",
       "    </tr>\n",
       "    <tr>\n",
       "      <th>grossenzersdorf</th>\n",
       "      <td>Austria</td>\n",
       "      <td>48.20</td>\n",
       "      <td>16.57</td>\n",
       "      <td>157.0</td>\n",
       "      <td>wrdc</td>\n",
       "    </tr>\n",
       "    <tr>\n",
       "      <th>gonzaga</th>\n",
       "      <td>Italy</td>\n",
       "      <td>44.96</td>\n",
       "      <td>10.77</td>\n",
       "      <td>16.0</td>\n",
       "      <td>lombardy</td>\n",
       "    </tr>\n",
       "    <tr>\n",
       "      <th>landriano</th>\n",
       "      <td>Italy</td>\n",
       "      <td>45.32</td>\n",
       "      <td>9.27</td>\n",
       "      <td>88.0</td>\n",
       "      <td>lombardy</td>\n",
       "    </tr>\n",
       "    <tr>\n",
       "      <th>cornale</th>\n",
       "      <td>Italy</td>\n",
       "      <td>45.04</td>\n",
       "      <td>8.91</td>\n",
       "      <td>74.0</td>\n",
       "      <td>lombardy</td>\n",
       "    </tr>\n",
       "  </tbody>\n",
       "</table>\n",
       "<p>80 rows × 5 columns</p>\n",
       "</div>"
      ],
      "text/plain": [
       "                        country  latitude  longitude  altitude  provider\n",
       "station_name                                                            \n",
       "camborne         United Kingdom     50.22      -5.32      88.0      bsrn\n",
       "carpentras               France     44.08       5.06     100.0      bsrn\n",
       "budapest_lorinc         Hungary     47.43      19.18     139.0      bsrn\n",
       "magurele_mars           Romania     44.34      26.01     110.0      bsrn\n",
       "cabauw              Netherlands     51.97       4.93       0.0      bsrn\n",
       "...                         ...       ...        ...       ...       ...\n",
       "dublin_arpt             Ireland     53.43      -6.23      82.0      wrdc\n",
       "grossenzersdorf         Austria     48.20      16.57     157.0      wrdc\n",
       "gonzaga                   Italy     44.96      10.77      16.0  lombardy\n",
       "landriano                 Italy     45.32       9.27      88.0  lombardy\n",
       "cornale                   Italy     45.04       8.91      74.0  lombardy\n",
       "\n",
       "[80 rows x 5 columns]"
      ]
     },
     "execution_count": 3,
     "metadata": {},
     "output_type": "execute_result"
    }
   ],
   "source": [
    "sites_metadata = pd.read_csv(os.path.join(base_path, \"sites_metadata.csv\"), index_col=0)\n",
    "sites_metadata"
   ]
  },
  {
   "cell_type": "markdown",
   "id": "9dff110f-84f6-4647-a24c-147cbcf4f3e1",
   "metadata": {},
   "source": [
    "## get reference (hourly and daily), clearsky and costheta"
   ]
  },
  {
   "cell_type": "code",
   "execution_count": 4,
   "id": "015b5e11-4af5-4ce5-85a3-363d50966707",
   "metadata": {},
   "outputs": [],
   "source": [
    "reference_hourly = pd.DataFrame()\n",
    "reference_daily = pd.DataFrame()\n",
    "clearsky = pd.DataFrame()\n",
    "costheta = pd.DataFrame()\n",
    "\n",
    "reference_hourly.index = pd.DatetimeIndex(reference_hourly.index)\n",
    "reference_daily.index = pd.DatetimeIndex(reference_daily.index)\n",
    "clearsky.index = pd.DatetimeIndex(clearsky.index)\n",
    "costheta.index = pd.DatetimeIndex(costheta.index)"
   ]
  },
  {
   "cell_type": "code",
   "execution_count": 5,
   "id": "77e90160-f450-4e87-8862-c392f88a60f8",
   "metadata": {},
   "outputs": [],
   "source": [
    "for site in list(sites_metadata.index):\n",
    "\n",
    "    reference_site = pd.read_csv(os.path.join(base_path, \"raw_reference\", f\"{site}_raw_reference_data.csv\"), index_col=0)\n",
    "    reference_site = pd.DataFrame(reference_site)\n",
    "    reference_site.index = pd.DatetimeIndex(reference_site.index)\n",
    "    \n",
    "    if sites_metadata.loc[site][\"provider\"] == \"wrdc\":\n",
    "        \n",
    "        reference_daily = pd.concat([reference_daily, reference_site], axis=1)\n",
    "\n",
    "    else:\n",
    "        \n",
    "        reference_hourly = pd.concat([reference_hourly, reference_site], axis=1)\n",
    "        \n",
    "        clearsky_site = pd.read_csv(os.path.join(base_path, \"clearsky\", f\"{site}_clearsky_data.csv\"), index_col=0)\n",
    "        clearsky_site = pd.DataFrame(clearsky_site)\n",
    "        clearsky_site.index = pd.DatetimeIndex(clearsky_site.index)\n",
    "        \n",
    "        clearsky = pd.concat([clearsky, clearsky_site], axis=1)\n",
    "        \n",
    "        costheta_site = pd.read_csv(os.path.join(base_path, \"costheta\", f\"{site}_costheta_data.csv\"), index_col=0)\n",
    "        costheta_site = pd.DataFrame(costheta_site)\n",
    "        costheta_site.index = pd.DatetimeIndex(costheta_site.index)\n",
    "        \n",
    "        costheta = pd.concat([costheta, costheta_site], axis=1)"
   ]
  },
  {
   "cell_type": "markdown",
   "id": "fdd3dcd8-50aa-456c-a4b5-9397a81226c8",
   "metadata": {},
   "source": [
    "## parse hourly"
   ]
  },
  {
   "cell_type": "markdown",
   "id": "ef9b1462-e262-401c-bd1d-3253c7a89b45",
   "metadata": {},
   "source": [
    "### min max quality check"
   ]
  },
  {
   "cell_type": "code",
   "execution_count": 6,
   "id": "531fbfb7-4a77-4ff8-b75c-3c7011fbbb2e",
   "metadata": {},
   "outputs": [
    {
     "data": {
      "text/plain": [
       "'Minimum value: 0.0'"
      ]
     },
     "execution_count": 6,
     "metadata": {},
     "output_type": "execute_result"
    }
   ],
   "source": [
    "f\"Minimum value: {reference_hourly.min().min()}\""
   ]
  },
  {
   "cell_type": "code",
   "execution_count": 7,
   "id": "82afa2b3-1aea-4f8e-9f36-10997f1fc560",
   "metadata": {},
   "outputs": [
    {
     "data": {
      "text/plain": [
       "'Maximum value: 1165.8'"
      ]
     },
     "execution_count": 7,
     "metadata": {},
     "output_type": "execute_result"
    }
   ],
   "source": [
    "f\"Maximum value: {reference_hourly.max().max()}\""
   ]
  },
  {
   "cell_type": "markdown",
   "id": "78252ff3-4477-41e4-945a-5fa1d2cd761f",
   "metadata": {},
   "source": [
    "=> Min and max values are in plausible range."
   ]
  },
  {
   "cell_type": "markdown",
   "id": "390d9fbd-669e-4954-bcbe-68a814cdd5a9",
   "metadata": {},
   "source": [
    "### remove flatlines"
   ]
  },
  {
   "cell_type": "code",
   "execution_count": 8,
   "id": "7e5b97b3-7acf-4afc-8461-27cf9e6f2432",
   "metadata": {},
   "outputs": [
    {
     "data": {
      "text/html": [
       "<div>\n",
       "<style scoped>\n",
       "    .dataframe tbody tr th:only-of-type {\n",
       "        vertical-align: middle;\n",
       "    }\n",
       "\n",
       "    .dataframe tbody tr th {\n",
       "        vertical-align: top;\n",
       "    }\n",
       "\n",
       "    .dataframe thead th {\n",
       "        text-align: right;\n",
       "    }\n",
       "</style>\n",
       "<table border=\"1\" class=\"dataframe\">\n",
       "  <thead>\n",
       "    <tr style=\"text-align: right;\">\n",
       "      <th></th>\n",
       "      <th>camborne</th>\n",
       "      <th>carpentras</th>\n",
       "      <th>budapest_lorinc</th>\n",
       "      <th>magurele_mars</th>\n",
       "      <th>cabauw</th>\n",
       "      <th>cener</th>\n",
       "      <th>payerne</th>\n",
       "      <th>heino</th>\n",
       "      <th>lauwersoog</th>\n",
       "      <th>lelystad_locatie_23t</th>\n",
       "      <th>...</th>\n",
       "      <th>lautertal_oberlauter</th>\n",
       "      <th>leinefelde</th>\n",
       "      <th>bremen</th>\n",
       "      <th>stuttgart_schnarrenberg</th>\n",
       "      <th>nürnberg</th>\n",
       "      <th>weihenstephan_dürnast</th>\n",
       "      <th>saarbrücken_ensheim</th>\n",
       "      <th>gonzaga</th>\n",
       "      <th>landriano</th>\n",
       "      <th>cornale</th>\n",
       "    </tr>\n",
       "  </thead>\n",
       "  <tbody>\n",
       "    <tr>\n",
       "      <th>2014-12-31 23:00:00+00:00</th>\n",
       "      <td>NaN</td>\n",
       "      <td>NaN</td>\n",
       "      <td>NaN</td>\n",
       "      <td>NaN</td>\n",
       "      <td>NaN</td>\n",
       "      <td>NaN</td>\n",
       "      <td>NaN</td>\n",
       "      <td>NaN</td>\n",
       "      <td>NaN</td>\n",
       "      <td>NaN</td>\n",
       "      <td>...</td>\n",
       "      <td>NaN</td>\n",
       "      <td>NaN</td>\n",
       "      <td>NaN</td>\n",
       "      <td>NaN</td>\n",
       "      <td>NaN</td>\n",
       "      <td>NaN</td>\n",
       "      <td>NaN</td>\n",
       "      <td>0.0</td>\n",
       "      <td>0.0</td>\n",
       "      <td>0.0</td>\n",
       "    </tr>\n",
       "    <tr>\n",
       "      <th>2015-01-01 00:00:00+00:00</th>\n",
       "      <td>NaN</td>\n",
       "      <td>NaN</td>\n",
       "      <td>NaN</td>\n",
       "      <td>NaN</td>\n",
       "      <td>NaN</td>\n",
       "      <td>NaN</td>\n",
       "      <td>NaN</td>\n",
       "      <td>0.0</td>\n",
       "      <td>0.0</td>\n",
       "      <td>0.0</td>\n",
       "      <td>...</td>\n",
       "      <td>NaN</td>\n",
       "      <td>NaN</td>\n",
       "      <td>0.0</td>\n",
       "      <td>0.0</td>\n",
       "      <td>0.0</td>\n",
       "      <td>0.0</td>\n",
       "      <td>0.0</td>\n",
       "      <td>0.0</td>\n",
       "      <td>0.0</td>\n",
       "      <td>0.0</td>\n",
       "    </tr>\n",
       "    <tr>\n",
       "      <th>2015-01-01 01:00:00+00:00</th>\n",
       "      <td>NaN</td>\n",
       "      <td>NaN</td>\n",
       "      <td>NaN</td>\n",
       "      <td>NaN</td>\n",
       "      <td>NaN</td>\n",
       "      <td>NaN</td>\n",
       "      <td>NaN</td>\n",
       "      <td>0.0</td>\n",
       "      <td>0.0</td>\n",
       "      <td>0.0</td>\n",
       "      <td>...</td>\n",
       "      <td>NaN</td>\n",
       "      <td>NaN</td>\n",
       "      <td>0.0</td>\n",
       "      <td>0.0</td>\n",
       "      <td>0.0</td>\n",
       "      <td>0.0</td>\n",
       "      <td>0.0</td>\n",
       "      <td>0.0</td>\n",
       "      <td>0.0</td>\n",
       "      <td>0.0</td>\n",
       "    </tr>\n",
       "    <tr>\n",
       "      <th>2015-01-01 02:00:00+00:00</th>\n",
       "      <td>NaN</td>\n",
       "      <td>NaN</td>\n",
       "      <td>NaN</td>\n",
       "      <td>NaN</td>\n",
       "      <td>NaN</td>\n",
       "      <td>NaN</td>\n",
       "      <td>NaN</td>\n",
       "      <td>0.0</td>\n",
       "      <td>0.0</td>\n",
       "      <td>0.0</td>\n",
       "      <td>...</td>\n",
       "      <td>NaN</td>\n",
       "      <td>NaN</td>\n",
       "      <td>0.0</td>\n",
       "      <td>0.0</td>\n",
       "      <td>0.0</td>\n",
       "      <td>0.0</td>\n",
       "      <td>0.0</td>\n",
       "      <td>0.0</td>\n",
       "      <td>0.0</td>\n",
       "      <td>0.0</td>\n",
       "    </tr>\n",
       "    <tr>\n",
       "      <th>2015-01-01 03:00:00+00:00</th>\n",
       "      <td>NaN</td>\n",
       "      <td>NaN</td>\n",
       "      <td>NaN</td>\n",
       "      <td>NaN</td>\n",
       "      <td>NaN</td>\n",
       "      <td>NaN</td>\n",
       "      <td>NaN</td>\n",
       "      <td>0.0</td>\n",
       "      <td>0.0</td>\n",
       "      <td>0.0</td>\n",
       "      <td>...</td>\n",
       "      <td>NaN</td>\n",
       "      <td>NaN</td>\n",
       "      <td>0.0</td>\n",
       "      <td>0.0</td>\n",
       "      <td>0.0</td>\n",
       "      <td>0.0</td>\n",
       "      <td>0.0</td>\n",
       "      <td>0.0</td>\n",
       "      <td>0.0</td>\n",
       "      <td>0.0</td>\n",
       "    </tr>\n",
       "    <tr>\n",
       "      <th>...</th>\n",
       "      <td>...</td>\n",
       "      <td>...</td>\n",
       "      <td>...</td>\n",
       "      <td>...</td>\n",
       "      <td>...</td>\n",
       "      <td>...</td>\n",
       "      <td>...</td>\n",
       "      <td>...</td>\n",
       "      <td>...</td>\n",
       "      <td>...</td>\n",
       "      <td>...</td>\n",
       "      <td>...</td>\n",
       "      <td>...</td>\n",
       "      <td>...</td>\n",
       "      <td>...</td>\n",
       "      <td>...</td>\n",
       "      <td>...</td>\n",
       "      <td>...</td>\n",
       "      <td>...</td>\n",
       "      <td>...</td>\n",
       "      <td>...</td>\n",
       "    </tr>\n",
       "    <tr>\n",
       "      <th>2022-10-31 19:00:00+00:00</th>\n",
       "      <td>NaN</td>\n",
       "      <td>NaN</td>\n",
       "      <td>NaN</td>\n",
       "      <td>NaN</td>\n",
       "      <td>NaN</td>\n",
       "      <td>NaN</td>\n",
       "      <td>NaN</td>\n",
       "      <td>NaN</td>\n",
       "      <td>NaN</td>\n",
       "      <td>NaN</td>\n",
       "      <td>...</td>\n",
       "      <td>NaN</td>\n",
       "      <td>NaN</td>\n",
       "      <td>NaN</td>\n",
       "      <td>NaN</td>\n",
       "      <td>NaN</td>\n",
       "      <td>NaN</td>\n",
       "      <td>NaN</td>\n",
       "      <td>0.0</td>\n",
       "      <td>0.0</td>\n",
       "      <td>0.0</td>\n",
       "    </tr>\n",
       "    <tr>\n",
       "      <th>2022-10-31 20:00:00+00:00</th>\n",
       "      <td>NaN</td>\n",
       "      <td>NaN</td>\n",
       "      <td>NaN</td>\n",
       "      <td>NaN</td>\n",
       "      <td>NaN</td>\n",
       "      <td>NaN</td>\n",
       "      <td>NaN</td>\n",
       "      <td>NaN</td>\n",
       "      <td>NaN</td>\n",
       "      <td>NaN</td>\n",
       "      <td>...</td>\n",
       "      <td>NaN</td>\n",
       "      <td>NaN</td>\n",
       "      <td>NaN</td>\n",
       "      <td>NaN</td>\n",
       "      <td>NaN</td>\n",
       "      <td>NaN</td>\n",
       "      <td>NaN</td>\n",
       "      <td>0.0</td>\n",
       "      <td>0.0</td>\n",
       "      <td>0.0</td>\n",
       "    </tr>\n",
       "    <tr>\n",
       "      <th>2022-10-31 21:00:00+00:00</th>\n",
       "      <td>NaN</td>\n",
       "      <td>NaN</td>\n",
       "      <td>NaN</td>\n",
       "      <td>NaN</td>\n",
       "      <td>NaN</td>\n",
       "      <td>NaN</td>\n",
       "      <td>NaN</td>\n",
       "      <td>NaN</td>\n",
       "      <td>NaN</td>\n",
       "      <td>NaN</td>\n",
       "      <td>...</td>\n",
       "      <td>NaN</td>\n",
       "      <td>NaN</td>\n",
       "      <td>NaN</td>\n",
       "      <td>NaN</td>\n",
       "      <td>NaN</td>\n",
       "      <td>NaN</td>\n",
       "      <td>NaN</td>\n",
       "      <td>0.0</td>\n",
       "      <td>0.0</td>\n",
       "      <td>0.0</td>\n",
       "    </tr>\n",
       "    <tr>\n",
       "      <th>2022-10-31 22:00:00+00:00</th>\n",
       "      <td>NaN</td>\n",
       "      <td>NaN</td>\n",
       "      <td>NaN</td>\n",
       "      <td>NaN</td>\n",
       "      <td>NaN</td>\n",
       "      <td>NaN</td>\n",
       "      <td>NaN</td>\n",
       "      <td>NaN</td>\n",
       "      <td>NaN</td>\n",
       "      <td>NaN</td>\n",
       "      <td>...</td>\n",
       "      <td>NaN</td>\n",
       "      <td>NaN</td>\n",
       "      <td>NaN</td>\n",
       "      <td>NaN</td>\n",
       "      <td>NaN</td>\n",
       "      <td>NaN</td>\n",
       "      <td>NaN</td>\n",
       "      <td>0.0</td>\n",
       "      <td>0.0</td>\n",
       "      <td>0.0</td>\n",
       "    </tr>\n",
       "    <tr>\n",
       "      <th>2022-10-31 23:00:00+00:00</th>\n",
       "      <td>NaN</td>\n",
       "      <td>NaN</td>\n",
       "      <td>NaN</td>\n",
       "      <td>NaN</td>\n",
       "      <td>NaN</td>\n",
       "      <td>NaN</td>\n",
       "      <td>NaN</td>\n",
       "      <td>NaN</td>\n",
       "      <td>NaN</td>\n",
       "      <td>NaN</td>\n",
       "      <td>...</td>\n",
       "      <td>NaN</td>\n",
       "      <td>NaN</td>\n",
       "      <td>NaN</td>\n",
       "      <td>NaN</td>\n",
       "      <td>NaN</td>\n",
       "      <td>NaN</td>\n",
       "      <td>NaN</td>\n",
       "      <td>0.0</td>\n",
       "      <td>0.0</td>\n",
       "      <td>0.0</td>\n",
       "    </tr>\n",
       "  </tbody>\n",
       "</table>\n",
       "<p>68665 rows × 30 columns</p>\n",
       "</div>"
      ],
      "text/plain": [
       "                           camborne  carpentras  budapest_lorinc  \\\n",
       "2014-12-31 23:00:00+00:00       NaN         NaN              NaN   \n",
       "2015-01-01 00:00:00+00:00       NaN         NaN              NaN   \n",
       "2015-01-01 01:00:00+00:00       NaN         NaN              NaN   \n",
       "2015-01-01 02:00:00+00:00       NaN         NaN              NaN   \n",
       "2015-01-01 03:00:00+00:00       NaN         NaN              NaN   \n",
       "...                             ...         ...              ...   \n",
       "2022-10-31 19:00:00+00:00       NaN         NaN              NaN   \n",
       "2022-10-31 20:00:00+00:00       NaN         NaN              NaN   \n",
       "2022-10-31 21:00:00+00:00       NaN         NaN              NaN   \n",
       "2022-10-31 22:00:00+00:00       NaN         NaN              NaN   \n",
       "2022-10-31 23:00:00+00:00       NaN         NaN              NaN   \n",
       "\n",
       "                           magurele_mars  cabauw  cener  payerne  heino  \\\n",
       "2014-12-31 23:00:00+00:00            NaN     NaN    NaN      NaN    NaN   \n",
       "2015-01-01 00:00:00+00:00            NaN     NaN    NaN      NaN    0.0   \n",
       "2015-01-01 01:00:00+00:00            NaN     NaN    NaN      NaN    0.0   \n",
       "2015-01-01 02:00:00+00:00            NaN     NaN    NaN      NaN    0.0   \n",
       "2015-01-01 03:00:00+00:00            NaN     NaN    NaN      NaN    0.0   \n",
       "...                                  ...     ...    ...      ...    ...   \n",
       "2022-10-31 19:00:00+00:00            NaN     NaN    NaN      NaN    NaN   \n",
       "2022-10-31 20:00:00+00:00            NaN     NaN    NaN      NaN    NaN   \n",
       "2022-10-31 21:00:00+00:00            NaN     NaN    NaN      NaN    NaN   \n",
       "2022-10-31 22:00:00+00:00            NaN     NaN    NaN      NaN    NaN   \n",
       "2022-10-31 23:00:00+00:00            NaN     NaN    NaN      NaN    NaN   \n",
       "\n",
       "                           lauwersoog  lelystad_locatie_23t  ...  \\\n",
       "2014-12-31 23:00:00+00:00         NaN                   NaN  ...   \n",
       "2015-01-01 00:00:00+00:00         0.0                   0.0  ...   \n",
       "2015-01-01 01:00:00+00:00         0.0                   0.0  ...   \n",
       "2015-01-01 02:00:00+00:00         0.0                   0.0  ...   \n",
       "2015-01-01 03:00:00+00:00         0.0                   0.0  ...   \n",
       "...                               ...                   ...  ...   \n",
       "2022-10-31 19:00:00+00:00         NaN                   NaN  ...   \n",
       "2022-10-31 20:00:00+00:00         NaN                   NaN  ...   \n",
       "2022-10-31 21:00:00+00:00         NaN                   NaN  ...   \n",
       "2022-10-31 22:00:00+00:00         NaN                   NaN  ...   \n",
       "2022-10-31 23:00:00+00:00         NaN                   NaN  ...   \n",
       "\n",
       "                           lautertal_oberlauter  leinefelde  bremen  \\\n",
       "2014-12-31 23:00:00+00:00                   NaN         NaN     NaN   \n",
       "2015-01-01 00:00:00+00:00                   NaN         NaN     0.0   \n",
       "2015-01-01 01:00:00+00:00                   NaN         NaN     0.0   \n",
       "2015-01-01 02:00:00+00:00                   NaN         NaN     0.0   \n",
       "2015-01-01 03:00:00+00:00                   NaN         NaN     0.0   \n",
       "...                                         ...         ...     ...   \n",
       "2022-10-31 19:00:00+00:00                   NaN         NaN     NaN   \n",
       "2022-10-31 20:00:00+00:00                   NaN         NaN     NaN   \n",
       "2022-10-31 21:00:00+00:00                   NaN         NaN     NaN   \n",
       "2022-10-31 22:00:00+00:00                   NaN         NaN     NaN   \n",
       "2022-10-31 23:00:00+00:00                   NaN         NaN     NaN   \n",
       "\n",
       "                           stuttgart_schnarrenberg  nürnberg  \\\n",
       "2014-12-31 23:00:00+00:00                      NaN       NaN   \n",
       "2015-01-01 00:00:00+00:00                      0.0       0.0   \n",
       "2015-01-01 01:00:00+00:00                      0.0       0.0   \n",
       "2015-01-01 02:00:00+00:00                      0.0       0.0   \n",
       "2015-01-01 03:00:00+00:00                      0.0       0.0   \n",
       "...                                            ...       ...   \n",
       "2022-10-31 19:00:00+00:00                      NaN       NaN   \n",
       "2022-10-31 20:00:00+00:00                      NaN       NaN   \n",
       "2022-10-31 21:00:00+00:00                      NaN       NaN   \n",
       "2022-10-31 22:00:00+00:00                      NaN       NaN   \n",
       "2022-10-31 23:00:00+00:00                      NaN       NaN   \n",
       "\n",
       "                           weihenstephan_dürnast  saarbrücken_ensheim  \\\n",
       "2014-12-31 23:00:00+00:00                    NaN                  NaN   \n",
       "2015-01-01 00:00:00+00:00                    0.0                  0.0   \n",
       "2015-01-01 01:00:00+00:00                    0.0                  0.0   \n",
       "2015-01-01 02:00:00+00:00                    0.0                  0.0   \n",
       "2015-01-01 03:00:00+00:00                    0.0                  0.0   \n",
       "...                                          ...                  ...   \n",
       "2022-10-31 19:00:00+00:00                    NaN                  NaN   \n",
       "2022-10-31 20:00:00+00:00                    NaN                  NaN   \n",
       "2022-10-31 21:00:00+00:00                    NaN                  NaN   \n",
       "2022-10-31 22:00:00+00:00                    NaN                  NaN   \n",
       "2022-10-31 23:00:00+00:00                    NaN                  NaN   \n",
       "\n",
       "                           gonzaga  landriano  cornale  \n",
       "2014-12-31 23:00:00+00:00      0.0        0.0      0.0  \n",
       "2015-01-01 00:00:00+00:00      0.0        0.0      0.0  \n",
       "2015-01-01 01:00:00+00:00      0.0        0.0      0.0  \n",
       "2015-01-01 02:00:00+00:00      0.0        0.0      0.0  \n",
       "2015-01-01 03:00:00+00:00      0.0        0.0      0.0  \n",
       "...                            ...        ...      ...  \n",
       "2022-10-31 19:00:00+00:00      0.0        0.0      0.0  \n",
       "2022-10-31 20:00:00+00:00      0.0        0.0      0.0  \n",
       "2022-10-31 21:00:00+00:00      0.0        0.0      0.0  \n",
       "2022-10-31 22:00:00+00:00      0.0        0.0      0.0  \n",
       "2022-10-31 23:00:00+00:00      0.0        0.0      0.0  \n",
       "\n",
       "[68665 rows x 30 columns]"
      ]
     },
     "execution_count": 8,
     "metadata": {},
     "output_type": "execute_result"
    }
   ],
   "source": [
    "reference_hourly"
   ]
  },
  {
   "cell_type": "code",
   "execution_count": 9,
   "id": "3416a35d-75c0-4450-9b91-2e33b907e332",
   "metadata": {},
   "outputs": [
    {
     "data": {
      "text/plain": [
       "camborne                       0\n",
       "carpentras                     0\n",
       "budapest_lorinc                0\n",
       "magurele_mars                  0\n",
       "cabauw                         0\n",
       "cener                          0\n",
       "gonzaga                        0\n",
       "landriano                      0\n",
       "payerne                        4\n",
       "seehausen                      6\n",
       "cornale                       29\n",
       "heino                         30\n",
       "stavoren                      31\n",
       "saarbrücken_ensheim           38\n",
       "lauwersoog                    38\n",
       "hohenpeißenberg               39\n",
       "leinefelde                    40\n",
       "lelystad_locatie_23t          41\n",
       "dresden_klotzsche             42\n",
       "lautertal_oberlauter          43\n",
       "herwijnen                     46\n",
       "stuttgart_schnarrenberg       59\n",
       "nürnberg                      77\n",
       "schleswig                     80\n",
       "bremen                        96\n",
       "weihenstephan_dürnast        125\n",
       "rostock_warnemünde           281\n",
       "hamburg_fuhlsbüttel         1195\n",
       "görlitz                     2723\n",
       "mannheim                   27079\n",
       "dtype: int64"
      ]
     },
     "execution_count": 9,
     "metadata": {},
     "output_type": "execute_result"
    }
   ],
   "source": [
    "reference_hourly.where(reference_hourly.apply(remove_flatlines).isna()).count().sort_values()"
   ]
  },
  {
   "cell_type": "code",
   "execution_count": 10,
   "id": "59f6a746-8a86-460d-ab4f-898a1ec513a3",
   "metadata": {},
   "outputs": [],
   "source": [
    "reference_hourly = reference_hourly.apply(remove_flatlines)"
   ]
  },
  {
   "cell_type": "code",
   "execution_count": 11,
   "id": "d29996f7-eb36-41e8-85bf-4bcd62f84e77",
   "metadata": {},
   "outputs": [
    {
     "data": {
      "text/plain": [
       "camborne                   0\n",
       "gonzaga                    0\n",
       "saarbrücken_ensheim        0\n",
       "weihenstephan_dürnast      0\n",
       "nürnberg                   0\n",
       "stuttgart_schnarrenberg    0\n",
       "bremen                     0\n",
       "leinefelde                 0\n",
       "lautertal_oberlauter       0\n",
       "dresden_klotzsche          0\n",
       "rostock_warnemünde         0\n",
       "seehausen                  0\n",
       "hamburg_fuhlsbüttel        0\n",
       "görlitz                    0\n",
       "schleswig                  0\n",
       "mannheim                   0\n",
       "hohenpeißenberg            0\n",
       "herwijnen                  0\n",
       "stavoren                   0\n",
       "lelystad_locatie_23t       0\n",
       "lauwersoog                 0\n",
       "heino                      0\n",
       "payerne                    0\n",
       "cener                      0\n",
       "cabauw                     0\n",
       "magurele_mars              0\n",
       "budapest_lorinc            0\n",
       "carpentras                 0\n",
       "landriano                  0\n",
       "cornale                    0\n",
       "dtype: int64"
      ]
     },
     "execution_count": 11,
     "metadata": {},
     "output_type": "execute_result"
    }
   ],
   "source": [
    "reference_hourly.where(reference_hourly.apply(remove_flatlines).isna()).count().sort_values()"
   ]
  },
  {
   "cell_type": "markdown",
   "id": "0edcb616-a950-46b8-8468-a6727c96c17b",
   "metadata": {},
   "source": [
    "### drop data during the night\n",
    "A lot of 1.0 values can be seen during the night. These values are removed."
   ]
  },
  {
   "cell_type": "code",
   "execution_count": 12,
   "id": "51501c30-60db-4a4a-8f99-b92af6333d39",
   "metadata": {},
   "outputs": [],
   "source": [
    "reference_hourly = reference_hourly.where(reference_hourly > 0).where(costheta > 0)"
   ]
  },
  {
   "cell_type": "markdown",
   "id": "cf3afb60-3f87-417e-acc9-901fa8c76a0e",
   "metadata": {},
   "source": [
    "### correct for time shift"
   ]
  },
  {
   "cell_type": "code",
   "execution_count": 13,
   "id": "83c5bfd5-bfd8-46e5-af85-0fd9aefb5846",
   "metadata": {},
   "outputs": [],
   "source": [
    "daily_shifts = pd.DataFrame({site: get_daily_shifts(clearsky[site], reference_hourly[site], threshold=2000) for site in reference_hourly})"
   ]
  },
  {
   "cell_type": "code",
   "execution_count": 14,
   "id": "41904769-d12a-4b4d-973c-5cd79e6ff3ac",
   "metadata": {},
   "outputs": [
    {
     "data": {
      "text/plain": [
       "<Axes: >"
      ]
     },
     "execution_count": 14,
     "metadata": {},
     "output_type": "execute_result"
    },
    {
     "data": {
      "image/png": "[encoded data removed]",
      "text/plain": [
       "<Figure size 640x480 with 1 Axes>"
      ]
     },
     "metadata": {},
     "output_type": "display_data"
    }
   ],
   "source": [
    "daily_shifts.plot(legend=False)"
   ]
  },
  {
   "cell_type": "code",
   "execution_count": 15,
   "id": "3499d7d3-d7de-4f8f-b507-9fb934250920",
   "metadata": {},
   "outputs": [
    {
     "data": {
      "text/plain": [
       "<Axes: >"
      ]
     },
     "execution_count": 15,
     "metadata": {},
     "output_type": "execute_result"
    },
    {
     "data": {
      "image/png": "[encoded data removed]",
      "text/plain": [
       "<Figure size 500x700 with 1 Axes>"
      ]
     },
     "metadata": {},
     "output_type": "display_data"
    }
   ],
   "source": [
    "daily_shifts.mean().sort_index(ascending=False).plot.barh(figsize=(5,7))"
   ]
  },
  {
   "cell_type": "code",
   "execution_count": 16,
   "id": "11d874d4-4533-43cb-b9dc-064b0ac7df46",
   "metadata": {},
   "outputs": [],
   "source": [
    "reference_hourly = reference_hourly.apply(lambda x: x.shift(periods=-daily_shifts.mean().astype(int)[x.name]))"
   ]
  },
  {
   "cell_type": "code",
   "execution_count": 17,
   "id": "8a732d6e-4723-4393-af3e-263b874dacef",
   "metadata": {},
   "outputs": [],
   "source": [
    "daily_shifts_after = pd.DataFrame({site: get_daily_shifts(clearsky[site], reference_hourly[site], threshold=2000) for site in reference_hourly})"
   ]
  },
  {
   "cell_type": "code",
   "execution_count": 18,
   "id": "4884d428-26c5-463b-944a-c1028d642529",
   "metadata": {},
   "outputs": [
    {
     "data": {
      "text/plain": [
       "<Axes: >"
      ]
     },
     "execution_count": 18,
     "metadata": {},
     "output_type": "execute_result"
    },
    {
     "data": {
      "image/png": "[encoded data removed]",
      "text/plain": [
       "<Figure size 640x480 with 1 Axes>"
      ]
     },
     "metadata": {},
     "output_type": "display_data"
    }
   ],
   "source": [
    "daily_shifts_after.plot(legend=False)"
   ]
  },
  {
   "cell_type": "code",
   "execution_count": 19,
   "id": "8cc2ee62-b0f6-4267-b042-047df94cf612",
   "metadata": {},
   "outputs": [
    {
     "data": {
      "text/plain": [
       "<Axes: >"
      ]
     },
     "execution_count": 19,
     "metadata": {},
     "output_type": "execute_result"
    },
    {
     "data": {
      "image/png": "[encoded data removed]",
      "text/plain": [
       "<Figure size 500x700 with 1 Axes>"
      ]
     },
     "metadata": {},
     "output_type": "display_data"
    }
   ],
   "source": [
    "daily_shifts_after.mean().sort_index(ascending=False).plot.barh(figsize=(5,7))"
   ]
  },
  {
   "cell_type": "markdown",
   "id": "b1fd8bcf-25fd-455a-a271-e92793af06dd",
   "metadata": {},
   "source": [
    "### export"
   ]
  },
  {
   "cell_type": "code",
   "execution_count": 20,
   "id": "00ee2e17-b72b-4f18-82d2-9a27e51177fb",
   "metadata": {
    "tags": []
   },
   "outputs": [],
   "source": [
    "reference_hourly.to_csv(os.path.join(base_path, \"parsed\", \"parsed_reference_data_hourly.csv\"))"
   ]
  },
  {
   "cell_type": "markdown",
   "id": "cd0365ba-f47c-46d4-988c-b2b6a86bd233",
   "metadata": {},
   "source": [
    "## parse daily"
   ]
  },
  {
   "cell_type": "markdown",
   "id": "9bd90667-0624-4512-872f-25a6a4990185",
   "metadata": {},
   "source": [
    "### min max quality check"
   ]
  },
  {
   "cell_type": "code",
   "execution_count": 21,
   "id": "6528fd59-7858-47ea-9d8e-0ee3ee303285",
   "metadata": {},
   "outputs": [
    {
     "data": {
      "text/plain": [
       "'Minimum value: 13.889'"
      ]
     },
     "execution_count": 21,
     "metadata": {},
     "output_type": "execute_result"
    }
   ],
   "source": [
    "f\"Minimum value: {reference_daily.min().min()}\""
   ]
  },
  {
   "cell_type": "code",
   "execution_count": 22,
   "id": "b854be85-5c3f-4533-9819-05ecacdeed78",
   "metadata": {},
   "outputs": [
    {
     "data": {
      "text/plain": [
       "'Maximum value: 9800.0'"
      ]
     },
     "execution_count": 22,
     "metadata": {},
     "output_type": "execute_result"
    }
   ],
   "source": [
    "f\"Maximum value: {reference_daily.max().max()}\""
   ]
  },
  {
   "cell_type": "markdown",
   "id": "9919dd86-af9d-4e85-8e2b-70eadbc7acdb",
   "metadata": {},
   "source": [
    "=> Min and max values are in plausible range."
   ]
  },
  {
   "cell_type": "markdown",
   "id": "ca0f58a2-0daf-48c5-aefe-a36776facfcc",
   "metadata": {},
   "source": [
    "### remove 0.0-values"
   ]
  },
  {
   "cell_type": "markdown",
   "id": "22893977-f730-443e-b642-81ef71272eb4",
   "metadata": {},
   "source": [
    "=> no 0.0 values."
   ]
  },
  {
   "cell_type": "markdown",
   "id": "65cf9db8-de6a-4a5d-a593-26268afc9d73",
   "metadata": {},
   "source": [
    "### export"
   ]
  },
  {
   "cell_type": "code",
   "execution_count": 23,
   "id": "d58ee580-8f45-4e0e-a300-2461adbcc00f",
   "metadata": {
    "tags": []
   },
   "outputs": [],
   "source": [
    "reference_daily.to_csv(os.path.join(base_path, \"parsed\", \"parsed_reference_data_daily.csv\"))"
   ]
  }
 ],
 "metadata": {
  "kernelspec": {
   "display_name": "Python 3 (ipykernel)",
   "language": "python",
   "name": "python3"
  },
  "language_info": {
   "codemirror_mode": {
    "name": "ipython",
    "version": 3
   },
   "file_extension": ".py",
   "mimetype": "text/x-python",
   "name": "python",
   "nbconvert_exporter": "python",
   "pygments_lexer": "ipython3",
   "version": "3.10.12"
  }
 },
 "nbformat": 4,
 "nbformat_minor": 5
}
