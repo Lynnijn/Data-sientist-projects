{
 "cells": [
  {
   "cell_type": "code",
   "execution_count": 1,
   "id": "e045e15c-7848-43e2-9aa9-322e66ea7599",
   "metadata": {},
   "outputs": [],
   "source": [
    "import os\n",
    "from pathlib import Path\n",
    "import matplotlib.pyplot as plt\n",
    "import numpy as np\n",
    "import pandas as pd\n",
    "\n",
    "from parsing import remove_flatlines, get_daily_shifts"
   ]
  },
  {
   "cell_type": "code",
   "execution_count": 2,
   "id": "6b7271de-f7ec-49b9-8ed0-63e1eebd5792",
   "metadata": {},
   "outputs": [],
   "source": [
    "base_path = Path.home()/\"OneDrive-3E/RD_ResourceData/Research/Solar/tickets/2024/IN3043_accuracy_factors_analysis/IN3136_EURAC_shared_folder/data_sites\""
   ]
  },
  {
   "cell_type": "markdown",
   "id": "8b51226e-deba-4647-b4fd-b04a9bc84cdc",
   "metadata": {
    "tags": []
   },
   "source": [
    "## read sites metadata"
   ]
  },
  {
   "cell_type": "code",
   "execution_count": 3,
   "id": "1c7141bd-0164-4813-b207-c39a4365b7d5",
   "metadata": {},
   "outputs": [
    {
     "data": {
      "text/html": [
       "<div>\n",
       "<style scoped>\n",
       "    .dataframe tbody tr th:only-of-type {\n",
       "        vertical-align: middle;\n",
       "    }\n",
       "\n",
       "    .dataframe tbody tr th {\n",
       "        vertical-align: top;\n",
       "    }\n",
       "\n",
       "    .dataframe thead th {\n",
       "        text-align: right;\n",
       "    }\n",
       "</style>\n",
       "<table border=\"1\" class=\"dataframe\">\n",
       "  <thead>\n",
       "    <tr style=\"text-align: right;\">\n",
       "      <th></th>\n",
       "      <th>country</th>\n",
       "      <th>latitude</th>\n",
       "      <th>longitude</th>\n",
       "      <th>altitude</th>\n",
       "      <th>provider</th>\n",
       "    </tr>\n",
       "    <tr>\n",
       "      <th>station_name</th>\n",
       "      <th></th>\n",
       "      <th></th>\n",
       "      <th></th>\n",
       "      <th></th>\n",
       "      <th></th>\n",
       "    </tr>\n",
       "  </thead>\n",
       "  <tbody>\n",
       "    <tr>\n",
       "      <th>camborne</th>\n",
       "      <td>United Kingdom</td>\n",
       "      <td>50.22</td>\n",
       "      <td>-5.32</td>\n",
       "      <td>88.0</td>\n",
       "      <td>bsrn</td>\n",
       "    </tr>\n",
       "    <tr>\n",
       "      <th>carpentras</th>\n",
       "      <td>France</td>\n",
       "      <td>44.08</td>\n",
       "      <td>5.06</td>\n",
       "      <td>100.0</td>\n",
       "      <td>bsrn</td>\n",
       "    </tr>\n",
       "    <tr>\n",
       "      <th>budapest_lorinc</th>\n",
       "      <td>Hungary</td>\n",
       "      <td>47.43</td>\n",
       "      <td>19.18</td>\n",
       "      <td>139.0</td>\n",
       "      <td>bsrn</td>\n",
       "    </tr>\n",
       "    <tr>\n",
       "      <th>magurele_mars</th>\n",
       "      <td>Romania</td>\n",
       "      <td>44.34</td>\n",
       "      <td>26.01</td>\n",
       "      <td>110.0</td>\n",
       "      <td>bsrn</td>\n",
       "    </tr>\n",
       "    <tr>\n",
       "      <th>cabauw</th>\n",
       "      <td>Netherlands</td>\n",
       "      <td>51.97</td>\n",
       "      <td>4.93</td>\n",
       "      <td>0.0</td>\n",
       "      <td>bsrn</td>\n",
       "    </tr>\n",
       "    <tr>\n",
       "      <th>...</th>\n",
       "      <td>...</td>\n",
       "      <td>...</td>\n",
       "      <td>...</td>\n",
       "      <td>...</td>\n",
       "      <td>...</td>\n",
       "    </tr>\n",
       "    <tr>\n",
       "      <th>dublin_arpt</th>\n",
       "      <td>Ireland</td>\n",
       "      <td>53.43</td>\n",
       "      <td>-6.23</td>\n",
       "      <td>82.0</td>\n",
       "      <td>wrdc</td>\n",
       "    </tr>\n",
       "    <tr>\n",
       "      <th>grossenzersdorf</th>\n",
       "      <td>Austria</td>\n",
       "      <td>48.20</td>\n",
       "      <td>16.57</td>\n",
       "      <td>157.0</td>\n",
       "      <td>wrdc</td>\n",
       "    </tr>\n",
       "    <tr>\n",
       "      <th>gonzaga</th>\n",
       "      <td>Italy</td>\n",
       "      <td>44.96</td>\n",
       "      <td>10.77</td>\n",
       "      <td>16.0</td>\n",
       "      <td>lombardy</td>\n",
       "    </tr>\n",
       "    <tr>\n",
       "      <th>landriano</th>\n",
       "      <td>Italy</td>\n",
       "      <td>45.32</td>\n",
       "      <td>9.27</td>\n",
       "      <td>88.0</td>\n",
       "      <td>lombardy</td>\n",
       "    </tr>\n",
       "    <tr>\n",
       "      <th>cornale</th>\n",
       "      <td>Italy</td>\n",
       "      <td>45.04</td>\n",
       "      <td>8.91</td>\n",
       "      <td>74.0</td>\n",
       "      <td>lombardy</td>\n",
       "    </tr>\n",
       "  </tbody>\n",
       "</table>\n",
       "<p>80 rows × 5 columns</p>\n",
       "</div>"
      ],
      "text/plain": [
       "                        country  latitude  longitude  altitude  provider\n",
       "station_name                                                            \n",
       "camborne         United Kingdom     50.22      -5.32      88.0      bsrn\n",
       "carpentras               France     44.08       5.06     100.0      bsrn\n",
       "budapest_lorinc         Hungary     47.43      19.18     139.0      bsrn\n",
       "magurele_mars           Romania     44.34      26.01     110.0      bsrn\n",
       "cabauw              Netherlands     51.97       4.93       0.0      bsrn\n",
       "...                         ...       ...        ...       ...       ...\n",
       "dublin_arpt             Ireland     53.43      -6.23      82.0      wrdc\n",
       "grossenzersdorf         Austria     48.20      16.57     157.0      wrdc\n",
       "gonzaga                   Italy     44.96      10.77      16.0  lombardy\n",
       "landriano                 Italy     45.32       9.27      88.0  lombardy\n",
       "cornale                   Italy     45.04       8.91      74.0  lombardy\n",
       "\n",
       "[80 rows x 5 columns]"
      ]
     },
     "execution_count": 3,
     "metadata": {},
     "output_type": "execute_result"
    }
   ],
   "source": [
    "sites_metadata = pd.read_csv(os.path.join(base_path, \"sites_metadata.csv\"), index_col=0)\n",
    "sites_metadata"
   ]
  },
  {
   "cell_type": "markdown",
   "id": "9dff110f-84f6-4647-a24c-147cbcf4f3e1",
   "metadata": {},
   "source": [
    "## get model (hourly and daily), clearsky and costheta"
   ]
  },
  {
   "cell_type": "code",
   "execution_count": 4,
   "id": "770c7311-db48-4835-ad4b-8d87dbef0a51",
   "metadata": {},
   "outputs": [],
   "source": [
    "model_hourly = pd.DataFrame()\n",
    "model_daily = pd.DataFrame()\n",
    "clearsky = pd.DataFrame()\n",
    "costheta = pd.DataFrame()\n",
    "\n",
    "model_hourly.index = pd.DatetimeIndex(model_hourly.index)\n",
    "model_daily.index = pd.DatetimeIndex(model_daily.index)\n",
    "clearsky.index = pd.DatetimeIndex(clearsky.index)\n",
    "costheta.index = pd.DatetimeIndex(costheta.index)"
   ]
  },
  {
   "cell_type": "code",
   "execution_count": 5,
   "id": "0e8e53a1-6cdd-4f0b-984a-9d2c5fd30c67",
   "metadata": {},
   "outputs": [],
   "source": [
    "for site in list(sites_metadata.index):\n",
    "\n",
    "    model_site = pd.read_csv(os.path.join(base_path, \"raw_model\", f\"{site}_raw_model_data.csv\"), index_col=0)\n",
    "    model_site = pd.DataFrame(model_site)\n",
    "    model_site.index = pd.DatetimeIndex(model_site.index)\n",
    "    \n",
    "    if sites_metadata.loc[site][\"provider\"] == \"wrdc\":\n",
    "        \n",
    "        model_daily = pd.concat([model_daily, model_site], axis=1)\n",
    "\n",
    "    else:\n",
    "        \n",
    "        model_hourly = pd.concat([model_hourly, model_site], axis=1)\n",
    "        \n",
    "        clearsky_site = pd.read_csv(os.path.join(base_path, \"clearsky\", f\"{site}_clearsky_data.csv\"), index_col=0)\n",
    "        clearsky_site = pd.DataFrame(clearsky_site)\n",
    "        clearsky_site.index = pd.DatetimeIndex(clearsky_site.index)\n",
    "        \n",
    "        clearsky = pd.concat([clearsky, clearsky_site], axis=1)\n",
    "        \n",
    "        costheta_site = pd.read_csv(os.path.join(base_path, \"costheta\", f\"{site}_costheta_data.csv\"), index_col=0)\n",
    "        costheta_site = pd.DataFrame(costheta_site)\n",
    "        costheta_site.index = pd.DatetimeIndex(costheta_site.index)\n",
    "        \n",
    "        costheta = pd.concat([costheta, costheta_site], axis=1)"
   ]
  },
  {
   "cell_type": "markdown",
   "id": "fdd3dcd8-50aa-456c-a4b5-9397a81226c8",
   "metadata": {},
   "source": [
    "## parse hourly"
   ]
  },
  {
   "cell_type": "markdown",
   "id": "ef9b1462-e262-401c-bd1d-3253c7a89b45",
   "metadata": {},
   "source": [
    "### min max quality check"
   ]
  },
  {
   "cell_type": "code",
   "execution_count": 6,
   "id": "531fbfb7-4a77-4ff8-b75c-3c7011fbbb2e",
   "metadata": {},
   "outputs": [
    {
     "data": {
      "text/plain": [
       "'Minimum value: 0.0'"
      ]
     },
     "execution_count": 6,
     "metadata": {},
     "output_type": "execute_result"
    }
   ],
   "source": [
    "f\"Minimum value: {model_hourly.min().min()}\""
   ]
  },
  {
   "cell_type": "code",
   "execution_count": 7,
   "id": "82afa2b3-1aea-4f8e-9f36-10997f1fc560",
   "metadata": {},
   "outputs": [
    {
     "data": {
      "text/plain": [
       "'Maximum value: 986.29'"
      ]
     },
     "execution_count": 7,
     "metadata": {},
     "output_type": "execute_result"
    }
   ],
   "source": [
    "f\"Maximum value: {model_hourly.max().max()}\""
   ]
  },
  {
   "cell_type": "markdown",
   "id": "78252ff3-4477-41e4-945a-5fa1d2cd761f",
   "metadata": {},
   "source": [
    "=> Min and max values are in plausible range."
   ]
  },
  {
   "cell_type": "markdown",
   "id": "390d9fbd-669e-4954-bcbe-68a814cdd5a9",
   "metadata": {
    "tags": []
   },
   "source": [
    "### remove flatlines"
   ]
  },
  {
   "cell_type": "code",
   "execution_count": 8,
   "id": "3416a35d-75c0-4450-9b91-2e33b907e332",
   "metadata": {},
   "outputs": [
    {
     "data": {
      "text/plain": [
       "camborne                   0\n",
       "gonzaga                    0\n",
       "saarbrücken_ensheim        0\n",
       "weihenstephan_dürnast      0\n",
       "nürnberg                   0\n",
       "stuttgart_schnarrenberg    0\n",
       "bremen                     0\n",
       "leinefelde                 0\n",
       "lautertal_oberlauter       0\n",
       "dresden_klotzsche          0\n",
       "rostock_warnemünde         0\n",
       "seehausen                  0\n",
       "hamburg_fuhlsbüttel        0\n",
       "görlitz                    0\n",
       "schleswig                  0\n",
       "mannheim                   0\n",
       "hohenpeißenberg            0\n",
       "herwijnen                  0\n",
       "stavoren                   0\n",
       "lelystad_locatie_23t       0\n",
       "lauwersoog                 0\n",
       "heino                      0\n",
       "payerne                    0\n",
       "cener                      0\n",
       "cabauw                     0\n",
       "magurele_mars              0\n",
       "budapest_lorinc            0\n",
       "carpentras                 0\n",
       "landriano                  0\n",
       "cornale                    0\n",
       "dtype: int64"
      ]
     },
     "execution_count": 8,
     "metadata": {},
     "output_type": "execute_result"
    }
   ],
   "source": [
    "model_hourly.where(model_hourly.apply(remove_flatlines).isna()).count().sort_values()"
   ]
  },
  {
   "cell_type": "markdown",
   "id": "5840c24e-9d50-4009-a946-8acad3cb0c79",
   "metadata": {},
   "source": [
    "=> no flatline."
   ]
  },
  {
   "cell_type": "markdown",
   "id": "cf3afb60-3f87-417e-acc9-901fa8c76a0e",
   "metadata": {},
   "source": [
    "### correct for time shift"
   ]
  },
  {
   "cell_type": "code",
   "execution_count": 9,
   "id": "83c5bfd5-bfd8-46e5-af85-0fd9aefb5846",
   "metadata": {},
   "outputs": [],
   "source": [
    "daily_shifts = pd.DataFrame({site: get_daily_shifts(clearsky[site], model_hourly[site], threshold=2000) for site in model_hourly})"
   ]
  },
  {
   "cell_type": "code",
   "execution_count": 10,
   "id": "41904769-d12a-4b4d-973c-5cd79e6ff3ac",
   "metadata": {},
   "outputs": [
    {
     "data": {
      "text/plain": [
       "<Axes: >"
      ]
     },
     "execution_count": 10,
     "metadata": {},
     "output_type": "execute_result"
    },
    {
     "data": {
      "image/png": "[encoded data removed]",
      "text/plain": [
       "<Figure size 640x480 with 1 Axes>"
      ]
     },
     "metadata": {},
     "output_type": "display_data"
    }
   ],
   "source": [
    "daily_shifts.plot(legend=False)"
   ]
  },
  {
   "cell_type": "code",
   "execution_count": 11,
   "id": "3499d7d3-d7de-4f8f-b507-9fb934250920",
   "metadata": {},
   "outputs": [
    {
     "data": {
      "text/plain": [
       "<Axes: >"
      ]
     },
     "execution_count": 11,
     "metadata": {},
     "output_type": "execute_result"
    },
    {
     "data": {
      "image/png": "[encoded data removed]",
      "text/plain": [
       "<Figure size 500x700 with 1 Axes>"
      ]
     },
     "metadata": {},
     "output_type": "display_data"
    }
   ],
   "source": [
    "daily_shifts.mean().sort_index(ascending=False).plot.barh(figsize=(5,7))"
   ]
  },
  {
   "cell_type": "markdown",
   "id": "d14d0ed3-313a-48e5-b7bf-4015446e8423",
   "metadata": {},
   "source": [
    "=> no daily shift."
   ]
  },
  {
   "cell_type": "markdown",
   "id": "b1fd8bcf-25fd-455a-a271-e92793af06dd",
   "metadata": {},
   "source": [
    "### export"
   ]
  },
  {
   "cell_type": "code",
   "execution_count": 12,
   "id": "00ee2e17-b72b-4f18-82d2-9a27e51177fb",
   "metadata": {
    "tags": []
   },
   "outputs": [],
   "source": [
    "model_hourly.to_csv(os.path.join(base_path, \"parsed\", \"parsed_model_data_hourly.csv\"))"
   ]
  },
  {
   "cell_type": "markdown",
   "id": "cd0365ba-f47c-46d4-988c-b2b6a86bd233",
   "metadata": {},
   "source": [
    "## parse daily"
   ]
  },
  {
   "cell_type": "markdown",
   "id": "9bd90667-0624-4512-872f-25a6a4990185",
   "metadata": {},
   "source": [
    "### min max quality check"
   ]
  },
  {
   "cell_type": "code",
   "execution_count": 13,
   "id": "6528fd59-7858-47ea-9d8e-0ee3ee303285",
   "metadata": {},
   "outputs": [
    {
     "data": {
      "text/plain": [
       "'Minimum value: 0.0'"
      ]
     },
     "execution_count": 13,
     "metadata": {},
     "output_type": "execute_result"
    }
   ],
   "source": [
    "f\"Minimum value: {model_daily.min().min()}\""
   ]
  },
  {
   "cell_type": "code",
   "execution_count": 14,
   "id": "b854be85-5c3f-4533-9819-05ecacdeed78",
   "metadata": {},
   "outputs": [
    {
     "data": {
      "text/plain": [
       "'Maximum value: 8884.23'"
      ]
     },
     "execution_count": 14,
     "metadata": {},
     "output_type": "execute_result"
    }
   ],
   "source": [
    "f\"Maximum value: {model_daily.max().max()}\""
   ]
  },
  {
   "cell_type": "markdown",
   "id": "9919dd86-af9d-4e85-8e2b-70eadbc7acdb",
   "metadata": {},
   "source": [
    "=> Min and max values are in plausible range."
   ]
  },
  {
   "cell_type": "markdown",
   "id": "ca0f58a2-0daf-48c5-aefe-a36776facfcc",
   "metadata": {},
   "source": [
    "### remove 0.0-values"
   ]
  },
  {
   "cell_type": "code",
   "execution_count": 15,
   "id": "15161a80-0f37-42ab-b364-bde41d72e213",
   "metadata": {},
   "outputs": [
    {
     "data": {
      "text/plain": [
       "badajoz                 0\n",
       "grossenzersdorf         0\n",
       "edinburgh             156\n",
       "aberdeen_dyce_arpt    218\n",
       "lund                  221\n",
       "dunstaffnage          261\n",
       "vaxjo_kronoberg       298\n",
       "norrkoping            368\n",
       "karlstad              412\n",
       "stockholm             415\n",
       "dtype: int64"
      ]
     },
     "execution_count": 15,
     "metadata": {},
     "output_type": "execute_result"
    }
   ],
   "source": [
    "model_daily[model_daily <= 0].count().sort_values()[-10:]"
   ]
  },
  {
   "cell_type": "code",
   "execution_count": 16,
   "id": "d003cf2b-ea81-4c95-9e7b-7d201f54b272",
   "metadata": {},
   "outputs": [],
   "source": [
    "model_daily = model_daily[model_daily > 0]"
   ]
  },
  {
   "cell_type": "code",
   "execution_count": 17,
   "id": "4781bdf5-01b8-4485-b605-d6709166d87a",
   "metadata": {},
   "outputs": [
    {
     "data": {
      "text/plain": [
       "albacete           0\n",
       "huelva             0\n",
       "salamanca          0\n",
       "valencia_arpt      0\n",
       "lleida             0\n",
       "zaragoza_arpt      0\n",
       "soria              0\n",
       "arenosillo         0\n",
       "leon_arpt          0\n",
       "grossenzersdorf    0\n",
       "dtype: int64"
      ]
     },
     "execution_count": 17,
     "metadata": {},
     "output_type": "execute_result"
    }
   ],
   "source": [
    "model_daily[model_daily <= 0].count().sort_values()[-10:]"
   ]
  },
  {
   "cell_type": "markdown",
   "id": "65cf9db8-de6a-4a5d-a593-26268afc9d73",
   "metadata": {},
   "source": [
    "### export"
   ]
  },
  {
   "cell_type": "code",
   "execution_count": 18,
   "id": "d58ee580-8f45-4e0e-a300-2461adbcc00f",
   "metadata": {
    "tags": []
   },
   "outputs": [],
   "source": [
    "model_daily.to_csv(os.path.join(base_path, \"parsed\", \"parsed_model_data_daily.csv\"))"
   ]
  }
 ],
 "metadata": {
  "kernelspec": {
   "display_name": "Python 3 (ipykernel)",
   "language": "python",
   "name": "python3"
  },
  "language_info": {
   "codemirror_mode": {
    "name": "ipython",
    "version": 3
   },
   "file_extension": ".py",
   "mimetype": "text/x-python",
   "name": "python",
   "nbconvert_exporter": "python",
   "pygments_lexer": "ipython3",
   "version": "3.10.12"
  }
 },
 "nbformat": 4,
 "nbformat_minor": 5
}
