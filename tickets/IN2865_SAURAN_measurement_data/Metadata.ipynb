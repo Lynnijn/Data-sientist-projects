{
 "cells": [
  {
   "cell_type": "code",
   "execution_count": 1,
   "id": "d35659dd-4f7d-478b-951e-7e94eb81ba9e",
   "metadata": {
    "tags": []
   },
   "outputs": [],
   "source": [
    "import pandas as pd\n",
    "import json\n",
    "import os\n",
    "import glob\n",
    "\n",
    "import sys\n",
    "from pathlib import Path\n",
    "sys.path.insert(0,str(Path(os.path.abspath('.')).parent.parent))\n",
    "import library.validation.SAURAN.reading as reading"
   ]
  },
  {
   "cell_type": "markdown",
   "id": "790f5a25-12bd-462d-8ef3-71263dcf9653",
   "metadata": {},
   "source": [
    "# Retrieve"
   ]
  },
  {
   "cell_type": "code",
   "execution_count": 2,
   "id": "51a912c4-3c95-4ed2-a719-3b1602dbcb15",
   "metadata": {
    "tags": []
   },
   "outputs": [],
   "source": [
    "metadata = []\n",
    "\n",
    "def extract_metadata(file_path, station_name):\n",
    "    with open(file_path, 'r') as file:\n",
    "        line = file.readline()\n",
    "        latitude = \"%.3f\" % float(line.split(\"Latitude:\")[1].split(\",\")[0].strip())\n",
    "        longitude = \"%.3f\" % float(line.split(\"Longitude:\")[1].split(\",\")[0].strip())\n",
    "        elevation = int(line.split(\"Elevation:\")[1].split(\"m\")[0].strip())\n",
    "\n",
    "        return {'station name': station_name, 'latitude': latitude, 'longitude': longitude, 'elevation (m)': elevation}\n"
   ]
  },
  {
   "cell_type": "code",
   "execution_count": 3,
   "id": "f2889bfe-eb9b-4f83-94e9-973856481228",
   "metadata": {
    "tags": []
   },
   "outputs": [
    {
     "data": {
      "text/plain": [
       "['Central_University_of_Technology',\n",
       " 'CRSES_Mintek',\n",
       " 'CSIR_Energy_Centre',\n",
       " 'Eskom_Sutherland',\n",
       " 'Eskom_Sutherland_SALT',\n",
       " 'GIZ_Graaff_Reinet',\n",
       " 'GIZ_Murraysburg',\n",
       " 'GIZ_Richtersveld',\n",
       " 'GIZ_University_of_Free_State',\n",
       " 'GIZ_University_of_Pretoria',\n",
       " 'GIZ_Vanrhynsdorp',\n",
       " 'Ilanga_CSP_Plant',\n",
       " 'Mangosuthu_University_of_Technology',\n",
       " 'Nelson_Mandela_University',\n",
       " 'Stellenbosch_University',\n",
       " 'University_of_KwaZulu_Natal_Howard_College',\n",
       " 'University_of_KwaZulu_Natal_Pietermaritzburg',\n",
       " 'University_of_KwaZulu_Natal_Westville',\n",
       " 'University_of_Zululand',\n",
       " 'USAid_Gaborone',\n",
       " 'USAid_Namibian_University_of_Science_and_Technology',\n",
       " 'USAid_University_of_Fort_Hare',\n",
       " 'USAid_Venda']"
      ]
     },
     "execution_count": 3,
     "metadata": {},
     "output_type": "execute_result"
    }
   ],
   "source": [
    "ticket_path_sau = \"/home/lhn3e/OneDrive-3E/Research/Solar/tickets/2023/IN2865_SAURAN_measurement_data\"\n",
    "raw_path_sau =  os.path.join(ticket_path_sau, 'raw_data')\n",
    "\n",
    "station_names_list_sau = reading.get_station_names(raw_path_sau)\n",
    "station_names_list_sau"
   ]
  },
  {
   "cell_type": "code",
   "execution_count": 4,
   "id": "3ad0c011-53fd-4dd8-989c-9e8142a22488",
   "metadata": {
    "tags": []
   },
   "outputs": [],
   "source": [
    "for station_name in station_names_list_sau:\n",
    "    folder_path = os.path.join(raw_path_sau, f'{station_name}', '*.csv')\n",
    "    dat_file = glob.glob(folder_path)\n",
    "    file = dat_file[0]\n",
    "    metarow = extract_metadata(file, f'{station_name}')\n",
    "    metadata.append(metarow)\n"
   ]
  },
  {
   "cell_type": "code",
   "execution_count": 5,
   "id": "be66cef4-5d88-42de-960a-4c8e4a1398a2",
   "metadata": {
    "tags": []
   },
   "outputs": [
    {
     "data": {
      "text/plain": [
       "[{'station name': 'Central_University_of_Technology',\n",
       "  'latitude': '-29.121',\n",
       "  'longitude': '26.216',\n",
       "  'elevation (m)': 1397},\n",
       " {'station name': 'CRSES_Mintek',\n",
       "  'latitude': '-26.089',\n",
       "  'longitude': '27.978',\n",
       "  'elevation (m)': 1521},\n",
       " {'station name': 'CSIR_Energy_Centre',\n",
       "  'latitude': '-25.747',\n",
       "  'longitude': '28.279',\n",
       "  'elevation (m)': 1400},\n",
       " {'station name': 'Eskom_Sutherland',\n",
       "  'latitude': '-32.222',\n",
       "  'longitude': '20.348',\n",
       "  'elevation (m)': 1450},\n",
       " {'station name': 'Eskom_Sutherland_SALT',\n",
       "  'latitude': '-32.378',\n",
       "  'longitude': '20.812',\n",
       "  'elevation (m)': 1761},\n",
       " {'station name': 'GIZ_Graaff_Reinet',\n",
       "  'latitude': '-32.485',\n",
       "  'longitude': '24.586',\n",
       "  'elevation (m)': 660},\n",
       " {'station name': 'GIZ_Murraysburg',\n",
       "  'latitude': '-31.890',\n",
       "  'longitude': '24.056',\n",
       "  'elevation (m)': 1548},\n",
       " {'station name': 'GIZ_Richtersveld',\n",
       "  'latitude': '-28.561',\n",
       "  'longitude': '16.761',\n",
       "  'elevation (m)': 141},\n",
       " {'station name': 'GIZ_University_of_Free_State',\n",
       "  'latitude': '-29.111',\n",
       "  'longitude': '26.185',\n",
       "  'elevation (m)': 1491},\n",
       " {'station name': 'GIZ_University_of_Pretoria',\n",
       "  'latitude': '-25.753',\n",
       "  'longitude': '28.229',\n",
       "  'elevation (m)': 1410},\n",
       " {'station name': 'GIZ_Vanrhynsdorp',\n",
       "  'latitude': '-31.617',\n",
       "  'longitude': '18.738',\n",
       "  'elevation (m)': 130},\n",
       " {'station name': 'Ilanga_CSP_Plant',\n",
       "  'latitude': '-28.490',\n",
       "  'longitude': '21.520',\n",
       "  'elevation (m)': 884},\n",
       " {'station name': 'Mangosuthu_University_of_Technology',\n",
       "  'latitude': '-29.970',\n",
       "  'longitude': '30.915',\n",
       "  'elevation (m)': 95},\n",
       " {'station name': 'Nelson_Mandela_University',\n",
       "  'latitude': '-34.009',\n",
       "  'longitude': '25.665',\n",
       "  'elevation (m)': 35},\n",
       " {'station name': 'Stellenbosch_University',\n",
       "  'latitude': '-33.928',\n",
       "  'longitude': '18.865',\n",
       "  'elevation (m)': 119},\n",
       " {'station name': 'University_of_KwaZulu_Natal_Howard_College',\n",
       "  'latitude': '-29.871',\n",
       "  'longitude': '30.977',\n",
       "  'elevation (m)': 150},\n",
       " {'station name': 'University_of_KwaZulu_Natal_Pietermaritzburg',\n",
       "  'latitude': '-29.621',\n",
       "  'longitude': '30.397',\n",
       "  'elevation (m)': 680},\n",
       " {'station name': 'University_of_KwaZulu_Natal_Westville',\n",
       "  'latitude': '-29.817',\n",
       "  'longitude': '30.945',\n",
       "  'elevation (m)': 200},\n",
       " {'station name': 'University_of_Zululand',\n",
       "  'latitude': '-28.853',\n",
       "  'longitude': '31.852',\n",
       "  'elevation (m)': 90},\n",
       " {'station name': 'USAid_Gaborone',\n",
       "  'latitude': '-24.661',\n",
       "  'longitude': '25.934',\n",
       "  'elevation (m)': 1014},\n",
       " {'station name': 'USAid_Namibian_University_of_Science_and_Technology',\n",
       "  'latitude': '-22.565',\n",
       "  'longitude': '17.075',\n",
       "  'elevation (m)': 1683},\n",
       " {'station name': 'USAid_University_of_Fort_Hare',\n",
       "  'latitude': '-32.785',\n",
       "  'longitude': '26.845',\n",
       "  'elevation (m)': 540},\n",
       " {'station name': 'USAid_Venda',\n",
       "  'latitude': '-23.131',\n",
       "  'longitude': '30.424',\n",
       "  'elevation (m)': 628}]"
      ]
     },
     "execution_count": 5,
     "metadata": {},
     "output_type": "execute_result"
    }
   ],
   "source": [
    "metadata"
   ]
  },
  {
   "cell_type": "markdown",
   "id": "f0786a51-1e2c-422f-b143-0f19d14533f6",
   "metadata": {},
   "source": [
    "# Save"
   ]
  },
  {
   "cell_type": "code",
   "execution_count": 10,
   "id": "45eb99fd-14b6-44c2-9fa2-c82e98e41612",
   "metadata": {
    "tags": []
   },
   "outputs": [],
   "source": [
    "with open(os.path.join(ticket_path_sau, 'metadata/data.txt'), 'w') as f:\n",
    "  json.dump(metadata, f, ensure_ascii=False)"
   ]
  },
  {
   "cell_type": "code",
   "execution_count": 5,
   "id": "1c616e5f-1e33-461f-978e-c2b3f1b08fe1",
   "metadata": {
    "tags": []
   },
   "outputs": [],
   "source": [
    "with open(os.path.join(ticket_path_sau, 'metadata/data.json'), 'w') as f:\n",
    "  json.dump(metadata, f, ensure_ascii=False)"
   ]
  },
  {
   "cell_type": "code",
   "execution_count": 12,
   "id": "fbf4aca7-89c9-4837-9587-b5bee2136547",
   "metadata": {
    "tags": []
   },
   "outputs": [],
   "source": [
    "metadata_df = pd.DataFrame(metadata)\n",
    "metadata_df.to_csv(os.path.join(ticket_path_sau, 'metadata/data.csv'), index=False)"
   ]
  }
 ],
 "metadata": {
  "kernelspec": {
   "display_name": "lhn_internship",
   "language": "python",
   "name": "lhn_internship"
  },
  "language_info": {
   "codemirror_mode": {
    "name": "ipython",
    "version": 3
   },
   "file_extension": ".py",
   "mimetype": "text/x-python",
   "name": "python",
   "nbconvert_exporter": "python",
   "pygments_lexer": "ipython3",
   "version": "3.10.13"
  }
 },
 "nbformat": 4,
 "nbformat_minor": 5
}
