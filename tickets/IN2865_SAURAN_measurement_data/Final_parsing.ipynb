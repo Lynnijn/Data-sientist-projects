{
 "cells": [
  {
   "cell_type": "code",
   "execution_count": 1,
   "id": "47d44cd2-e062-4d86-b04c-44c5a4f5dbe5",
   "metadata": {
    "tags": []
   },
   "outputs": [],
   "source": [
    "import pandas as pd\n",
    "import json\n",
    "import os\n",
    "import glob\n",
    "\n",
    "import sys\n",
    "from pathlib import Path\n",
    "sys.path.insert(0,str(Path(os.path.abspath('.')).parent.parent))\n",
    "import library.validation.parsing as parsing\n",
    "import library.validation.SAURAN.final_parsing as f_parsing"
   ]
  },
  {
   "cell_type": "code",
   "execution_count": 2,
   "id": "0b05230e-a98e-404d-a0bb-ffc2d8c4ca35",
   "metadata": {
    "tags": []
   },
   "outputs": [],
   "source": [
    "ticket_path_sau = \"/home/lhn3e/OneDrive-3E/Research/Solar/tickets/2023/IN2865_SAURAN_measurement_data\"\n",
    "intermediate_path_sau =  os.path.join(ticket_path_sau, 'intermediate_data')\n",
    "final_path_sau =  os.path.join(ticket_path_sau, 'final_data')\n",
    "meta_path_sau =  os.path.join(ticket_path_sau, 'metadata')\n"
   ]
  },
  {
   "cell_type": "code",
   "execution_count": 3,
   "id": "3ffc8313-2635-46d3-823f-4c0c7b60a15b",
   "metadata": {
    "tags": []
   },
   "outputs": [],
   "source": [
    "metadata = pd.read_csv(os.path.join(meta_path_sau, 'data.csv'))\n"
   ]
  },
  {
   "cell_type": "code",
   "execution_count": 4,
   "id": "78a80c02-35a9-4a29-ac1a-b64807087521",
   "metadata": {
    "tags": []
   },
   "outputs": [
    {
     "name": "stdout",
     "output_type": "stream",
     "text": [
      "Saved central_university_of_technology\n",
      "Saved crses_mintek\n",
      "Saved csir_energy_centre\n",
      "Saved eskom_sutherland\n",
      "Saved eskom_sutherland_salt\n",
      "Saved giz_graaff_reinet\n",
      "Saved giz_murraysburg\n",
      "Saved giz_richtersveld\n",
      "Saved giz_university_of_free_state\n",
      "Saved giz_university_of_pretoria\n",
      "Saved giz_vanrhynsdorp\n",
      "Saved ilanga_csp_plant\n",
      "Saved mangosuthu_university_of_technology\n",
      "Saved nelson_mandela_university\n",
      "Saved stellenbosch_university\n",
      "Saved university_of_kwazulu_natal_howard_college\n",
      "Saved university_of_kwazulu_natal_pietermaritzburg\n",
      "Saved university_of_kwazulu_natal_westville\n",
      "Saved university_of_zululand\n",
      "Saved usaid_gaborone\n",
      "Saved usaid_namibian_university_of_science_and_technology\n",
      "Saved usaid_university_of_fort_hare\n",
      "Saved usaid_venda\n"
     ]
    }
   ],
   "source": [
    "files = glob.glob(os.path.join(intermediate_path_sau, '*.csv'))\n",
    "station_name = []\n",
    "\n",
    "for file in files:\n",
    "    name = os.path.splitext(os.path.basename(file))[0]\n",
    "    normalized_name = parsing.normalize_station_name(name)\n",
    "    \n",
    "    df = pd.read_csv(file, index_col = 0)\n",
    "    \n",
    "    df_p = f_parsing.final_parse(df, metadata, name)\n",
    "    \n",
    "    df_p.to_csv(os.path.join(final_path_sau, f'{normalized_name}.csv'), index_label = 'datetime')\n",
    "    print(f'Saved {normalized_name}')"
   ]
  }
 ],
 "metadata": {
  "kernelspec": {
   "display_name": "lhn_internship",
   "language": "python",
   "name": "lhn_internship"
  },
  "language_info": {
   "codemirror_mode": {
    "name": "ipython",
    "version": 3
   },
   "file_extension": ".py",
   "mimetype": "text/x-python",
   "name": "python",
   "nbconvert_exporter": "python",
   "pygments_lexer": "ipython3",
   "version": "3.10.13"
  }
 },
 "nbformat": 4,
 "nbformat_minor": 5
}
