{
 "cells": [
  {
   "cell_type": "code",
   "execution_count": 1,
   "id": "903d56d5-9e4c-4703-b23a-a9c5d296f0bf",
   "metadata": {
    "tags": []
   },
   "outputs": [],
   "source": [
    "import os\n",
    "import json\n",
    "\n",
    "import warnings\n",
    "warnings.filterwarnings(\"ignore\")\n",
    "\n",
    "import sys\n",
    "from pathlib import Path\n",
    "sys.path.insert(0,str(Path(os.path.abspath('.')).parent.parent))\n",
    "import library.validation.SAURAN.reading as reading\n",
    "import library.validation.SAURAN.parsing as parsing"
   ]
  },
  {
   "cell_type": "code",
   "execution_count": 2,
   "id": "ea1af5c5-9da6-4401-b565-d4445f4a706f",
   "metadata": {
    "tags": []
   },
   "outputs": [],
   "source": [
    "ticket_path_sau = \"/home/lhn3e/OneDrive-3E/Research/Solar/tickets/2023/IN2865_SAURAN_measurement_data\"\n",
    "raw_path_sau =  os.path.join(ticket_path_sau, 'raw_data')\n",
    "intermediate_path_sau =  os.path.join(ticket_path_sau, 'intermediate_data')"
   ]
  },
  {
   "cell_type": "code",
   "execution_count": 3,
   "id": "0bce11f6-0d75-4bfe-a1b6-d48fe7cddc73",
   "metadata": {
    "tags": []
   },
   "outputs": [],
   "source": [
    "with open(os.path.join(ticket_path_sau,'metadata/data.json'), 'r') as file:\n",
    "    stations_metadata_json = file.read()\n",
    "\n",
    "stations_metadata = json.loads(stations_metadata_json)\n"
   ]
  },
  {
   "cell_type": "code",
   "execution_count": 5,
   "id": "74fe8c30-2a84-422a-bd24-f04b54d7beb1",
   "metadata": {
    "tags": []
   },
   "outputs": [
    {
     "name": "stdout",
     "output_type": "stream",
     "text": [
      "Saved Central_University_of_Technology.csv\n",
      "Saved CRSES_Mintek.csv\n",
      "Saved CSIR_Energy_Centre.csv\n",
      "Saved Eskom_Sutherland.csv\n",
      "Saved Eskom_Sutherland_SALT.csv\n",
      "Saved GIZ_Graaff_Reinet.csv\n",
      "Saved GIZ_Murraysburg.csv\n",
      "Saved GIZ_Richtersveld.csv\n",
      "Saved GIZ_University_of_Free_State.csv\n",
      "Saved GIZ_University_of_Pretoria.csv\n",
      "Saved GIZ_Vanrhynsdorp.csv\n",
      "Saved Ilanga_CSP_Plant.csv\n",
      "Saved Mangosuthu_University_of_Technology.csv\n",
      "Saved Nelson_Mandela_University.csv\n",
      "Saved Stellenbosch_University.csv\n",
      "Saved University_of_KwaZulu_Natal_Howard_College.csv\n",
      "Saved University_of_KwaZulu_Natal_Pietermaritzburg.csv\n",
      "Saved University_of_KwaZulu_Natal_Westville.csv\n",
      "Saved University_of_Zululand.csv\n",
      "Saved USAid_Gaborone.csv\n",
      "Saved USAid_Namibian_University_of_Science_and_Technology.csv\n",
      "Saved USAid_University_of_Fort_Hare.csv\n",
      "Saved USAid_Venda.csv\n"
     ]
    }
   ],
   "source": [
    "for station in stations_metadata:\n",
    "    station_name = f\"{station['station name']}\"\n",
    "    \n",
    "    station_data = reading.read_data_for_station_csv(raw_path_sau, station_name)\n",
    "    \n",
    "    if station_name in ['Eskom_Sutherland','Eskom_Sutherland_SALT']:\n",
    "        df = parsing.parse_sau(station_data, [3,2,4])\n",
    "    elif station_name == 'Mangosuthu_University_of_Technology':\n",
    "        df = parsing.parse_sau(station_data, [9,5,13])\n",
    "    elif station_name in ['Nelson_Mandela_University', 'University_of_KwaZulu_Natal_Howard_College']:\n",
    "        df = parsing.parse_sau(station_data, [6,4,5])\n",
    "    elif station_name == 'Stellenbosch_University':\n",
    "        df = parsing.parse_sau(station_data, [5,2,4])\n",
    "    elif station_name in ['University_of_KwaZulu_Natal_Pietermaritzburg', 'University_of_KwaZulu_Natal_Westville']:\n",
    "        df = parsing.parse_sau(station_data, [4,2,3])\n",
    "    elif station_name in ['USAid_Namibian_University_of_Science_and_Technology', 'USAid_University_of_Fort_Hare']:        \n",
    "        df = parsing.parse_sau(station_data, [4,6,5])\n",
    "    else:\n",
    "        df = parsing.parse_sau(station_data, [2,4,3])\n",
    "        \n",
    "        \n",
    "\n",
    "    file_name = f\"{station_name}.csv\"\n",
    "    file_path = os.path.join(intermediate_path_sau, file_name)\n",
    "    df.to_csv(file_path, index_label = 'DateTime')\n",
    "    print(f\"Saved {file_name}\")\n"
   ]
  }
 ],
 "metadata": {
  "kernelspec": {
   "display_name": "lhn_internship",
   "language": "python",
   "name": "lhn_internship"
  },
  "language_info": {
   "codemirror_mode": {
    "name": "ipython",
    "version": 3
   },
   "file_extension": ".py",
   "mimetype": "text/x-python",
   "name": "python",
   "nbconvert_exporter": "python",
   "pygments_lexer": "ipython3",
   "version": "3.10.13"
  }
 },
 "nbformat": 4,
 "nbformat_minor": 5
}
