{
 "cells": [
  {
   "cell_type": "code",
   "execution_count": 1,
   "id": "34447f45-ed0d-47d2-94a8-4f58010f5b26",
   "metadata": {
    "tags": []
   },
   "outputs": [],
   "source": [
    "import os\n",
    "from pathlib import Path\n",
    "import json\n",
    "import pandas as pd\n",
    "\n",
    "import sys\n",
    "sys.path.insert(0,str(Path(os.path.abspath('.')).parent.parent))\n",
    "from library.solar_resource_api.request_data import HistoricalRequest"
   ]
  },
  {
   "cell_type": "markdown",
   "id": "e9f235dd-2f1d-4b07-97a9-74321d6d3704",
   "metadata": {},
   "source": [
    "## configuration"
   ]
  },
  {
   "cell_type": "code",
   "execution_count": 2,
   "id": "249ed087-a400-4958-aee0-73a85b36f719",
   "metadata": {
    "tags": []
   },
   "outputs": [],
   "source": [
    "SOLAR_RESOURCE_KEY = os.environ[\"EEE_SOLAR_API_LEGACY_KEY\"]"
   ]
  },
  {
   "cell_type": "code",
   "execution_count": 3,
   "id": "8a8fdbcf-9c90-418a-a3c3-38589b6d48cb",
   "metadata": {
    "tags": []
   },
   "outputs": [],
   "source": [
    "solar_resource_url = \"https://api.3elabs.eu/solardata?\""
   ]
  },
  {
   "cell_type": "code",
   "execution_count": 4,
   "id": "7bb2dae6-7360-493f-9b32-d81e05677d12",
   "metadata": {
    "tags": []
   },
   "outputs": [],
   "source": [
    "requests = {\n",
    "    \"3e_office\": {\n",
    "        \"latitude\": 50.85,\n",
    "        \"longitude\": 4.35,\n",
    "        \"resolution\": \"h\",\n",
    "        \"start\": \"2022-01-01\",\n",
    "        \"end\": \"2024-01-01\",\n",
    "        \"variables\": [\"global_horizontal\"],\n",
    "    },\n",
    "}"
   ]
  },
  {
   "cell_type": "code",
   "execution_count": 5,
   "id": "c008b0bf-9bc8-4632-b63b-146568bcb6e4",
   "metadata": {
    "tags": []
   },
   "outputs": [],
   "source": [
    "output_dir = Path.home()/\"OneDrive-3E/RD_ResourceData/Research/Solar/tickets/2024/IN3043_accuracy_factors_analysis/IN3275_use_solar_resource_api\""
   ]
  },
  {
   "cell_type": "markdown",
   "id": "7fbb12c6-5449-49f4-a145-e68254969abc",
   "metadata": {},
   "source": [
    "## request data"
   ]
  },
  {
   "cell_type": "code",
   "execution_count": 6,
   "id": "1646e220-910d-47c9-ad2d-6e698852db80",
   "metadata": {
    "tags": []
   },
   "outputs": [
    {
     "name": "stdout",
     "output_type": "stream",
     "text": [
      "3e_office start\n",
      "3e_office completed\n"
     ]
    }
   ],
   "source": [
    "for request in requests:\n",
    "\n",
    "    historical_request = HistoricalRequest(\n",
    "        latitude=requests[request][\"latitude\"],\n",
    "        longitude=requests[request][\"longitude\"],\n",
    "        variables=requests[request][\"variables\"],\n",
    "        resolution=requests[request][\"resolution\"],\n",
    "        start=requests[request][\"start\"],\n",
    "        end=requests[request][\"end\"],\n",
    "    )\n",
    "\n",
    "    print(f\"{request} start\")\n",
    "    prod_results_json, execution_time = historical_request.legacy_post_and_get_results(\n",
    "        token=SOLAR_RESOURCE_KEY,\n",
    "        url=solar_resource_url)\n",
    "    print(f\"{request} completed\")\n",
    "    \n",
    "    data = pd.DataFrame(prod_results_json[\"data\"], index=pd.DatetimeIndex(prod_results_json[\"index\"]), columns=prod_results_json[\"columns\"])\n",
    "    \n",
    "    data.to_csv(os.path.join(output_dir, f\"{request}.csv\"))"
   ]
  }
 ],
 "metadata": {
  "kernelspec": {
   "display_name": "lhn_internship",
   "language": "python",
   "name": "lhn_internship"
  },
  "language_info": {
   "codemirror_mode": {
    "name": "ipython",
    "version": 3
   },
   "file_extension": ".py",
   "mimetype": "text/x-python",
   "name": "python",
   "nbconvert_exporter": "python",
   "pygments_lexer": "ipython3",
   "version": "3.10.12"
  }
 },
 "nbformat": 4,
 "nbformat_minor": 5
}
