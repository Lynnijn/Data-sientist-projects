{
 "cells": [
  {
   "cell_type": "code",
   "execution_count": 1,
   "id": "0c87bee2-12fb-4139-88d9-dcd56b6795c6",
   "metadata": {
    "tags": []
   },
   "outputs": [],
   "source": [
    "import os\n",
    "from pathlib import Path\n",
    "import numpy as np\n",
    "import pandas as pd\n",
    "\n",
    "from validation import mbe, nmbe, rmse, nrmse, get_summary_from_validation_metrics"
   ]
  },
  {
   "cell_type": "code",
   "execution_count": 19,
   "id": "4a4607f9-f332-4f17-990d-19b4467e4d92",
   "metadata": {
    "tags": []
   },
   "outputs": [],
   "source": [
    "data_path = Path.home()/\"OneDrive-3E/Research/Solar/tickets/2024/IN3043_accuracy_factors_analysis/IN3136_EURAC_shared_folder/data_sites\"\n",
    "results_path = Path.home()/\"OneDrive-3E/Research/Solar/tickets/2024/IN3043_accuracy_factors_analysis/IN3136_EURAC_shared_folder/validation_removed\""
   ]
  },
  {
   "cell_type": "markdown",
   "id": "463a6ded-a732-46ed-94f0-70cd9751565a",
   "metadata": {
    "tags": []
   },
   "source": [
    "## read sites metadata"
   ]
  },
  {
   "cell_type": "code",
   "execution_count": 5,
   "id": "8c9ced3d-200c-49cc-a124-dc419cab87e9",
   "metadata": {
    "tags": []
   },
   "outputs": [
    {
     "data": {
      "text/html": [
       "<div>\n",
       "<style scoped>\n",
       "    .dataframe tbody tr th:only-of-type {\n",
       "        vertical-align: middle;\n",
       "    }\n",
       "\n",
       "    .dataframe tbody tr th {\n",
       "        vertical-align: top;\n",
       "    }\n",
       "\n",
       "    .dataframe thead th {\n",
       "        text-align: right;\n",
       "    }\n",
       "</style>\n",
       "<table border=\"1\" class=\"dataframe\">\n",
       "  <thead>\n",
       "    <tr style=\"text-align: right;\">\n",
       "      <th></th>\n",
       "      <th>country</th>\n",
       "      <th>latitude</th>\n",
       "      <th>longitude</th>\n",
       "      <th>altitude</th>\n",
       "      <th>provider</th>\n",
       "    </tr>\n",
       "    <tr>\n",
       "      <th>station_name</th>\n",
       "      <th></th>\n",
       "      <th></th>\n",
       "      <th></th>\n",
       "      <th></th>\n",
       "      <th></th>\n",
       "    </tr>\n",
       "  </thead>\n",
       "  <tbody>\n",
       "    <tr>\n",
       "      <th>camborne</th>\n",
       "      <td>United Kingdom</td>\n",
       "      <td>50.22</td>\n",
       "      <td>-5.32</td>\n",
       "      <td>88.0</td>\n",
       "      <td>bsrn</td>\n",
       "    </tr>\n",
       "    <tr>\n",
       "      <th>carpentras</th>\n",
       "      <td>France</td>\n",
       "      <td>44.08</td>\n",
       "      <td>5.06</td>\n",
       "      <td>100.0</td>\n",
       "      <td>bsrn</td>\n",
       "    </tr>\n",
       "    <tr>\n",
       "      <th>budapest_lorinc</th>\n",
       "      <td>Hungary</td>\n",
       "      <td>47.43</td>\n",
       "      <td>19.18</td>\n",
       "      <td>139.0</td>\n",
       "      <td>bsrn</td>\n",
       "    </tr>\n",
       "    <tr>\n",
       "      <th>magurele_mars</th>\n",
       "      <td>Romania</td>\n",
       "      <td>44.34</td>\n",
       "      <td>26.01</td>\n",
       "      <td>110.0</td>\n",
       "      <td>bsrn</td>\n",
       "    </tr>\n",
       "    <tr>\n",
       "      <th>cabauw</th>\n",
       "      <td>Netherlands</td>\n",
       "      <td>51.97</td>\n",
       "      <td>4.93</td>\n",
       "      <td>0.0</td>\n",
       "      <td>bsrn</td>\n",
       "    </tr>\n",
       "    <tr>\n",
       "      <th>...</th>\n",
       "      <td>...</td>\n",
       "      <td>...</td>\n",
       "      <td>...</td>\n",
       "      <td>...</td>\n",
       "      <td>...</td>\n",
       "    </tr>\n",
       "    <tr>\n",
       "      <th>dublin_arpt</th>\n",
       "      <td>Ireland</td>\n",
       "      <td>53.43</td>\n",
       "      <td>-6.23</td>\n",
       "      <td>82.0</td>\n",
       "      <td>wrdc</td>\n",
       "    </tr>\n",
       "    <tr>\n",
       "      <th>grossenzersdorf</th>\n",
       "      <td>Austria</td>\n",
       "      <td>48.20</td>\n",
       "      <td>16.57</td>\n",
       "      <td>157.0</td>\n",
       "      <td>wrdc</td>\n",
       "    </tr>\n",
       "    <tr>\n",
       "      <th>gonzaga</th>\n",
       "      <td>Italy</td>\n",
       "      <td>44.96</td>\n",
       "      <td>10.77</td>\n",
       "      <td>16.0</td>\n",
       "      <td>lombardy</td>\n",
       "    </tr>\n",
       "    <tr>\n",
       "      <th>landriano</th>\n",
       "      <td>Italy</td>\n",
       "      <td>45.32</td>\n",
       "      <td>9.27</td>\n",
       "      <td>88.0</td>\n",
       "      <td>lombardy</td>\n",
       "    </tr>\n",
       "    <tr>\n",
       "      <th>cornale</th>\n",
       "      <td>Italy</td>\n",
       "      <td>45.04</td>\n",
       "      <td>8.91</td>\n",
       "      <td>74.0</td>\n",
       "      <td>lombardy</td>\n",
       "    </tr>\n",
       "  </tbody>\n",
       "</table>\n",
       "<p>80 rows × 5 columns</p>\n",
       "</div>"
      ],
      "text/plain": [
       "                        country  latitude  longitude  altitude  provider\n",
       "station_name                                                            \n",
       "camborne         United Kingdom     50.22      -5.32      88.0      bsrn\n",
       "carpentras               France     44.08       5.06     100.0      bsrn\n",
       "budapest_lorinc         Hungary     47.43      19.18     139.0      bsrn\n",
       "magurele_mars           Romania     44.34      26.01     110.0      bsrn\n",
       "cabauw              Netherlands     51.97       4.93       0.0      bsrn\n",
       "...                         ...       ...        ...       ...       ...\n",
       "dublin_arpt             Ireland     53.43      -6.23      82.0      wrdc\n",
       "grossenzersdorf         Austria     48.20      16.57     157.0      wrdc\n",
       "gonzaga                   Italy     44.96      10.77      16.0  lombardy\n",
       "landriano                 Italy     45.32       9.27      88.0  lombardy\n",
       "cornale                   Italy     45.04       8.91      74.0  lombardy\n",
       "\n",
       "[80 rows x 5 columns]"
      ]
     },
     "execution_count": 5,
     "metadata": {},
     "output_type": "execute_result"
    }
   ],
   "source": [
    "sites_metadata = pd.read_csv(os.path.join(data_path, \"sites_metadata.csv\"), index_col=0)\n",
    "sites_metadata"
   ]
  },
  {
   "cell_type": "markdown",
   "id": "d80d80d9-0f54-451d-9587-9ce555bf8ab7",
   "metadata": {},
   "source": [
    "## based on daily data"
   ]
  },
  {
   "cell_type": "markdown",
   "id": "ebe7ab6f-b974-4c2a-a917-8d0ed51ec9ea",
   "metadata": {},
   "source": [
    "### read data"
   ]
  },
  {
   "cell_type": "code",
   "execution_count": 6,
   "id": "64d29ea9-5588-47b7-bab9-f0ec3fe330cc",
   "metadata": {},
   "outputs": [],
   "source": [
    "reference_data = pd.read_csv(os.path.join(data_path, \"parsed_removed\", \"parsed_removed_reference_data.csv\"), index_col=0)\n",
    "model_data = pd.read_csv(os.path.join(data_path, \"parsed_removed\", \"parsed_removed_model_data.csv\"), index_col=0)"
   ]
  },
  {
   "cell_type": "code",
   "execution_count": 7,
   "id": "079709cc-ad8a-4167-95fd-32a6c8bcf111",
   "metadata": {},
   "outputs": [],
   "source": [
    "# convert index in pd.DateTimeIndex\n",
    "reference_data.index = pd.DatetimeIndex(reference_data.index)\n",
    "model_data.index = pd.DatetimeIndex(model_data.index)"
   ]
  },
  {
   "cell_type": "markdown",
   "id": "954cbc41-6f4e-45c3-888d-2b6a2bc1c440",
   "metadata": {},
   "source": [
    "### parse"
   ]
  },
  {
   "cell_type": "code",
   "execution_count": 8,
   "id": "21c889c1-ffbf-4b28-a810-50bce98e0246",
   "metadata": {},
   "outputs": [],
   "source": [
    "# convert to nan where the other dataset is nan\n",
    "reference_data = reference_data.where(model_data.notna())\n",
    "model_data = model_data.where(reference_data.notna())"
   ]
  },
  {
   "cell_type": "code",
   "execution_count": 9,
   "id": "5574e87b-118d-484e-9a15-7badf2012117",
   "metadata": {},
   "outputs": [],
   "source": [
    "# aggregate\n",
    "reference_data_monthly = reference_data.resample('MS').sum(min_count=1)\n",
    "model_data_monthly = model_data.resample('MS').sum(min_count=1)\n",
    "reference_data_yearly = reference_data.resample('AS').sum(min_count=1)\n",
    "model_data_yearly = model_data.resample('AS').sum(min_count=1)"
   ]
  },
  {
   "cell_type": "markdown",
   "id": "d8af3aad-90b9-4265-befd-4c306619c490",
   "metadata": {},
   "source": [
    "### calculate sites validation metrics"
   ]
  },
  {
   "cell_type": "code",
   "execution_count": 10,
   "id": "2344c42b-7c3a-4ebc-8f9c-4e2237b35f05",
   "metadata": {},
   "outputs": [],
   "source": [
    "valid_data_pairs_daily = reference_data.count()"
   ]
  },
  {
   "cell_type": "code",
   "execution_count": 12,
   "id": "306e7e6b-3e4e-4db7-b24a-c18188d75629",
   "metadata": {},
   "outputs": [],
   "source": [
    "validation_metrics = 100 * pd.DataFrame({site: {\n",
    "    \"nmbe\": nmbe(model_data[site], reference_data[site]),\n",
    "    \"nrmse_yearly\": nrmse(model_data_yearly[site], reference_data_yearly[site]),\n",
    "    \"nrmse_monthly\": nrmse(model_data_monthly[site], reference_data_monthly[site]),\n",
    "    \"nrmse_daily\": nrmse(model_data[site], reference_data[site]),\n",
    "} for site in reference_data.columns}).T    "
   ]
  },
  {
   "cell_type": "code",
   "execution_count": 13,
   "id": "cad58ee0-1ea1-4d22-a7ae-05c4f9f97b46",
   "metadata": {},
   "outputs": [],
   "source": [
    "validation_metrics[\"valid_data_pairs_daily\"] = valid_data_pairs_daily"
   ]
  },
  {
   "cell_type": "markdown",
   "id": "65851c24-c07a-463e-b50f-39e68a0b1be8",
   "metadata": {},
   "source": [
    "## concat"
   ]
  },
  {
   "cell_type": "code",
   "execution_count": 14,
   "id": "e42ab489-464b-4051-9953-30bf516a7ec5",
   "metadata": {},
   "outputs": [],
   "source": [
    "columns_round_2 = [\"nmbe\", \"nrmse_yearly\", \"nrmse_monthly\", \"nrmse_daily\"]"
   ]
  },
  {
   "cell_type": "code",
   "execution_count": 15,
   "id": "0b478a3b-560f-4231-8152-e1af8f07ec7d",
   "metadata": {},
   "outputs": [],
   "source": [
    "columns_int = [\"valid_data_pairs_daily\"]"
   ]
  },
  {
   "cell_type": "code",
   "execution_count": 16,
   "id": "bb807a93-af25-4937-93c2-20f015e310ca",
   "metadata": {},
   "outputs": [],
   "source": [
    "for column in list(validation_metrics.columns):\n",
    "    \n",
    "    if column in columns_round_2:\n",
    "        \n",
    "        validation_metrics[column] = round(validation_metrics[column], 2)\n",
    "    \n",
    "    elif column in columns_int:\n",
    "        \n",
    "        validation_metrics[column] = validation_metrics[column].astype('Int64')"
   ]
  },
  {
   "cell_type": "code",
   "execution_count": 17,
   "id": "4827018f-8f66-4372-bdd9-553e4bf68bff",
   "metadata": {
    "tags": []
   },
   "outputs": [],
   "source": [
    "validation_metrics = validation_metrics[[\"nmbe\", \"nrmse_yearly\", \"nrmse_monthly\", \"nrmse_daily\", \"valid_data_pairs_daily\"]]"
   ]
  },
  {
   "cell_type": "code",
   "execution_count": 20,
   "id": "6b97d3a3-4ac3-48bd-a28b-5ce305a4082d",
   "metadata": {
    "tags": []
   },
   "outputs": [],
   "source": [
    "validation_metrics.to_csv(os.path.join(results_path, \"validation_results_sites.csv\"))"
   ]
  },
  {
   "cell_type": "code",
   "execution_count": 18,
   "id": "de4160d7-e233-4390-b93d-bcb383ddeeab",
   "metadata": {
    "tags": []
   },
   "outputs": [
    {
     "data": {
      "text/html": [
       "<div>\n",
       "<style scoped>\n",
       "    .dataframe tbody tr th:only-of-type {\n",
       "        vertical-align: middle;\n",
       "    }\n",
       "\n",
       "    .dataframe tbody tr th {\n",
       "        vertical-align: top;\n",
       "    }\n",
       "\n",
       "    .dataframe thead th {\n",
       "        text-align: right;\n",
       "    }\n",
       "</style>\n",
       "<table border=\"1\" class=\"dataframe\">\n",
       "  <thead>\n",
       "    <tr style=\"text-align: right;\">\n",
       "      <th></th>\n",
       "      <th>nmbe</th>\n",
       "      <th>nrmse_yearly</th>\n",
       "      <th>nrmse_monthly</th>\n",
       "      <th>nrmse_daily</th>\n",
       "      <th>valid_data_pairs_daily</th>\n",
       "    </tr>\n",
       "  </thead>\n",
       "  <tbody>\n",
       "    <tr>\n",
       "      <th>camborne</th>\n",
       "      <td>-1.56</td>\n",
       "      <td>2.25</td>\n",
       "      <td>2.87</td>\n",
       "      <td>9.90</td>\n",
       "      <td>941</td>\n",
       "    </tr>\n",
       "    <tr>\n",
       "      <th>carpentras</th>\n",
       "      <td>-0.46</td>\n",
       "      <td>0.79</td>\n",
       "      <td>2.25</td>\n",
       "      <td>6.23</td>\n",
       "      <td>1459</td>\n",
       "    </tr>\n",
       "    <tr>\n",
       "      <th>budapest_lorinc</th>\n",
       "      <td>-0.21</td>\n",
       "      <td>0.37</td>\n",
       "      <td>2.50</td>\n",
       "      <td>6.64</td>\n",
       "      <td>935</td>\n",
       "    </tr>\n",
       "    <tr>\n",
       "      <th>magurele_mars</th>\n",
       "      <td>-0.12</td>\n",
       "      <td>0.12</td>\n",
       "      <td>2.78</td>\n",
       "      <td>6.35</td>\n",
       "      <td>244</td>\n",
       "    </tr>\n",
       "    <tr>\n",
       "      <th>cabauw</th>\n",
       "      <td>0.06</td>\n",
       "      <td>0.63</td>\n",
       "      <td>2.18</td>\n",
       "      <td>7.64</td>\n",
       "      <td>2547</td>\n",
       "    </tr>\n",
       "    <tr>\n",
       "      <th>...</th>\n",
       "      <td>...</td>\n",
       "      <td>...</td>\n",
       "      <td>...</td>\n",
       "      <td>...</td>\n",
       "      <td>...</td>\n",
       "    </tr>\n",
       "    <tr>\n",
       "      <th>zuerich_kloten</th>\n",
       "      <td>0.77</td>\n",
       "      <td>1.00</td>\n",
       "      <td>2.68</td>\n",
       "      <td>7.44</td>\n",
       "      <td>2192</td>\n",
       "    </tr>\n",
       "    <tr>\n",
       "      <th>basel</th>\n",
       "      <td>2.36</td>\n",
       "      <td>2.63</td>\n",
       "      <td>3.72</td>\n",
       "      <td>7.86</td>\n",
       "      <td>2192</td>\n",
       "    </tr>\n",
       "    <tr>\n",
       "      <th>gurteen</th>\n",
       "      <td>2.35</td>\n",
       "      <td>2.52</td>\n",
       "      <td>4.56</td>\n",
       "      <td>10.82</td>\n",
       "      <td>2192</td>\n",
       "    </tr>\n",
       "    <tr>\n",
       "      <th>dublin_arpt</th>\n",
       "      <td>3.36</td>\n",
       "      <td>3.49</td>\n",
       "      <td>5.24</td>\n",
       "      <td>9.97</td>\n",
       "      <td>2187</td>\n",
       "    </tr>\n",
       "    <tr>\n",
       "      <th>grossenzersdorf</th>\n",
       "      <td>5.93</td>\n",
       "      <td>6.07</td>\n",
       "      <td>6.86</td>\n",
       "      <td>9.84</td>\n",
       "      <td>2192</td>\n",
       "    </tr>\n",
       "  </tbody>\n",
       "</table>\n",
       "<p>79 rows × 5 columns</p>\n",
       "</div>"
      ],
      "text/plain": [
       "                 nmbe  nrmse_yearly  nrmse_monthly  nrmse_daily  \\\n",
       "camborne        -1.56          2.25           2.87         9.90   \n",
       "carpentras      -0.46          0.79           2.25         6.23   \n",
       "budapest_lorinc -0.21          0.37           2.50         6.64   \n",
       "magurele_mars   -0.12          0.12           2.78         6.35   \n",
       "cabauw           0.06          0.63           2.18         7.64   \n",
       "...               ...           ...            ...          ...   \n",
       "zuerich_kloten   0.77          1.00           2.68         7.44   \n",
       "basel            2.36          2.63           3.72         7.86   \n",
       "gurteen          2.35          2.52           4.56        10.82   \n",
       "dublin_arpt      3.36          3.49           5.24         9.97   \n",
       "grossenzersdorf  5.93          6.07           6.86         9.84   \n",
       "\n",
       "                 valid_data_pairs_daily  \n",
       "camborne                            941  \n",
       "carpentras                         1459  \n",
       "budapest_lorinc                     935  \n",
       "magurele_mars                       244  \n",
       "cabauw                             2547  \n",
       "...                                 ...  \n",
       "zuerich_kloten                     2192  \n",
       "basel                              2192  \n",
       "gurteen                            2192  \n",
       "dublin_arpt                        2187  \n",
       "grossenzersdorf                    2192  \n",
       "\n",
       "[79 rows x 5 columns]"
      ]
     },
     "execution_count": 18,
     "metadata": {},
     "output_type": "execute_result"
    }
   ],
   "source": [
    "validation_metrics"
   ]
  }
 ],
 "metadata": {
  "kernelspec": {
   "display_name": "Python 3 (ipykernel)",
   "language": "python",
   "name": "python3"
  },
  "language_info": {
   "codemirror_mode": {
    "name": "ipython",
    "version": 3
   },
   "file_extension": ".py",
   "mimetype": "text/x-python",
   "name": "python",
   "nbconvert_exporter": "python",
   "pygments_lexer": "ipython3",
   "version": "3.10.13"
  }
 },
 "nbformat": 4,
 "nbformat_minor": 5
}
