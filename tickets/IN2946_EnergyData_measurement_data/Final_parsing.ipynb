{
 "cells": [
  {
   "cell_type": "code",
   "execution_count": 1,
   "id": "04afe045-0ff2-4358-8788-d284e2c6f36c",
   "metadata": {
    "tags": []
   },
   "outputs": [],
   "source": [
    "import pandas as pd\n",
    "import os\n",
    "import glob\n",
    "\n",
    "import warnings\n",
    "warnings.filterwarnings(\"ignore\")\n",
    "\n",
    "import sys\n",
    "from pathlib import Path\n",
    "sys.path.insert(0,str(Path(os.path.abspath('.')).parent.parent))\n",
    "import library.validation.parsing as parsing\n",
    "import library.validation.EnergyData.final_parsing as f_parsing"
   ]
  },
  {
   "cell_type": "code",
   "execution_count": 2,
   "id": "245bddfe-8817-4e22-9588-542f775ac0af",
   "metadata": {
    "tags": []
   },
   "outputs": [],
   "source": [
    "ticket_path_nep = \"/home/lhn3e/OneDrive-3E/Research/Solar/tickets/2023/IN2946_EnergyData_measurement_data\"\n",
    "final_path_nep =  os.path.join(ticket_path_nep, 'final_data')\n",
    "intermediate_path_nep =  os.path.join(ticket_path_nep, 'intermediate_data')\n",
    "meta_path_nep =  os.path.join(ticket_path_nep, 'metadata')\n"
   ]
  },
  {
   "cell_type": "code",
   "execution_count": 3,
   "id": "5e1e969b-ac3e-4b99-b2d6-1ad43b746eaa",
   "metadata": {
    "tags": []
   },
   "outputs": [],
   "source": [
    "files = glob.glob(os.path.join(intermediate_path_nep, '*.csv'))\n",
    "data = pd.read_csv(os.path.join(meta_path_nep, 'data.csv'))"
   ]
  },
  {
   "cell_type": "code",
   "execution_count": 4,
   "id": "e0372861-86e7-47f3-8d69-e6c3165e5e0d",
   "metadata": {
    "tags": []
   },
   "outputs": [
    {
     "name": "stdout",
     "output_type": "stream",
     "text": [
      "Saved bdfe2_feni\n",
      "Saved ceb_substation_dapaong_togo\n",
      "Saved ceb_substation_davie_togo\n",
      "Saved ceb_substation_malanville_benin\n",
      "Saved ceb_substation_parakou_benin\n",
      "Saved ci_energies_substation_korhogo_côte_d_ivoire\n",
      "Saved ci_energies_substation_sérébou_côte_d_ivoire\n",
      "Saved edg_substation_kankan_guinea\n",
      "Saved edm_sa_substation_in_bougouni_mali\n",
      "Saved edm_sa_substation_in_fana_mali\n",
      "Saved edm_sa_substation_sikasso_mali\n",
      "Saved gridco_substation_navrongo_ghana\n",
      "Saved hrazdan\n",
      "Saved lbama_lari_tal_amara\n",
      "Saved lbras_ras_baalbak\n",
      "Saved masrik\n",
      "Saved meteorological_institut_bissau_guinea_bissau\n",
      "Saved meteorological_institut_gabu_guinea_bissau\n",
      "Saved mount_coffee_hydro_power_plant_liberia\n",
      "Saved mv_solar_gan_gan\n",
      "Saved mv_solar_hanimaadhoo_haq\n",
      "Saved mv_solar_kadhdhoo_kdo\n",
      "Saved mv_solar_male_mle\n",
      "Saved mw_solar_chileka_dccms\n",
      "Saved mw_solar_kasungu_dccms\n",
      "Saved mw_solar_mzuzu_umz\n",
      "Saved nawec_power_station_farafenni_the_gambia\n",
      "Saved nigelec_substation_lossa_niger\n",
      "Saved nigelec_substation_maradi_niger\n",
      "Saved np_solar_dharan_ioe\n",
      "Saved np_solar_jumla_hotelkanjirowa\n",
      "Saved np_solar_kathmandu_ioe\n",
      "Saved np_solar_lumle_dhm\n",
      "Saved np_solar_nepalgunj_narc\n",
      "Saved open_field_zabori_niger\n",
      "Saved pk_solar_hyderabad_muet\n",
      "Saved pk_solar_islamabad_nust\n",
      "Saved pk_solar_karachi_neduet\n",
      "Saved pk_solar_khuzdar_buet\n",
      "Saved pk_solar_lahore_uet\n",
      "Saved pk_solar_multan_msnuet\n",
      "Saved pk_solar_peshawar_uet\n",
      "Saved pk_solar_quetta_buitems\n",
      "Saved sanankoroba_mali\n",
      "Saved senelec_substation_ourossogui_senegal\n",
      "Saved senelec_substation_tambacounda_senegal\n",
      "Saved sn_solar_fatick_ifc\n",
      "Saved sn_solar_kahone_ifc\n",
      "Saved sn_solar_touba_ifc\n",
      "Saved sogem_substation_manatali_mali\n",
      "Saved solar_dar_es_salaam_world_bank\n",
      "Saved solar_dodoma_world_bank\n",
      "Saved solar_homa_bay_world_bank\n",
      "Saved solar_laisamis_world_bank\n",
      "Saved solar_makunduchi_world_bank\n",
      "Saved solar_narok_world_bank\n",
      "Saved solar_shinyanga_world_bank\n",
      "Saved solar_soroti_world_bank\n",
      "Saved solar_wadelai_world_bank\n",
      "Saved sonabel_substation_dori_burkina_faso\n",
      "Saved sonabel_substation_dédougou_burkina_faso\n",
      "Saved sonabel_substation_kaya_burkina_faso\n",
      "Saved sonabel_substation_koupéla_burkina_faso\n",
      "Saved talin\n",
      "Saved tarambaly_guinea\n",
      "Saved tcn_substation_bauchi_nigeria\n",
      "Saved tcn_substation_kano_nigeria\n",
      "Saved transco_clsg_substation_buchanan_liberia\n",
      "Saved transco_clsg_substation_bumbuna_sierra_leone\n",
      "Saved transco_clsg_substation_kenema_sierra_leone\n",
      "Saved transco_clsg_substation_yekepa_liberia\n",
      "Saved university_of_fiapre_sunyani_ghana\n",
      "Saved vnceh_central_highlands\n",
      "Saved vndan_da_nang\n",
      "Saved vnhan_hanoi\n",
      "Saved vnsob_song_binh\n",
      "Saved vntra_tri_an\n",
      "Saved yerevanagro\n",
      "Saved zm_solar_chilanga_zari\n",
      "Saved zm_solar_choma_zari\n",
      "Saved zm_solar_fig_tree_ifc\n",
      "Saved zm_solar_kaoma_zari\n",
      "Saved zm_solar_kasama_zari\n",
      "Saved zm_solar_lusaka_unza\n",
      "Saved zm_solar_mumbwa_ifc\n",
      "Saved zm_solar_mutanda_zari\n",
      "Saved zm_solar_ndeke_ifc\n"
     ]
    }
   ],
   "source": [
    "for file in files:\n",
    "    name = os.path.splitext(os.path.basename(file))[0]\n",
    "    normalized_name = parsing.normalize_station_name(name)\n",
    "    \n",
    "    df = pd.read_csv(file, index_col = 0)\n",
    "    \n",
    "    df_p = f_parsing.final_parse(df, normalized_name, name, data)\n",
    "    \n",
    "    df_p.to_csv(os.path.join(final_path_nep, f'{normalized_name}.csv'), index_label = 'datetime')\n",
    "    print(f'Saved {normalized_name}')"
   ]
  }
 ],
 "metadata": {
  "kernelspec": {
   "display_name": "lhn_internship",
   "language": "python",
   "name": "lhn_internship"
  },
  "language_info": {
   "codemirror_mode": {
    "name": "ipython",
    "version": 3
   },
   "file_extension": ".py",
   "mimetype": "text/x-python",
   "name": "python",
   "nbconvert_exporter": "python",
   "pygments_lexer": "ipython3",
   "version": "3.10.13"
  }
 },
 "nbformat": 4,
 "nbformat_minor": 5
}
