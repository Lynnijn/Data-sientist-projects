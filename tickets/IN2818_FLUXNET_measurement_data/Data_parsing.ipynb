{
 "cells": [
  {
   "cell_type": "code",
   "execution_count": 1,
   "id": "1a688663-a31f-4521-8c9d-66d90566c5ec",
   "metadata": {
    "tags": []
   },
   "outputs": [],
   "source": [
    "import os\n",
    "import json\n",
    "\n",
    "import sys\n",
    "from pathlib import Path\n",
    "sys.path.insert(0,str(Path(os.path.abspath('.')).parent.parent))\n",
    "import library.validation.FLUXNET.parsing as parsing"
   ]
  },
  {
   "cell_type": "code",
   "execution_count": 2,
   "id": "edd4b369-ba4b-49ad-bc70-b7c1f1fcb6c6",
   "metadata": {
    "tags": []
   },
   "outputs": [],
   "source": [
    "ticket_path_flu = \"/home/lhn3e/OneDrive-3E/Research/Solar/tickets/2023/IN2818_FLUXNET_measurement_data\"\n",
    "raw_path_flu =  os.path.join(ticket_path_flu, 'raw_data')\n",
    "intermediate_path_flu =  os.path.join(ticket_path_flu, 'intermediate_data')"
   ]
  },
  {
   "cell_type": "code",
   "execution_count": 6,
   "id": "75bae219-f40c-4218-a53b-003d5074c0e8",
   "metadata": {
    "tags": []
   },
   "outputs": [],
   "source": [
    "with open(os.path.join(ticket_path_flu,'metadata/data.json'), 'r') as file:\n",
    "    stations_metadata_json = file.read()\n",
    "\n",
    "stations_metadata = json.loads(json.loads(stations_metadata_json))\n"
   ]
  },
  {
   "cell_type": "code",
   "execution_count": 7,
   "id": "8b507396-6147-4f83-b970-b4c17a283699",
   "metadata": {
    "tags": []
   },
   "outputs": [
    {
     "name": "stdout",
     "output_type": "stream",
     "text": [
      "Saved Neustift.csv\n",
      "Saved Northern Pantanal Wetland.csv\n",
      "Saved Guma.csv\n",
      "Saved Nxaraga.csv\n",
      "Saved Scotty Creek Bog.csv\n",
      "Saved Scotty Creek Landscape.csv\n",
      "Saved Chamau.csv\n",
      "Saved Davos.csv\n",
      "Saved Oensingen crop.csv\n",
      "Saved Hongyuan.csv\n",
      "Saved Dagowsee.csv\n",
      "Saved Huetelmoor.csv\n",
      "Saved Schechenfilz Nord.csv\n",
      "Saved Zarnekow.csv\n",
      "Saved Hyytiala.csv\n",
      "Saved Lompolojankka.csv\n",
      "Saved Siikaneva−2 Bog.csv\n",
      "Saved Siikaneva.csv\n",
      "Saved La Guette.csv\n",
      "Saved Mai Po Mangrove.csv\n",
      "Saved Palangkaraya undrained forest.csv\n",
      "Saved Borgo Cioffi.csv\n",
      "Saved Castellaro.csv\n",
      "Saved Bibai bog.csv\n",
      "Saved Mase rice paddy field.csv\n",
      "Saved Suwa Lake.csv\n",
      "Saved Cheorwon Rice paddy.csv\n",
      "Saved Maludam National Park.csv\n",
      "Saved Horstermeer.csv\n",
      "Saved Kopuatai.csv\n",
      "Saved Philippines Rice Instituteflooded.csv\n",
      "Saved Chersky reference.csv\n",
      "Saved Cherski.csv\n",
      "Saved Chokurdakh.csv\n",
      "Saved Fyodorovskoye dry spruce.csv\n",
      "Saved Degero.csv\n",
      "Saved ARM−AMF3−Oliktok.csv\n",
      "Saved ARM−NSA−Barrow.csv\n",
      "Saved Atqasuk.csv\n",
      "Saved Barrow EnvironmentalObservatory (BEO) tower.csv\n",
      "Saved Barrow-Bes (BiocomplexityExperiment South tower).csv\n",
      "Saved Bouldin Island Alfalfa.csv\n",
      "Saved Bouldin Island corn.csv\n",
      "Saved Bonanza Creek Thermokarst Bog.csv\n",
      "Saved Bonanza Creek Rich Fen.csv\n",
      "Saved Bonanza Creek Black Spruce.csv\n",
      "Saved Curtice Walter−Bergercropland.csv\n",
      "Saved Disney Wilderness Preserve Wetland.csv\n",
      "Saved Eden Landing EcologicalReserve.csv\n",
      "Saved Eight Mile Lake Permafrostthaw gradient, Healy Alaska.csv\n",
      "Saved Howland Forest (main tower).csv\n",
      "Saved Humnoke Farm Rice Field– Field A.csv\n",
      "Saved Humnoke Farm Rice Field – Field C.csv\n",
      "Saved Imnavait Creek Watershed Wet Sedge Tundra.csv\n",
      "Saved Ivotuk.csv\n",
      "Saved Pointe-aux-Chenes  BrackishMarsh.csv\n",
      "Saved Salvador WMA FreshwaterMarsh.csv\n",
      "Saved Lost Creek.csv\n",
      "Saved MacArthur Agro-Ecology.csv\n",
      "Saved Marsh Resource Meadowlands Mitigation Bank.csv\n",
      "Saved Mayberry Wetland.csv\n",
      "Saved NC_AlligatorRiver.csv\n",
      "Saved NGEE Arctic Barrow.csv\n",
      "Saved NGEE Arctic Council.csv\n",
      "Saved Olentangy River Wetland Research Park.csv\n",
      "Saved Old Woman Creek.csv\n",
      "Saved Park Falls-WLEF.csv\n",
      "Saved Sherman Island.csv\n",
      "Saved Sherman Island RestoredWetland.csv\n",
      "Saved Suisun marsh − Rush Ranch.csv\n",
      "Saved St Jones Reserve.csv\n",
      "Saved Twitchell Wetland West Pond.csv\n",
      "Saved Twitchell Alfalfa.csv\n",
      "Saved Twitchell East End Wetland.csv\n",
      "Saved East Pond Wetland.csv\n",
      "Saved Twitchell Island.csv\n",
      "Saved University of Alaska, Fairbanks.csv\n",
      "Saved Winous Point North Marsh.csv\n"
     ]
    }
   ],
   "source": [
    "for station in stations_metadata:\n",
    "    station_name = f\"{station['station_name']}\"\n",
    "    \n",
    "    \n",
    "    if station_name != 'London_BT':\n",
    "        station_data = parsing.read_data_for_station_csv(station_name)\n",
    "\n",
    "\n",
    "        df = parsing.parse_flu(station_data)\n",
    "\n",
    "\n",
    "        file_name = f\"{station_name}.csv\"\n",
    "        file_path = os.path.join(intermediate_path_flu, file_name)\n",
    "        df.to_csv(file_path)\n",
    "        print(f\"Saved {file_name}\")\n"
   ]
  }
 ],
 "metadata": {
  "kernelspec": {
   "display_name": "lhn_internship",
   "language": "python",
   "name": "lhn_internship"
  },
  "language_info": {
   "codemirror_mode": {
    "name": "ipython",
    "version": 3
   },
   "file_extension": ".py",
   "mimetype": "text/x-python",
   "name": "python",
   "nbconvert_exporter": "python",
   "pygments_lexer": "ipython3",
   "version": "3.10.13"
  }
 },
 "nbformat": 4,
 "nbformat_minor": 5
}
