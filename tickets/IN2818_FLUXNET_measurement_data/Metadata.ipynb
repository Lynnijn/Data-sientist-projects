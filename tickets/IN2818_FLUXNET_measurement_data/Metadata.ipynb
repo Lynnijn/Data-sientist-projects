{
 "cells": [
  {
   "cell_type": "code",
   "execution_count": 1,
   "id": "8012b10b-6e2b-4596-92d4-c9ed7c20e5de",
   "metadata": {
    "tags": []
   },
   "outputs": [],
   "source": [
    "import pandas as pd\n",
    "import os\n",
    "import json"
   ]
  },
  {
   "cell_type": "code",
   "execution_count": 2,
   "id": "27eb012e-3ff4-4097-a2e7-dec3f2441eb3",
   "metadata": {
    "tags": []
   },
   "outputs": [],
   "source": [
    "ticket_path_flu = \"/home/lhn3e/OneDrive-3E/Research/Solar/tickets/2023/IN2818_FLUXNET_measurement_data\"\n"
   ]
  },
  {
   "cell_type": "code",
   "execution_count": 3,
   "id": "6cdf3a6f-de24-4ed7-b896-dc7457ebd684",
   "metadata": {
    "tags": []
   },
   "outputs": [],
   "source": [
    "df = pd.read_excel(os.path.join(ticket_path_flu,'metadata/data.xlsx'))\n",
    "\n",
    "metadata = df[['station name', 'country', 'latitude', 'longitude']].copy()\n",
    "\n",
    "metadata.columns = ['station_name', 'country', 'latitude', 'longitude']"
   ]
  },
  {
   "cell_type": "code",
   "execution_count": 4,
   "id": "96e67f33-0202-4c20-a164-07c01212fe62",
   "metadata": {
    "tags": []
   },
   "outputs": [],
   "source": [
    "metadata[['latitude', 'longitude']] = metadata[['latitude', 'longitude']].apply(pd.to_numeric)"
   ]
  },
  {
   "cell_type": "code",
   "execution_count": 5,
   "id": "3223e5ba-ac88-4a29-afbd-54063e383d94",
   "metadata": {
    "tags": []
   },
   "outputs": [
    {
     "data": {
      "text/html": [
       "<div>\n",
       "<style scoped>\n",
       "    .dataframe tbody tr th:only-of-type {\n",
       "        vertical-align: middle;\n",
       "    }\n",
       "\n",
       "    .dataframe tbody tr th {\n",
       "        vertical-align: top;\n",
       "    }\n",
       "\n",
       "    .dataframe thead th {\n",
       "        text-align: right;\n",
       "    }\n",
       "</style>\n",
       "<table border=\"1\" class=\"dataframe\">\n",
       "  <thead>\n",
       "    <tr style=\"text-align: right;\">\n",
       "      <th></th>\n",
       "      <th>station_name</th>\n",
       "      <th>country</th>\n",
       "      <th>latitude</th>\n",
       "      <th>longitude</th>\n",
       "    </tr>\n",
       "  </thead>\n",
       "  <tbody>\n",
       "    <tr>\n",
       "      <th>0</th>\n",
       "      <td>Neustift</td>\n",
       "      <td>Austria</td>\n",
       "      <td>47.117</td>\n",
       "      <td>11.318</td>\n",
       "    </tr>\n",
       "    <tr>\n",
       "      <th>1</th>\n",
       "      <td>Northern Pantanal Wetland</td>\n",
       "      <td>Brazil</td>\n",
       "      <td>-16.498</td>\n",
       "      <td>-56.412</td>\n",
       "    </tr>\n",
       "    <tr>\n",
       "      <th>2</th>\n",
       "      <td>Guma</td>\n",
       "      <td>Botswana</td>\n",
       "      <td>-18.965</td>\n",
       "      <td>22.371</td>\n",
       "    </tr>\n",
       "    <tr>\n",
       "      <th>3</th>\n",
       "      <td>Nxaraga</td>\n",
       "      <td>Botswana</td>\n",
       "      <td>-19.548</td>\n",
       "      <td>23.179</td>\n",
       "    </tr>\n",
       "    <tr>\n",
       "      <th>4</th>\n",
       "      <td>Scotty Creek Bog</td>\n",
       "      <td>Canada</td>\n",
       "      <td>61.309</td>\n",
       "      <td>-121.298</td>\n",
       "    </tr>\n",
       "    <tr>\n",
       "      <th>...</th>\n",
       "      <td>...</td>\n",
       "      <td>...</td>\n",
       "      <td>...</td>\n",
       "      <td>...</td>\n",
       "    </tr>\n",
       "    <tr>\n",
       "      <th>74</th>\n",
       "      <td>Twitchell East End Wetland</td>\n",
       "      <td>USA</td>\n",
       "      <td>38.103</td>\n",
       "      <td>-121.641</td>\n",
       "    </tr>\n",
       "    <tr>\n",
       "      <th>75</th>\n",
       "      <td>East Pond Wetland</td>\n",
       "      <td>USA</td>\n",
       "      <td>38.107</td>\n",
       "      <td>-121.643</td>\n",
       "    </tr>\n",
       "    <tr>\n",
       "      <th>76</th>\n",
       "      <td>Twitchell Island</td>\n",
       "      <td>USA</td>\n",
       "      <td>38.109</td>\n",
       "      <td>-121.653</td>\n",
       "    </tr>\n",
       "    <tr>\n",
       "      <th>77</th>\n",
       "      <td>University of Alaska, Fairbanks</td>\n",
       "      <td>USA</td>\n",
       "      <td>64.866</td>\n",
       "      <td>-147.856</td>\n",
       "    </tr>\n",
       "    <tr>\n",
       "      <th>78</th>\n",
       "      <td>Winous Point North Marsh</td>\n",
       "      <td>USA</td>\n",
       "      <td>41.465</td>\n",
       "      <td>-82.996</td>\n",
       "    </tr>\n",
       "  </tbody>\n",
       "</table>\n",
       "<p>79 rows × 4 columns</p>\n",
       "</div>"
      ],
      "text/plain": [
       "                       station_name   country  latitude  longitude\n",
       "0                          Neustift   Austria    47.117     11.318\n",
       "1         Northern Pantanal Wetland    Brazil   -16.498    -56.412\n",
       "2                              Guma  Botswana   -18.965     22.371\n",
       "3                           Nxaraga  Botswana   -19.548     23.179\n",
       "4                  Scotty Creek Bog    Canada    61.309   -121.298\n",
       "..                              ...       ...       ...        ...\n",
       "74       Twitchell East End Wetland       USA    38.103   -121.641\n",
       "75                East Pond Wetland       USA    38.107   -121.643\n",
       "76                 Twitchell Island       USA    38.109   -121.653\n",
       "77  University of Alaska, Fairbanks       USA    64.866   -147.856\n",
       "78         Winous Point North Marsh       USA    41.465    -82.996\n",
       "\n",
       "[79 rows x 4 columns]"
      ]
     },
     "execution_count": 5,
     "metadata": {},
     "output_type": "execute_result"
    }
   ],
   "source": [
    "metadata"
   ]
  },
  {
   "cell_type": "code",
   "execution_count": 6,
   "id": "d5390022-68db-4c6e-ba6f-0826319398ca",
   "metadata": {
    "tags": []
   },
   "outputs": [],
   "source": [
    "with open(os.path.join(ticket_path_flu, 'metadata/data.json'), 'w') as f:\n",
    "  json.dump(metadata.to_json(orient='records'), f, ensure_ascii=False)"
   ]
  },
  {
   "cell_type": "code",
   "execution_count": 7,
   "id": "16340ce5-c17b-476c-b471-05a9c7fb19cd",
   "metadata": {
    "tags": []
   },
   "outputs": [],
   "source": [
    "metadata.to_csv(os.path.join(ticket_path_flu, 'metadata/data.csv'), index=False)"
   ]
  }
 ],
 "metadata": {
  "kernelspec": {
   "display_name": "lhn_internship",
   "language": "python",
   "name": "lhn_internship"
  },
  "language_info": {
   "codemirror_mode": {
    "name": "ipython",
    "version": 3
   },
   "file_extension": ".py",
   "mimetype": "text/x-python",
   "name": "python",
   "nbconvert_exporter": "python",
   "pygments_lexer": "ipython3",
   "version": "3.10.13"
  }
 },
 "nbformat": 4,
 "nbformat_minor": 5
}
