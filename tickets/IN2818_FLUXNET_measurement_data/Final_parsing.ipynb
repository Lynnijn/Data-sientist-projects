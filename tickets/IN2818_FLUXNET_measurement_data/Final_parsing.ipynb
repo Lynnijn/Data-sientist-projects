{
 "cells": [
  {
   "cell_type": "code",
   "execution_count": 1,
   "id": "f13ac416-1564-45fc-acfe-f9f95a9b89e4",
   "metadata": {
    "tags": []
   },
   "outputs": [],
   "source": [
    "import pandas as pd\n",
    "import json\n",
    "import os\n",
    "import glob\n",
    "\n",
    "import sys\n",
    "from pathlib import Path\n",
    "sys.path.insert(0,str(Path(os.path.abspath('.')).parent.parent))\n",
    "import library.validation.parsing as parsing\n",
    "import library.validation.FLUXNET.final_parsing as f_parsing"
   ]
  },
  {
   "cell_type": "code",
   "execution_count": 2,
   "id": "2f7c48de-90f8-4eb8-b134-aab5fe486f90",
   "metadata": {
    "tags": []
   },
   "outputs": [],
   "source": [
    "ticket_path_flu = \"/home/lhn3e/OneDrive-3E/Research/Solar/tickets/2023/IN2818_FLUXNET_measurement_data\"\n",
    "intermediate_path_flu =  os.path.join(ticket_path_flu, 'intermediate_data')\n",
    "final_path_flu =  os.path.join(ticket_path_flu, 'final_data')"
   ]
  },
  {
   "cell_type": "code",
   "execution_count": 3,
   "id": "0195e1a9-cf7b-4f82-98e2-96202459aeac",
   "metadata": {
    "tags": []
   },
   "outputs": [
    {
     "name": "stdout",
     "output_type": "stream",
     "text": [
      "Saved arm_amf3_oliktok\n",
      "Saved arm_nsa_barrow\n",
      "Saved atqasuk\n",
      "Saved barrow_environmentalobservatory_beo_tower\n",
      "Saved barrow_bes_biocomplexityexperiment_south_tower\n",
      "Saved bibai_bog\n",
      "Saved bonanza_creek_black_spruce\n",
      "Saved bonanza_creek_rich_fen\n",
      "Saved bonanza_creek_thermokarst_bog\n",
      "Saved borgo_cioffi\n",
      "Saved bouldin_island_alfalfa\n",
      "Saved bouldin_island_corn\n",
      "Saved castellaro\n",
      "Saved chamau\n",
      "Saved cheorwon_rice_paddy\n",
      "Saved cherski\n",
      "Saved chersky_reference\n",
      "Saved chokurdakh\n",
      "Saved curtice_walter−bergercropland\n",
      "Saved dagowsee\n",
      "Saved davos\n",
      "Saved degero\n",
      "Saved disney_wilderness_preserve_wetland\n",
      "Saved east_pond_wetland\n",
      "Saved eden_landing_ecologicalreserve\n",
      "Saved eight_mile_lake_permafrostthaw_gradient_healy_alaska\n",
      "Saved fyodorovskoye_dry_spruce\n",
      "Saved guma\n",
      "Saved hongyuan\n",
      "Saved horstermeer\n",
      "Saved howland_forest_main_tower\n",
      "Saved huetelmoor\n",
      "Saved humnoke_farm_rice_field_–_field_c\n",
      "Saved humnoke_farm_rice_field–_field_a\n",
      "Saved hyytiala\n",
      "Saved imnavait_creek_watershed_wet_sedge_tundra\n",
      "Saved ivotuk\n",
      "Saved kopuatai\n",
      "Saved la_guette\n",
      "Saved lompolojankka\n",
      "Saved lost_creek\n",
      "Saved macarthur_agro_ecology\n",
      "Saved mai_po_mangrove\n",
      "Saved maludam_national_park\n",
      "Saved marsh_resource_meadowlands_mitigation_bank\n",
      "Saved mase_rice_paddy_field\n",
      "Saved mayberry_wetland\n",
      "Saved nc_alligatorriver\n",
      "Saved neustift\n",
      "Saved ngee_arctic_barrow\n",
      "Saved ngee_arctic_council\n",
      "Saved northern_pantanal_wetland\n",
      "Saved nxaraga\n",
      "Saved oensingen_crop\n",
      "Saved old_woman_creek\n",
      "Saved olentangy_river_wetland_research_park\n",
      "Saved palangkaraya_undrained_forest\n",
      "Saved park_falls_wlef\n",
      "Saved park_fallswlef\n",
      "Saved philippines_rice_instituteflooded\n",
      "Saved pointe_aux_chenes_brackishmarsh\n",
      "Saved salvador_wma_freshwatermarsh\n",
      "Saved schechenfilz_nord\n",
      "Saved scotty_creek_bog\n",
      "Saved scotty_creek_landscape\n",
      "Saved sherman_island_restoredwetland\n",
      "Saved sherman_island\n",
      "Saved siikaneva\n",
      "Saved siikaneva−2_bog\n",
      "Saved st_jones_reserve\n",
      "Saved suisun_marsh_−_rush_ranch\n",
      "Saved suwa_lake\n",
      "Saved twitchell_alfalfa\n",
      "Saved twitchell_east_end_wetland\n",
      "Saved twitchell_island\n",
      "Saved twitchell_wetland_west_pond\n",
      "Saved university_of_alaska_fairbanks\n",
      "Saved winous_point_north_marsh\n",
      "Saved zarnekow\n"
     ]
    }
   ],
   "source": [
    "files = glob.glob(os.path.join(intermediate_path_flu, '*.csv'))\n",
    "station_name = []\n",
    "\n",
    "for file in files:\n",
    "    name = os.path.splitext(os.path.basename(file))[0]\n",
    "    normalized_name = parsing.normalize_station_name(name)\n",
    "    \n",
    "    df = pd.read_csv(file, index_col = 0)\n",
    "    \n",
    "    df_p = f_parsing.final_parse(df)\n",
    "    \n",
    "    df_p.to_csv(os.path.join(final_path_flu, f'{normalized_name}.csv'), index_label = 'datetime')\n",
    "    print(f'Saved {normalized_name}')"
   ]
  }
 ],
 "metadata": {
  "kernelspec": {
   "display_name": "lhn_internship",
   "language": "python",
   "name": "lhn_internship"
  },
  "language_info": {
   "codemirror_mode": {
    "name": "ipython",
    "version": 3
   },
   "file_extension": ".py",
   "mimetype": "text/x-python",
   "name": "python",
   "nbconvert_exporter": "python",
   "pygments_lexer": "ipython3",
   "version": "3.10.13"
  }
 },
 "nbformat": 4,
 "nbformat_minor": 5
}
