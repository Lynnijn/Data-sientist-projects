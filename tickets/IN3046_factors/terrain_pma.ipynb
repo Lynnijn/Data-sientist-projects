{
 "cells": [
  {
   "cell_type": "code",
   "execution_count": 1,
   "id": "700c5823-5117-4e31-ba8d-924819ce6081",
   "metadata": {
    "tags": []
   },
   "outputs": [],
   "source": [
    "import os\n",
    "import pandas as pd\n",
    "from pathlib import Path\n",
    "import rasterio"
   ]
  },
  {
   "cell_type": "code",
   "execution_count": 2,
   "id": "b5451a70-1e78-4500-9d09-8a20842f72bf",
   "metadata": {
    "tags": []
   },
   "outputs": [],
   "source": [
    "metadata_file = Path.home()/\"OneDrive-3E/RD_ResourceData/Research/Solar/tickets/2024/IN3043_accuracy_factors_analysis/IN3136_EURAC_shared_folder/data_sites/sites_metadata.csv\""
   ]
  },
  {
   "cell_type": "code",
   "execution_count": 3,
   "id": "12dca3a8-e53e-4db5-980c-62b80e00b463",
   "metadata": {
    "tags": []
   },
   "outputs": [],
   "source": [
    "tif_file = Path.home()/\"OneDrive-3E/RD_ResourceData/Research/Solar/tickets/2024/IN3043_accuracy_factors_analysis/terrain_complexity/amatulli_2018/tri_1KMmd_GMTEDmd.tif\""
   ]
  },
  {
   "cell_type": "markdown",
   "id": "a436fb7a-4ad5-411c-a3f6-c0450b16ed33",
   "metadata": {},
   "source": [
    "## read metadata"
   ]
  },
  {
   "cell_type": "code",
   "execution_count": 4,
   "id": "2e0b6122-54c8-46ad-b6db-fca0eafe74c2",
   "metadata": {
    "tags": []
   },
   "outputs": [
    {
     "data": {
      "text/html": [
       "<div>\n",
       "<style scoped>\n",
       "    .dataframe tbody tr th:only-of-type {\n",
       "        vertical-align: middle;\n",
       "    }\n",
       "\n",
       "    .dataframe tbody tr th {\n",
       "        vertical-align: top;\n",
       "    }\n",
       "\n",
       "    .dataframe thead th {\n",
       "        text-align: right;\n",
       "    }\n",
       "</style>\n",
       "<table border=\"1\" class=\"dataframe\">\n",
       "  <thead>\n",
       "    <tr style=\"text-align: right;\">\n",
       "      <th></th>\n",
       "      <th>country</th>\n",
       "      <th>latitude</th>\n",
       "      <th>longitude</th>\n",
       "      <th>altitude</th>\n",
       "      <th>provider</th>\n",
       "    </tr>\n",
       "    <tr>\n",
       "      <th>station_name</th>\n",
       "      <th></th>\n",
       "      <th></th>\n",
       "      <th></th>\n",
       "      <th></th>\n",
       "      <th></th>\n",
       "    </tr>\n",
       "  </thead>\n",
       "  <tbody>\n",
       "    <tr>\n",
       "      <th>camborne</th>\n",
       "      <td>United Kingdom</td>\n",
       "      <td>50.22</td>\n",
       "      <td>-5.32</td>\n",
       "      <td>88.0</td>\n",
       "      <td>bsrn</td>\n",
       "    </tr>\n",
       "    <tr>\n",
       "      <th>carpentras</th>\n",
       "      <td>France</td>\n",
       "      <td>44.08</td>\n",
       "      <td>5.06</td>\n",
       "      <td>100.0</td>\n",
       "      <td>bsrn</td>\n",
       "    </tr>\n",
       "    <tr>\n",
       "      <th>budapest_lorinc</th>\n",
       "      <td>Hungary</td>\n",
       "      <td>47.43</td>\n",
       "      <td>19.18</td>\n",
       "      <td>139.0</td>\n",
       "      <td>bsrn</td>\n",
       "    </tr>\n",
       "    <tr>\n",
       "      <th>magurele_mars</th>\n",
       "      <td>Romania</td>\n",
       "      <td>44.34</td>\n",
       "      <td>26.01</td>\n",
       "      <td>110.0</td>\n",
       "      <td>bsrn</td>\n",
       "    </tr>\n",
       "    <tr>\n",
       "      <th>cabauw</th>\n",
       "      <td>Netherlands</td>\n",
       "      <td>51.97</td>\n",
       "      <td>4.93</td>\n",
       "      <td>0.0</td>\n",
       "      <td>bsrn</td>\n",
       "    </tr>\n",
       "    <tr>\n",
       "      <th>...</th>\n",
       "      <td>...</td>\n",
       "      <td>...</td>\n",
       "      <td>...</td>\n",
       "      <td>...</td>\n",
       "      <td>...</td>\n",
       "    </tr>\n",
       "    <tr>\n",
       "      <th>dublin_arpt</th>\n",
       "      <td>Ireland</td>\n",
       "      <td>53.43</td>\n",
       "      <td>-6.23</td>\n",
       "      <td>82.0</td>\n",
       "      <td>wrdc</td>\n",
       "    </tr>\n",
       "    <tr>\n",
       "      <th>grossenzersdorf</th>\n",
       "      <td>Austria</td>\n",
       "      <td>48.20</td>\n",
       "      <td>16.57</td>\n",
       "      <td>157.0</td>\n",
       "      <td>wrdc</td>\n",
       "    </tr>\n",
       "    <tr>\n",
       "      <th>gonzaga</th>\n",
       "      <td>Italy</td>\n",
       "      <td>44.96</td>\n",
       "      <td>10.77</td>\n",
       "      <td>16.0</td>\n",
       "      <td>lombardy</td>\n",
       "    </tr>\n",
       "    <tr>\n",
       "      <th>landriano</th>\n",
       "      <td>Italy</td>\n",
       "      <td>45.32</td>\n",
       "      <td>9.27</td>\n",
       "      <td>88.0</td>\n",
       "      <td>lombardy</td>\n",
       "    </tr>\n",
       "    <tr>\n",
       "      <th>cornale</th>\n",
       "      <td>Italy</td>\n",
       "      <td>45.04</td>\n",
       "      <td>8.91</td>\n",
       "      <td>74.0</td>\n",
       "      <td>lombardy</td>\n",
       "    </tr>\n",
       "  </tbody>\n",
       "</table>\n",
       "<p>80 rows × 5 columns</p>\n",
       "</div>"
      ],
      "text/plain": [
       "                        country  latitude  longitude  altitude  provider\n",
       "station_name                                                            \n",
       "camborne         United Kingdom     50.22      -5.32      88.0      bsrn\n",
       "carpentras               France     44.08       5.06     100.0      bsrn\n",
       "budapest_lorinc         Hungary     47.43      19.18     139.0      bsrn\n",
       "magurele_mars           Romania     44.34      26.01     110.0      bsrn\n",
       "cabauw              Netherlands     51.97       4.93       0.0      bsrn\n",
       "...                         ...       ...        ...       ...       ...\n",
       "dublin_arpt             Ireland     53.43      -6.23      82.0      wrdc\n",
       "grossenzersdorf         Austria     48.20      16.57     157.0      wrdc\n",
       "gonzaga                   Italy     44.96      10.77      16.0  lombardy\n",
       "landriano                 Italy     45.32       9.27      88.0  lombardy\n",
       "cornale                   Italy     45.04       8.91      74.0  lombardy\n",
       "\n",
       "[80 rows x 5 columns]"
      ]
     },
     "execution_count": 4,
     "metadata": {},
     "output_type": "execute_result"
    }
   ],
   "source": [
    "sites_metadata = pd.read_csv(metadata_file, index_col=0)\n",
    "sites_metadata"
   ]
  },
  {
   "cell_type": "markdown",
   "id": "3984b8a7-837a-4402-9c0d-275015c1399a",
   "metadata": {},
   "source": [
    "## read tif file"
   ]
  },
  {
   "cell_type": "code",
   "execution_count": 5,
   "id": "7ef1fdf4-f106-45a8-9698-82e184f82aa6",
   "metadata": {
    "tags": []
   },
   "outputs": [],
   "source": [
    "tri_1KMmd_GMTEDmd = rasterio.open(tif_file)"
   ]
  },
  {
   "cell_type": "markdown",
   "id": "fb54da81-ffa9-4d1c-aa5d-7d63f280790f",
   "metadata": {},
   "source": [
    "## extract tif values"
   ]
  },
  {
   "cell_type": "code",
   "execution_count": 6,
   "id": "704885a0-7b0a-4969-bc68-2f0f6058f70f",
   "metadata": {
    "tags": []
   },
   "outputs": [],
   "source": [
    "sites_metadata[\"tri_1KMmd_GMTEDmd\"] = None"
   ]
  },
  {
   "cell_type": "code",
   "execution_count": 7,
   "id": "3815292d-932a-4e96-ab9a-774a69798d99",
   "metadata": {
    "tags": []
   },
   "outputs": [],
   "source": [
    "for index, row in sites_metadata.iterrows():\n",
    "    \n",
    "    row_, col_ = tri_1KMmd_GMTEDmd.index(row[\"longitude\"], row[\"latitude\"])\n",
    "    tri_1KMmd_GMTEDmd_value = tri_1KMmd_GMTEDmd.read(1)[row_, col_]\n",
    "\n",
    "    sites_metadata.loc[index, \"tri_1KMmd_GMTEDmd\"] = tri_1KMmd_GMTEDmd_value"
   ]
  },
  {
   "cell_type": "code",
   "execution_count": 8,
   "id": "d2a74749-65ba-462f-8303-165397ebf647",
   "metadata": {
    "tags": []
   },
   "outputs": [
    {
     "data": {
      "text/html": [
       "<div>\n",
       "<style scoped>\n",
       "    .dataframe tbody tr th:only-of-type {\n",
       "        vertical-align: middle;\n",
       "    }\n",
       "\n",
       "    .dataframe tbody tr th {\n",
       "        vertical-align: top;\n",
       "    }\n",
       "\n",
       "    .dataframe thead th {\n",
       "        text-align: right;\n",
       "    }\n",
       "</style>\n",
       "<table border=\"1\" class=\"dataframe\">\n",
       "  <thead>\n",
       "    <tr style=\"text-align: right;\">\n",
       "      <th></th>\n",
       "      <th>country</th>\n",
       "      <th>latitude</th>\n",
       "      <th>longitude</th>\n",
       "      <th>altitude</th>\n",
       "      <th>provider</th>\n",
       "      <th>tri_1KMmd_GMTEDmd</th>\n",
       "    </tr>\n",
       "    <tr>\n",
       "      <th>station_name</th>\n",
       "      <th></th>\n",
       "      <th></th>\n",
       "      <th></th>\n",
       "      <th></th>\n",
       "      <th></th>\n",
       "      <th></th>\n",
       "    </tr>\n",
       "  </thead>\n",
       "  <tbody>\n",
       "    <tr>\n",
       "      <th>camborne</th>\n",
       "      <td>United Kingdom</td>\n",
       "      <td>50.22</td>\n",
       "      <td>-5.32</td>\n",
       "      <td>88.0</td>\n",
       "      <td>bsrn</td>\n",
       "      <td>4.25</td>\n",
       "    </tr>\n",
       "    <tr>\n",
       "      <th>carpentras</th>\n",
       "      <td>France</td>\n",
       "      <td>44.08</td>\n",
       "      <td>5.06</td>\n",
       "      <td>100.0</td>\n",
       "      <td>bsrn</td>\n",
       "      <td>3.0625</td>\n",
       "    </tr>\n",
       "    <tr>\n",
       "      <th>budapest_lorinc</th>\n",
       "      <td>Hungary</td>\n",
       "      <td>47.43</td>\n",
       "      <td>19.18</td>\n",
       "      <td>139.0</td>\n",
       "      <td>bsrn</td>\n",
       "      <td>3.8125</td>\n",
       "    </tr>\n",
       "    <tr>\n",
       "      <th>magurele_mars</th>\n",
       "      <td>Romania</td>\n",
       "      <td>44.34</td>\n",
       "      <td>26.01</td>\n",
       "      <td>110.0</td>\n",
       "      <td>bsrn</td>\n",
       "      <td>0.6875</td>\n",
       "    </tr>\n",
       "    <tr>\n",
       "      <th>cabauw</th>\n",
       "      <td>Netherlands</td>\n",
       "      <td>51.97</td>\n",
       "      <td>4.93</td>\n",
       "      <td>0.0</td>\n",
       "      <td>bsrn</td>\n",
       "      <td>0.0</td>\n",
       "    </tr>\n",
       "    <tr>\n",
       "      <th>...</th>\n",
       "      <td>...</td>\n",
       "      <td>...</td>\n",
       "      <td>...</td>\n",
       "      <td>...</td>\n",
       "      <td>...</td>\n",
       "      <td>...</td>\n",
       "    </tr>\n",
       "    <tr>\n",
       "      <th>dublin_arpt</th>\n",
       "      <td>Ireland</td>\n",
       "      <td>53.43</td>\n",
       "      <td>-6.23</td>\n",
       "      <td>82.0</td>\n",
       "      <td>wrdc</td>\n",
       "      <td>2.6875</td>\n",
       "    </tr>\n",
       "    <tr>\n",
       "      <th>grossenzersdorf</th>\n",
       "      <td>Austria</td>\n",
       "      <td>48.20</td>\n",
       "      <td>16.57</td>\n",
       "      <td>157.0</td>\n",
       "      <td>wrdc</td>\n",
       "      <td>0.8125</td>\n",
       "    </tr>\n",
       "    <tr>\n",
       "      <th>gonzaga</th>\n",
       "      <td>Italy</td>\n",
       "      <td>44.96</td>\n",
       "      <td>10.77</td>\n",
       "      <td>16.0</td>\n",
       "      <td>lombardy</td>\n",
       "      <td>0.9375</td>\n",
       "    </tr>\n",
       "    <tr>\n",
       "      <th>landriano</th>\n",
       "      <td>Italy</td>\n",
       "      <td>45.32</td>\n",
       "      <td>9.27</td>\n",
       "      <td>88.0</td>\n",
       "      <td>lombardy</td>\n",
       "      <td>0.6875</td>\n",
       "    </tr>\n",
       "    <tr>\n",
       "      <th>cornale</th>\n",
       "      <td>Italy</td>\n",
       "      <td>45.04</td>\n",
       "      <td>8.91</td>\n",
       "      <td>74.0</td>\n",
       "      <td>lombardy</td>\n",
       "      <td>1.75</td>\n",
       "    </tr>\n",
       "  </tbody>\n",
       "</table>\n",
       "<p>80 rows × 6 columns</p>\n",
       "</div>"
      ],
      "text/plain": [
       "                        country  latitude  longitude  altitude  provider  \\\n",
       "station_name                                                               \n",
       "camborne         United Kingdom     50.22      -5.32      88.0      bsrn   \n",
       "carpentras               France     44.08       5.06     100.0      bsrn   \n",
       "budapest_lorinc         Hungary     47.43      19.18     139.0      bsrn   \n",
       "magurele_mars           Romania     44.34      26.01     110.0      bsrn   \n",
       "cabauw              Netherlands     51.97       4.93       0.0      bsrn   \n",
       "...                         ...       ...        ...       ...       ...   \n",
       "dublin_arpt             Ireland     53.43      -6.23      82.0      wrdc   \n",
       "grossenzersdorf         Austria     48.20      16.57     157.0      wrdc   \n",
       "gonzaga                   Italy     44.96      10.77      16.0  lombardy   \n",
       "landriano                 Italy     45.32       9.27      88.0  lombardy   \n",
       "cornale                   Italy     45.04       8.91      74.0  lombardy   \n",
       "\n",
       "                tri_1KMmd_GMTEDmd  \n",
       "station_name                       \n",
       "camborne                     4.25  \n",
       "carpentras                 3.0625  \n",
       "budapest_lorinc            3.8125  \n",
       "magurele_mars              0.6875  \n",
       "cabauw                        0.0  \n",
       "...                           ...  \n",
       "dublin_arpt                2.6875  \n",
       "grossenzersdorf            0.8125  \n",
       "gonzaga                    0.9375  \n",
       "landriano                  0.6875  \n",
       "cornale                      1.75  \n",
       "\n",
       "[80 rows x 6 columns]"
      ]
     },
     "execution_count": 8,
     "metadata": {},
     "output_type": "execute_result"
    }
   ],
   "source": [
    "sites_metadata"
   ]
  },
  {
   "cell_type": "code",
   "execution_count": 9,
   "id": "dc6e2fc7-c1f9-40b5-b2c3-1b597afbfd6b",
   "metadata": {
    "tags": []
   },
   "outputs": [],
   "source": [
    "metadata_TRI_file = Path.home()/\"OneDrive-3E/RD_ResourceData/Research/Solar/tickets/2024/IN3043_accuracy_factors_analysis/IN3136_EURAC_shared_folder/data_sites/sites_metadata_TRI.csv\""
   ]
  },
  {
   "cell_type": "code",
   "execution_count": 10,
   "id": "45970210-b024-41c8-ad27-16ae80b91133",
   "metadata": {
    "tags": []
   },
   "outputs": [],
   "source": [
    "sites_metadata.to_csv(metadata_TRI_file)"
   ]
  }
 ],
 "metadata": {
  "kernelspec": {
   "display_name": "lhn_internship",
   "language": "python",
   "name": "lhn_internship"
  },
  "language_info": {
   "codemirror_mode": {
    "name": "ipython",
    "version": 3
   },
   "file_extension": ".py",
   "mimetype": "text/x-python",
   "name": "python",
   "nbconvert_exporter": "python",
   "pygments_lexer": "ipython3",
   "version": "3.10.12"
  }
 },
 "nbformat": 4,
 "nbformat_minor": 5
}
