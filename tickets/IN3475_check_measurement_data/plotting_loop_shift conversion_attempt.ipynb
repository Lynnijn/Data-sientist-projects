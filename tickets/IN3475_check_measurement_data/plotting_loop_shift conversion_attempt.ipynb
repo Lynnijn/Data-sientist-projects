{
 "cells": [
  {
   "cell_type": "code",
   "execution_count": 1,
   "id": "b40fa8dc-871b-4141-abdf-7991c43d1486",
   "metadata": {
    "tags": []
   },
   "outputs": [],
   "source": [
    "import os\n",
    "from pathlib import Path\n",
    "import pandas as pd\n",
    "import yaml\n",
    "import timezonefinder\n",
    "\n",
    "\n",
    "import sys\n",
    "from pathlib import Path\n",
    "sys.path.insert(0,str(Path(os.path.abspath('.')).parent.parent))\n",
    "import library.validation.parsing as parsing\n",
    "import library.validation.accuracy.comparison_new_measurement as comparison\n",
    "from eee.resource.validation.database import ValidationDatabase\n",
    "import eee.solar.model.util"
   ]
  },
  {
   "cell_type": "code",
   "execution_count": 2,
   "id": "62836cd5-a7ed-4408-ab30-b397049c2e4a",
   "metadata": {
    "tags": []
   },
   "outputs": [],
   "source": [
    "validation_database_path = Path.home()/\"OneDrive-3E/Research/Solar/validation/validation_database\"\n",
    "plot_path = Path.home()/\"OneDrive-3E/Research/Solar/tickets/2024/IN3475_check_measurement_data/comparison_plots\"\n",
    "yaml_path = Path.home()/\"OneDrive-3E/Research/Solar/tickets/2024/IN3043_accuracy_factors_analysis/IN3471_get_model_data/db_sites_ready.yml\"\n",
    "meta_path =  Path.home()/\"OneDrive-3E/Research/Solar/tickets/2023/IN2946_EnergyData_measurement_data/metadata\" "
   ]
  },
  {
   "cell_type": "code",
   "execution_count": 3,
   "id": "c1093513-e408-4e77-8dca-7b8889198e2d",
   "metadata": {},
   "outputs": [],
   "source": [
    "metadata = pd.read_csv(os.path.join(meta_path, 'data.csv'))\n",
    "metadata['normalized_station_name'] = metadata['station name'].apply(parsing.normalize_station_name)\n"
   ]
  },
  {
   "cell_type": "code",
   "execution_count": 4,
   "id": "97d1e0f2-7da8-4e87-90c9-7191208da2fb",
   "metadata": {
    "tags": []
   },
   "outputs": [],
   "source": [
    "## instantiate validation database\n",
    "db = ValidationDatabase(validation_database_path)"
   ]
  },
  {
   "cell_type": "code",
   "execution_count": 5,
   "id": "53eaa116-8ec9-45cc-97e5-9596c0b3b1f4",
   "metadata": {
    "tags": []
   },
   "outputs": [
    {
     "data": {
      "text/plain": [
       "SitesInventory(n=291)"
      ]
     },
     "execution_count": 5,
     "metadata": {},
     "output_type": "execute_result"
    }
   ],
   "source": [
    "sites_inv = db.get_sites()\n",
    "sites_inv"
   ]
  },
  {
   "cell_type": "code",
   "execution_count": 6,
   "id": "30b30e97-d1ef-4f69-b752-94b06f34f201",
   "metadata": {
    "tags": []
   },
   "outputs": [],
   "source": [
    "with open(yaml_path, 'r') as file:\n",
    "    sites_name = yaml.safe_load(file)\n",
    "\n",
    "filtered_sites_name = [site for site in sites_name if site.startswith('energydata_')]\n"
   ]
  },
  {
   "cell_type": "code",
   "execution_count": 7,
   "id": "168c8ae0-dee0-4f40-91da-3aa0499e23b8",
   "metadata": {
    "tags": []
   },
   "outputs": [
    {
     "name": "stdout",
     "output_type": "stream",
     "text": [
      "start energydata_1\n",
      "start energydata_2\n",
      "start energydata_3\n",
      "start energydata_4\n",
      "start energydata_5\n",
      "start energydata_6\n",
      "start energydata_7\n",
      "start energydata_8\n",
      "start energydata_9\n",
      "start energydata_10\n",
      "start energydata_11\n",
      "start energydata_12\n",
      "start energydata_13\n",
      "start energydata_14\n",
      "start energydata_15\n",
      "start energydata_16\n",
      "start energydata_17\n",
      "start energydata_18\n",
      "start energydata_19\n",
      "start energydata_20\n",
      "start energydata_21\n",
      "start energydata_22\n",
      "start energydata_23\n",
      "start energydata_24\n",
      "start energydata_25\n",
      "start energydata_26\n",
      "start energydata_27\n",
      "start energydata_28\n",
      "start energydata_29\n",
      "start energydata_30\n",
      "start energydata_31\n",
      "start energydata_32\n",
      "start energydata_33\n",
      "start energydata_34\n",
      "start energydata_35\n",
      "start energydata_36\n",
      "start energydata_37\n",
      "start energydata_38\n",
      "start energydata_39\n",
      "start energydata_40\n",
      "start energydata_41\n",
      "start energydata_42\n",
      "start energydata_43\n",
      "start energydata_44\n",
      "start energydata_45\n",
      "start energydata_46\n",
      "start energydata_47\n",
      "start energydata_48\n",
      "start energydata_49\n",
      "start energydata_50\n",
      "start energydata_51\n",
      "start energydata_52\n",
      "start energydata_53\n",
      "start energydata_54\n",
      "start energydata_55\n",
      "start energydata_56\n",
      "start energydata_57\n",
      "start energydata_58\n",
      "start energydata_59\n",
      "start energydata_60\n",
      "start energydata_61\n",
      "start energydata_62\n",
      "start energydata_63\n",
      "start energydata_64\n",
      "start energydata_65\n",
      "start energydata_66\n",
      "start energydata_67\n",
      "start energydata_68\n",
      "start energydata_69\n",
      "start energydata_70\n",
      "start energydata_71\n",
      "start energydata_72\n",
      "start energydata_73\n",
      "start energydata_74\n",
      "start energydata_75\n",
      "start energydata_76\n",
      "start energydata_77\n",
      "start energydata_78\n",
      "start energydata_79\n",
      "start energydata_80\n",
      "start energydata_81\n",
      "start energydata_82\n",
      "start energydata_83\n",
      "start energydata_84\n",
      "start energydata_85\n",
      "start energydata_86\n",
      "start energydata_87\n"
     ]
    }
   ],
   "source": [
    "for site_id in filtered_sites_name:\n",
    "    site = sites_inv.get_site(site_id)\n",
    "\n",
    "    # Reading\n",
    "    ## Measurement data\n",
    "    ts = db.get_measurement_timeseries(\n",
    "        site=site,\n",
    "        validation_variables=[\"ghi\"],\n",
    "    )\n",
    "\n",
    "    df = ts.to_dataframe()\n",
    "\n",
    "    # Convert ire to irn\n",
    "    df_converted = eee.solar.model.util.ire_to_irn(df)\n",
    "\n",
    "    # Time shift\n",
    "    metadata_row = metadata[metadata['normalized_station_name'] == site.name]\n",
    "    if not metadata_row.empty:\n",
    "        # Determine local time zone from latitude and longitude using timezonefinder\n",
    "        tf = timezonefinder.TimezoneFinder()\n",
    "        timezone_str = tf.certain_timezone_at(\n",
    "            lat=metadata_row[\"latitude\"].values[0],\n",
    "            lng=metadata_row[\"longitude\"].values[0]\n",
    "        )\n",
    "\n",
    "        if df_converted.index.tzinfo is None:\n",
    "            # If not timezone-aware, localize the index to the specified timezone\n",
    "            df_converted.index = pd.DatetimeIndex(df_converted.index).tz_localize(\n",
    "                tz=timezone_str,\n",
    "                ambiguous=\"NaT\",\n",
    "                nonexistent='shift_forward'\n",
    "            )\n",
    "        else:\n",
    "            # If already timezone-aware, convert the index to the new timezone\n",
    "            df_converted.index = df_converted.index.tz_convert(\n",
    "                tz=timezone_str\n",
    "            )\n",
    "    else:\n",
    "        print(f\"No metadata found for {site_id}. Skipping this dataframe.\")\n",
    "\n",
    "    # Calculate start and end times\n",
    "    start_time = df_converted.first_valid_index().normalize()\n",
    "    end_time = df_converted.last_valid_index().normalize()\n",
    "    # end_time = df_converted.last_valid_index().normalize() + pd.Timedelta(days=1) - pd.Timedelta(minutes=1)\n",
    "\n",
    "    # Resampling the data\n",
    "    df_converted_resampled_15min = df_converted.resample('15T', origin=start_time, label='left', closed='left').sum()\n",
    "    df_converted_resampled_day = df_converted.resample('1D', origin=start_time, label='left', closed='left').sum()\n",
    "\n",
    "    # Simulation data\n",
    "    ts_sim = db.get_simulation_timeseries(\n",
    "        site=site,\n",
    "        validation_variables=[\"ghirrn\"],\n",
    "        model=\"solar-resource-api-1.6.12\",\n",
    "    )\n",
    "\n",
    "    df_sim = ts_sim.to_dataframe()\n",
    "    df_sim = df_sim[start_time:]\n",
    "\n",
    "\n",
    "    # Return the data with 15-minute and 1-day granularities\n",
    "    ref_15m = df_converted_resampled_15min.iloc[:,0]\n",
    "    mod_15m = df_sim.iloc[:,0]\n",
    "    ref_15m.index = ref_15m.index.tz_convert(timezone_str)  # Convert ref_15m index\n",
    "    mod_15m.index = mod_15m.index.tz_convert(timezone_str)  # Convert mod_15m index\n",
    "\n",
    "\n",
    "    # 1-day granularity (for difference check)\n",
    "    ref_1d = df_converted_resampled_day.iloc[:,0]\n",
    "    ref_1d.index = ref_1d.index.tz_convert(timezone_str)  # Convert ref_1d index\n",
    "    mod_1d = mod_15m.resample('1D', origin=start_time, label='left', closed='left').sum()\n",
    "    \n",
    "    site_directory = os.path.join(plot_path, site_id)\n",
    "    os.makedirs(site_directory, exist_ok=True)\n",
    "    \n",
    "    print(f'start {site_id}')\n",
    "    \n",
    "    # shift check\n",
    "    comparison.shift_check_start_end(site_id, ref_15m, mod_15m, start_time, site_directory, start=True)\n",
    "    comparison.shift_check_start_end(site_id, ref_15m, mod_15m, end_time, site_directory)\n",
    "\n",
    "    # interactive plots\n",
    "    comparison.ref_mod_interactive(site_id, ref_1d, mod_1d, site_directory)\n",
    "\n",
    "    # list of top difference\n",
    "    merged_as, merged_de = comparison.diff_ratio_merged(site_id, ref_1d, mod_1d)\n",
    "    merged_as.to_csv(os.path.join(site_directory, 'top_negative_differences.csv'))\n",
    "    merged_de.to_csv(os.path.join(site_directory, 'top_positive_differences.csv'))"
   ]
  }
 ],
 "metadata": {
  "kernelspec": {
   "display_name": "lhn_internship",
   "language": "python",
   "name": "lhn_internship"
  },
  "language_info": {
   "codemirror_mode": {
    "name": "ipython",
    "version": 3
   },
   "file_extension": ".py",
   "mimetype": "text/x-python",
   "name": "python",
   "nbconvert_exporter": "python",
   "pygments_lexer": "ipython3",
   "version": "3.10.13"
  }
 },
 "nbformat": 4,
 "nbformat_minor": 5
}
