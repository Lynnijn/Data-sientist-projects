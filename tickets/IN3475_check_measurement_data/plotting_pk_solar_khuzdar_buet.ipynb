{
 "cells": [
  {
   "cell_type": "code",
   "execution_count": 1,
   "id": "b40fa8dc-871b-4141-abdf-7991c43d1486",
   "metadata": {
    "tags": []
   },
   "outputs": [],
   "source": [
    "import os\n",
    "from pathlib import Path\n",
    "import pandas as pd\n",
    "\n",
    "\n",
    "import sys\n",
    "from pathlib import Path\n",
    "sys.path.insert(0,str(Path(os.path.abspath('.')).parent.parent))\n",
    "import library.validation.accuracy.comparison as comparison\n",
    "from eee.resource.validation.database import ValidationDatabase\n",
    "import eee.solar.model.util"
   ]
  },
  {
   "cell_type": "code",
   "execution_count": 30,
   "id": "62836cd5-a7ed-4408-ab30-b397049c2e4a",
   "metadata": {
    "tags": []
   },
   "outputs": [],
   "source": [
    "validation_database_path = Path.home()/\"OneDrive-3E/Research/Solar/validation/validation_database\"\n",
    "plot_path = Path.home()/\"OneDrive-3E/Research/Solar/tickets/2024/IN3475_check_measurement_data/energydata"
   ]
  },
  {
   "cell_type": "code",
   "execution_count": 3,
   "id": "97d1e0f2-7da8-4e87-90c9-7191208da2fb",
   "metadata": {
    "tags": []
   },
   "outputs": [],
   "source": [
    "## instantiate validation database\n",
    "db = ValidationDatabase(validation_database_path)"
   ]
  },
  {
   "cell_type": "code",
   "execution_count": 4,
   "id": "53eaa116-8ec9-45cc-97e5-9596c0b3b1f4",
   "metadata": {
    "tags": []
   },
   "outputs": [
    {
     "data": {
      "text/plain": [
       "SitesInventory(n=291)"
      ]
     },
     "execution_count": 4,
     "metadata": {},
     "output_type": "execute_result"
    }
   ],
   "source": [
    "sites_inv = db.get_sites()\n",
    "sites_inv"
   ]
  },
  {
   "cell_type": "code",
   "execution_count": 5,
   "id": "3c22d928-c473-4fa1-8d56-93f8f841a114",
   "metadata": {
    "tags": []
   },
   "outputs": [],
   "source": [
    "# sites_inv.df.name.unique()"
   ]
  },
  {
   "cell_type": "code",
   "execution_count": 6,
   "id": "2d11c65a-526b-4f6d-90ee-0fb7103aaf1b",
   "metadata": {
    "tags": []
   },
   "outputs": [],
   "source": [
    "site_name = [\"pk_solar_khuzdar_buet\"]"
   ]
  },
  {
   "cell_type": "code",
   "execution_count": 7,
   "id": "e92d4e7c-83fd-4f1c-a8df-56748bd8f957",
   "metadata": {
    "tags": []
   },
   "outputs": [
    {
     "data": {
      "text/plain": [
       "'energydata_39'"
      ]
     },
     "execution_count": 7,
     "metadata": {},
     "output_type": "execute_result"
    }
   ],
   "source": [
    "site_id = db.get_sites(names=site_name).site_ids[0]\n",
    "site_id"
   ]
  },
  {
   "cell_type": "code",
   "execution_count": 8,
   "id": "f2c1c035-c935-41f3-954e-192e0539a96a",
   "metadata": {
    "tags": []
   },
   "outputs": [
    {
     "data": {
      "text/plain": [
       "Site(name='pk_solar_khuzdar_buet')"
      ]
     },
     "execution_count": 8,
     "metadata": {},
     "output_type": "execute_result"
    }
   ],
   "source": [
    "site = sites_inv.get_site(site_id)\n",
    "site"
   ]
  },
  {
   "cell_type": "markdown",
   "id": "90346f28-433c-4181-9a32-2f105e4556aa",
   "metadata": {},
   "source": [
    "# Reading"
   ]
  },
  {
   "cell_type": "markdown",
   "id": "bcd03d5b-0753-44cf-bab1-d06124604d8b",
   "metadata": {},
   "source": [
    "## measurement data"
   ]
  },
  {
   "cell_type": "code",
   "execution_count": 9,
   "id": "77e20e73-7f4c-4c8e-93cd-8df4e3121d85",
   "metadata": {
    "tags": []
   },
   "outputs": [],
   "source": [
    "ts = db.get_measurement_timeseries(\n",
    "    site=site,\n",
    "    validation_variables=[\"ghi\"],\n",
    ")"
   ]
  },
  {
   "cell_type": "code",
   "execution_count": 10,
   "id": "3640daa4-7bf2-4a80-84db-a7b17fccaee3",
   "metadata": {
    "tags": []
   },
   "outputs": [
    {
     "data": {
      "text/plain": [
       "{'timeseries_variables': [{'variable': {'name': 'ghi',\n",
       "    'physical_parameter_id': 'ghi',\n",
       "    'units': <Unit('watt / meter ** 2')>,\n",
       "    'height': None,\n",
       "    'time_granularity': Timedelta('0 days 00:10:00'),\n",
       "    'start': Timestamp('2015-09-22 11:10:00'),\n",
       "    'end': Timestamp('2017-04-30 19:00:00'),\n",
       "    'temporal_aggregation_method': <TemporalAggregationMethod.MEAN: 'mean'>,\n",
       "    'temporal_aggregation_period': Timedelta('0 days 00:10:00'),\n",
       "    'temporal_aggregation_timestamp_convention': <TemporalAggregationTimestampConvention.UNDEFINED: 'undefined'>,\n",
       "    'data_availability_percent': None},\n",
       "   'data': time\n",
       "   2015-09-22 11:10:00+00:00    499.0\n",
       "   2015-09-22 11:20:00+00:00    457.3\n",
       "   2015-09-22 11:30:00+00:00    418.1\n",
       "   2015-09-22 11:40:00+00:00    373.8\n",
       "   2015-09-22 11:50:00+00:00    336.9\n",
       "                                ...  \n",
       "   2017-04-30 18:20:00+00:00      NaN\n",
       "   2017-04-30 18:30:00+00:00      NaN\n",
       "   2017-04-30 18:40:00+00:00      NaN\n",
       "   2017-04-30 18:50:00+00:00      NaN\n",
       "   2017-04-30 19:00:00+00:00      NaN\n",
       "   Length: 84432, dtype: float64}]}"
      ]
     },
     "execution_count": 10,
     "metadata": {},
     "output_type": "execute_result"
    }
   ],
   "source": [
    "ts.dict()"
   ]
  },
  {
   "cell_type": "code",
   "execution_count": 11,
   "id": "cac9000d-a1e2-4113-884e-ccbdc806ec2f",
   "metadata": {
    "tags": []
   },
   "outputs": [
    {
     "data": {
      "text/html": [
       "<div>\n",
       "<style scoped>\n",
       "    .dataframe tbody tr th:only-of-type {\n",
       "        vertical-align: middle;\n",
       "    }\n",
       "\n",
       "    .dataframe tbody tr th {\n",
       "        vertical-align: top;\n",
       "    }\n",
       "\n",
       "    .dataframe thead th {\n",
       "        text-align: right;\n",
       "    }\n",
       "</style>\n",
       "<table border=\"1\" class=\"dataframe\">\n",
       "  <thead>\n",
       "    <tr style=\"text-align: right;\">\n",
       "      <th></th>\n",
       "      <th>ghi_mean_10min_undefined</th>\n",
       "    </tr>\n",
       "    <tr>\n",
       "      <th>time</th>\n",
       "      <th></th>\n",
       "    </tr>\n",
       "  </thead>\n",
       "  <tbody>\n",
       "    <tr>\n",
       "      <th>2015-09-22 11:10:00+00:00</th>\n",
       "      <td>499.0</td>\n",
       "    </tr>\n",
       "    <tr>\n",
       "      <th>2015-09-22 11:20:00+00:00</th>\n",
       "      <td>457.3</td>\n",
       "    </tr>\n",
       "    <tr>\n",
       "      <th>2015-09-22 11:30:00+00:00</th>\n",
       "      <td>418.1</td>\n",
       "    </tr>\n",
       "    <tr>\n",
       "      <th>2015-09-22 11:40:00+00:00</th>\n",
       "      <td>373.8</td>\n",
       "    </tr>\n",
       "    <tr>\n",
       "      <th>2015-09-22 11:50:00+00:00</th>\n",
       "      <td>336.9</td>\n",
       "    </tr>\n",
       "    <tr>\n",
       "      <th>...</th>\n",
       "      <td>...</td>\n",
       "    </tr>\n",
       "    <tr>\n",
       "      <th>2017-04-30 18:20:00+00:00</th>\n",
       "      <td>NaN</td>\n",
       "    </tr>\n",
       "    <tr>\n",
       "      <th>2017-04-30 18:30:00+00:00</th>\n",
       "      <td>NaN</td>\n",
       "    </tr>\n",
       "    <tr>\n",
       "      <th>2017-04-30 18:40:00+00:00</th>\n",
       "      <td>NaN</td>\n",
       "    </tr>\n",
       "    <tr>\n",
       "      <th>2017-04-30 18:50:00+00:00</th>\n",
       "      <td>NaN</td>\n",
       "    </tr>\n",
       "    <tr>\n",
       "      <th>2017-04-30 19:00:00+00:00</th>\n",
       "      <td>NaN</td>\n",
       "    </tr>\n",
       "  </tbody>\n",
       "</table>\n",
       "<p>84432 rows × 1 columns</p>\n",
       "</div>"
      ],
      "text/plain": [
       "                           ghi_mean_10min_undefined\n",
       "time                                               \n",
       "2015-09-22 11:10:00+00:00                     499.0\n",
       "2015-09-22 11:20:00+00:00                     457.3\n",
       "2015-09-22 11:30:00+00:00                     418.1\n",
       "2015-09-22 11:40:00+00:00                     373.8\n",
       "2015-09-22 11:50:00+00:00                     336.9\n",
       "...                                             ...\n",
       "2017-04-30 18:20:00+00:00                       NaN\n",
       "2017-04-30 18:30:00+00:00                       NaN\n",
       "2017-04-30 18:40:00+00:00                       NaN\n",
       "2017-04-30 18:50:00+00:00                       NaN\n",
       "2017-04-30 19:00:00+00:00                       NaN\n",
       "\n",
       "[84432 rows x 1 columns]"
      ]
     },
     "execution_count": 11,
     "metadata": {},
     "output_type": "execute_result"
    }
   ],
   "source": [
    "df = ts.to_dataframe()\n",
    "df"
   ]
  },
  {
   "cell_type": "code",
   "execution_count": 12,
   "id": "5af4f043-9c98-4b1d-86db-cabb6283ebed",
   "metadata": {
    "tags": []
   },
   "outputs": [],
   "source": [
    "start_time = df.first_valid_index()\n",
    "end_time = df.last_valid_index()"
   ]
  },
  {
   "cell_type": "markdown",
   "id": "54427aed-4557-44f3-8904-0901f529d460",
   "metadata": {},
   "source": [
    "### Convert to ire"
   ]
  },
  {
   "cell_type": "code",
   "execution_count": 13,
   "id": "c24242a9-4ed5-49c1-a49d-40ba99e02ca2",
   "metadata": {
    "tags": []
   },
   "outputs": [
    {
     "data": {
      "text/html": [
       "<div>\n",
       "<style scoped>\n",
       "    .dataframe tbody tr th:only-of-type {\n",
       "        vertical-align: middle;\n",
       "    }\n",
       "\n",
       "    .dataframe tbody tr th {\n",
       "        vertical-align: top;\n",
       "    }\n",
       "\n",
       "    .dataframe thead th {\n",
       "        text-align: right;\n",
       "    }\n",
       "</style>\n",
       "<table border=\"1\" class=\"dataframe\">\n",
       "  <thead>\n",
       "    <tr style=\"text-align: right;\">\n",
       "      <th></th>\n",
       "      <th>ghi_mean_10min_undefined</th>\n",
       "    </tr>\n",
       "    <tr>\n",
       "      <th>time</th>\n",
       "      <th></th>\n",
       "    </tr>\n",
       "  </thead>\n",
       "  <tbody>\n",
       "    <tr>\n",
       "      <th>2015-09-22 11:10:00+00:00</th>\n",
       "      <td>83.166667</td>\n",
       "    </tr>\n",
       "    <tr>\n",
       "      <th>2015-09-22 11:20:00+00:00</th>\n",
       "      <td>76.216667</td>\n",
       "    </tr>\n",
       "    <tr>\n",
       "      <th>2015-09-22 11:30:00+00:00</th>\n",
       "      <td>69.683333</td>\n",
       "    </tr>\n",
       "    <tr>\n",
       "      <th>2015-09-22 11:40:00+00:00</th>\n",
       "      <td>62.300000</td>\n",
       "    </tr>\n",
       "    <tr>\n",
       "      <th>2015-09-22 11:50:00+00:00</th>\n",
       "      <td>56.150000</td>\n",
       "    </tr>\n",
       "    <tr>\n",
       "      <th>...</th>\n",
       "      <td>...</td>\n",
       "    </tr>\n",
       "    <tr>\n",
       "      <th>2017-04-30 18:20:00+00:00</th>\n",
       "      <td>NaN</td>\n",
       "    </tr>\n",
       "    <tr>\n",
       "      <th>2017-04-30 18:30:00+00:00</th>\n",
       "      <td>NaN</td>\n",
       "    </tr>\n",
       "    <tr>\n",
       "      <th>2017-04-30 18:40:00+00:00</th>\n",
       "      <td>NaN</td>\n",
       "    </tr>\n",
       "    <tr>\n",
       "      <th>2017-04-30 18:50:00+00:00</th>\n",
       "      <td>NaN</td>\n",
       "    </tr>\n",
       "    <tr>\n",
       "      <th>2017-04-30 19:00:00+00:00</th>\n",
       "      <td>NaN</td>\n",
       "    </tr>\n",
       "  </tbody>\n",
       "</table>\n",
       "<p>84432 rows × 1 columns</p>\n",
       "</div>"
      ],
      "text/plain": [
       "                           ghi_mean_10min_undefined\n",
       "time                                               \n",
       "2015-09-22 11:10:00+00:00                 83.166667\n",
       "2015-09-22 11:20:00+00:00                 76.216667\n",
       "2015-09-22 11:30:00+00:00                 69.683333\n",
       "2015-09-22 11:40:00+00:00                 62.300000\n",
       "2015-09-22 11:50:00+00:00                 56.150000\n",
       "...                                             ...\n",
       "2017-04-30 18:20:00+00:00                       NaN\n",
       "2017-04-30 18:30:00+00:00                       NaN\n",
       "2017-04-30 18:40:00+00:00                       NaN\n",
       "2017-04-30 18:50:00+00:00                       NaN\n",
       "2017-04-30 19:00:00+00:00                       NaN\n",
       "\n",
       "[84432 rows x 1 columns]"
      ]
     },
     "execution_count": 13,
     "metadata": {},
     "output_type": "execute_result"
    }
   ],
   "source": [
    "df_converted = eee.solar.model.util.ire_to_irn(df)\n",
    "df_converted"
   ]
  },
  {
   "cell_type": "markdown",
   "id": "b2726f6f-afbf-4096-ab91-ffe102c09962",
   "metadata": {},
   "source": [
    "### Resample"
   ]
  },
  {
   "cell_type": "markdown",
   "id": "1fa66b5b-bcf3-4a13-984e-19cbca84105a",
   "metadata": {},
   "source": [
    "#### 1-d"
   ]
  },
  {
   "cell_type": "code",
   "execution_count": 14,
   "id": "127287fd-4398-47b0-880a-21a24872c8cc",
   "metadata": {
    "tags": []
   },
   "outputs": [
    {
     "data": {
      "text/html": [
       "<div>\n",
       "<style scoped>\n",
       "    .dataframe tbody tr th:only-of-type {\n",
       "        vertical-align: middle;\n",
       "    }\n",
       "\n",
       "    .dataframe tbody tr th {\n",
       "        vertical-align: top;\n",
       "    }\n",
       "\n",
       "    .dataframe thead th {\n",
       "        text-align: right;\n",
       "    }\n",
       "</style>\n",
       "<table border=\"1\" class=\"dataframe\">\n",
       "  <thead>\n",
       "    <tr style=\"text-align: right;\">\n",
       "      <th></th>\n",
       "      <th>ghi_mean_10min_undefined</th>\n",
       "    </tr>\n",
       "    <tr>\n",
       "      <th>time</th>\n",
       "      <th></th>\n",
       "    </tr>\n",
       "  </thead>\n",
       "  <tbody>\n",
       "    <tr>\n",
       "      <th>2015-09-22 11:10:00+00:00</th>\n",
       "      <td>7015.316667</td>\n",
       "    </tr>\n",
       "    <tr>\n",
       "      <th>2015-09-23 11:10:00+00:00</th>\n",
       "      <td>6566.116667</td>\n",
       "    </tr>\n",
       "    <tr>\n",
       "      <th>2015-09-24 11:10:00+00:00</th>\n",
       "      <td>6802.250000</td>\n",
       "    </tr>\n",
       "    <tr>\n",
       "      <th>2015-09-25 11:10:00+00:00</th>\n",
       "      <td>6923.966667</td>\n",
       "    </tr>\n",
       "    <tr>\n",
       "      <th>2015-09-26 11:10:00+00:00</th>\n",
       "      <td>6856.833333</td>\n",
       "    </tr>\n",
       "    <tr>\n",
       "      <th>...</th>\n",
       "      <td>...</td>\n",
       "    </tr>\n",
       "    <tr>\n",
       "      <th>2017-04-26 11:10:00+00:00</th>\n",
       "      <td>7717.383333</td>\n",
       "    </tr>\n",
       "    <tr>\n",
       "      <th>2017-04-27 11:10:00+00:00</th>\n",
       "      <td>7420.483333</td>\n",
       "    </tr>\n",
       "    <tr>\n",
       "      <th>2017-04-28 11:10:00+00:00</th>\n",
       "      <td>7554.966667</td>\n",
       "    </tr>\n",
       "    <tr>\n",
       "      <th>2017-04-29 11:10:00+00:00</th>\n",
       "      <td>8136.850000</td>\n",
       "    </tr>\n",
       "    <tr>\n",
       "      <th>2017-04-30 11:10:00+00:00</th>\n",
       "      <td>945.350000</td>\n",
       "    </tr>\n",
       "  </tbody>\n",
       "</table>\n",
       "<p>587 rows × 1 columns</p>\n",
       "</div>"
      ],
      "text/plain": [
       "                           ghi_mean_10min_undefined\n",
       "time                                               \n",
       "2015-09-22 11:10:00+00:00               7015.316667\n",
       "2015-09-23 11:10:00+00:00               6566.116667\n",
       "2015-09-24 11:10:00+00:00               6802.250000\n",
       "2015-09-25 11:10:00+00:00               6923.966667\n",
       "2015-09-26 11:10:00+00:00               6856.833333\n",
       "...                                             ...\n",
       "2017-04-26 11:10:00+00:00               7717.383333\n",
       "2017-04-27 11:10:00+00:00               7420.483333\n",
       "2017-04-28 11:10:00+00:00               7554.966667\n",
       "2017-04-29 11:10:00+00:00               8136.850000\n",
       "2017-04-30 11:10:00+00:00                945.350000\n",
       "\n",
       "[587 rows x 1 columns]"
      ]
     },
     "execution_count": 14,
     "metadata": {},
     "output_type": "execute_result"
    }
   ],
   "source": [
    "df_converted_resampled_day = df_converted.resample('1D', origin=start_time, label='left', closed='left').sum()\n",
    "df_converted_resampled_day"
   ]
  },
  {
   "cell_type": "markdown",
   "id": "34fb5dd8-4f75-4c7c-92ea-258003a25fa5",
   "metadata": {},
   "source": [
    "## simulation data"
   ]
  },
  {
   "cell_type": "code",
   "execution_count": 15,
   "id": "9af6d8e2-9bd7-4a26-8470-d8e257cf23e9",
   "metadata": {
    "tags": []
   },
   "outputs": [],
   "source": [
    "ts_sim = db.get_simulation_timeseries(\n",
    "    site=site,\n",
    "    validation_variables=[\"ghirrn\"],\n",
    "    model=\"solar-resource-api-1.6.12\",\n",
    ")"
   ]
  },
  {
   "cell_type": "code",
   "execution_count": 16,
   "id": "5698296f-565c-4630-9c0a-d5cb276fb1ba",
   "metadata": {
    "tags": []
   },
   "outputs": [
    {
     "data": {
      "text/plain": [
       "TimeseriesDataset(variables=[Variable(name=ghirrn)])"
      ]
     },
     "execution_count": 16,
     "metadata": {},
     "output_type": "execute_result"
    }
   ],
   "source": [
    "ts_sim"
   ]
  },
  {
   "cell_type": "code",
   "execution_count": 17,
   "id": "7f65a739-175f-46e0-97cd-aaff1de10936",
   "metadata": {
    "tags": []
   },
   "outputs": [
    {
     "data": {
      "text/plain": [
       "Timestamp('2004-02-06 01:15:00')"
      ]
     },
     "execution_count": 17,
     "metadata": {},
     "output_type": "execute_result"
    }
   ],
   "source": [
    "ts_sim.timeseries_variables[0].variable.start"
   ]
  },
  {
   "cell_type": "code",
   "execution_count": 18,
   "id": "31d7e60d-7f28-4f77-82c6-b25fee79eb37",
   "metadata": {
    "tags": []
   },
   "outputs": [
    {
     "data": {
      "text/html": [
       "<div>\n",
       "<style scoped>\n",
       "    .dataframe tbody tr th:only-of-type {\n",
       "        vertical-align: middle;\n",
       "    }\n",
       "\n",
       "    .dataframe tbody tr th {\n",
       "        vertical-align: top;\n",
       "    }\n",
       "\n",
       "    .dataframe thead th {\n",
       "        text-align: right;\n",
       "    }\n",
       "</style>\n",
       "<table border=\"1\" class=\"dataframe\">\n",
       "  <thead>\n",
       "    <tr style=\"text-align: right;\">\n",
       "      <th></th>\n",
       "      <th>ghirrn_accumulated_15min_forward</th>\n",
       "    </tr>\n",
       "    <tr>\n",
       "      <th>time</th>\n",
       "      <th></th>\n",
       "    </tr>\n",
       "  </thead>\n",
       "  <tbody>\n",
       "    <tr>\n",
       "      <th>2004-02-06 01:15:00+00:00</th>\n",
       "      <td>0.00</td>\n",
       "    </tr>\n",
       "    <tr>\n",
       "      <th>2004-02-06 01:30:00+00:00</th>\n",
       "      <td>0.00</td>\n",
       "    </tr>\n",
       "    <tr>\n",
       "      <th>2004-02-06 01:45:00+00:00</th>\n",
       "      <td>0.00</td>\n",
       "    </tr>\n",
       "    <tr>\n",
       "      <th>2004-02-06 02:00:00+00:00</th>\n",
       "      <td>0.00</td>\n",
       "    </tr>\n",
       "    <tr>\n",
       "      <th>2004-02-06 02:15:00+00:00</th>\n",
       "      <td>0.00</td>\n",
       "    </tr>\n",
       "    <tr>\n",
       "      <th>...</th>\n",
       "      <td>...</td>\n",
       "    </tr>\n",
       "    <tr>\n",
       "      <th>2024-04-11 08:15:00+00:00</th>\n",
       "      <td>141.52</td>\n",
       "    </tr>\n",
       "    <tr>\n",
       "      <th>2024-04-11 08:30:00+00:00</th>\n",
       "      <td>106.64</td>\n",
       "    </tr>\n",
       "    <tr>\n",
       "      <th>2024-04-11 08:45:00+00:00</th>\n",
       "      <td>97.57</td>\n",
       "    </tr>\n",
       "    <tr>\n",
       "      <th>2024-04-11 09:00:00+00:00</th>\n",
       "      <td>110.94</td>\n",
       "    </tr>\n",
       "    <tr>\n",
       "      <th>2024-04-11 09:15:00+00:00</th>\n",
       "      <td>122.40</td>\n",
       "    </tr>\n",
       "  </tbody>\n",
       "</table>\n",
       "<p>707553 rows × 1 columns</p>\n",
       "</div>"
      ],
      "text/plain": [
       "                           ghirrn_accumulated_15min_forward\n",
       "time                                                       \n",
       "2004-02-06 01:15:00+00:00                              0.00\n",
       "2004-02-06 01:30:00+00:00                              0.00\n",
       "2004-02-06 01:45:00+00:00                              0.00\n",
       "2004-02-06 02:00:00+00:00                              0.00\n",
       "2004-02-06 02:15:00+00:00                              0.00\n",
       "...                                                     ...\n",
       "2024-04-11 08:15:00+00:00                            141.52\n",
       "2024-04-11 08:30:00+00:00                            106.64\n",
       "2024-04-11 08:45:00+00:00                             97.57\n",
       "2024-04-11 09:00:00+00:00                            110.94\n",
       "2024-04-11 09:15:00+00:00                            122.40\n",
       "\n",
       "[707553 rows x 1 columns]"
      ]
     },
     "execution_count": 18,
     "metadata": {},
     "output_type": "execute_result"
    }
   ],
   "source": [
    "ts_sim.to_dataframe()"
   ]
  },
  {
   "cell_type": "code",
   "execution_count": 19,
   "id": "a62b17d7-6a2b-4926-ad41-989e47f3db39",
   "metadata": {
    "tags": []
   },
   "outputs": [],
   "source": [
    "df_sim = ts_sim.to_dataframe()"
   ]
  },
  {
   "cell_type": "code",
   "execution_count": 20,
   "id": "01b9a2e7-fd35-4c37-8e59-5972976444c0",
   "metadata": {
    "tags": []
   },
   "outputs": [
    {
     "data": {
      "text/html": [
       "<div>\n",
       "<style scoped>\n",
       "    .dataframe tbody tr th:only-of-type {\n",
       "        vertical-align: middle;\n",
       "    }\n",
       "\n",
       "    .dataframe tbody tr th {\n",
       "        vertical-align: top;\n",
       "    }\n",
       "\n",
       "    .dataframe thead th {\n",
       "        text-align: right;\n",
       "    }\n",
       "</style>\n",
       "<table border=\"1\" class=\"dataframe\">\n",
       "  <thead>\n",
       "    <tr style=\"text-align: right;\">\n",
       "      <th></th>\n",
       "      <th>ghirrn_accumulated_15min_forward</th>\n",
       "    </tr>\n",
       "    <tr>\n",
       "      <th>time</th>\n",
       "      <th></th>\n",
       "    </tr>\n",
       "  </thead>\n",
       "  <tbody>\n",
       "    <tr>\n",
       "      <th>2015-09-22 11:15:00+00:00</th>\n",
       "      <td>99.03</td>\n",
       "    </tr>\n",
       "    <tr>\n",
       "      <th>2015-09-22 11:30:00+00:00</th>\n",
       "      <td>86.69</td>\n",
       "    </tr>\n",
       "    <tr>\n",
       "      <th>2015-09-22 11:45:00+00:00</th>\n",
       "      <td>73.72</td>\n",
       "    </tr>\n",
       "    <tr>\n",
       "      <th>2015-09-22 12:00:00+00:00</th>\n",
       "      <td>59.30</td>\n",
       "    </tr>\n",
       "    <tr>\n",
       "      <th>2015-09-22 12:15:00+00:00</th>\n",
       "      <td>45.27</td>\n",
       "    </tr>\n",
       "    <tr>\n",
       "      <th>...</th>\n",
       "      <td>...</td>\n",
       "    </tr>\n",
       "    <tr>\n",
       "      <th>2017-04-30 13:15:00+00:00</th>\n",
       "      <td>19.02</td>\n",
       "    </tr>\n",
       "    <tr>\n",
       "      <th>2017-04-30 13:30:00+00:00</th>\n",
       "      <td>10.86</td>\n",
       "    </tr>\n",
       "    <tr>\n",
       "      <th>2017-04-30 13:45:00+00:00</th>\n",
       "      <td>4.40</td>\n",
       "    </tr>\n",
       "    <tr>\n",
       "      <th>2017-04-30 14:00:00+00:00</th>\n",
       "      <td>0.29</td>\n",
       "    </tr>\n",
       "    <tr>\n",
       "      <th>2017-04-30 14:15:00+00:00</th>\n",
       "      <td>0.00</td>\n",
       "    </tr>\n",
       "  </tbody>\n",
       "</table>\n",
       "<p>56269 rows × 1 columns</p>\n",
       "</div>"
      ],
      "text/plain": [
       "                           ghirrn_accumulated_15min_forward\n",
       "time                                                       \n",
       "2015-09-22 11:15:00+00:00                             99.03\n",
       "2015-09-22 11:30:00+00:00                             86.69\n",
       "2015-09-22 11:45:00+00:00                             73.72\n",
       "2015-09-22 12:00:00+00:00                             59.30\n",
       "2015-09-22 12:15:00+00:00                             45.27\n",
       "...                                                     ...\n",
       "2017-04-30 13:15:00+00:00                             19.02\n",
       "2017-04-30 13:30:00+00:00                             10.86\n",
       "2017-04-30 13:45:00+00:00                              4.40\n",
       "2017-04-30 14:00:00+00:00                              0.29\n",
       "2017-04-30 14:15:00+00:00                              0.00\n",
       "\n",
       "[56269 rows x 1 columns]"
      ]
     },
     "execution_count": 20,
     "metadata": {},
     "output_type": "execute_result"
    }
   ],
   "source": [
    "df_sim = df_sim[start_time:end_time]\n",
    "df_sim"
   ]
  },
  {
   "cell_type": "code",
   "execution_count": 21,
   "id": "2c413c17-b282-4294-bae5-5301db5a5a1d",
   "metadata": {
    "tags": []
   },
   "outputs": [
    {
     "data": {
      "text/plain": [
       "Variable(name=ghirrn)"
      ]
     },
     "execution_count": 21,
     "metadata": {},
     "output_type": "execute_result"
    }
   ],
   "source": [
    "ts_sim.variables[0]"
   ]
  },
  {
   "cell_type": "code",
   "execution_count": 22,
   "id": "4c92c08a-7a7e-4787-9a3d-0a3e76940fd8",
   "metadata": {
    "tags": []
   },
   "outputs": [
    {
     "data": {
      "text/plain": [
       "{'name': 'ghirrn',\n",
       " 'physical_parameter_id': 'ghirrn',\n",
       " 'units': 'Wh/m²',\n",
       " 'height': None,\n",
       " 'time_granularity': '15min',\n",
       " 'start': '2004-02-06 01:15:00',\n",
       " 'end': '2024-04-11 09:15:00',\n",
       " 'temporal_aggregation_method': 'accumulated',\n",
       " 'temporal_aggregation_period': '15min',\n",
       " 'temporal_aggregation_timestamp_convention': 'forward',\n",
       " 'data_availability_percent': None}"
      ]
     },
     "execution_count": 22,
     "metadata": {},
     "output_type": "execute_result"
    }
   ],
   "source": [
    "ts_sim.variables[0].as_dict"
   ]
  },
  {
   "cell_type": "markdown",
   "id": "cec11625-7d98-400f-b260-225013314376",
   "metadata": {},
   "source": [
    "### Resample"
   ]
  },
  {
   "cell_type": "markdown",
   "id": "dce86950-5eec-4bed-ac49-4a6bea6c17bd",
   "metadata": {},
   "source": [
    "#### 1-d"
   ]
  },
  {
   "cell_type": "code",
   "execution_count": 23,
   "id": "0e5eb14f-afc3-40d8-a6eb-34893621cca7",
   "metadata": {
    "tags": []
   },
   "outputs": [
    {
     "data": {
      "text/html": [
       "<div>\n",
       "<style scoped>\n",
       "    .dataframe tbody tr th:only-of-type {\n",
       "        vertical-align: middle;\n",
       "    }\n",
       "\n",
       "    .dataframe tbody tr th {\n",
       "        vertical-align: top;\n",
       "    }\n",
       "\n",
       "    .dataframe thead th {\n",
       "        text-align: right;\n",
       "    }\n",
       "</style>\n",
       "<table border=\"1\" class=\"dataframe\">\n",
       "  <thead>\n",
       "    <tr style=\"text-align: right;\">\n",
       "      <th></th>\n",
       "      <th>ghirrn_accumulated_15min_forward</th>\n",
       "    </tr>\n",
       "    <tr>\n",
       "      <th>time</th>\n",
       "      <th></th>\n",
       "    </tr>\n",
       "  </thead>\n",
       "  <tbody>\n",
       "    <tr>\n",
       "      <th>2015-09-22 11:10:00+00:00</th>\n",
       "      <td>5926.78</td>\n",
       "    </tr>\n",
       "    <tr>\n",
       "      <th>2015-09-23 11:10:00+00:00</th>\n",
       "      <td>6201.45</td>\n",
       "    </tr>\n",
       "    <tr>\n",
       "      <th>2015-09-24 11:10:00+00:00</th>\n",
       "      <td>6042.46</td>\n",
       "    </tr>\n",
       "    <tr>\n",
       "      <th>2015-09-25 11:10:00+00:00</th>\n",
       "      <td>6047.10</td>\n",
       "    </tr>\n",
       "    <tr>\n",
       "      <th>2015-09-26 11:10:00+00:00</th>\n",
       "      <td>6032.89</td>\n",
       "    </tr>\n",
       "    <tr>\n",
       "      <th>...</th>\n",
       "      <td>...</td>\n",
       "    </tr>\n",
       "    <tr>\n",
       "      <th>2017-04-26 11:10:00+00:00</th>\n",
       "      <td>7873.12</td>\n",
       "    </tr>\n",
       "    <tr>\n",
       "      <th>2017-04-27 11:10:00+00:00</th>\n",
       "      <td>7824.11</td>\n",
       "    </tr>\n",
       "    <tr>\n",
       "      <th>2017-04-28 11:10:00+00:00</th>\n",
       "      <td>7937.35</td>\n",
       "    </tr>\n",
       "    <tr>\n",
       "      <th>2017-04-29 11:10:00+00:00</th>\n",
       "      <td>7677.02</td>\n",
       "    </tr>\n",
       "    <tr>\n",
       "      <th>2017-04-30 11:10:00+00:00</th>\n",
       "      <td>744.01</td>\n",
       "    </tr>\n",
       "  </tbody>\n",
       "</table>\n",
       "<p>587 rows × 1 columns</p>\n",
       "</div>"
      ],
      "text/plain": [
       "                           ghirrn_accumulated_15min_forward\n",
       "time                                                       \n",
       "2015-09-22 11:10:00+00:00                           5926.78\n",
       "2015-09-23 11:10:00+00:00                           6201.45\n",
       "2015-09-24 11:10:00+00:00                           6042.46\n",
       "2015-09-25 11:10:00+00:00                           6047.10\n",
       "2015-09-26 11:10:00+00:00                           6032.89\n",
       "...                                                     ...\n",
       "2017-04-26 11:10:00+00:00                           7873.12\n",
       "2017-04-27 11:10:00+00:00                           7824.11\n",
       "2017-04-28 11:10:00+00:00                           7937.35\n",
       "2017-04-29 11:10:00+00:00                           7677.02\n",
       "2017-04-30 11:10:00+00:00                            744.01\n",
       "\n",
       "[587 rows x 1 columns]"
      ]
     },
     "execution_count": 23,
     "metadata": {},
     "output_type": "execute_result"
    }
   ],
   "source": [
    "df_sim_resampled_day = df_sim.resample('1D', origin=start_time, label='left', closed='left').sum()\n",
    "df_sim_resampled_day"
   ]
  },
  {
   "cell_type": "code",
   "execution_count": 24,
   "id": "1a4e6d07-e144-4a8d-96a5-2e46f775f1e5",
   "metadata": {
    "tags": []
   },
   "outputs": [],
   "source": [
    "ref_m = df_converted['ghi_mean_10min_undefined']\n",
    "ref_m.index = pd.DatetimeIndex(ref_m.index)\n",
    "mod_m = df_sim['ghirrn_accumulated_15min_forward']\n",
    "mod_m.index = pd.DatetimeIndex(mod_m.index)"
   ]
  },
  {
   "cell_type": "code",
   "execution_count": 25,
   "id": "87fee1ce-7b8d-42a8-9893-f3eb6e02b2d3",
   "metadata": {
    "tags": []
   },
   "outputs": [],
   "source": [
    "ref = df_converted_resampled_day['ghi_mean_10min_undefined']\n",
    "ref.index = pd.DatetimeIndex(ref.index)\n",
    "mod = df_sim_resampled_day['ghirrn_accumulated_15min_forward']\n",
    "mod.index = pd.DatetimeIndex(mod.index)"
   ]
  },
  {
   "cell_type": "markdown",
   "id": "7874a970-6921-4c16-ac71-41ca93e2d6fe",
   "metadata": {},
   "source": [
    "# Plotting"
   ]
  },
  {
   "cell_type": "markdown",
   "id": "1ded4df6-13df-4013-b169-0f8f8a19e31e",
   "metadata": {},
   "source": [
    "## shift"
   ]
  },
  {
   "cell_type": "code",
   "execution_count": 26,
   "id": "0cabd27e-47e3-4002-937d-8a9b5f4da503",
   "metadata": {
    "tags": []
   },
   "outputs": [
    {
     "data": {
      "image/png": "[encoded data removed]",
      "text/plain": [
       "<Figure size 1800x600 with 1 Axes>"
      ]
     },
     "metadata": {},
     "output_type": "display_data"
    }
   ],
   "source": [
    "comparison.shift_check_start_end('pk_solar_khuzdar_buet', ref_m, mod_m, start_time, start=True)"
   ]
  },
  {
   "cell_type": "code",
   "execution_count": 27,
   "id": "ea8abfc7-0d00-49d7-a760-bb8ad1fc7ddd",
   "metadata": {
    "tags": []
   },
   "outputs": [
    {
     "data": {
      "image/png": "[encoded data removed]",
      "text/plain": [
       "<Figure size 1800x600 with 1 Axes>"
      ]
     },
     "metadata": {},
     "output_type": "display_data"
    }
   ],
   "source": [
    "comparison.shift_check_start_end('pk_solar_khuzdar_buet', ref_m, mod_m, end_time)"
   ]
  },
  {
   "cell_type": "markdown",
   "id": "b9099096-20ff-4472-a207-f77cd4df4ed9",
   "metadata": {},
   "source": [
    "## range"
   ]
  },
  {
   "cell_type": "code",
   "execution_count": 28,
   "id": "4e0f9288-3127-48e9-b21c-355ca2a700f3",
   "metadata": {
    "tags": []
   },
   "outputs": [],
   "source": [
    "comparison.ref_mod_interactive('pk_solar_khuzdar_buet resampled by sum', ref, mod, plot_path)"
   ]
  },
  {
   "cell_type": "markdown",
   "id": "6ad8165d-7e0a-42c9-8af1-f2829da8b5a9",
   "metadata": {},
   "source": [
    "## top"
   ]
  },
  {
   "cell_type": "code",
   "execution_count": 29,
   "id": "2fbaed1f-3902-46cf-af67-2af32b9f7c58",
   "metadata": {
    "tags": []
   },
   "outputs": [
    {
     "name": "stdout",
     "output_type": "stream",
     "text": [
      "Top negative differences and ratios for pk_solar_khuzdar_buet:\n",
      "                            difference     ratio\n",
      "time                                            \n",
      "2016-03-03 11:10:00+00:00 -1505.103333 -0.323513\n",
      "2016-08-13 11:10:00+00:00 -1426.556667 -0.217099\n",
      "2016-07-02 11:10:00+00:00 -1358.510000 -0.197003\n",
      "2016-07-21 11:10:00+00:00 -1355.690000 -0.199607\n",
      "2016-08-06 11:10:00+00:00 -1334.636667 -0.238706\n",
      "2016-04-22 11:10:00+00:00 -1281.846667 -0.175937\n",
      "2016-04-01 11:10:00+00:00 -1226.346667 -0.244369\n",
      "2016-08-12 11:10:00+00:00 -1224.246667 -0.182632\n",
      "2017-04-07 11:10:00+00:00 -1137.893333 -0.165647\n",
      "2016-10-10 11:10:00+00:00 -1114.893333 -0.202263\n",
      "2016-06-07 11:10:00+00:00 -1113.570000       NaN\n",
      "2016-07-01 11:10:00+00:00 -1096.313333 -0.153495\n",
      "2016-09-28 11:10:00+00:00 -1094.786667 -0.193453\n",
      "2015-09-22 11:10:00+00:00 -1088.536667 -0.183664\n",
      "2016-08-29 11:10:00+00:00 -1071.203333 -0.163925\n",
      "2016-06-15 11:10:00+00:00 -1066.223333       NaN\n",
      "2016-08-19 11:10:00+00:00 -1065.093333 -0.160098\n",
      "2016-06-06 11:10:00+00:00 -1061.473333       NaN\n",
      "2016-03-20 11:10:00+00:00 -1049.076667 -0.168379\n",
      "2015-10-16 11:10:00+00:00 -1043.163333 -0.243740\n",
      "Top positive differences and ratios for pk_solar_khuzdar_buet:\n",
      "                            difference     ratio\n",
      "time                                            \n",
      "2016-08-03 11:10:00+00:00  2026.900000  0.345799\n",
      "2017-01-24 11:10:00+00:00  1316.683333  0.327615\n",
      "2016-08-27 11:10:00+00:00  1290.010000  0.236970\n",
      "2017-03-21 11:10:00+00:00  1170.903333  0.234609\n",
      "2016-07-14 11:10:00+00:00  1095.443333  0.175072\n",
      "2016-08-05 11:10:00+00:00  1069.290000  0.190301\n",
      "2016-08-04 11:10:00+00:00  1046.833333  0.210024\n",
      "2016-08-24 11:10:00+00:00   997.920000  0.150957\n",
      "2016-02-29 11:10:00+00:00   965.843333  0.210733\n",
      "2016-04-02 11:10:00+00:00   928.890000  0.158294\n",
      "2016-03-23 11:10:00+00:00   918.410000  0.179555\n",
      "2016-03-30 11:10:00+00:00   916.763333  0.168418\n",
      "2016-05-13 11:10:00+00:00   914.600000  0.126823\n",
      "2017-01-14 11:10:00+00:00   862.456667  0.248992\n",
      "2016-07-19 11:10:00+00:00   838.336667  0.114299\n",
      "2016-07-13 11:10:00+00:00   828.483333  0.147776\n",
      "2016-06-28 11:10:00+00:00   820.486667  0.131672\n",
      "2016-04-04 11:10:00+00:00   819.153333  0.150888\n",
      "2016-04-18 11:10:00+00:00   798.343333  0.114915\n",
      "2017-01-23 11:10:00+00:00   777.313333  0.378304\n"
     ]
    }
   ],
   "source": [
    "comparison.diff_ratio_merged('pk_solar_khuzdar_buet', ref, mod)"
   ]
  }
 ],
 "metadata": {
  "kernelspec": {
   "display_name": "lhn_internship",
   "language": "python",
   "name": "lhn_internship"
  },
  "language_info": {
   "codemirror_mode": {
    "name": "ipython",
    "version": 3
   },
   "file_extension": ".py",
   "mimetype": "text/x-python",
   "name": "python",
   "nbconvert_exporter": "python",
   "pygments_lexer": "ipython3",
   "version": "3.10.13"
  }
 },
 "nbformat": 4,
 "nbformat_minor": 5
}
