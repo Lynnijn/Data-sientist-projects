{
 "cells": [
  {
   "cell_type": "code",
   "execution_count": 1,
   "id": "b40fa8dc-871b-4141-abdf-7991c43d1486",
   "metadata": {
    "tags": []
   },
   "outputs": [],
   "source": [
    "import os\n",
    "from pathlib import Path\n",
    "import pandas as pd\n",
    "import yaml\n",
    "\n",
    "\n",
    "import sys\n",
    "from pathlib import Path\n",
    "sys.path.insert(0,str(Path(os.path.abspath('.')).parent.parent))\n",
    "import library.validation.accuracy.comparison_new_measurement as comparison\n",
    "from eee.resource.validation.database import ValidationDatabase\n",
    "import eee.solar.model.util"
   ]
  },
  {
   "cell_type": "code",
   "execution_count": 2,
   "id": "62836cd5-a7ed-4408-ab30-b397049c2e4a",
   "metadata": {
    "tags": []
   },
   "outputs": [],
   "source": [
    "validation_database_path = Path.home()/\"OneDrive-3E/Research/Solar/validation/validation_database\"\n",
    "plot_path = Path.home()/\"OneDrive-3E/Research/Solar/tickets/2024/IN3475_check_measurement_data\"\n",
    "yaml_path = Path.home()/\"OneDrive-3E/Research/Solar/tickets/2024/IN3043_accuracy_factors_analysis/IN3471_get_model_data/db_sites_ready.yml\""
   ]
  },
  {
   "cell_type": "code",
   "execution_count": 3,
   "id": "97d1e0f2-7da8-4e87-90c9-7191208da2fb",
   "metadata": {
    "tags": []
   },
   "outputs": [],
   "source": [
    "## instantiate validation database\n",
    "db = ValidationDatabase(validation_database_path)"
   ]
  },
  {
   "cell_type": "code",
   "execution_count": 4,
   "id": "53eaa116-8ec9-45cc-97e5-9596c0b3b1f4",
   "metadata": {
    "tags": []
   },
   "outputs": [
    {
     "data": {
      "text/plain": [
       "SitesInventory(n=291)"
      ]
     },
     "execution_count": 4,
     "metadata": {},
     "output_type": "execute_result"
    }
   ],
   "source": [
    "sites_inv = db.get_sites()\n",
    "sites_inv"
   ]
  },
  {
   "cell_type": "code",
   "execution_count": 5,
   "id": "3c22d928-c473-4fa1-8d56-93f8f841a114",
   "metadata": {
    "tags": []
   },
   "outputs": [],
   "source": [
    "# sites_inv.df.name.unique()"
   ]
  },
  {
   "cell_type": "code",
   "execution_count": 5,
   "id": "30b30e97-d1ef-4f69-b752-94b06f34f201",
   "metadata": {
    "tags": []
   },
   "outputs": [],
   "source": [
    "with open(yaml_path, 'r') as file:\n",
    "    sites_name = yaml.safe_load(file)\n",
    "\n",
    "filtered_sites_name = [site for site in sites_name if not site.startswith('bsrn_')]\n"
   ]
  },
  {
   "cell_type": "code",
   "execution_count": 11,
   "id": "350e6d7b-656d-48d8-9498-1d5ac9237cb2",
   "metadata": {
    "tags": []
   },
   "outputs": [
    {
     "name": "stdout",
     "output_type": "stream",
     "text": [
      "start energydata_1\n",
      "start energydata_2\n",
      "start energydata_3\n",
      "start energydata_4\n",
      "start energydata_5\n",
      "start energydata_6\n",
      "start energydata_7\n",
      "start energydata_8\n",
      "start energydata_9\n",
      "start energydata_10\n",
      "start energydata_11\n",
      "start energydata_12\n",
      "start energydata_13\n",
      "start energydata_14\n",
      "start energydata_15\n",
      "start energydata_16\n",
      "start energydata_17\n",
      "start energydata_18\n",
      "start energydata_19\n",
      "start energydata_20\n",
      "start energydata_21\n",
      "start energydata_22\n",
      "start energydata_23\n",
      "start energydata_24\n",
      "start energydata_25\n",
      "start energydata_26\n",
      "start energydata_27\n",
      "start energydata_28\n",
      "start energydata_29\n",
      "start energydata_30\n",
      "start energydata_31\n",
      "start energydata_32\n",
      "start energydata_33\n",
      "start energydata_34\n",
      "start energydata_35\n",
      "start energydata_36\n",
      "start energydata_37\n",
      "start energydata_38\n",
      "start energydata_39\n",
      "start energydata_40\n",
      "start energydata_41\n",
      "start energydata_42\n",
      "start energydata_43\n",
      "start energydata_44\n",
      "start energydata_45\n",
      "start energydata_46\n",
      "start energydata_47\n",
      "start energydata_48\n",
      "start energydata_49\n",
      "start energydata_50\n",
      "start energydata_51\n",
      "start energydata_52\n",
      "start energydata_53\n",
      "start energydata_54\n",
      "start energydata_55\n",
      "start energydata_56\n",
      "start energydata_57\n",
      "start energydata_58\n",
      "start energydata_59\n",
      "start energydata_60\n",
      "start energydata_61\n",
      "start energydata_62\n",
      "start energydata_63\n",
      "start energydata_64\n",
      "start energydata_65\n",
      "start energydata_66\n",
      "start energydata_67\n",
      "start energydata_68\n",
      "start energydata_69\n",
      "start energydata_70\n",
      "start energydata_71\n",
      "start energydata_72\n",
      "start energydata_73\n",
      "start energydata_74\n",
      "start energydata_75\n",
      "start energydata_76\n",
      "start energydata_77\n",
      "start energydata_78\n",
      "start energydata_79\n",
      "start energydata_80\n",
      "start energydata_81\n",
      "start energydata_82\n",
      "start energydata_83\n",
      "start energydata_84\n",
      "start energydata_85\n",
      "start energydata_86\n",
      "start energydata_87\n",
      "start enermena_1\n",
      "start enermena_2\n",
      "start enermena_3\n",
      "start enermena_4\n",
      "start enermena_5\n",
      "start enermena_6\n",
      "start enermena_7\n",
      "start enermena_8\n",
      "start enermena_9\n",
      "start enermena_10\n",
      "start enermena_11\n"
     ]
    }
   ],
   "source": [
    "for site_id in filtered_sites_name:\n",
    "    \n",
    "    site = sites_inv.get_site(site_id)\n",
    "    \n",
    "    # Reading\n",
    "    ## measurement data\n",
    "    ts = db.get_measurement_timeseries(\n",
    "        site=site,\n",
    "        validation_variables=[\"ghi\"],\n",
    "    )\n",
    "\n",
    "    df = ts.to_dataframe()\n",
    "\n",
    "    start_time = df.first_valid_index()\n",
    "    end_time = df.last_valid_index()\n",
    "    \n",
    "    df_converted = eee.solar.model.util.ire_to_irn(df)\n",
    "\n",
    "    df_converted_resampled_15min = df_converted.resample('15T', origin=start_time, label='left', closed='left').sum()\n",
    "    df_converted_resampled_day = df_converted.resample('1D', origin=start_time, label='left', closed='left').sum()\n",
    "\n",
    "    ## simulation data\n",
    "    ts_sim = db.get_simulation_timeseries(\n",
    "        site=site,\n",
    "        validation_variables=[\"ghirrn\"],\n",
    "        model=\"solar-resource-api-1.6.12\",\n",
    "    )\n",
    "    \n",
    "    df_sim = ts_sim.to_dataframe()\n",
    "    df_sim = df_sim[start_time:end_time]\n",
    "\n",
    "    df_sim_resampled_day = df_sim.resample('1D', origin=start_time, label='left', closed='left').sum()\n",
    "\n",
    "    \n",
    "    ref_m = df_converted_resampled_15min.iloc[:,0]\n",
    "    ref_m.index = pd.DatetimeIndex(ref_m.index)\n",
    "    mod_m = df_sim.iloc[:,0]\n",
    "    mod_m.index = pd.DatetimeIndex(mod_m.index)\n",
    "    \n",
    "    ref = df_converted_resampled_day.iloc[:,0]\n",
    "    ref.index = pd.DatetimeIndex(ref.index)\n",
    "    mod = df_sim_resampled_day.iloc[:,0]\n",
    "    mod.index = pd.DatetimeIndex(mod.index)\n",
    "    \n",
    "    site_directory = os.path.join(plot_path, site_id)\n",
    "    os.makedirs(site_directory, exist_ok=True)\n",
    "    \n",
    "    print(f'start {site_id}')\n",
    "    \n",
    "    # shift check\n",
    "    comparison.shift_check_start_end(site_id, ref_m, mod_m, start_time, site_directory, start=True)\n",
    "    comparison.shift_check_start_end(site_id, ref_m, mod_m, end_time, site_directory)\n",
    "\n",
    "    # interactive plots\n",
    "    comparison.ref_mod_interactive(site_id, ref, mod, site_directory)\n",
    "\n",
    "    # list of top difference\n",
    "    merged_as, merged_de = comparison.diff_ratio_merged('pk_solar_khuzdar_buet', ref, mod)\n",
    "    merged_as.to_csv(os.path.join(site_directory, 'top_negative_differences.csv'))\n",
    "    merged_de.to_csv(os.path.join(site_directory, 'top_positive_differences.csv'))"
   ]
  }
 ],
 "metadata": {
  "kernelspec": {
   "display_name": "lhn_internship",
   "language": "python",
   "name": "lhn_internship"
  },
  "language_info": {
   "codemirror_mode": {
    "name": "ipython",
    "version": 3
   },
   "file_extension": ".py",
   "mimetype": "text/x-python",
   "name": "python",
   "nbconvert_exporter": "python",
   "pygments_lexer": "ipython3",
   "version": "3.10.13"
  }
 },
 "nbformat": 4,
 "nbformat_minor": 5
}
