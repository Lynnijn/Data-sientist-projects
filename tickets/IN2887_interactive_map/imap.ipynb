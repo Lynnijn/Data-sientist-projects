{
 "cells": [
  {
   "cell_type": "code",
   "execution_count": 1,
   "id": "c60c6aa2-d04f-4e5c-b7b3-1bc571b348db",
   "metadata": {
    "tags": []
   },
   "outputs": [],
   "source": [
    "import os\n",
    "import glob\n",
    "import pandas as pd\n",
    "\n",
    "import geopandas as gpd\n",
    "import ipyleaflet as ipl\n",
    "\n",
    "import sys\n",
    "from pathlib import Path\n",
    "sys.path.insert(0,str(Path(os.path.abspath('.')).parent.parent))\n",
    "import library.validation.Interactive_map.continent_and_country as continent_and_country\n",
    "import library.validation.Interactive_map.mapping as mapping"
   ]
  },
  {
   "cell_type": "markdown",
   "id": "ac18f28f-11bf-4d37-9e21-61bf66da607c",
   "metadata": {},
   "source": [
    "# metadata for all stations"
   ]
  },
  {
   "cell_type": "code",
   "execution_count": 2,
   "id": "c6501ea3-0a73-40d0-93b8-f565a809c2c4",
   "metadata": {
    "tags": []
   },
   "outputs": [],
   "source": [
    "common_path = \"/home/lhn3e/OneDrive-3E/Research/Solar/tickets/2023/IN*_measurement_data/metadata/data.csv\"\n",
    "file_paths = glob.glob(common_path)"
   ]
  },
  {
   "cell_type": "code",
   "execution_count": 3,
   "id": "ad955d11-90bb-469e-9052-028a89d25408",
   "metadata": {
    "tags": []
   },
   "outputs": [],
   "source": [
    "dfs = []\n",
    "for file in file_paths:\n",
    "    station_name = os.path.basename(os.path.dirname(os.path.dirname(file))).split('_')[1]\n",
    "    df = pd.read_csv(file, index_col=0)\n",
    "    df['provider'] = station_name \n",
    "    dfs.append(df)"
   ]
  },
  {
   "cell_type": "code",
   "execution_count": 4,
   "id": "61a527e4-60c6-49e7-879e-e822fdf32780",
   "metadata": {
    "tags": []
   },
   "outputs": [],
   "source": [
    "result = pd.concat(dfs)\n"
   ]
  },
  {
   "cell_type": "code",
   "execution_count": 5,
   "id": "42eda686-e3b2-47ab-b7eb-17cd4688a18b",
   "metadata": {
    "tags": []
   },
   "outputs": [],
   "source": [
    "nan_name = result.index[result.index.isna()]\n",
    "for i, nn in enumerate(nan_name):\n",
    "    result = result.rename(index={nn:f'Unnamed Station {i + 1}'})"
   ]
  },
  {
   "cell_type": "code",
   "execution_count": 5,
   "id": "4042b5ea-ca11-4751-a212-e2d2ca15e212",
   "metadata": {
    "tags": []
   },
   "outputs": [
    {
     "data": {
      "text/html": [
       "<div>\n",
       "<style scoped>\n",
       "    .dataframe tbody tr th:only-of-type {\n",
       "        vertical-align: middle;\n",
       "    }\n",
       "\n",
       "    .dataframe tbody tr th {\n",
       "        vertical-align: top;\n",
       "    }\n",
       "\n",
       "    .dataframe thead th {\n",
       "        text-align: right;\n",
       "    }\n",
       "</style>\n",
       "<table border=\"1\" class=\"dataframe\">\n",
       "  <thead>\n",
       "    <tr style=\"text-align: right;\">\n",
       "      <th></th>\n",
       "      <th>latitude</th>\n",
       "      <th>longitude</th>\n",
       "      <th>elevation (m)</th>\n",
       "      <th>provider</th>\n",
       "      <th>country</th>\n",
       "      <th>time zone</th>\n",
       "      <th>time resolution</th>\n",
       "    </tr>\n",
       "  </thead>\n",
       "  <tbody>\n",
       "    <tr>\n",
       "      <th>Bondville_Illinois</th>\n",
       "      <td>40.050000</td>\n",
       "      <td>-88.370000</td>\n",
       "      <td>213.0</td>\n",
       "      <td>SURFRAD</td>\n",
       "      <td>NaN</td>\n",
       "      <td>NaN</td>\n",
       "      <td>NaN</td>\n",
       "    </tr>\n",
       "    <tr>\n",
       "      <th>Desert_Rock_Nevada</th>\n",
       "      <td>36.624000</td>\n",
       "      <td>-116.019000</td>\n",
       "      <td>1007.0</td>\n",
       "      <td>SURFRAD</td>\n",
       "      <td>NaN</td>\n",
       "      <td>NaN</td>\n",
       "      <td>NaN</td>\n",
       "    </tr>\n",
       "    <tr>\n",
       "      <th>Fort_Peck_Montana</th>\n",
       "      <td>48.310000</td>\n",
       "      <td>-105.100000</td>\n",
       "      <td>634.0</td>\n",
       "      <td>SURFRAD</td>\n",
       "      <td>NaN</td>\n",
       "      <td>NaN</td>\n",
       "      <td>NaN</td>\n",
       "    </tr>\n",
       "    <tr>\n",
       "      <th>Goodwin_Creek_Mississippi</th>\n",
       "      <td>34.250000</td>\n",
       "      <td>-89.870000</td>\n",
       "      <td>98.0</td>\n",
       "      <td>SURFRAD</td>\n",
       "      <td>NaN</td>\n",
       "      <td>NaN</td>\n",
       "      <td>NaN</td>\n",
       "    </tr>\n",
       "    <tr>\n",
       "      <th>Penn_State_Pennsylvania</th>\n",
       "      <td>40.720000</td>\n",
       "      <td>-77.930000</td>\n",
       "      <td>376.0</td>\n",
       "      <td>SURFRAD</td>\n",
       "      <td>NaN</td>\n",
       "      <td>NaN</td>\n",
       "      <td>NaN</td>\n",
       "    </tr>\n",
       "    <tr>\n",
       "      <th>...</th>\n",
       "      <td>...</td>\n",
       "      <td>...</td>\n",
       "      <td>...</td>\n",
       "      <td>...</td>\n",
       "      <td>...</td>\n",
       "      <td>...</td>\n",
       "      <td>...</td>\n",
       "    </tr>\n",
       "    <tr>\n",
       "      <th>MENE-unnamed station 11</th>\n",
       "      <td>39.298833</td>\n",
       "      <td>-76.587833</td>\n",
       "      <td>NaN</td>\n",
       "      <td>enerMENA</td>\n",
       "      <td>NaN</td>\n",
       "      <td>NaN</td>\n",
       "      <td>NaN</td>\n",
       "    </tr>\n",
       "    <tr>\n",
       "      <th>MENE-unnamed station 12</th>\n",
       "      <td>39.906020</td>\n",
       "      <td>-75.181032</td>\n",
       "      <td>NaN</td>\n",
       "      <td>enerMENA</td>\n",
       "      <td>NaN</td>\n",
       "      <td>NaN</td>\n",
       "      <td>NaN</td>\n",
       "    </tr>\n",
       "    <tr>\n",
       "      <th>MENE-unnamed station 13</th>\n",
       "      <td>39.936557</td>\n",
       "      <td>-75.173743</td>\n",
       "      <td>NaN</td>\n",
       "      <td>enerMENA</td>\n",
       "      <td>NaN</td>\n",
       "      <td>NaN</td>\n",
       "      <td>NaN</td>\n",
       "    </tr>\n",
       "    <tr>\n",
       "      <th>MENE-unnamed station 14</th>\n",
       "      <td>42.363672</td>\n",
       "      <td>-71.101502</td>\n",
       "      <td>NaN</td>\n",
       "      <td>enerMENA</td>\n",
       "      <td>NaN</td>\n",
       "      <td>NaN</td>\n",
       "      <td>NaN</td>\n",
       "    </tr>\n",
       "    <tr>\n",
       "      <th>MENE-unnamed station 15</th>\n",
       "      <td>53.345710</td>\n",
       "      <td>-6.262893</td>\n",
       "      <td>NaN</td>\n",
       "      <td>enerMENA</td>\n",
       "      <td>NaN</td>\n",
       "      <td>NaN</td>\n",
       "      <td>NaN</td>\n",
       "    </tr>\n",
       "  </tbody>\n",
       "</table>\n",
       "<p>251 rows × 7 columns</p>\n",
       "</div>"
      ],
      "text/plain": [
       "                            latitude   longitude  elevation (m)  provider  \\\n",
       "Bondville_Illinois         40.050000  -88.370000          213.0   SURFRAD   \n",
       "Desert_Rock_Nevada         36.624000 -116.019000         1007.0   SURFRAD   \n",
       "Fort_Peck_Montana          48.310000 -105.100000          634.0   SURFRAD   \n",
       "Goodwin_Creek_Mississippi  34.250000  -89.870000           98.0   SURFRAD   \n",
       "Penn_State_Pennsylvania    40.720000  -77.930000          376.0   SURFRAD   \n",
       "...                              ...         ...            ...       ...   \n",
       "MENE-unnamed station 11    39.298833  -76.587833            NaN  enerMENA   \n",
       "MENE-unnamed station 12    39.906020  -75.181032            NaN  enerMENA   \n",
       "MENE-unnamed station 13    39.936557  -75.173743            NaN  enerMENA   \n",
       "MENE-unnamed station 14    42.363672  -71.101502            NaN  enerMENA   \n",
       "MENE-unnamed station 15    53.345710   -6.262893            NaN  enerMENA   \n",
       "\n",
       "                          country time zone  time resolution  \n",
       "Bondville_Illinois            NaN       NaN              NaN  \n",
       "Desert_Rock_Nevada            NaN       NaN              NaN  \n",
       "Fort_Peck_Montana             NaN       NaN              NaN  \n",
       "Goodwin_Creek_Mississippi     NaN       NaN              NaN  \n",
       "Penn_State_Pennsylvania       NaN       NaN              NaN  \n",
       "...                           ...       ...              ...  \n",
       "MENE-unnamed station 11       NaN       NaN              NaN  \n",
       "MENE-unnamed station 12       NaN       NaN              NaN  \n",
       "MENE-unnamed station 13       NaN       NaN              NaN  \n",
       "MENE-unnamed station 14       NaN       NaN              NaN  \n",
       "MENE-unnamed station 15       NaN       NaN              NaN  \n",
       "\n",
       "[251 rows x 7 columns]"
      ]
     },
     "execution_count": 5,
     "metadata": {},
     "output_type": "execute_result"
    }
   ],
   "source": [
    "result"
   ]
  },
  {
   "cell_type": "markdown",
   "id": "4acc8d74-940d-40d8-b53d-ec70460879e8",
   "metadata": {},
   "source": [
    "# country and continent"
   ]
  },
  {
   "cell_type": "code",
   "execution_count": 6,
   "id": "621dce06-dd82-44dd-9ee8-0506b08f3cbb",
   "metadata": {
    "tags": []
   },
   "outputs": [],
   "source": [
    "continents_and_countries = continent_and_country.get_continents_and_countries()\n",
    "result['coordinates'] = result[['latitude', 'longitude']].apply(lambda x: f\"{x['latitude']},{x['longitude']}\", axis=1)\n",
    "result[['coordinates', 'country', 'continent']] = result['coordinates'].apply(lambda coo: pd.Series(continent_and_country.get_location_of(coo, continents_and_countries)))\n"
   ]
  },
  {
   "cell_type": "code",
   "execution_count": 8,
   "id": "a662f4fa-8ede-4b7e-8bb0-d5c3afcdcf78",
   "metadata": {
    "tags": []
   },
   "outputs": [],
   "source": [
    "result.to_csv('data.csv', index_label = 'station name')"
   ]
  },
  {
   "cell_type": "markdown",
   "id": "5a4322cb-3b4c-41a7-9f07-18ee99bfedfe",
   "metadata": {},
   "source": [
    "# geodataframe"
   ]
  },
  {
   "cell_type": "code",
   "execution_count": 9,
   "id": "ba478c84-fbc5-409c-b104-be332f6fb5e5",
   "metadata": {
    "tags": []
   },
   "outputs": [],
   "source": [
    "result_gdf = gpd.GeoDataFrame(result, geometry=gpd.points_from_xy(result.longitude, result.latitude))"
   ]
  },
  {
   "cell_type": "markdown",
   "id": "5ca495a1-389a-407a-a443-2cfb27b5d6a0",
   "metadata": {
    "tags": []
   },
   "source": [
    "# map"
   ]
  },
  {
   "cell_type": "code",
   "execution_count": 10,
   "id": "316441f5-a5b2-4b1e-8896-a4979edc1832",
   "metadata": {
    "tags": []
   },
   "outputs": [],
   "source": [
    "markers=[\n",
    "    mapping._convert_site_to_marker_with_popup(gdf=result_gdf, station=station) for station in result_gdf.index\n",
    "]"
   ]
  },
  {
   "cell_type": "code",
   "execution_count": 11,
   "id": "cab7792f-1ca0-48c6-a0d0-7c6eecc808bd",
   "metadata": {
    "tags": []
   },
   "outputs": [],
   "source": [
    "map = mapping.IPLBaseMap()"
   ]
  },
  {
   "cell_type": "code",
   "execution_count": 12,
   "id": "87fac962-9084-4db1-ba21-4b9322e3910b",
   "metadata": {
    "tags": []
   },
   "outputs": [],
   "source": [
    "markers = ipl.MarkerCluster(markers=markers,\n",
    "                  disable_clustering_at_zoom=3,\n",
    "                  max_cluster_radius=100,\n",
    "                           name=\"validation sites\")"
   ]
  },
  {
   "cell_type": "code",
   "execution_count": 13,
   "id": "1cefb3bb-8d3d-404d-9e03-8c87654b3fde",
   "metadata": {
    "tags": []
   },
   "outputs": [
    {
     "data": {
      "application/vnd.jupyter.widget-view+json": {
       "model_id": "db4b68f9c36c4df4a319056f473856e1",
       "version_major": 2,
       "version_minor": 0
      },
      "text/plain": [
       "IPLBaseMap(center=[0.0, 0.0], controls=(ZoomControl(options=['position', 'zoom_in_text', 'zoom_in_title', 'zoo…"
      ]
     },
     "execution_count": 13,
     "metadata": {},
     "output_type": "execute_result"
    }
   ],
   "source": [
    "map.add_layer(markers)\n",
    "map"
   ]
  },
  {
   "cell_type": "code",
   "execution_count": null,
   "id": "3aa3c1f3-b88c-45bd-83aa-70f58476f9d0",
   "metadata": {},
   "outputs": [],
   "source": []
  },
  {
   "cell_type": "code",
   "execution_count": 14,
   "id": "b342eaa8-6a39-4468-87ea-959f8d9ed4cd",
   "metadata": {
    "tags": []
   },
   "outputs": [],
   "source": [
    "map.save('/home/lhn3e/OneDrive-3E/Research/Solar/tickets/2023/IN2887_interactive_map/interactive map for measurement data.html')\n"
   ]
  }
 ],
 "metadata": {
  "kernelspec": {
   "display_name": "lhn_internship",
   "language": "python",
   "name": "lhn_internship"
  },
  "language_info": {
   "codemirror_mode": {
    "name": "ipython",
    "version": 3
   },
   "file_extension": ".py",
   "mimetype": "text/x-python",
   "name": "python",
   "nbconvert_exporter": "python",
   "pygments_lexer": "ipython3",
   "version": "3.10.13"
  }
 },
 "nbformat": 4,
 "nbformat_minor": 5
}
