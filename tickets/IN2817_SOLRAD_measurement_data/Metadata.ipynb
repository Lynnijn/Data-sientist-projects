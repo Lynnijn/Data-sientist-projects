{
 "cells": [
  {
   "cell_type": "code",
   "execution_count": 1,
   "id": "e19acb5f-cbe9-4c78-87af-7963d59329ed",
   "metadata": {
    "tags": []
   },
   "outputs": [],
   "source": [
    "import pandas as pd\n",
    "import json\n",
    "import os\n",
    "import glob\n",
    "\n",
    "import sys\n",
    "from pathlib import Path\n",
    "sys.path.insert(0,str(Path(os.path.abspath('.')).parent.parent))\n",
    "import library.validation.SURFRAD.reading as reading"
   ]
  },
  {
   "cell_type": "markdown",
   "id": "7f8c3d1f-a3c9-4070-8363-43e6ec90fc77",
   "metadata": {},
   "source": [
    "# Retrieve"
   ]
  },
  {
   "cell_type": "code",
   "execution_count": 2,
   "id": "b72cf2fb-04ea-4237-a843-1d0b710ea420",
   "metadata": {
    "tags": []
   },
   "outputs": [],
   "source": [
    "metadata = []\n",
    "\n",
    "def extract_metadata(file_path, station_name):\n",
    "    with open(file_path, 'r') as file:\n",
    "        line = file.readlines()[1]\n",
    "        values = line.split()\n",
    "        if len(values) >= 3:\n",
    "            latitude = \"%.3f\" % float(values[0])\n",
    "            longitude = \"%.3f\" % float(values[1])\n",
    "            elevation = values[2]\n",
    "            return {'station name': station_name, 'latitude': latitude, 'longitude': longitude, 'elevation (m)': elevation}\n",
    "    return None\n"
   ]
  },
  {
   "cell_type": "code",
   "execution_count": 3,
   "id": "c7f68c28-afd2-4efe-8ac9-95520de42b62",
   "metadata": {
    "tags": []
   },
   "outputs": [
    {
     "data": {
      "text/plain": [
       "['Albuquerque_New_Mexico',\n",
       " 'Bismarck_North_Dakota',\n",
       " 'Hanford_California',\n",
       " 'Madison_Wisconsin',\n",
       " 'Oak_Ridge_Tennessee_2007',\n",
       " 'Salt_Lake_City_Utah',\n",
       " 'Seattle_Washington_2022',\n",
       " 'Sterling_Virginia']"
      ]
     },
     "execution_count": 3,
     "metadata": {},
     "output_type": "execute_result"
    }
   ],
   "source": [
    "ticket_path_sol = \"/home/lhn3e/OneDrive-3E/Research/Solar/tickets/2023/IN2817_SOLRAD_measurement_data\"\n",
    "raw_path_sol =  os.path.join(ticket_path_sol, 'raw_data')\n",
    "\n",
    "station_names_list_sol = reading.get_station_names(raw_path_sol)\n",
    "station_names_list_sol"
   ]
  },
  {
   "cell_type": "code",
   "execution_count": 4,
   "id": "b4a1f01c-b4c0-4f98-a400-c8a423560a6b",
   "metadata": {
    "tags": []
   },
   "outputs": [],
   "source": [
    "for station_name in station_names_list_sol:\n",
    "    folder_path = os.path.join(raw_path_sol, f'{station_name}', '2005/*.dat')\n",
    "    dat_file = glob.glob(folder_path)\n",
    "    file = dat_file[0]\n",
    "    metarow = extract_metadata(file, f'{station_name}')\n",
    "    if metarow:\n",
    "        metadata.append(metarow)\n"
   ]
  },
  {
   "cell_type": "markdown",
   "id": "be265af4-c3c0-4fcd-92b0-817333540838",
   "metadata": {},
   "source": [
    "# Save"
   ]
  },
  {
   "cell_type": "code",
   "execution_count": 11,
   "id": "dbacb4aa-88d2-4468-bf6c-4457673b92fb",
   "metadata": {
    "tags": []
   },
   "outputs": [],
   "source": [
    "with open(os.path.join(ticket_path_sol, 'metadata/data.txt'), 'w') as f:\n",
    "  json.dump(metadata, f, ensure_ascii=False)"
   ]
  },
  {
   "cell_type": "code",
   "execution_count": 5,
   "id": "ed401338-4557-4297-aeb8-094576d2203d",
   "metadata": {
    "tags": []
   },
   "outputs": [],
   "source": [
    "with open(os.path.join(ticket_path_sol, 'metadata/data.json'), 'w') as f:\n",
    "  json.dump(metadata, f, ensure_ascii=False)"
   ]
  },
  {
   "cell_type": "code",
   "execution_count": 8,
   "id": "d0e94448-32fc-4020-8523-7bb6c067f1e0",
   "metadata": {
    "tags": []
   },
   "outputs": [],
   "source": [
    "metadata_df = pd.DataFrame(metadata)\n"
   ]
  },
  {
   "cell_type": "code",
   "execution_count": 12,
   "id": "30dd4cba-6c68-4dd8-b41b-f909e4f86fe8",
   "metadata": {
    "tags": []
   },
   "outputs": [],
   "source": [
    "metadata_df.to_csv(os.path.join(ticket_path_sol, 'metadata/data.csv'), index=False)"
   ]
  }
 ],
 "metadata": {
  "kernelspec": {
   "display_name": "lhn_internship",
   "language": "python",
   "name": "lhn_internship"
  },
  "language_info": {
   "codemirror_mode": {
    "name": "ipython",
    "version": 3
   },
   "file_extension": ".py",
   "mimetype": "text/x-python",
   "name": "python",
   "nbconvert_exporter": "python",
   "pygments_lexer": "ipython3",
   "version": "3.10.13"
  }
 },
 "nbformat": 4,
 "nbformat_minor": 5
}
