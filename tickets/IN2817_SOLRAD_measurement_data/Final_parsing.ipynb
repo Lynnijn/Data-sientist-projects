{
 "cells": [
  {
   "cell_type": "code",
   "execution_count": 1,
   "id": "0bf4c3f0-17f8-4ae2-9bc4-9d25afe1dd21",
   "metadata": {
    "tags": []
   },
   "outputs": [],
   "source": [
    "import pandas as pd\n",
    "import json\n",
    "import os\n",
    "import glob\n",
    "\n",
    "import sys\n",
    "from pathlib import Path\n",
    "sys.path.insert(0,str(Path(os.path.abspath('.')).parent.parent))\n",
    "import library.validation.parsing as parsing\n",
    "import library.validation.SURFRAD.final_parsing as f_parsing"
   ]
  },
  {
   "cell_type": "code",
   "execution_count": 2,
   "id": "da1be5f0-6f14-4f77-9b49-ce5ac3bb66bd",
   "metadata": {
    "tags": []
   },
   "outputs": [],
   "source": [
    "ticket_path_sol = \"/home/lhn3e/OneDrive-3E/Research/Solar/tickets/2023/IN2817_SOLRAD_measurement_data\"\n",
    "intermediate_path_sol =  os.path.join(ticket_path_sol, 'intermediate_data')\n",
    "final_path_sol =  os.path.join(ticket_path_sol, 'final_data')"
   ]
  },
  {
   "cell_type": "code",
   "execution_count": 3,
   "id": "a1509173-d893-48de-ab05-e70fb55b4805",
   "metadata": {
    "tags": []
   },
   "outputs": [
    {
     "name": "stdout",
     "output_type": "stream",
     "text": [
      "Saved albuquerque_new_mexico\n",
      "Saved bismarck_north_dakota\n",
      "Saved hanford_california\n",
      "Saved madison_wisconsin\n",
      "Saved oak_ridge_tennessee\n",
      "Saved salt_lake_city_utah\n",
      "Saved seattle_washington\n",
      "Saved sterling_virginia\n"
     ]
    }
   ],
   "source": [
    "files = glob.glob(os.path.join(intermediate_path_sol, '*.csv'))\n",
    "\n",
    "for file in files:\n",
    "    name = os.path.splitext(os.path.basename(file))[0]\n",
    "    normalized_name = parsing.normalize_station_name(name)\n",
    "    \n",
    "    df = pd.read_csv(file, index_col = 0)\n",
    "    \n",
    "    df_p = f_parsing.final_parse(df)\n",
    "    \n",
    "    df_p.to_csv(os.path.join(final_path_sol, f'{normalized_name}.csv'), index_label = 'datetime')\n",
    "    print(f'Saved {normalized_name}')"
   ]
  }
 ],
 "metadata": {
  "kernelspec": {
   "display_name": "lhn_internship",
   "language": "python",
   "name": "lhn_internship"
  },
  "language_info": {
   "codemirror_mode": {
    "name": "ipython",
    "version": 3
   },
   "file_extension": ".py",
   "mimetype": "text/x-python",
   "name": "python",
   "nbconvert_exporter": "python",
   "pygments_lexer": "ipython3",
   "version": "3.10.13"
  }
 },
 "nbformat": 4,
 "nbformat_minor": 5
}
