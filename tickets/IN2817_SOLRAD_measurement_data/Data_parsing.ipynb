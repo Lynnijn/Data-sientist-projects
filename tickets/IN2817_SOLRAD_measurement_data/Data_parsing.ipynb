{
 "cells": [
  {
   "cell_type": "code",
   "execution_count": 2,
   "id": "694688a5-cfcd-48c3-8c13-efc61e08cd83",
   "metadata": {
    "tags": []
   },
   "outputs": [],
   "source": [
    "import os\n",
    "import json\n",
    "\n",
    "import sys\n",
    "from pathlib import Path\n",
    "sys.path.insert(0,str(Path(os.path.abspath('.')).parent.parent))\n",
    "import library.validation.SURFRAD.reading as reading\n",
    "import library.validation.SOLRAD.parsing as parsing"
   ]
  },
  {
   "cell_type": "code",
   "execution_count": 3,
   "id": "26c7e95c-eac5-487d-bfed-c864722da83d",
   "metadata": {
    "tags": []
   },
   "outputs": [],
   "source": [
    "ticket_path_sol = Path.home()/\"OneDrive-3E/Research/Solar/tickets/2023/IN2817_SOLRAD_measurement_data\""
   ]
  },
  {
   "cell_type": "code",
   "execution_count": 4,
   "id": "ccdc5457-9290-4723-a8a7-613f6ad4e5ef",
   "metadata": {
    "tags": []
   },
   "outputs": [],
   "source": [
    "raw_path_sol =  os.path.join(ticket_path_sol, 'raw_data')\n",
    "intermediate_path_sol =  os.path.join(ticket_path_sol, 'intermediate_data')"
   ]
  },
  {
   "cell_type": "code",
   "execution_count": 5,
   "id": "30e3bd9d-415a-4f23-b1e7-33fcf87e856f",
   "metadata": {
    "tags": []
   },
   "outputs": [
    {
     "name": "stdout",
     "output_type": "stream",
     "text": [
      "Saved Albuquerque_New_Mexico.csv\n",
      "Saved Bismarck_North_Dakota.csv\n",
      "Saved Hanford_California.csv\n",
      "Saved Madison_Wisconsin.csv\n",
      "Saved Oak_Ridge_Tennessee.csv\n",
      "Saved Salt_Lake_City_Utah.csv\n",
      "Saved Seattle_Washington.csv\n",
      "Saved Sterling_Virginia.csv\n"
     ]
    }
   ],
   "source": [
    "with open(os.path.join(ticket_path_sol, 'metadata/data.json'), 'r') as file:\n",
    "    stations_metadata_json = file.read()\n",
    "\n",
    "stations_metadata = json.loads(stations_metadata_json)\n",
    "\n",
    "for station in stations_metadata:\n",
    "    station_name = station['station name']\n",
    "    station_data = reading.read_data_for_station(raw_path_sol, station_name)\n",
    "\n",
    "    if station_data is not None:\n",
    "        if station_name == 'Oak_Ridge_Tennessee':\n",
    "            df_3m = parsing.parse(station_data, sep1='2007-06-08 21:00:00', sep2='2023-11-09 00:00:00')\n",
    "        elif station_name == 'Seattle_Washington':\n",
    "            df_3m = parsing.parse(station_data, end='2022-12-19 06:13:00')\n",
    "        else:\n",
    "            df_3m = parsing.parse(station_data)\n",
    "\n",
    "        file_name_3m = f\"{station_name}.csv\"\n",
    "        file_path_3m = os.path.join(intermediate_path_sol, file_name_3m)\n",
    "        df_3m.to_csv(file_path_3m, index_label='DateTime')\n",
    "\n",
    "        print(f\"Saved {file_name_3m}\")"
   ]
  }
 ],
 "metadata": {
  "kernelspec": {
   "display_name": "lhn_internship",
   "language": "python",
   "name": "lhn_internship"
  },
  "language_info": {
   "codemirror_mode": {
    "name": "ipython",
    "version": 3
   },
   "file_extension": ".py",
   "mimetype": "text/x-python",
   "name": "python",
   "nbconvert_exporter": "python",
   "pygments_lexer": "ipython3",
   "version": "3.10.13"
  }
 },
 "nbformat": 4,
 "nbformat_minor": 5
}
