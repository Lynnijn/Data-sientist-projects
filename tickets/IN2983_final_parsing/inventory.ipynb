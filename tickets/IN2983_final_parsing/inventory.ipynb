{
 "cells": [
  {
   "cell_type": "code",
   "execution_count": 1,
   "id": "7e41f932-e82c-4947-afbd-d8546799fae0",
   "metadata": {
    "tags": []
   },
   "outputs": [],
   "source": [
    "import os\n",
    "import pandas as pd\n",
    "\n",
    "import warnings\n",
    "warnings.filterwarnings(\"ignore\")"
   ]
  },
  {
   "cell_type": "code",
   "execution_count": 2,
   "id": "c8ab29fd-39bd-4725-90bc-bfd16941fc0f",
   "metadata": {
    "tags": []
   },
   "outputs": [],
   "source": [
    "main_path = '/home/lhn3e/OneDrive-3E/Research/Solar/tickets/2023'\n",
    "\n",
    "appended_data = pd.DataFrame()"
   ]
  },
  {
   "cell_type": "code",
   "execution_count": 3,
   "id": "f154b843-edbc-46e0-bc3c-fc10a432961c",
   "metadata": {
    "tags": []
   },
   "outputs": [],
   "source": [
    "for root, dirs, files in os.walk(main_path):\n",
    "    for dir_name in dirs:\n",
    "        if 'measurement_data' in dir_name:\n",
    "            folder_path = os.path.join(root, dir_name)\n",
    "            \n",
    "            inventory_files = [file for file in os.listdir(folder_path) if file.lower() == 'inventory.csv']\n",
    "            \n",
    "            for inventory_file in inventory_files:\n",
    "                file_path = os.path.join(folder_path, inventory_file)\n",
    "                \n",
    "                df = pd.read_csv(file_path)\n",
    "                appended_data = appended_data.append(df, ignore_index=True)\n"
   ]
  },
  {
   "cell_type": "code",
   "execution_count": 4,
   "id": "1d999a7c-bec6-419c-b18c-d15843266aa2",
   "metadata": {
    "tags": []
   },
   "outputs": [],
   "source": [
    "appended_data.to_csv(os.path.join(main_path, 'IN2983_final_parsing/inventory.csv'), index=False)"
   ]
  }
 ],
 "metadata": {
  "kernelspec": {
   "display_name": "lhn_internship",
   "language": "python",
   "name": "lhn_internship"
  },
  "language_info": {
   "codemirror_mode": {
    "name": "ipython",
    "version": 3
   },
   "file_extension": ".py",
   "mimetype": "text/x-python",
   "name": "python",
   "nbconvert_exporter": "python",
   "pygments_lexer": "ipython3",
   "version": "3.10.13"
  }
 },
 "nbformat": 4,
 "nbformat_minor": 5
}
