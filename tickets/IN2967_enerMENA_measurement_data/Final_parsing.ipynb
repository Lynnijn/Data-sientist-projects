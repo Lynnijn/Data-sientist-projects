{
 "cells": [
  {
   "cell_type": "code",
   "execution_count": 1,
   "id": "c04dc95a-2804-4060-a05d-1b704f911e11",
   "metadata": {
    "tags": []
   },
   "outputs": [],
   "source": [
    "import pandas as pd\n",
    "import json\n",
    "import os\n",
    "import glob\n",
    "\n",
    "import sys\n",
    "from pathlib import Path\n",
    "sys.path.insert(0,str(Path(os.path.abspath('.')).parent.parent))\n",
    "import library.validation.parsing as parsing\n",
    "import library.validation.enerMENA.final_parsing as f_parsing"
   ]
  },
  {
   "cell_type": "code",
   "execution_count": 2,
   "id": "beb8a670-8f92-466e-9e0a-82ada27b4ac0",
   "metadata": {
    "tags": []
   },
   "outputs": [],
   "source": [
    "ticket_path_mena = \"/home/lhn3e/OneDrive-3E/Research/Solar/tickets/2023/IN2967_enerMENA_measurement_data\"\n",
    "intermediate_path_mena =  os.path.join(ticket_path_mena, 'intermediate_data')\n",
    "final_path_mena =  os.path.join(ticket_path_mena, 'final_data')"
   ]
  },
  {
   "cell_type": "code",
   "execution_count": 3,
   "id": "4abd039f-ba31-478b-8766-915ab27c37b8",
   "metadata": {
    "tags": []
   },
   "outputs": [
    {
     "name": "stdout",
     "output_type": "stream",
     "text": [
      "Saved mene_unnamed_station_1\n",
      "Saved mene_unnamed_station_10\n",
      "Saved mene_unnamed_station_11\n",
      "Saved mene_unnamed_station_12\n",
      "Saved mene_unnamed_station_13\n",
      "Saved mene_unnamed_station_14\n",
      "Saved mene_unnamed_station_15\n",
      "Saved mene_unnamed_station_2\n",
      "Saved mene_unnamed_station_3\n",
      "Saved mene_unnamed_station_4\n",
      "Saved mene_unnamed_station_5\n",
      "Saved mene_unnamed_station_6\n",
      "Saved mene_unnamed_station_7\n",
      "Saved mene_unnamed_station_8\n",
      "Saved mene_unnamed_station_9\n"
     ]
    }
   ],
   "source": [
    "files = glob.glob(os.path.join(intermediate_path_mena, '*.csv'))\n",
    "station_name = []\n",
    "\n",
    "for file in files:\n",
    "    name = os.path.splitext(os.path.basename(file))[0]\n",
    "    normalized_name = parsing.normalize_station_name(name)\n",
    "    \n",
    "    df = pd.read_csv(file, index_col = 0)\n",
    "    \n",
    "    df_p = f_parsing.final_parse(df)\n",
    "    \n",
    "    df_p.to_csv(os.path.join(final_path_mena, f'{normalized_name}.csv'), index_label = 'datetime')\n",
    "    print(f'Saved {normalized_name}')"
   ]
  }
 ],
 "metadata": {
  "kernelspec": {
   "display_name": "lhn_internship",
   "language": "python",
   "name": "lhn_internship"
  },
  "language_info": {
   "codemirror_mode": {
    "name": "ipython",
    "version": 3
   },
   "file_extension": ".py",
   "mimetype": "text/x-python",
   "name": "python",
   "nbconvert_exporter": "python",
   "pygments_lexer": "ipython3",
   "version": "3.10.13"
  }
 },
 "nbformat": 4,
 "nbformat_minor": 5
}
