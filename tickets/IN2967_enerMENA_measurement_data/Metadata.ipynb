{
 "cells": [
  {
   "cell_type": "code",
   "execution_count": 1,
   "id": "111f4916-a74b-429b-97bb-f715a42f2cc4",
   "metadata": {
    "tags": []
   },
   "outputs": [],
   "source": [
    "import pandas as pd\n",
    "import json\n",
    "import os\n",
    "\n",
    "import sys\n",
    "from pathlib import Path\n",
    "sys.path.insert(0,str(Path(os.path.abspath('.')).parent.parent))\n",
    "import library.validation.EnergyData.reading as reading"
   ]
  },
  {
   "cell_type": "code",
   "execution_count": 2,
   "id": "68b25acc-cbd8-446a-81c7-808011d7a62c",
   "metadata": {
    "tags": []
   },
   "outputs": [],
   "source": [
    "ticket_path_mena = \"/home/lhn3e/OneDrive-3E/Research/Solar/tickets/2023/IN2967_enerMENA_measurement_data\"\n",
    "raw_path_mena =  os.path.join(ticket_path_mena, 'raw_data')\n",
    "meta_path_mena =  os.path.join(ticket_path_mena, 'metadata')\n"
   ]
  },
  {
   "cell_type": "code",
   "execution_count": 11,
   "id": "4780de75-0ba6-499a-ac42-729a38419ab5",
   "metadata": {
    "tags": []
   },
   "outputs": [],
   "source": [
    "metadata = []\n",
    "count = 1\n",
    "for filename in os.listdir(raw_path_mena):\n",
    "    if filename.endswith(\".csv\"):\n",
    "        station_name = f\"MENE-unnamed station {count}\" \n",
    "        count +=1\n",
    "                                                 \n",
    "        lat, lon = map(float, filename.split(\"_\")[1:3])\n",
    "        \n",
    "        metadata_entry = {\"station name\": station_name, \"latitude\": lat, \"longitude\": lon}\n",
    "        metadata.append(metadata_entry)"
   ]
  },
  {
   "cell_type": "code",
   "execution_count": 12,
   "id": "8f491287-56de-4857-91a7-615bf4a1f6c6",
   "metadata": {
    "tags": []
   },
   "outputs": [
    {
     "name": "stdout",
     "output_type": "stream",
     "text": [
      "[{'station name': 'MENE-unnamed station 1', 'latitude': -22.98335, 'longitude': -43.193252}, {'station name': 'MENE-unnamed station 2', 'latitude': -8.783195, 'longitude': -55.491477}, {'station name': 'MENE-unnamed station 3', 'latitude': -8.783195, 'longitude': 34.508523}, {'station name': 'MENE-unnamed station 4', 'latitude': 20.593684, 'longitude': 78.96288}, {'station name': 'MENE-unnamed station 5', 'latitude': 24.764439, 'longitude': 46.662729}, {'station name': 'MENE-unnamed station 6', 'latitude': 26.216429, 'longitude': 50.57707}, {'station name': 'MENE-unnamed station 7', 'latitude': 26.820553, 'longitude': 30.802498}, {'station name': 'MENE-unnamed station 8', 'latitude': 29.298528, 'longitude': 42.55096}, {'station name': 'MENE-unnamed station 9', 'latitude': 31.791702, 'longitude': -7.09262}, {'station name': 'MENE-unnamed station 10', 'latitude': 33.886917, 'longitude': 9.537499}, {'station name': 'MENE-unnamed station 11', 'latitude': 39.298833, 'longitude': -76.587833}, {'station name': 'MENE-unnamed station 12', 'latitude': 39.90602, 'longitude': -75.181032}, {'station name': 'MENE-unnamed station 13', 'latitude': 39.936557, 'longitude': -75.173743}, {'station name': 'MENE-unnamed station 14', 'latitude': 42.363672, 'longitude': -71.101502}, {'station name': 'MENE-unnamed station 15', 'latitude': 53.34571, 'longitude': -6.262893}]\n"
     ]
    }
   ],
   "source": [
    "print(metadata)"
   ]
  },
  {
   "cell_type": "code",
   "execution_count": 13,
   "id": "b5dc00e6-50ba-41d8-84f5-a99f7f8ef9ad",
   "metadata": {
    "tags": []
   },
   "outputs": [],
   "source": [
    "with open(os.path.join(meta_path_mena, 'data.json'), 'w') as f:\n",
    "  json.dump(metadata, f, ensure_ascii=False)"
   ]
  },
  {
   "cell_type": "code",
   "execution_count": 14,
   "id": "bea557ca-6bcc-4753-ad51-f72a5202c9de",
   "metadata": {
    "tags": []
   },
   "outputs": [],
   "source": [
    "metadata_df = pd.DataFrame(metadata)\n",
    "metadata_df.to_csv(os.path.join(meta_path_mena, 'data.csv'), index=False)"
   ]
  }
 ],
 "metadata": {
  "kernelspec": {
   "display_name": "lhn_internship",
   "language": "python",
   "name": "lhn_internship"
  },
  "language_info": {
   "codemirror_mode": {
    "name": "ipython",
    "version": 3
   },
   "file_extension": ".py",
   "mimetype": "text/x-python",
   "name": "python",
   "nbconvert_exporter": "python",
   "pygments_lexer": "ipython3",
   "version": "3.10.13"
  }
 },
 "nbformat": 4,
 "nbformat_minor": 5
}
