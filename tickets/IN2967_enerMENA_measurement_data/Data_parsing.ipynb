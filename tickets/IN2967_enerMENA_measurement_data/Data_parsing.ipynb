{
 "cells": [
  {
   "cell_type": "code",
   "execution_count": 1,
   "id": "d4d06725-e594-4408-a669-b68f2e4c9d8a",
   "metadata": {
    "tags": []
   },
   "outputs": [],
   "source": [
    "import os\n",
    "import json\n",
    "import pandas as pd\n",
    "\n",
    "import sys\n",
    "from pathlib import Path\n",
    "sys.path.insert(0,str(Path(os.path.abspath('.')).parent.parent))\n",
    "import library.validation.enerMENA.parsing as parsing"
   ]
  },
  {
   "cell_type": "code",
   "execution_count": 2,
   "id": "58c0f19a-6723-4352-95ce-c79f0739f983",
   "metadata": {
    "tags": []
   },
   "outputs": [],
   "source": [
    "ticket_path_mena = \"/home/lhn3e/OneDrive-3E/Research/Solar/tickets/2023/IN2967_enerMENA_measurement_data\"\n",
    "raw_path_mena =  os.path.join(ticket_path_mena, 'raw_data')\n",
    "intermediate_path_mena =  os.path.join(ticket_path_mena, 'intermediate_data')"
   ]
  },
  {
   "cell_type": "code",
   "execution_count": 3,
   "id": "fab97dd3-6702-42e9-b54c-b86b5d7983ba",
   "metadata": {},
   "outputs": [],
   "source": [
    "with open(os.path.join(ticket_path_mena,'metadata/data.json'), 'r') as file:\n",
    "    stations_metadata_json = file.read()\n",
    "\n",
    "stations_metadata = json.loads(stations_metadata_json)"
   ]
  },
  {
   "cell_type": "code",
   "execution_count": 4,
   "id": "cd874a66-7a89-43c6-86f6-481fc877e573",
   "metadata": {},
   "outputs": [],
   "source": [
    "station_name_list = []\n",
    "for station in stations_metadata:\n",
    "    station_name = f\"{station['station name']}\"\n",
    "    station_name_list.append(station_name)\n"
   ]
  },
  {
   "cell_type": "code",
   "execution_count": 5,
   "id": "ba79d824-8be2-4fdf-b412-1382828b00d3",
   "metadata": {
    "tags": []
   },
   "outputs": [
    {
     "data": {
      "text/plain": [
       "['MENE-unnamed station 1',\n",
       " 'MENE-unnamed station 2',\n",
       " 'MENE-unnamed station 3',\n",
       " 'MENE-unnamed station 4',\n",
       " 'MENE-unnamed station 5',\n",
       " 'MENE-unnamed station 6',\n",
       " 'MENE-unnamed station 7',\n",
       " 'MENE-unnamed station 8',\n",
       " 'MENE-unnamed station 9',\n",
       " 'MENE-unnamed station 10',\n",
       " 'MENE-unnamed station 11',\n",
       " 'MENE-unnamed station 12',\n",
       " 'MENE-unnamed station 13',\n",
       " 'MENE-unnamed station 14',\n",
       " 'MENE-unnamed station 15']"
      ]
     },
     "execution_count": 5,
     "metadata": {},
     "output_type": "execute_result"
    }
   ],
   "source": [
    "station_name_list"
   ]
  },
  {
   "cell_type": "code",
   "execution_count": 7,
   "id": "86f110b4-61d2-4ece-97ae-11b5ff94eab2",
   "metadata": {},
   "outputs": [
    {
     "name": "stdout",
     "output_type": "stream",
     "text": [
      "saving csv_-22.98335_-43.193252_fixed_23_0_PT5M.csv\n",
      "Saved MENE-unnamed station 1.csv\n",
      "saving csv_-8.783195_-55.491477_fixed_23_0_PT5M.csv\n",
      "Saved MENE-unnamed station 2.csv\n",
      "saving csv_-8.783195_34.508523_fixed_23_0_PT5M.csv\n",
      "Saved MENE-unnamed station 3.csv\n",
      "saving csv_20.593684_78.96288_fixed_23_180_PT5M.csv\n",
      "Saved MENE-unnamed station 4.csv\n",
      "saving csv_24.764439_46.662729_fixed_23_180_PT5M.csv\n",
      "Saved MENE-unnamed station 5.csv\n",
      "saving csv_26.216429_50.57707_fixed_23_180_PT5M.csv\n",
      "Saved MENE-unnamed station 6.csv\n",
      "saving csv_26.820553_30.802498_fixed_23_180_PT5M.csv\n",
      "Saved MENE-unnamed station 7.csv\n",
      "saving csv_29.298528_42.55096_fixed_23_180_PT5M.csv\n",
      "Saved MENE-unnamed station 8.csv\n",
      "saving csv_31.791702_-7.09262_fixed_23_180_PT5M.csv\n",
      "Saved MENE-unnamed station 9.csv\n",
      "saving csv_33.886917_9.537499_fixed_23_180_PT5M.csv\n",
      "Saved MENE-unnamed station 10.csv\n",
      "saving csv_39.298833_-76.587833_fixed_23_180_PT5M.csv\n",
      "Saved MENE-unnamed station 11.csv\n",
      "saving csv_39.90602_-75.181032_fixed_23_180_PT5M.csv\n",
      "Saved MENE-unnamed station 12.csv\n",
      "saving csv_39.936557_-75.173743_fixed_23_180_PT5M.csv\n",
      "Saved MENE-unnamed station 13.csv\n",
      "saving csv_42.363672_-71.101502_fixed_23_180_PT5M.csv\n",
      "Saved MENE-unnamed station 14.csv\n",
      "saving csv_53.34571_-6.262893_fixed_23_180_PT5M.csv\n",
      "Saved MENE-unnamed station 15.csv\n"
     ]
    }
   ],
   "source": [
    "files = os.listdir(raw_path_mena)\n",
    "\n",
    "i = 0\n",
    "\n",
    "for file in files:\n",
    "    data_file_path = os.path.join(raw_path_mena, file)\n",
    "    print(f'saving {file}')\n",
    "    \n",
    "    \n",
    "    # Read\n",
    "    df = pd.read_csv(data_file_path)\n",
    "        \n",
    "                           \n",
    "    # Parse        \n",
    "    df_p = df.copy()\n",
    "    df_p = parsing.parse(df_p)\n",
    "            \n",
    "    \n",
    "    # Save\n",
    "    file_name = f\"{station_name_list[i]}.csv\"\n",
    "    i = i+1\n",
    "        \n",
    "    file_path = os.path.join(intermediate_path_mena, file_name)\n",
    "    df_p.to_csv(file_path, index_label='DateTime')\n",
    "\n",
    "    print(f\"Saved {file_name}\")\n",
    "    \n",
    "    "
   ]
  }
 ],
 "metadata": {
  "kernelspec": {
   "display_name": "lhn_internship",
   "language": "python",
   "name": "lhn_internship"
  },
  "language_info": {
   "codemirror_mode": {
    "name": "ipython",
    "version": 3
   },
   "file_extension": ".py",
   "mimetype": "text/x-python",
   "name": "python",
   "nbconvert_exporter": "python",
   "pygments_lexer": "ipython3",
   "version": "3.10.13"
  }
 },
 "nbformat": 4,
 "nbformat_minor": 5
}
