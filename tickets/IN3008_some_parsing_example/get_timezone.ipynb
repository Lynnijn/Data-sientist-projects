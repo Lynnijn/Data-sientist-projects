{
 "cells": [
  {
   "cell_type": "code",
   "execution_count": 1,
   "id": "fd58589a-99c8-47e9-8f10-0accac55c684",
   "metadata": {
    "tags": []
   },
   "outputs": [],
   "source": [
    "import matplotlib.pyplot as plt\n",
    "import os\n",
    "import pandas as pd\n",
    "from pathlib import Path\n",
    "\n",
    "import datetime\n",
    "import timezonefinder, pytz"
   ]
  },
  {
   "cell_type": "code",
   "execution_count": 2,
   "id": "681bbda2-240f-47fc-a692-e573e7ca1a2c",
   "metadata": {
    "tags": []
   },
   "outputs": [],
   "source": [
    "input_metadata_file = Path.home()/\"OneDrive-3E/RD_ResourceData/Research/Solar/tickets/2023/IN2833_centralize_measurement_data_collection/IN2835_BSRN/intermediate_data/bsrn_stations_metadata.csv\""
   ]
  },
  {
   "cell_type": "code",
   "execution_count": 3,
   "id": "ccef5364-e4e8-4119-a765-402569ff143c",
   "metadata": {},
   "outputs": [],
   "source": [
    "input_ts_file = Path.home()/\"OneDrive-3E/RD_ResourceData/Research/Solar/tickets/2023/IN2833_centralize_measurement_data_collection/IN2835_BSRN/intermediate_data/alice_springs/alice_springs_17.csv\""
   ]
  },
  {
   "cell_type": "markdown",
   "id": "fa8abd5c-d78d-4432-b3e9-d2892db62194",
   "metadata": {
    "tags": []
   },
   "source": [
    "### read station metadata"
   ]
  },
  {
   "cell_type": "code",
   "execution_count": 4,
   "id": "6ee1fb8e-e62d-4792-968c-2c5801d11e8e",
   "metadata": {
    "tags": []
   },
   "outputs": [
    {
     "data": {
      "text/plain": [
       "code                                                             ASP\n",
       "location            Macdonnell Ranges, Northern Territory, Australia\n",
       "latitude                                                     -23.798\n",
       "longitude                                                    133.888\n",
       "altitude                                                       547.0\n",
       "station_ori_name                                       Alice Springs\n",
       "Name: alice_springs, dtype: object"
      ]
     },
     "execution_count": 4,
     "metadata": {},
     "output_type": "execute_result"
    }
   ],
   "source": [
    "metadata = pd.read_csv(\n",
    "    input_metadata_file,\n",
    "    index_col=0,\n",
    ")\n",
    "metadata = metadata.drop(columns=[\"time_zone\"])\n",
    "station = \"alice_springs\"\n",
    "metadata = metadata.loc[station]\n",
    "metadata"
   ]
  },
  {
   "cell_type": "markdown",
   "id": "87f192de-256c-4494-a284-6874dc694de9",
   "metadata": {},
   "source": [
    "### get timezone"
   ]
  },
  {
   "cell_type": "code",
   "execution_count": 5,
   "id": "db937b39-c08c-49ae-b768-3dee50575a46",
   "metadata": {
    "tags": []
   },
   "outputs": [
    {
     "data": {
      "text/plain": [
       "'Australia/Darwin'"
      ]
     },
     "execution_count": 5,
     "metadata": {},
     "output_type": "execute_result"
    }
   ],
   "source": [
    "tf = timezonefinder.TimezoneFinder()\n",
    "\n",
    "# From the lat/long, get the tz-database-style time zone name (e.g. 'America/Vancouver') or None\n",
    "timezone_str = tf.certain_timezone_at(lat=metadata[\"latitude\"], lng=metadata[\"longitude\"])\n",
    "timezone_str"
   ]
  }
 ],
 "metadata": {
  "kernelspec": {
   "display_name": "lhn_internship",
   "language": "python",
   "name": "lhn_internship"
  },
  "language_info": {
   "codemirror_mode": {
    "name": "ipython",
    "version": 3
   },
   "file_extension": ".py",
   "mimetype": "text/x-python",
   "name": "python",
   "nbconvert_exporter": "python",
   "pygments_lexer": "ipython3",
   "version": "3.10.12"
  }
 },
 "nbformat": 4,
 "nbformat_minor": 5
}
